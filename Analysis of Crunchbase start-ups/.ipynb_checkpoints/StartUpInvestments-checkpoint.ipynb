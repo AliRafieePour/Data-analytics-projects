{
 "cells": [
  {
   "cell_type": "markdown",
   "metadata": {
    "colab_type": "text",
    "id": "view-in-github"
   },
   "source": [
    "<a href=\"https://colab.research.google.com/github/AliRafieePour/Data-analytics-projects/blob/main/CrunchBaseStartUpAnalysis/StartUpInvestments.ipynb\" target=\"_parent\"><img src=\"https://colab.research.google.com/assets/colab-badge.svg\" alt=\"Open In Colab\"/></a>"
   ]
  },
  {
   "cell_type": "markdown",
   "metadata": {
    "id": "kVDFZoFDeRvh"
   },
   "source": [
    "# Introduction\n",
    "\n",
    "Startup investments have been increasing rapidly over the years, with venture capitalists, angel investors, and other private equity firms investing billions of dollars into new and emerging companies. With the rise of technology and the proliferation of data, investors are now able to make informed decisions about which startups to invest in. This has enabled a new wave of business models and opportunities for entrepreneurs.\n",
    "\n",
    "The dataset **Startup Investments (Crunchbase)** provides valuable insights into the startup investment landscape. This dataset contains information on over 6,000 startup investments made by venture capitalists and angel investors. It includes information such as the amount of money invested, the investor, the company, the location, and the business sector. This dataset can provide valuable insights into the investment trends of venture capitalists and angel investors over the years and can be used to identify areas with the greatest potential for growth. Additionally, it can help investors better understand the factors that influence startup investment decisions and identify new investment opportunities.\n",
    "\n",
    "This project will utilize the “Startup Investments (Crunchbase)” dataset to analyze and explore the trends in startup investments over the years. We will use descriptive analytics and visualization techniques to examine the data and gain insights into the types of investments made, the sectors and markets with the most investment activity, and the areas with the greatest potential for growth. Additionally, we will use predictive analytics to identify factors that influence startup investment decisions and uncover new investment opportunities. The results of this project will provide valuable insights into the startup investment landscape and can be used by investors to make informed decisions.\n"
   ]
  },
  {
   "cell_type": "markdown",
   "metadata": {
    "id": "CxeUd0okd92D"
   },
   "source": [
    "# Objectives\n",
    "By the end of this analysis, we would like to answer the following questions:\n",
    "\n",
    "\n",
    "*   What percentage of the start-ups through the time could successfully continue operating?\n",
    "*   Which markets perform best in terms of investment attractivility?\n",
    "*   Is average seed investment different for successful and unsuccessful start-ups? if they are different, is the difference significant?\n",
    "*   What are the top 10 markets with the most start-ups?\n",
    "*   How does the total and average funding received differ from one industry to another?\n",
    "\n"
   ]
  },
  {
   "cell_type": "markdown",
   "metadata": {
    "id": "4eq5exnHiG7P"
   },
   "source": [
    "# Importing packages"
   ]
  },
  {
   "cell_type": "code",
   "execution_count": null,
   "metadata": {
    "id": "lb6BTTBDQuam"
   },
   "outputs": [],
   "source": [
    "import pandas as pd\n",
    "import numpy as np\n",
    "import seaborn as sns \n",
    "import matplotlib.pyplot as plt\n",
    "import scipy.stats as stats\n",
    "import tensorflow as tf\n",
    "from tensorflow import keras\n",
    "from sklearn.metrics import classification_report\n",
    "from pprint import pprint \n",
    "from sklearn.preprocessing import MinMaxScaler, LabelEncoder\n",
    "from sklearn.neighbors import KNeighborsClassifier\n",
    "from sklearn.model_selection import train_test_split\n",
    "from imblearn.over_sampling import SMOTE"
   ]
  },
  {
   "cell_type": "markdown",
   "metadata": {
    "id": "kh9sGHh9ijc_"
   },
   "source": [
    "# Importing the dataset and getting to know it"
   ]
  },
  {
   "cell_type": "code",
   "execution_count": null,
   "metadata": {
    "id": "I_yQrAzRRJOp"
   },
   "outputs": [],
   "source": [
    "df = pd.read_csv(\"investments_VC.csv\", encoding= 'unicode_escape')"
   ]
  },
  {
   "cell_type": "markdown",
   "metadata": {
    "id": "8cbiTFGfi7OS"
   },
   "source": [
    "We have a total of **54,294** rows associated with each of the start-ups and **39** features. These features include name of the start-up, market it belongs to, its status, the country, state, region, and city it operates in, and finaly its funding features which include seed, angle, and capital investments."
   ]
  },
  {
   "cell_type": "code",
   "execution_count": null,
   "metadata": {
    "colab": {
     "base_uri": "https://localhost:8080/"
    },
    "id": "sWO7EeIfR3C_",
    "outputId": "724b45ad-14e0-4b0b-cd85-b9f053d0f511"
   },
   "outputs": [
    {
     "data": {
      "text/plain": [
       "(54294, 39)"
      ]
     },
     "execution_count": 5,
     "metadata": {},
     "output_type": "execute_result"
    }
   ],
   "source": [
    "df.shape"
   ]
  },
  {
   "cell_type": "code",
   "execution_count": null,
   "metadata": {
    "colab": {
     "base_uri": "https://localhost:8080/",
     "height": 399
    },
    "id": "gNRl6rd0RQUD",
    "outputId": "56c6169c-cd95-43bc-b719-dfa78adeb9fb"
   },
   "outputs": [
    {
     "data": {
      "text/html": [
       "\n",
       "  <div id=\"df-91ded116-cefe-45ef-8a38-ceea53e9ae8b\">\n",
       "    <div class=\"colab-df-container\">\n",
       "      <div>\n",
       "<style scoped>\n",
       "    .dataframe tbody tr th:only-of-type {\n",
       "        vertical-align: middle;\n",
       "    }\n",
       "\n",
       "    .dataframe tbody tr th {\n",
       "        vertical-align: top;\n",
       "    }\n",
       "\n",
       "    .dataframe thead th {\n",
       "        text-align: right;\n",
       "    }\n",
       "</style>\n",
       "<table border=\"1\" class=\"dataframe\">\n",
       "  <thead>\n",
       "    <tr style=\"text-align: right;\">\n",
       "      <th></th>\n",
       "      <th>permalink</th>\n",
       "      <th>name</th>\n",
       "      <th>homepage_url</th>\n",
       "      <th>category_list</th>\n",
       "      <th>market</th>\n",
       "      <th>funding_total_usd</th>\n",
       "      <th>status</th>\n",
       "      <th>country_code</th>\n",
       "      <th>state_code</th>\n",
       "      <th>region</th>\n",
       "      <th>...</th>\n",
       "      <th>secondary_market</th>\n",
       "      <th>product_crowdfunding</th>\n",
       "      <th>round_A</th>\n",
       "      <th>round_B</th>\n",
       "      <th>round_C</th>\n",
       "      <th>round_D</th>\n",
       "      <th>round_E</th>\n",
       "      <th>round_F</th>\n",
       "      <th>round_G</th>\n",
       "      <th>round_H</th>\n",
       "    </tr>\n",
       "  </thead>\n",
       "  <tbody>\n",
       "    <tr>\n",
       "      <th>0</th>\n",
       "      <td>/organization/waywire</td>\n",
       "      <td>#waywire</td>\n",
       "      <td>http://www.waywire.com</td>\n",
       "      <td>|Entertainment|Politics|Social Media|News|</td>\n",
       "      <td>News</td>\n",
       "      <td>17,50,000</td>\n",
       "      <td>acquired</td>\n",
       "      <td>USA</td>\n",
       "      <td>NY</td>\n",
       "      <td>New York City</td>\n",
       "      <td>...</td>\n",
       "      <td>0.0</td>\n",
       "      <td>0.0</td>\n",
       "      <td>0.0</td>\n",
       "      <td>0.0</td>\n",
       "      <td>0.0</td>\n",
       "      <td>0.0</td>\n",
       "      <td>0.0</td>\n",
       "      <td>0.0</td>\n",
       "      <td>0.0</td>\n",
       "      <td>0.0</td>\n",
       "    </tr>\n",
       "    <tr>\n",
       "      <th>1</th>\n",
       "      <td>/organization/tv-communications</td>\n",
       "      <td>&amp;TV Communications</td>\n",
       "      <td>http://enjoyandtv.com</td>\n",
       "      <td>|Games|</td>\n",
       "      <td>Games</td>\n",
       "      <td>40,00,000</td>\n",
       "      <td>operating</td>\n",
       "      <td>USA</td>\n",
       "      <td>CA</td>\n",
       "      <td>Los Angeles</td>\n",
       "      <td>...</td>\n",
       "      <td>0.0</td>\n",
       "      <td>0.0</td>\n",
       "      <td>0.0</td>\n",
       "      <td>0.0</td>\n",
       "      <td>0.0</td>\n",
       "      <td>0.0</td>\n",
       "      <td>0.0</td>\n",
       "      <td>0.0</td>\n",
       "      <td>0.0</td>\n",
       "      <td>0.0</td>\n",
       "    </tr>\n",
       "    <tr>\n",
       "      <th>2</th>\n",
       "      <td>/organization/rock-your-paper</td>\n",
       "      <td>'Rock' Your Paper</td>\n",
       "      <td>http://www.rockyourpaper.org</td>\n",
       "      <td>|Publishing|Education|</td>\n",
       "      <td>Publishing</td>\n",
       "      <td>40,000</td>\n",
       "      <td>operating</td>\n",
       "      <td>EST</td>\n",
       "      <td>NaN</td>\n",
       "      <td>Tallinn</td>\n",
       "      <td>...</td>\n",
       "      <td>0.0</td>\n",
       "      <td>0.0</td>\n",
       "      <td>0.0</td>\n",
       "      <td>0.0</td>\n",
       "      <td>0.0</td>\n",
       "      <td>0.0</td>\n",
       "      <td>0.0</td>\n",
       "      <td>0.0</td>\n",
       "      <td>0.0</td>\n",
       "      <td>0.0</td>\n",
       "    </tr>\n",
       "    <tr>\n",
       "      <th>3</th>\n",
       "      <td>/organization/in-touch-network</td>\n",
       "      <td>(In)Touch Network</td>\n",
       "      <td>http://www.InTouchNetwork.com</td>\n",
       "      <td>|Electronics|Guides|Coffee|Restaurants|Music|i...</td>\n",
       "      <td>Electronics</td>\n",
       "      <td>15,00,000</td>\n",
       "      <td>operating</td>\n",
       "      <td>GBR</td>\n",
       "      <td>NaN</td>\n",
       "      <td>London</td>\n",
       "      <td>...</td>\n",
       "      <td>0.0</td>\n",
       "      <td>0.0</td>\n",
       "      <td>0.0</td>\n",
       "      <td>0.0</td>\n",
       "      <td>0.0</td>\n",
       "      <td>0.0</td>\n",
       "      <td>0.0</td>\n",
       "      <td>0.0</td>\n",
       "      <td>0.0</td>\n",
       "      <td>0.0</td>\n",
       "    </tr>\n",
       "    <tr>\n",
       "      <th>4</th>\n",
       "      <td>/organization/r-ranch-and-mine</td>\n",
       "      <td>-R- Ranch and Mine</td>\n",
       "      <td>NaN</td>\n",
       "      <td>|Tourism|Entertainment|Games|</td>\n",
       "      <td>Tourism</td>\n",
       "      <td>60,000</td>\n",
       "      <td>operating</td>\n",
       "      <td>USA</td>\n",
       "      <td>TX</td>\n",
       "      <td>Dallas</td>\n",
       "      <td>...</td>\n",
       "      <td>0.0</td>\n",
       "      <td>0.0</td>\n",
       "      <td>0.0</td>\n",
       "      <td>0.0</td>\n",
       "      <td>0.0</td>\n",
       "      <td>0.0</td>\n",
       "      <td>0.0</td>\n",
       "      <td>0.0</td>\n",
       "      <td>0.0</td>\n",
       "      <td>0.0</td>\n",
       "    </tr>\n",
       "  </tbody>\n",
       "</table>\n",
       "<p>5 rows × 39 columns</p>\n",
       "</div>\n",
       "      <button class=\"colab-df-convert\" onclick=\"convertToInteractive('df-91ded116-cefe-45ef-8a38-ceea53e9ae8b')\"\n",
       "              title=\"Convert this dataframe to an interactive table.\"\n",
       "              style=\"display:none;\">\n",
       "        \n",
       "  <svg xmlns=\"http://www.w3.org/2000/svg\" height=\"24px\"viewBox=\"0 0 24 24\"\n",
       "       width=\"24px\">\n",
       "    <path d=\"M0 0h24v24H0V0z\" fill=\"none\"/>\n",
       "    <path d=\"M18.56 5.44l.94 2.06.94-2.06 2.06-.94-2.06-.94-.94-2.06-.94 2.06-2.06.94zm-11 1L8.5 8.5l.94-2.06 2.06-.94-2.06-.94L8.5 2.5l-.94 2.06-2.06.94zm10 10l.94 2.06.94-2.06 2.06-.94-2.06-.94-.94-2.06-.94 2.06-2.06.94z\"/><path d=\"M17.41 7.96l-1.37-1.37c-.4-.4-.92-.59-1.43-.59-.52 0-1.04.2-1.43.59L10.3 9.45l-7.72 7.72c-.78.78-.78 2.05 0 2.83L4 21.41c.39.39.9.59 1.41.59.51 0 1.02-.2 1.41-.59l7.78-7.78 2.81-2.81c.8-.78.8-2.07 0-2.86zM5.41 20L4 18.59l7.72-7.72 1.47 1.35L5.41 20z\"/>\n",
       "  </svg>\n",
       "      </button>\n",
       "      \n",
       "  <style>\n",
       "    .colab-df-container {\n",
       "      display:flex;\n",
       "      flex-wrap:wrap;\n",
       "      gap: 12px;\n",
       "    }\n",
       "\n",
       "    .colab-df-convert {\n",
       "      background-color: #E8F0FE;\n",
       "      border: none;\n",
       "      border-radius: 50%;\n",
       "      cursor: pointer;\n",
       "      display: none;\n",
       "      fill: #1967D2;\n",
       "      height: 32px;\n",
       "      padding: 0 0 0 0;\n",
       "      width: 32px;\n",
       "    }\n",
       "\n",
       "    .colab-df-convert:hover {\n",
       "      background-color: #E2EBFA;\n",
       "      box-shadow: 0px 1px 2px rgba(60, 64, 67, 0.3), 0px 1px 3px 1px rgba(60, 64, 67, 0.15);\n",
       "      fill: #174EA6;\n",
       "    }\n",
       "\n",
       "    [theme=dark] .colab-df-convert {\n",
       "      background-color: #3B4455;\n",
       "      fill: #D2E3FC;\n",
       "    }\n",
       "\n",
       "    [theme=dark] .colab-df-convert:hover {\n",
       "      background-color: #434B5C;\n",
       "      box-shadow: 0px 1px 3px 1px rgba(0, 0, 0, 0.15);\n",
       "      filter: drop-shadow(0px 1px 2px rgba(0, 0, 0, 0.3));\n",
       "      fill: #FFFFFF;\n",
       "    }\n",
       "  </style>\n",
       "\n",
       "      <script>\n",
       "        const buttonEl =\n",
       "          document.querySelector('#df-91ded116-cefe-45ef-8a38-ceea53e9ae8b button.colab-df-convert');\n",
       "        buttonEl.style.display =\n",
       "          google.colab.kernel.accessAllowed ? 'block' : 'none';\n",
       "\n",
       "        async function convertToInteractive(key) {\n",
       "          const element = document.querySelector('#df-91ded116-cefe-45ef-8a38-ceea53e9ae8b');\n",
       "          const dataTable =\n",
       "            await google.colab.kernel.invokeFunction('convertToInteractive',\n",
       "                                                     [key], {});\n",
       "          if (!dataTable) return;\n",
       "\n",
       "          const docLinkHtml = 'Like what you see? Visit the ' +\n",
       "            '<a target=\"_blank\" href=https://colab.research.google.com/notebooks/data_table.ipynb>data table notebook</a>'\n",
       "            + ' to learn more about interactive tables.';\n",
       "          element.innerHTML = '';\n",
       "          dataTable['output_type'] = 'display_data';\n",
       "          await google.colab.output.renderOutput(dataTable, element);\n",
       "          const docLink = document.createElement('div');\n",
       "          docLink.innerHTML = docLinkHtml;\n",
       "          element.appendChild(docLink);\n",
       "        }\n",
       "      </script>\n",
       "    </div>\n",
       "  </div>\n",
       "  "
      ],
      "text/plain": [
       "                         permalink                name  \\\n",
       "0            /organization/waywire            #waywire   \n",
       "1  /organization/tv-communications  &TV Communications   \n",
       "2    /organization/rock-your-paper   'Rock' Your Paper   \n",
       "3   /organization/in-touch-network   (In)Touch Network   \n",
       "4   /organization/r-ranch-and-mine  -R- Ranch and Mine   \n",
       "\n",
       "                    homepage_url  \\\n",
       "0         http://www.waywire.com   \n",
       "1          http://enjoyandtv.com   \n",
       "2   http://www.rockyourpaper.org   \n",
       "3  http://www.InTouchNetwork.com   \n",
       "4                            NaN   \n",
       "\n",
       "                                       category_list        market   \\\n",
       "0         |Entertainment|Politics|Social Media|News|          News    \n",
       "1                                            |Games|         Games    \n",
       "2                             |Publishing|Education|    Publishing    \n",
       "3  |Electronics|Guides|Coffee|Restaurants|Music|i...   Electronics    \n",
       "4                      |Tourism|Entertainment|Games|       Tourism    \n",
       "\n",
       "   funding_total_usd      status country_code state_code         region  ...  \\\n",
       "0          17,50,000    acquired          USA         NY  New York City  ...   \n",
       "1          40,00,000   operating          USA         CA    Los Angeles  ...   \n",
       "2             40,000   operating          EST        NaN        Tallinn  ...   \n",
       "3          15,00,000   operating          GBR        NaN         London  ...   \n",
       "4             60,000   operating          USA         TX         Dallas  ...   \n",
       "\n",
       "  secondary_market  product_crowdfunding round_A round_B round_C  round_D  \\\n",
       "0              0.0                   0.0     0.0     0.0     0.0      0.0   \n",
       "1              0.0                   0.0     0.0     0.0     0.0      0.0   \n",
       "2              0.0                   0.0     0.0     0.0     0.0      0.0   \n",
       "3              0.0                   0.0     0.0     0.0     0.0      0.0   \n",
       "4              0.0                   0.0     0.0     0.0     0.0      0.0   \n",
       "\n",
       "  round_E round_F  round_G  round_H  \n",
       "0     0.0     0.0      0.0      0.0  \n",
       "1     0.0     0.0      0.0      0.0  \n",
       "2     0.0     0.0      0.0      0.0  \n",
       "3     0.0     0.0      0.0      0.0  \n",
       "4     0.0     0.0      0.0      0.0  \n",
       "\n",
       "[5 rows x 39 columns]"
      ]
     },
     "execution_count": 6,
     "metadata": {},
     "output_type": "execute_result"
    }
   ],
   "source": [
    "df.head()"
   ]
  },
  {
   "cell_type": "code",
   "execution_count": null,
   "metadata": {
    "colab": {
     "base_uri": "https://localhost:8080/",
     "height": 390
    },
    "id": "5laWt98_RwR4",
    "outputId": "b0691251-b151-4efc-83be-db10298091bb"
   },
   "outputs": [
    {
     "data": {
      "text/html": [
       "\n",
       "  <div id=\"df-92913374-cbd8-4898-87fc-f975b3a946c5\">\n",
       "    <div class=\"colab-df-container\">\n",
       "      <div>\n",
       "<style scoped>\n",
       "    .dataframe tbody tr th:only-of-type {\n",
       "        vertical-align: middle;\n",
       "    }\n",
       "\n",
       "    .dataframe tbody tr th {\n",
       "        vertical-align: top;\n",
       "    }\n",
       "\n",
       "    .dataframe thead th {\n",
       "        text-align: right;\n",
       "    }\n",
       "</style>\n",
       "<table border=\"1\" class=\"dataframe\">\n",
       "  <thead>\n",
       "    <tr style=\"text-align: right;\">\n",
       "      <th></th>\n",
       "      <th>funding_rounds</th>\n",
       "      <th>founded_year</th>\n",
       "      <th>seed</th>\n",
       "      <th>venture</th>\n",
       "      <th>equity_crowdfunding</th>\n",
       "      <th>undisclosed</th>\n",
       "      <th>convertible_note</th>\n",
       "      <th>debt_financing</th>\n",
       "      <th>angel</th>\n",
       "      <th>grant</th>\n",
       "      <th>...</th>\n",
       "      <th>secondary_market</th>\n",
       "      <th>product_crowdfunding</th>\n",
       "      <th>round_A</th>\n",
       "      <th>round_B</th>\n",
       "      <th>round_C</th>\n",
       "      <th>round_D</th>\n",
       "      <th>round_E</th>\n",
       "      <th>round_F</th>\n",
       "      <th>round_G</th>\n",
       "      <th>round_H</th>\n",
       "    </tr>\n",
       "  </thead>\n",
       "  <tbody>\n",
       "    <tr>\n",
       "      <th>count</th>\n",
       "      <td>49438.000000</td>\n",
       "      <td>38482.000000</td>\n",
       "      <td>4.943800e+04</td>\n",
       "      <td>4.943800e+04</td>\n",
       "      <td>4.943800e+04</td>\n",
       "      <td>4.943800e+04</td>\n",
       "      <td>4.943800e+04</td>\n",
       "      <td>4.943800e+04</td>\n",
       "      <td>4.943800e+04</td>\n",
       "      <td>4.943800e+04</td>\n",
       "      <td>...</td>\n",
       "      <td>4.943800e+04</td>\n",
       "      <td>4.943800e+04</td>\n",
       "      <td>4.943800e+04</td>\n",
       "      <td>4.943800e+04</td>\n",
       "      <td>4.943800e+04</td>\n",
       "      <td>4.943800e+04</td>\n",
       "      <td>4.943800e+04</td>\n",
       "      <td>4.943800e+04</td>\n",
       "      <td>4.943800e+04</td>\n",
       "      <td>4.943800e+04</td>\n",
       "    </tr>\n",
       "    <tr>\n",
       "      <th>mean</th>\n",
       "      <td>1.696205</td>\n",
       "      <td>2007.359129</td>\n",
       "      <td>2.173215e+05</td>\n",
       "      <td>7.501051e+06</td>\n",
       "      <td>6.163322e+03</td>\n",
       "      <td>1.302213e+05</td>\n",
       "      <td>2.336410e+04</td>\n",
       "      <td>1.888157e+06</td>\n",
       "      <td>6.541898e+04</td>\n",
       "      <td>1.628453e+05</td>\n",
       "      <td>...</td>\n",
       "      <td>3.845592e+04</td>\n",
       "      <td>7.074227e+03</td>\n",
       "      <td>1.243955e+06</td>\n",
       "      <td>1.492891e+06</td>\n",
       "      <td>1.205356e+06</td>\n",
       "      <td>7.375261e+05</td>\n",
       "      <td>3.424682e+05</td>\n",
       "      <td>1.697692e+05</td>\n",
       "      <td>5.767067e+04</td>\n",
       "      <td>1.423197e+04</td>\n",
       "    </tr>\n",
       "    <tr>\n",
       "      <th>std</th>\n",
       "      <td>1.294213</td>\n",
       "      <td>7.579203</td>\n",
       "      <td>1.056985e+06</td>\n",
       "      <td>2.847112e+07</td>\n",
       "      <td>1.999048e+05</td>\n",
       "      <td>2.981404e+06</td>\n",
       "      <td>1.432046e+06</td>\n",
       "      <td>1.382046e+08</td>\n",
       "      <td>6.582908e+05</td>\n",
       "      <td>5.612088e+06</td>\n",
       "      <td>...</td>\n",
       "      <td>3.864461e+06</td>\n",
       "      <td>4.282166e+05</td>\n",
       "      <td>5.531974e+06</td>\n",
       "      <td>7.472704e+06</td>\n",
       "      <td>7.993592e+06</td>\n",
       "      <td>9.815218e+06</td>\n",
       "      <td>5.406915e+06</td>\n",
       "      <td>6.277905e+06</td>\n",
       "      <td>5.252312e+06</td>\n",
       "      <td>2.716865e+06</td>\n",
       "    </tr>\n",
       "    <tr>\n",
       "      <th>min</th>\n",
       "      <td>1.000000</td>\n",
       "      <td>1902.000000</td>\n",
       "      <td>0.000000e+00</td>\n",
       "      <td>0.000000e+00</td>\n",
       "      <td>0.000000e+00</td>\n",
       "      <td>0.000000e+00</td>\n",
       "      <td>0.000000e+00</td>\n",
       "      <td>0.000000e+00</td>\n",
       "      <td>0.000000e+00</td>\n",
       "      <td>0.000000e+00</td>\n",
       "      <td>...</td>\n",
       "      <td>0.000000e+00</td>\n",
       "      <td>0.000000e+00</td>\n",
       "      <td>0.000000e+00</td>\n",
       "      <td>0.000000e+00</td>\n",
       "      <td>0.000000e+00</td>\n",
       "      <td>0.000000e+00</td>\n",
       "      <td>0.000000e+00</td>\n",
       "      <td>0.000000e+00</td>\n",
       "      <td>0.000000e+00</td>\n",
       "      <td>0.000000e+00</td>\n",
       "    </tr>\n",
       "    <tr>\n",
       "      <th>25%</th>\n",
       "      <td>1.000000</td>\n",
       "      <td>2006.000000</td>\n",
       "      <td>0.000000e+00</td>\n",
       "      <td>0.000000e+00</td>\n",
       "      <td>0.000000e+00</td>\n",
       "      <td>0.000000e+00</td>\n",
       "      <td>0.000000e+00</td>\n",
       "      <td>0.000000e+00</td>\n",
       "      <td>0.000000e+00</td>\n",
       "      <td>0.000000e+00</td>\n",
       "      <td>...</td>\n",
       "      <td>0.000000e+00</td>\n",
       "      <td>0.000000e+00</td>\n",
       "      <td>0.000000e+00</td>\n",
       "      <td>0.000000e+00</td>\n",
       "      <td>0.000000e+00</td>\n",
       "      <td>0.000000e+00</td>\n",
       "      <td>0.000000e+00</td>\n",
       "      <td>0.000000e+00</td>\n",
       "      <td>0.000000e+00</td>\n",
       "      <td>0.000000e+00</td>\n",
       "    </tr>\n",
       "    <tr>\n",
       "      <th>50%</th>\n",
       "      <td>1.000000</td>\n",
       "      <td>2010.000000</td>\n",
       "      <td>0.000000e+00</td>\n",
       "      <td>0.000000e+00</td>\n",
       "      <td>0.000000e+00</td>\n",
       "      <td>0.000000e+00</td>\n",
       "      <td>0.000000e+00</td>\n",
       "      <td>0.000000e+00</td>\n",
       "      <td>0.000000e+00</td>\n",
       "      <td>0.000000e+00</td>\n",
       "      <td>...</td>\n",
       "      <td>0.000000e+00</td>\n",
       "      <td>0.000000e+00</td>\n",
       "      <td>0.000000e+00</td>\n",
       "      <td>0.000000e+00</td>\n",
       "      <td>0.000000e+00</td>\n",
       "      <td>0.000000e+00</td>\n",
       "      <td>0.000000e+00</td>\n",
       "      <td>0.000000e+00</td>\n",
       "      <td>0.000000e+00</td>\n",
       "      <td>0.000000e+00</td>\n",
       "    </tr>\n",
       "    <tr>\n",
       "      <th>75%</th>\n",
       "      <td>2.000000</td>\n",
       "      <td>2012.000000</td>\n",
       "      <td>2.500000e+04</td>\n",
       "      <td>5.000000e+06</td>\n",
       "      <td>0.000000e+00</td>\n",
       "      <td>0.000000e+00</td>\n",
       "      <td>0.000000e+00</td>\n",
       "      <td>0.000000e+00</td>\n",
       "      <td>0.000000e+00</td>\n",
       "      <td>0.000000e+00</td>\n",
       "      <td>...</td>\n",
       "      <td>0.000000e+00</td>\n",
       "      <td>0.000000e+00</td>\n",
       "      <td>0.000000e+00</td>\n",
       "      <td>0.000000e+00</td>\n",
       "      <td>0.000000e+00</td>\n",
       "      <td>0.000000e+00</td>\n",
       "      <td>0.000000e+00</td>\n",
       "      <td>0.000000e+00</td>\n",
       "      <td>0.000000e+00</td>\n",
       "      <td>0.000000e+00</td>\n",
       "    </tr>\n",
       "    <tr>\n",
       "      <th>max</th>\n",
       "      <td>18.000000</td>\n",
       "      <td>2014.000000</td>\n",
       "      <td>1.300000e+08</td>\n",
       "      <td>2.351000e+09</td>\n",
       "      <td>2.500000e+07</td>\n",
       "      <td>2.924328e+08</td>\n",
       "      <td>3.000000e+08</td>\n",
       "      <td>3.007950e+10</td>\n",
       "      <td>6.359026e+07</td>\n",
       "      <td>7.505000e+08</td>\n",
       "      <td>...</td>\n",
       "      <td>6.806116e+08</td>\n",
       "      <td>7.200000e+07</td>\n",
       "      <td>3.190000e+08</td>\n",
       "      <td>5.420000e+08</td>\n",
       "      <td>4.900000e+08</td>\n",
       "      <td>1.200000e+09</td>\n",
       "      <td>4.000000e+08</td>\n",
       "      <td>1.060000e+09</td>\n",
       "      <td>1.000000e+09</td>\n",
       "      <td>6.000000e+08</td>\n",
       "    </tr>\n",
       "  </tbody>\n",
       "</table>\n",
       "<p>8 rows × 23 columns</p>\n",
       "</div>\n",
       "      <button class=\"colab-df-convert\" onclick=\"convertToInteractive('df-92913374-cbd8-4898-87fc-f975b3a946c5')\"\n",
       "              title=\"Convert this dataframe to an interactive table.\"\n",
       "              style=\"display:none;\">\n",
       "        \n",
       "  <svg xmlns=\"http://www.w3.org/2000/svg\" height=\"24px\"viewBox=\"0 0 24 24\"\n",
       "       width=\"24px\">\n",
       "    <path d=\"M0 0h24v24H0V0z\" fill=\"none\"/>\n",
       "    <path d=\"M18.56 5.44l.94 2.06.94-2.06 2.06-.94-2.06-.94-.94-2.06-.94 2.06-2.06.94zm-11 1L8.5 8.5l.94-2.06 2.06-.94-2.06-.94L8.5 2.5l-.94 2.06-2.06.94zm10 10l.94 2.06.94-2.06 2.06-.94-2.06-.94-.94-2.06-.94 2.06-2.06.94z\"/><path d=\"M17.41 7.96l-1.37-1.37c-.4-.4-.92-.59-1.43-.59-.52 0-1.04.2-1.43.59L10.3 9.45l-7.72 7.72c-.78.78-.78 2.05 0 2.83L4 21.41c.39.39.9.59 1.41.59.51 0 1.02-.2 1.41-.59l7.78-7.78 2.81-2.81c.8-.78.8-2.07 0-2.86zM5.41 20L4 18.59l7.72-7.72 1.47 1.35L5.41 20z\"/>\n",
       "  </svg>\n",
       "      </button>\n",
       "      \n",
       "  <style>\n",
       "    .colab-df-container {\n",
       "      display:flex;\n",
       "      flex-wrap:wrap;\n",
       "      gap: 12px;\n",
       "    }\n",
       "\n",
       "    .colab-df-convert {\n",
       "      background-color: #E8F0FE;\n",
       "      border: none;\n",
       "      border-radius: 50%;\n",
       "      cursor: pointer;\n",
       "      display: none;\n",
       "      fill: #1967D2;\n",
       "      height: 32px;\n",
       "      padding: 0 0 0 0;\n",
       "      width: 32px;\n",
       "    }\n",
       "\n",
       "    .colab-df-convert:hover {\n",
       "      background-color: #E2EBFA;\n",
       "      box-shadow: 0px 1px 2px rgba(60, 64, 67, 0.3), 0px 1px 3px 1px rgba(60, 64, 67, 0.15);\n",
       "      fill: #174EA6;\n",
       "    }\n",
       "\n",
       "    [theme=dark] .colab-df-convert {\n",
       "      background-color: #3B4455;\n",
       "      fill: #D2E3FC;\n",
       "    }\n",
       "\n",
       "    [theme=dark] .colab-df-convert:hover {\n",
       "      background-color: #434B5C;\n",
       "      box-shadow: 0px 1px 3px 1px rgba(0, 0, 0, 0.15);\n",
       "      filter: drop-shadow(0px 1px 2px rgba(0, 0, 0, 0.3));\n",
       "      fill: #FFFFFF;\n",
       "    }\n",
       "  </style>\n",
       "\n",
       "      <script>\n",
       "        const buttonEl =\n",
       "          document.querySelector('#df-92913374-cbd8-4898-87fc-f975b3a946c5 button.colab-df-convert');\n",
       "        buttonEl.style.display =\n",
       "          google.colab.kernel.accessAllowed ? 'block' : 'none';\n",
       "\n",
       "        async function convertToInteractive(key) {\n",
       "          const element = document.querySelector('#df-92913374-cbd8-4898-87fc-f975b3a946c5');\n",
       "          const dataTable =\n",
       "            await google.colab.kernel.invokeFunction('convertToInteractive',\n",
       "                                                     [key], {});\n",
       "          if (!dataTable) return;\n",
       "\n",
       "          const docLinkHtml = 'Like what you see? Visit the ' +\n",
       "            '<a target=\"_blank\" href=https://colab.research.google.com/notebooks/data_table.ipynb>data table notebook</a>'\n",
       "            + ' to learn more about interactive tables.';\n",
       "          element.innerHTML = '';\n",
       "          dataTable['output_type'] = 'display_data';\n",
       "          await google.colab.output.renderOutput(dataTable, element);\n",
       "          const docLink = document.createElement('div');\n",
       "          docLink.innerHTML = docLinkHtml;\n",
       "          element.appendChild(docLink);\n",
       "        }\n",
       "      </script>\n",
       "    </div>\n",
       "  </div>\n",
       "  "
      ],
      "text/plain": [
       "       funding_rounds  founded_year          seed       venture  \\\n",
       "count    49438.000000  38482.000000  4.943800e+04  4.943800e+04   \n",
       "mean         1.696205   2007.359129  2.173215e+05  7.501051e+06   \n",
       "std          1.294213      7.579203  1.056985e+06  2.847112e+07   \n",
       "min          1.000000   1902.000000  0.000000e+00  0.000000e+00   \n",
       "25%          1.000000   2006.000000  0.000000e+00  0.000000e+00   \n",
       "50%          1.000000   2010.000000  0.000000e+00  0.000000e+00   \n",
       "75%          2.000000   2012.000000  2.500000e+04  5.000000e+06   \n",
       "max         18.000000   2014.000000  1.300000e+08  2.351000e+09   \n",
       "\n",
       "       equity_crowdfunding   undisclosed  convertible_note  debt_financing  \\\n",
       "count         4.943800e+04  4.943800e+04      4.943800e+04    4.943800e+04   \n",
       "mean          6.163322e+03  1.302213e+05      2.336410e+04    1.888157e+06   \n",
       "std           1.999048e+05  2.981404e+06      1.432046e+06    1.382046e+08   \n",
       "min           0.000000e+00  0.000000e+00      0.000000e+00    0.000000e+00   \n",
       "25%           0.000000e+00  0.000000e+00      0.000000e+00    0.000000e+00   \n",
       "50%           0.000000e+00  0.000000e+00      0.000000e+00    0.000000e+00   \n",
       "75%           0.000000e+00  0.000000e+00      0.000000e+00    0.000000e+00   \n",
       "max           2.500000e+07  2.924328e+08      3.000000e+08    3.007950e+10   \n",
       "\n",
       "              angel         grant  ...  secondary_market  \\\n",
       "count  4.943800e+04  4.943800e+04  ...      4.943800e+04   \n",
       "mean   6.541898e+04  1.628453e+05  ...      3.845592e+04   \n",
       "std    6.582908e+05  5.612088e+06  ...      3.864461e+06   \n",
       "min    0.000000e+00  0.000000e+00  ...      0.000000e+00   \n",
       "25%    0.000000e+00  0.000000e+00  ...      0.000000e+00   \n",
       "50%    0.000000e+00  0.000000e+00  ...      0.000000e+00   \n",
       "75%    0.000000e+00  0.000000e+00  ...      0.000000e+00   \n",
       "max    6.359026e+07  7.505000e+08  ...      6.806116e+08   \n",
       "\n",
       "       product_crowdfunding       round_A       round_B       round_C  \\\n",
       "count          4.943800e+04  4.943800e+04  4.943800e+04  4.943800e+04   \n",
       "mean           7.074227e+03  1.243955e+06  1.492891e+06  1.205356e+06   \n",
       "std            4.282166e+05  5.531974e+06  7.472704e+06  7.993592e+06   \n",
       "min            0.000000e+00  0.000000e+00  0.000000e+00  0.000000e+00   \n",
       "25%            0.000000e+00  0.000000e+00  0.000000e+00  0.000000e+00   \n",
       "50%            0.000000e+00  0.000000e+00  0.000000e+00  0.000000e+00   \n",
       "75%            0.000000e+00  0.000000e+00  0.000000e+00  0.000000e+00   \n",
       "max            7.200000e+07  3.190000e+08  5.420000e+08  4.900000e+08   \n",
       "\n",
       "            round_D       round_E       round_F       round_G       round_H  \n",
       "count  4.943800e+04  4.943800e+04  4.943800e+04  4.943800e+04  4.943800e+04  \n",
       "mean   7.375261e+05  3.424682e+05  1.697692e+05  5.767067e+04  1.423197e+04  \n",
       "std    9.815218e+06  5.406915e+06  6.277905e+06  5.252312e+06  2.716865e+06  \n",
       "min    0.000000e+00  0.000000e+00  0.000000e+00  0.000000e+00  0.000000e+00  \n",
       "25%    0.000000e+00  0.000000e+00  0.000000e+00  0.000000e+00  0.000000e+00  \n",
       "50%    0.000000e+00  0.000000e+00  0.000000e+00  0.000000e+00  0.000000e+00  \n",
       "75%    0.000000e+00  0.000000e+00  0.000000e+00  0.000000e+00  0.000000e+00  \n",
       "max    1.200000e+09  4.000000e+08  1.060000e+09  1.000000e+09  6.000000e+08  \n",
       "\n",
       "[8 rows x 23 columns]"
      ]
     },
     "execution_count": 7,
     "metadata": {},
     "output_type": "execute_result"
    }
   ],
   "source": [
    "df.describe()"
   ]
  },
  {
   "cell_type": "code",
   "execution_count": null,
   "metadata": {
    "colab": {
     "base_uri": "https://localhost:8080/"
    },
    "id": "KIjJAPHvzFBF",
    "outputId": "37d5acc2-065e-47d2-eccb-ee0945cea679"
   },
   "outputs": [
    {
     "name": "stdout",
     "output_type": "stream",
     "text": [
      "<class 'pandas.core.frame.DataFrame'>\n",
      "RangeIndex: 54294 entries, 0 to 54293\n",
      "Data columns (total 39 columns):\n",
      " #   Column                Non-Null Count  Dtype  \n",
      "---  ------                --------------  -----  \n",
      " 0   permalink             49438 non-null  object \n",
      " 1   name                  49437 non-null  object \n",
      " 2   homepage_url          45989 non-null  object \n",
      " 3   category_list         45477 non-null  object \n",
      " 4    market               45470 non-null  object \n",
      " 5    funding_total_usd    49438 non-null  object \n",
      " 6   status                48124 non-null  object \n",
      " 7   country_code          44165 non-null  object \n",
      " 8   state_code            30161 non-null  object \n",
      " 9   region                44165 non-null  object \n",
      " 10  city                  43322 non-null  object \n",
      " 11  funding_rounds        49438 non-null  float64\n",
      " 12  founded_at            38554 non-null  object \n",
      " 13  founded_month         38482 non-null  object \n",
      " 14  founded_quarter       38482 non-null  object \n",
      " 15  founded_year          38482 non-null  float64\n",
      " 16  first_funding_at      49438 non-null  object \n",
      " 17  last_funding_at       49438 non-null  object \n",
      " 18  seed                  49438 non-null  float64\n",
      " 19  venture               49438 non-null  float64\n",
      " 20  equity_crowdfunding   49438 non-null  float64\n",
      " 21  undisclosed           49438 non-null  float64\n",
      " 22  convertible_note      49438 non-null  float64\n",
      " 23  debt_financing        49438 non-null  float64\n",
      " 24  angel                 49438 non-null  float64\n",
      " 25  grant                 49438 non-null  float64\n",
      " 26  private_equity        49438 non-null  float64\n",
      " 27  post_ipo_equity       49438 non-null  float64\n",
      " 28  post_ipo_debt         49438 non-null  float64\n",
      " 29  secondary_market      49438 non-null  float64\n",
      " 30  product_crowdfunding  49438 non-null  float64\n",
      " 31  round_A               49438 non-null  float64\n",
      " 32  round_B               49438 non-null  float64\n",
      " 33  round_C               49438 non-null  float64\n",
      " 34  round_D               49438 non-null  float64\n",
      " 35  round_E               49438 non-null  float64\n",
      " 36  round_F               49438 non-null  float64\n",
      " 37  round_G               49438 non-null  float64\n",
      " 38  round_H               49438 non-null  float64\n",
      "dtypes: float64(23), object(16)\n",
      "memory usage: 16.2+ MB\n"
     ]
    }
   ],
   "source": [
    "df.info()"
   ]
  },
  {
   "cell_type": "markdown",
   "metadata": {
    "id": "R90O2qUQn515"
   },
   "source": [
    "As we can see in the result of the previous cell, there are some columns with a type other than expected. For example, `total_funding_usd` is expected to have a numerical value, or `founding_at` is expected to be of `datetime` type. We will be working with these issues in the data munging section ."
   ]
  },
  {
   "cell_type": "markdown",
   "metadata": {
    "id": "jZkAO84mMIJR"
   },
   "source": [
    "# Data munging\n",
    "\n",
    "Data munging is the process of cleaning, transforming, and organizing raw data into a format that is suitable for analysis. It is an essential step that is necessary for any data-driven project, as it helps to ensure that the data being used is accurate, consistent, and complete. By taking the time to properly mung data, you can ensure that your analysis and insights are based on sound evidence, leading to more reliable results.\n",
    "\n"
   ]
  },
  {
   "cell_type": "markdown",
   "metadata": {
    "id": "6YqPs0YqpePE"
   },
   "source": [
    "Before we start our analysis, I would like to check the names of the columns and make sure they do not have any spaces at the end or at the beginning of their names. This helps of refrence them in the future a lot easier."
   ]
  },
  {
   "cell_type": "code",
   "execution_count": null,
   "metadata": {
    "id": "pqqWSXdhvTmc"
   },
   "outputs": [],
   "source": [
    "df.columns = [name.strip() for name in df.columns]"
   ]
  },
  {
   "cell_type": "markdown",
   "metadata": {
    "id": "htZiAYpIJc8T"
   },
   "source": [
    "In addition to that, some numerical values seem to be in `str` format, below, I'm trying to make these columns numeric."
   ]
  },
  {
   "cell_type": "code",
   "execution_count": null,
   "metadata": {
    "colab": {
     "base_uri": "https://localhost:8080/"
    },
    "id": "eSTt2Y2p33eQ",
    "outputId": "1c0a7aa1-8a01-42a6-c4b1-4233ead717f3"
   },
   "outputs": [
    {
     "name": "stderr",
     "output_type": "stream",
     "text": [
      "<ipython-input-10-21dedbb7baa8>:5: SettingWithCopyWarning: \n",
      "A value is trying to be set on a copy of a slice from a DataFrame\n",
      "\n",
      "See the caveats in the documentation: https://pandas.pydata.org/pandas-docs/stable/user_guide/indexing.html#returning-a-view-versus-a-copy\n",
      "  df.funding_total_usd[index] = float(cost.replace(\",\", \"\"))\n"
     ]
    }
   ],
   "source": [
    "# [cost.replace(\",\", \"\") for cost in df.funding_total_usd if cost != None]\n",
    "\n",
    "for index, cost in enumerate(df.funding_total_usd):\n",
    "  try:\n",
    "    df.funding_total_usd[index] = float(cost.replace(\",\", \"\"))\n",
    "  except:\n",
    "    pass"
   ]
  },
  {
   "cell_type": "markdown",
   "metadata": {
    "id": "DToxiW9sa6Li"
   },
   "source": [
    "Now, we would like to examine what percentage of each of our features have a missing value. As it appears, most missing values are from `state-code` column, and region information in general. The second set of columns with most missing values include the date information of when each start-up is founded. Table below, provides a more detailed percentage of missing values in each column in a descending order."
   ]
  },
  {
   "cell_type": "code",
   "execution_count": null,
   "metadata": {
    "colab": {
     "base_uri": "https://localhost:8080/",
     "height": 1000
    },
    "id": "GNTQo8BIoILa",
    "outputId": "8200ef41-ba3d-4e86-ea3f-c7eb53f659b2"
   },
   "outputs": [
    {
     "data": {
      "text/html": [
       "<style type=\"text/css\">\n",
       "#T_a7ed2_row0_col0 {\n",
       "  background-color: #67000d;\n",
       "  color: #f1f1f1;\n",
       "}\n",
       "#T_a7ed2_row1_col0, #T_a7ed2_row2_col0, #T_a7ed2_row3_col0 {\n",
       "  background-color: #f4503a;\n",
       "  color: #f1f1f1;\n",
       "}\n",
       "#T_a7ed2_row4_col0 {\n",
       "  background-color: #f5523a;\n",
       "  color: #f1f1f1;\n",
       "}\n",
       "#T_a7ed2_row5_col0 {\n",
       "  background-color: #fca588;\n",
       "  color: #000000;\n",
       "}\n",
       "#T_a7ed2_row6_col0, #T_a7ed2_row7_col0 {\n",
       "  background-color: #fcb398;\n",
       "  color: #000000;\n",
       "}\n",
       "#T_a7ed2_row8_col0, #T_a7ed2_row9_col0 {\n",
       "  background-color: #fdc9b3;\n",
       "  color: #000000;\n",
       "}\n",
       "#T_a7ed2_row10_col0 {\n",
       "  background-color: #fdd1be;\n",
       "  color: #000000;\n",
       "}\n",
       "#T_a7ed2_row11_col0 {\n",
       "  background-color: #feeae0;\n",
       "  color: #000000;\n",
       "}\n",
       "#T_a7ed2_row12_col0, #T_a7ed2_row13_col0, #T_a7ed2_row14_col0, #T_a7ed2_row15_col0, #T_a7ed2_row16_col0, #T_a7ed2_row17_col0, #T_a7ed2_row18_col0, #T_a7ed2_row19_col0, #T_a7ed2_row20_col0, #T_a7ed2_row21_col0, #T_a7ed2_row22_col0, #T_a7ed2_row23_col0, #T_a7ed2_row24_col0, #T_a7ed2_row25_col0, #T_a7ed2_row26_col0, #T_a7ed2_row27_col0, #T_a7ed2_row28_col0, #T_a7ed2_row29_col0, #T_a7ed2_row30_col0, #T_a7ed2_row31_col0, #T_a7ed2_row32_col0, #T_a7ed2_row33_col0, #T_a7ed2_row34_col0, #T_a7ed2_row35_col0, #T_a7ed2_row36_col0, #T_a7ed2_row37_col0, #T_a7ed2_row38_col0 {\n",
       "  background-color: #fff5f0;\n",
       "  color: #000000;\n",
       "}\n",
       "</style>\n",
       "<table id=\"T_a7ed2_\" class=\"dataframe\">\n",
       "  <thead>\n",
       "    <tr>\n",
       "      <th class=\"blank level0\" >&nbsp;</th>\n",
       "      <th class=\"col_heading level0 col0\" >Null Percentage</th>\n",
       "    </tr>\n",
       "  </thead>\n",
       "  <tbody>\n",
       "    <tr>\n",
       "      <th id=\"T_a7ed2_level0_row0\" class=\"row_heading level0 row0\" >state_code</th>\n",
       "      <td id=\"T_a7ed2_row0_col0\" class=\"data row0 col0\" >44.448742</td>\n",
       "    </tr>\n",
       "    <tr>\n",
       "      <th id=\"T_a7ed2_level0_row1\" class=\"row_heading level0 row1\" >founded_month</th>\n",
       "      <td id=\"T_a7ed2_row1_col0\" class=\"data row1 col0\" >29.122923</td>\n",
       "    </tr>\n",
       "    <tr>\n",
       "      <th id=\"T_a7ed2_level0_row2\" class=\"row_heading level0 row2\" >founded_year</th>\n",
       "      <td id=\"T_a7ed2_row2_col0\" class=\"data row2 col0\" >29.122923</td>\n",
       "    </tr>\n",
       "    <tr>\n",
       "      <th id=\"T_a7ed2_level0_row3\" class=\"row_heading level0 row3\" >founded_quarter</th>\n",
       "      <td id=\"T_a7ed2_row3_col0\" class=\"data row3 col0\" >29.122923</td>\n",
       "    </tr>\n",
       "    <tr>\n",
       "      <th id=\"T_a7ed2_level0_row4\" class=\"row_heading level0 row4\" >founded_at</th>\n",
       "      <td id=\"T_a7ed2_row4_col0\" class=\"data row4 col0\" >28.990312</td>\n",
       "    </tr>\n",
       "    <tr>\n",
       "      <th id=\"T_a7ed2_level0_row5\" class=\"row_heading level0 row5\" >city</th>\n",
       "      <td id=\"T_a7ed2_row5_col0\" class=\"data row5 col0\" >20.208494</td>\n",
       "    </tr>\n",
       "    <tr>\n",
       "      <th id=\"T_a7ed2_level0_row6\" class=\"row_heading level0 row6\" >country_code</th>\n",
       "      <td id=\"T_a7ed2_row6_col0\" class=\"data row6 col0\" >18.655837</td>\n",
       "    </tr>\n",
       "    <tr>\n",
       "      <th id=\"T_a7ed2_level0_row7\" class=\"row_heading level0 row7\" >region</th>\n",
       "      <td id=\"T_a7ed2_row7_col0\" class=\"data row7 col0\" >18.655837</td>\n",
       "    </tr>\n",
       "    <tr>\n",
       "      <th id=\"T_a7ed2_level0_row8\" class=\"row_heading level0 row8\" >market</th>\n",
       "      <td id=\"T_a7ed2_row8_col0\" class=\"data row8 col0\" >16.252256</td>\n",
       "    </tr>\n",
       "    <tr>\n",
       "      <th id=\"T_a7ed2_level0_row9\" class=\"row_heading level0 row9\" >category_list</th>\n",
       "      <td id=\"T_a7ed2_row9_col0\" class=\"data row9 col0\" >16.239363</td>\n",
       "    </tr>\n",
       "    <tr>\n",
       "      <th id=\"T_a7ed2_level0_row10\" class=\"row_heading level0 row10\" >homepage_url</th>\n",
       "      <td id=\"T_a7ed2_row10_col0\" class=\"data row10 col0\" >15.296350</td>\n",
       "    </tr>\n",
       "    <tr>\n",
       "      <th id=\"T_a7ed2_level0_row11\" class=\"row_heading level0 row11\" >status</th>\n",
       "      <td id=\"T_a7ed2_row11_col0\" class=\"data row11 col0\" >11.364055</td>\n",
       "    </tr>\n",
       "    <tr>\n",
       "      <th id=\"T_a7ed2_level0_row12\" class=\"row_heading level0 row12\" >name</th>\n",
       "      <td id=\"T_a7ed2_row12_col0\" class=\"data row12 col0\" >8.945740</td>\n",
       "    </tr>\n",
       "    <tr>\n",
       "      <th id=\"T_a7ed2_level0_row13\" class=\"row_heading level0 row13\" >post_ipo_debt</th>\n",
       "      <td id=\"T_a7ed2_row13_col0\" class=\"data row13 col0\" >8.943898</td>\n",
       "    </tr>\n",
       "    <tr>\n",
       "      <th id=\"T_a7ed2_level0_row14\" class=\"row_heading level0 row14\" >secondary_market</th>\n",
       "      <td id=\"T_a7ed2_row14_col0\" class=\"data row14 col0\" >8.943898</td>\n",
       "    </tr>\n",
       "    <tr>\n",
       "      <th id=\"T_a7ed2_level0_row15\" class=\"row_heading level0 row15\" >product_crowdfunding</th>\n",
       "      <td id=\"T_a7ed2_row15_col0\" class=\"data row15 col0\" >8.943898</td>\n",
       "    </tr>\n",
       "    <tr>\n",
       "      <th id=\"T_a7ed2_level0_row16\" class=\"row_heading level0 row16\" >round_A</th>\n",
       "      <td id=\"T_a7ed2_row16_col0\" class=\"data row16 col0\" >8.943898</td>\n",
       "    </tr>\n",
       "    <tr>\n",
       "      <th id=\"T_a7ed2_level0_row17\" class=\"row_heading level0 row17\" >round_B</th>\n",
       "      <td id=\"T_a7ed2_row17_col0\" class=\"data row17 col0\" >8.943898</td>\n",
       "    </tr>\n",
       "    <tr>\n",
       "      <th id=\"T_a7ed2_level0_row18\" class=\"row_heading level0 row18\" >permalink</th>\n",
       "      <td id=\"T_a7ed2_row18_col0\" class=\"data row18 col0\" >8.943898</td>\n",
       "    </tr>\n",
       "    <tr>\n",
       "      <th id=\"T_a7ed2_level0_row19\" class=\"row_heading level0 row19\" >round_C</th>\n",
       "      <td id=\"T_a7ed2_row19_col0\" class=\"data row19 col0\" >8.943898</td>\n",
       "    </tr>\n",
       "    <tr>\n",
       "      <th id=\"T_a7ed2_level0_row20\" class=\"row_heading level0 row20\" >round_D</th>\n",
       "      <td id=\"T_a7ed2_row20_col0\" class=\"data row20 col0\" >8.943898</td>\n",
       "    </tr>\n",
       "    <tr>\n",
       "      <th id=\"T_a7ed2_level0_row21\" class=\"row_heading level0 row21\" >round_E</th>\n",
       "      <td id=\"T_a7ed2_row21_col0\" class=\"data row21 col0\" >8.943898</td>\n",
       "    </tr>\n",
       "    <tr>\n",
       "      <th id=\"T_a7ed2_level0_row22\" class=\"row_heading level0 row22\" >private_equity</th>\n",
       "      <td id=\"T_a7ed2_row22_col0\" class=\"data row22 col0\" >8.943898</td>\n",
       "    </tr>\n",
       "    <tr>\n",
       "      <th id=\"T_a7ed2_level0_row23\" class=\"row_heading level0 row23\" >round_F</th>\n",
       "      <td id=\"T_a7ed2_row23_col0\" class=\"data row23 col0\" >8.943898</td>\n",
       "    </tr>\n",
       "    <tr>\n",
       "      <th id=\"T_a7ed2_level0_row24\" class=\"row_heading level0 row24\" >round_G</th>\n",
       "      <td id=\"T_a7ed2_row24_col0\" class=\"data row24 col0\" >8.943898</td>\n",
       "    </tr>\n",
       "    <tr>\n",
       "      <th id=\"T_a7ed2_level0_row25\" class=\"row_heading level0 row25\" >post_ipo_equity</th>\n",
       "      <td id=\"T_a7ed2_row25_col0\" class=\"data row25 col0\" >8.943898</td>\n",
       "    </tr>\n",
       "    <tr>\n",
       "      <th id=\"T_a7ed2_level0_row26\" class=\"row_heading level0 row26\" >venture</th>\n",
       "      <td id=\"T_a7ed2_row26_col0\" class=\"data row26 col0\" >8.943898</td>\n",
       "    </tr>\n",
       "    <tr>\n",
       "      <th id=\"T_a7ed2_level0_row27\" class=\"row_heading level0 row27\" >grant</th>\n",
       "      <td id=\"T_a7ed2_row27_col0\" class=\"data row27 col0\" >8.943898</td>\n",
       "    </tr>\n",
       "    <tr>\n",
       "      <th id=\"T_a7ed2_level0_row28\" class=\"row_heading level0 row28\" >angel</th>\n",
       "      <td id=\"T_a7ed2_row28_col0\" class=\"data row28 col0\" >8.943898</td>\n",
       "    </tr>\n",
       "    <tr>\n",
       "      <th id=\"T_a7ed2_level0_row29\" class=\"row_heading level0 row29\" >debt_financing</th>\n",
       "      <td id=\"T_a7ed2_row29_col0\" class=\"data row29 col0\" >8.943898</td>\n",
       "    </tr>\n",
       "    <tr>\n",
       "      <th id=\"T_a7ed2_level0_row30\" class=\"row_heading level0 row30\" >convertible_note</th>\n",
       "      <td id=\"T_a7ed2_row30_col0\" class=\"data row30 col0\" >8.943898</td>\n",
       "    </tr>\n",
       "    <tr>\n",
       "      <th id=\"T_a7ed2_level0_row31\" class=\"row_heading level0 row31\" >undisclosed</th>\n",
       "      <td id=\"T_a7ed2_row31_col0\" class=\"data row31 col0\" >8.943898</td>\n",
       "    </tr>\n",
       "    <tr>\n",
       "      <th id=\"T_a7ed2_level0_row32\" class=\"row_heading level0 row32\" >equity_crowdfunding</th>\n",
       "      <td id=\"T_a7ed2_row32_col0\" class=\"data row32 col0\" >8.943898</td>\n",
       "    </tr>\n",
       "    <tr>\n",
       "      <th id=\"T_a7ed2_level0_row33\" class=\"row_heading level0 row33\" >seed</th>\n",
       "      <td id=\"T_a7ed2_row33_col0\" class=\"data row33 col0\" >8.943898</td>\n",
       "    </tr>\n",
       "    <tr>\n",
       "      <th id=\"T_a7ed2_level0_row34\" class=\"row_heading level0 row34\" >last_funding_at</th>\n",
       "      <td id=\"T_a7ed2_row34_col0\" class=\"data row34 col0\" >8.943898</td>\n",
       "    </tr>\n",
       "    <tr>\n",
       "      <th id=\"T_a7ed2_level0_row35\" class=\"row_heading level0 row35\" >first_funding_at</th>\n",
       "      <td id=\"T_a7ed2_row35_col0\" class=\"data row35 col0\" >8.943898</td>\n",
       "    </tr>\n",
       "    <tr>\n",
       "      <th id=\"T_a7ed2_level0_row36\" class=\"row_heading level0 row36\" >funding_rounds</th>\n",
       "      <td id=\"T_a7ed2_row36_col0\" class=\"data row36 col0\" >8.943898</td>\n",
       "    </tr>\n",
       "    <tr>\n",
       "      <th id=\"T_a7ed2_level0_row37\" class=\"row_heading level0 row37\" >funding_total_usd</th>\n",
       "      <td id=\"T_a7ed2_row37_col0\" class=\"data row37 col0\" >8.943898</td>\n",
       "    </tr>\n",
       "    <tr>\n",
       "      <th id=\"T_a7ed2_level0_row38\" class=\"row_heading level0 row38\" >round_H</th>\n",
       "      <td id=\"T_a7ed2_row38_col0\" class=\"data row38 col0\" >8.943898</td>\n",
       "    </tr>\n",
       "  </tbody>\n",
       "</table>\n"
      ],
      "text/plain": [
       "<pandas.io.formats.style.Styler at 0x7ff611135370>"
      ]
     },
     "execution_count": 11,
     "metadata": {},
     "output_type": "execute_result"
    }
   ],
   "source": [
    "data = df.isnull().mean().to_frame()\n",
    "data = data[data[0] > 0].sort_values(0, ascending= False).apply(lambda x: x*100)\n",
    "data.columns = [\"Null Percentage\"]\n",
    "data.style.background_gradient(\"Reds\")"
   ]
  },
  {
   "cell_type": "code",
   "execution_count": null,
   "metadata": {
    "colab": {
     "base_uri": "https://localhost:8080/"
    },
    "id": "UudJh2zcqAvw",
    "outputId": "08056339-6a9f-4799-93e0-7bd17a9e81ed"
   },
   "outputs": [
    {
     "data": {
      "text/plain": [
       "(39, 1)"
      ]
     },
     "execution_count": 12,
     "metadata": {},
     "output_type": "execute_result"
    }
   ],
   "source": [
    "data.shape"
   ]
  },
  {
   "cell_type": "markdown",
   "metadata": {
    "id": "p6JVrDJVSxdL"
   },
   "source": [
    "We would first want to remove rows that all their features are missing. These observations do not add any insight to our analysis. As a result of this step, a total of **4,856** observations are removed from our original dataset. In addition, the number of columns with null values have also decreased from **39** columns to **13** columns."
   ]
  },
  {
   "cell_type": "code",
   "execution_count": null,
   "metadata": {
    "id": "LGRjJ_UNovF_"
   },
   "outputs": [],
   "source": [
    "df.dropna(how='all',inplace=True)"
   ]
  },
  {
   "cell_type": "code",
   "execution_count": null,
   "metadata": {
    "colab": {
     "base_uri": "https://localhost:8080/",
     "height": 452
    },
    "id": "1q99geQGnYoM",
    "outputId": "6ab8898c-9118-4178-f6bb-54b42f4f6d67"
   },
   "outputs": [
    {
     "data": {
      "text/html": [
       "<style type=\"text/css\">\n",
       "#T_f1cbf_row0_col0 {\n",
       "  background-color: #67000d;\n",
       "  color: #f1f1f1;\n",
       "}\n",
       "#T_f1cbf_row1_col0, #T_f1cbf_row2_col0, #T_f1cbf_row3_col0 {\n",
       "  background-color: #f4503a;\n",
       "  color: #f1f1f1;\n",
       "}\n",
       "#T_f1cbf_row4_col0 {\n",
       "  background-color: #f5523a;\n",
       "  color: #f1f1f1;\n",
       "}\n",
       "#T_f1cbf_row5_col0 {\n",
       "  background-color: #fca588;\n",
       "  color: #000000;\n",
       "}\n",
       "#T_f1cbf_row6_col0, #T_f1cbf_row7_col0 {\n",
       "  background-color: #fcb398;\n",
       "  color: #000000;\n",
       "}\n",
       "#T_f1cbf_row8_col0, #T_f1cbf_row9_col0 {\n",
       "  background-color: #fdc9b3;\n",
       "  color: #000000;\n",
       "}\n",
       "#T_f1cbf_row10_col0 {\n",
       "  background-color: #fdd1be;\n",
       "  color: #000000;\n",
       "}\n",
       "#T_f1cbf_row11_col0 {\n",
       "  background-color: #feeae0;\n",
       "  color: #000000;\n",
       "}\n",
       "#T_f1cbf_row12_col0 {\n",
       "  background-color: #fff5f0;\n",
       "  color: #000000;\n",
       "}\n",
       "</style>\n",
       "<table id=\"T_f1cbf_\" class=\"dataframe\">\n",
       "  <thead>\n",
       "    <tr>\n",
       "      <th class=\"blank level0\" >&nbsp;</th>\n",
       "      <th class=\"col_heading level0 col0\" >Null Percentage</th>\n",
       "    </tr>\n",
       "  </thead>\n",
       "  <tbody>\n",
       "    <tr>\n",
       "      <th id=\"T_f1cbf_level0_row0\" class=\"row_heading level0 row0\" >state_code</th>\n",
       "      <td id=\"T_f1cbf_row0_col0\" class=\"data row0 col0\" >38.992273</td>\n",
       "    </tr>\n",
       "    <tr>\n",
       "      <th id=\"T_f1cbf_level0_row1\" class=\"row_heading level0 row1\" >founded_month</th>\n",
       "      <td id=\"T_f1cbf_row1_col0\" class=\"data row1 col0\" >22.161091</td>\n",
       "    </tr>\n",
       "    <tr>\n",
       "      <th id=\"T_f1cbf_level0_row2\" class=\"row_heading level0 row2\" >founded_quarter</th>\n",
       "      <td id=\"T_f1cbf_row2_col0\" class=\"data row2 col0\" >22.161091</td>\n",
       "    </tr>\n",
       "    <tr>\n",
       "      <th id=\"T_f1cbf_level0_row3\" class=\"row_heading level0 row3\" >founded_year</th>\n",
       "      <td id=\"T_f1cbf_row3_col0\" class=\"data row3 col0\" >22.161091</td>\n",
       "    </tr>\n",
       "    <tr>\n",
       "      <th id=\"T_f1cbf_level0_row4\" class=\"row_heading level0 row4\" >founded_at</th>\n",
       "      <td id=\"T_f1cbf_row4_col0\" class=\"data row4 col0\" >22.015454</td>\n",
       "    </tr>\n",
       "    <tr>\n",
       "      <th id=\"T_f1cbf_level0_row5\" class=\"row_heading level0 row5\" >city</th>\n",
       "      <td id=\"T_f1cbf_row5_col0\" class=\"data row5 col0\" >12.371051</td>\n",
       "    </tr>\n",
       "    <tr>\n",
       "      <th id=\"T_f1cbf_level0_row6\" class=\"row_heading level0 row6\" >country_code</th>\n",
       "      <td id=\"T_f1cbf_row6_col0\" class=\"data row6 col0\" >10.665885</td>\n",
       "    </tr>\n",
       "    <tr>\n",
       "      <th id=\"T_f1cbf_level0_row7\" class=\"row_heading level0 row7\" >region</th>\n",
       "      <td id=\"T_f1cbf_row7_col0\" class=\"data row7 col0\" >10.665885</td>\n",
       "    </tr>\n",
       "    <tr>\n",
       "      <th id=\"T_f1cbf_level0_row8\" class=\"row_heading level0 row8\" >market</th>\n",
       "      <td id=\"T_f1cbf_row8_col0\" class=\"data row8 col0\" >8.026215</td>\n",
       "    </tr>\n",
       "    <tr>\n",
       "      <th id=\"T_f1cbf_level0_row9\" class=\"row_heading level0 row9\" >category_list</th>\n",
       "      <td id=\"T_f1cbf_row9_col0\" class=\"data row9 col0\" >8.012056</td>\n",
       "    </tr>\n",
       "    <tr>\n",
       "      <th id=\"T_f1cbf_level0_row10\" class=\"row_heading level0 row10\" >homepage_url</th>\n",
       "      <td id=\"T_f1cbf_row10_col0\" class=\"data row10 col0\" >6.976415</td>\n",
       "    </tr>\n",
       "    <tr>\n",
       "      <th id=\"T_f1cbf_level0_row11\" class=\"row_heading level0 row11\" >status</th>\n",
       "      <td id=\"T_f1cbf_row11_col0\" class=\"data row11 col0\" >2.657875</td>\n",
       "    </tr>\n",
       "    <tr>\n",
       "      <th id=\"T_f1cbf_level0_row12\" class=\"row_heading level0 row12\" >name</th>\n",
       "      <td id=\"T_f1cbf_row12_col0\" class=\"data row12 col0\" >0.002023</td>\n",
       "    </tr>\n",
       "  </tbody>\n",
       "</table>\n"
      ],
      "text/plain": [
       "<pandas.io.formats.style.Styler at 0x7ff6110e63d0>"
      ]
     },
     "execution_count": 14,
     "metadata": {},
     "output_type": "execute_result"
    }
   ],
   "source": [
    "data = df.isnull().mean().to_frame()\n",
    "data = data[data[0] > 0].sort_values(0, ascending= False).apply(lambda x: x*100)\n",
    "data.columns = [\"Null Percentage\"]\n",
    "data.style.background_gradient(\"Reds\")"
   ]
  },
  {
   "cell_type": "code",
   "execution_count": null,
   "metadata": {
    "colab": {
     "base_uri": "https://localhost:8080/"
    },
    "id": "LDN0_x-QWI2n",
    "outputId": "7c02bf9d-47ce-4d24-bd58-d0fc3d2a5d9a"
   },
   "outputs": [
    {
     "data": {
      "text/plain": [
       "(49438, 39)"
      ]
     },
     "execution_count": 15,
     "metadata": {},
     "output_type": "execute_result"
    }
   ],
   "source": [
    "df.shape"
   ]
  },
  {
   "cell_type": "markdown",
   "metadata": {
    "id": "UKb_sp9HaM7P"
   },
   "source": [
    "In addition to removing the rows that are empty and do not add much value to our analysis, we can also remove columns that have the same situation. For example, `permalink`, and `homepage_url` are among the columns that cannot be useful for this study. As a result, we drop them."
   ]
  },
  {
   "cell_type": "code",
   "execution_count": null,
   "metadata": {
    "id": "kgKPnyUOWNQT"
   },
   "outputs": [],
   "source": [
    "df.drop(\"permalink\", axis=1, inplace= True)\n",
    "df.drop(\"homepage_url\", axis=1, inplace= True)"
   ]
  },
  {
   "cell_type": "markdown",
   "metadata": {
    "id": "7tUVKSJFcZuZ"
   },
   "source": [
    "Converting a column in a pandas dataframe to `pd.Categorical` can be useful when you need to identify and group similar values together. This is especially helpful when working with large datasets with multiple columns, as it can help make it easier to analyze and compare the data. It can also be used to improve performance and reduce memory usage. Additionally, it can be used to create new columns based on the categories of the data."
   ]
  },
  {
   "cell_type": "code",
   "execution_count": null,
   "metadata": {
    "id": "tRRYWKejuagr"
   },
   "outputs": [],
   "source": [
    "df.status = pd.Categorical(df.status)\n",
    "df.market = pd.Categorical(df.market)\n",
    "df.category_list = pd.Categorical(df.category_list)\n",
    "df.region = pd.Categorical(df.region)\n",
    "df.country_code = pd.Categorical(df.country_code)\n"
   ]
  },
  {
   "cell_type": "markdown",
   "metadata": {
    "id": "i9yCgjnrcng5"
   },
   "source": [
    "Our dataset has columns associated with dates and time. When we load our dataset, these values are generally of `str`, `numerical`, or an object type. For future applications when we are slicing our dataframe, or when we want to group by these time slices we need these columns to be of `datetime` type."
   ]
  },
  {
   "cell_type": "code",
   "execution_count": null,
   "metadata": {
    "id": "IeTHeJ3YnzZK"
   },
   "outputs": [],
   "source": [
    "df.last_funding_at = pd.to_datetime(df.last_funding_at, errors = 'coerce')\n",
    "df.first_funding_at = pd.to_datetime(df.first_funding_at, errors = 'coerce')\n",
    "df.founded_at = pd.to_datetime(df.founded_at, errors = 'coerce')"
   ]
  },
  {
   "cell_type": "markdown",
   "metadata": {
    "id": "Bo9djiu8t0v3"
   },
   "source": [
    "As discussed before, `total_funding_usd` column, as the name suggests, is a column that should have a numeric value. However, when we look closer we realize that the observations with **0** total investments are represented by ` -   `, we need to replace these with numerical values as well."
   ]
  },
  {
   "cell_type": "code",
   "execution_count": null,
   "metadata": {
    "id": "VHS8LjVh0LkD"
   },
   "outputs": [],
   "source": [
    "df.funding_total_usd = df.funding_total_usd.replace(\" -   \", 0)\n",
    "df.funding_total_usd = pd.to_numeric(df.funding_total_usd)"
   ]
  },
  {
   "cell_type": "markdown",
   "metadata": {
    "id": "XfwvIcDSePDC"
   },
   "source": [
    "# Analysis"
   ]
  },
  {
   "cell_type": "markdown",
   "metadata": {
    "id": "ShmriRw5SZwT"
   },
   "source": [
    "## The timing of start-ups\n",
    "Given that the term \"start-up\" was first used in the early 1980s, any data prior to 1980 is not relevant to the current understanding of the term. For example, the context of the business landscape and the goals of entrepreneurs have changed significantly since 1980, and therefore it is important to take into account only data from this time period when looking at start-ups. Removing data from before 1980 ensures that the analysis is focused on start-ups as they are currently understood."
   ]
  },
  {
   "cell_type": "code",
   "execution_count": null,
   "metadata": {
    "id": "6ucx7NCZSa9g"
   },
   "outputs": [],
   "source": [
    "df = df[df[\"founded_at\"] > \"1980-01-01\"]"
   ]
  },
  {
   "cell_type": "markdown",
   "metadata": {
    "id": "_kLnVVW1us42"
   },
   "source": [
    "Out of the start-ups with available information about their status (whether they are still operating, acquired, or closed) `86.9%` have been operating, `7.67%` have been acquired, and `5.41%` have been closed."
   ]
  },
  {
   "cell_type": "code",
   "execution_count": null,
   "metadata": {
    "id": "u1PpCXS98Pv8"
   },
   "outputs": [],
   "source": [
    "count_status = dict(df.groupby(\"status\").count().name)"
   ]
  },
  {
   "cell_type": "code",
   "execution_count": null,
   "metadata": {
    "id": "KBTNg2PV6oNY"
   },
   "outputs": [],
   "source": [
    "# plt.pie(count_status.values(), labels=count_status.keys(), autopct='%1.1f%%')\n",
    "# plt.show()"
   ]
  },
  {
   "cell_type": "code",
   "execution_count": null,
   "metadata": {
    "colab": {
     "base_uri": "https://localhost:8080/",
     "height": 542
    },
    "id": "kbjyjuhkMRTq",
    "outputId": "afbd3e10-d94d-4f57-c8f9-f60d2d93d9e4"
   },
   "outputs": [
    {
     "data": {
      "text/html": [
       "<html>\n",
       "<head><meta charset=\"utf-8\" /></head>\n",
       "<body>\n",
       "    <div>            <script src=\"https://cdnjs.cloudflare.com/ajax/libs/mathjax/2.7.5/MathJax.js?config=TeX-AMS-MML_SVG\"></script><script type=\"text/javascript\">if (window.MathJax) {MathJax.Hub.Config({SVG: {font: \"STIX-Web\"}});}</script>                <script type=\"text/javascript\">window.PlotlyConfig = {MathJaxConfig: 'local'};</script>\n",
       "        <script src=\"https://cdn.plot.ly/plotly-2.8.3.min.js\"></script>                <div id=\"c55a5ab6-fc27-4461-90ba-6160069af0c9\" class=\"plotly-graph-div\" style=\"height:525px; width:100%;\"></div>            <script type=\"text/javascript\">                                    window.PLOTLYENV=window.PLOTLYENV || {};                                    if (document.getElementById(\"c55a5ab6-fc27-4461-90ba-6160069af0c9\")) {                    Plotly.newPlot(                        \"c55a5ab6-fc27-4461-90ba-6160069af0c9\",                        [{\"domain\":{\"x\":[0.0,1.0],\"y\":[0.0,1.0]},\"hovertemplate\":\"label=%{label}<br>value=%{value}<extra></extra>\",\"labels\":[\"acquired\",\"closed\",\"operating\"],\"legendgroup\":\"\",\"name\":\"\",\"showlegend\":true,\"values\":[2941,1985,32244],\"type\":\"pie\"}],                        {\"template\":{\"data\":{\"bar\":[{\"error_x\":{\"color\":\"#2a3f5f\"},\"error_y\":{\"color\":\"#2a3f5f\"},\"marker\":{\"line\":{\"color\":\"#E5ECF6\",\"width\":0.5},\"pattern\":{\"fillmode\":\"overlay\",\"size\":10,\"solidity\":0.2}},\"type\":\"bar\"}],\"barpolar\":[{\"marker\":{\"line\":{\"color\":\"#E5ECF6\",\"width\":0.5},\"pattern\":{\"fillmode\":\"overlay\",\"size\":10,\"solidity\":0.2}},\"type\":\"barpolar\"}],\"carpet\":[{\"aaxis\":{\"endlinecolor\":\"#2a3f5f\",\"gridcolor\":\"white\",\"linecolor\":\"white\",\"minorgridcolor\":\"white\",\"startlinecolor\":\"#2a3f5f\"},\"baxis\":{\"endlinecolor\":\"#2a3f5f\",\"gridcolor\":\"white\",\"linecolor\":\"white\",\"minorgridcolor\":\"white\",\"startlinecolor\":\"#2a3f5f\"},\"type\":\"carpet\"}],\"choropleth\":[{\"colorbar\":{\"outlinewidth\":0,\"ticks\":\"\"},\"type\":\"choropleth\"}],\"contour\":[{\"colorbar\":{\"outlinewidth\":0,\"ticks\":\"\"},\"colorscale\":[[0.0,\"#0d0887\"],[0.1111111111111111,\"#46039f\"],[0.2222222222222222,\"#7201a8\"],[0.3333333333333333,\"#9c179e\"],[0.4444444444444444,\"#bd3786\"],[0.5555555555555556,\"#d8576b\"],[0.6666666666666666,\"#ed7953\"],[0.7777777777777778,\"#fb9f3a\"],[0.8888888888888888,\"#fdca26\"],[1.0,\"#f0f921\"]],\"type\":\"contour\"}],\"contourcarpet\":[{\"colorbar\":{\"outlinewidth\":0,\"ticks\":\"\"},\"type\":\"contourcarpet\"}],\"heatmap\":[{\"colorbar\":{\"outlinewidth\":0,\"ticks\":\"\"},\"colorscale\":[[0.0,\"#0d0887\"],[0.1111111111111111,\"#46039f\"],[0.2222222222222222,\"#7201a8\"],[0.3333333333333333,\"#9c179e\"],[0.4444444444444444,\"#bd3786\"],[0.5555555555555556,\"#d8576b\"],[0.6666666666666666,\"#ed7953\"],[0.7777777777777778,\"#fb9f3a\"],[0.8888888888888888,\"#fdca26\"],[1.0,\"#f0f921\"]],\"type\":\"heatmap\"}],\"heatmapgl\":[{\"colorbar\":{\"outlinewidth\":0,\"ticks\":\"\"},\"colorscale\":[[0.0,\"#0d0887\"],[0.1111111111111111,\"#46039f\"],[0.2222222222222222,\"#7201a8\"],[0.3333333333333333,\"#9c179e\"],[0.4444444444444444,\"#bd3786\"],[0.5555555555555556,\"#d8576b\"],[0.6666666666666666,\"#ed7953\"],[0.7777777777777778,\"#fb9f3a\"],[0.8888888888888888,\"#fdca26\"],[1.0,\"#f0f921\"]],\"type\":\"heatmapgl\"}],\"histogram\":[{\"marker\":{\"pattern\":{\"fillmode\":\"overlay\",\"size\":10,\"solidity\":0.2}},\"type\":\"histogram\"}],\"histogram2d\":[{\"colorbar\":{\"outlinewidth\":0,\"ticks\":\"\"},\"colorscale\":[[0.0,\"#0d0887\"],[0.1111111111111111,\"#46039f\"],[0.2222222222222222,\"#7201a8\"],[0.3333333333333333,\"#9c179e\"],[0.4444444444444444,\"#bd3786\"],[0.5555555555555556,\"#d8576b\"],[0.6666666666666666,\"#ed7953\"],[0.7777777777777778,\"#fb9f3a\"],[0.8888888888888888,\"#fdca26\"],[1.0,\"#f0f921\"]],\"type\":\"histogram2d\"}],\"histogram2dcontour\":[{\"colorbar\":{\"outlinewidth\":0,\"ticks\":\"\"},\"colorscale\":[[0.0,\"#0d0887\"],[0.1111111111111111,\"#46039f\"],[0.2222222222222222,\"#7201a8\"],[0.3333333333333333,\"#9c179e\"],[0.4444444444444444,\"#bd3786\"],[0.5555555555555556,\"#d8576b\"],[0.6666666666666666,\"#ed7953\"],[0.7777777777777778,\"#fb9f3a\"],[0.8888888888888888,\"#fdca26\"],[1.0,\"#f0f921\"]],\"type\":\"histogram2dcontour\"}],\"mesh3d\":[{\"colorbar\":{\"outlinewidth\":0,\"ticks\":\"\"},\"type\":\"mesh3d\"}],\"parcoords\":[{\"line\":{\"colorbar\":{\"outlinewidth\":0,\"ticks\":\"\"}},\"type\":\"parcoords\"}],\"pie\":[{\"automargin\":true,\"type\":\"pie\"}],\"scatter\":[{\"marker\":{\"colorbar\":{\"outlinewidth\":0,\"ticks\":\"\"}},\"type\":\"scatter\"}],\"scatter3d\":[{\"line\":{\"colorbar\":{\"outlinewidth\":0,\"ticks\":\"\"}},\"marker\":{\"colorbar\":{\"outlinewidth\":0,\"ticks\":\"\"}},\"type\":\"scatter3d\"}],\"scattercarpet\":[{\"marker\":{\"colorbar\":{\"outlinewidth\":0,\"ticks\":\"\"}},\"type\":\"scattercarpet\"}],\"scattergeo\":[{\"marker\":{\"colorbar\":{\"outlinewidth\":0,\"ticks\":\"\"}},\"type\":\"scattergeo\"}],\"scattergl\":[{\"marker\":{\"colorbar\":{\"outlinewidth\":0,\"ticks\":\"\"}},\"type\":\"scattergl\"}],\"scattermapbox\":[{\"marker\":{\"colorbar\":{\"outlinewidth\":0,\"ticks\":\"\"}},\"type\":\"scattermapbox\"}],\"scatterpolar\":[{\"marker\":{\"colorbar\":{\"outlinewidth\":0,\"ticks\":\"\"}},\"type\":\"scatterpolar\"}],\"scatterpolargl\":[{\"marker\":{\"colorbar\":{\"outlinewidth\":0,\"ticks\":\"\"}},\"type\":\"scatterpolargl\"}],\"scatterternary\":[{\"marker\":{\"colorbar\":{\"outlinewidth\":0,\"ticks\":\"\"}},\"type\":\"scatterternary\"}],\"surface\":[{\"colorbar\":{\"outlinewidth\":0,\"ticks\":\"\"},\"colorscale\":[[0.0,\"#0d0887\"],[0.1111111111111111,\"#46039f\"],[0.2222222222222222,\"#7201a8\"],[0.3333333333333333,\"#9c179e\"],[0.4444444444444444,\"#bd3786\"],[0.5555555555555556,\"#d8576b\"],[0.6666666666666666,\"#ed7953\"],[0.7777777777777778,\"#fb9f3a\"],[0.8888888888888888,\"#fdca26\"],[1.0,\"#f0f921\"]],\"type\":\"surface\"}],\"table\":[{\"cells\":{\"fill\":{\"color\":\"#EBF0F8\"},\"line\":{\"color\":\"white\"}},\"header\":{\"fill\":{\"color\":\"#C8D4E3\"},\"line\":{\"color\":\"white\"}},\"type\":\"table\"}]},\"layout\":{\"annotationdefaults\":{\"arrowcolor\":\"#2a3f5f\",\"arrowhead\":0,\"arrowwidth\":1},\"autotypenumbers\":\"strict\",\"coloraxis\":{\"colorbar\":{\"outlinewidth\":0,\"ticks\":\"\"}},\"colorscale\":{\"diverging\":[[0,\"#8e0152\"],[0.1,\"#c51b7d\"],[0.2,\"#de77ae\"],[0.3,\"#f1b6da\"],[0.4,\"#fde0ef\"],[0.5,\"#f7f7f7\"],[0.6,\"#e6f5d0\"],[0.7,\"#b8e186\"],[0.8,\"#7fbc41\"],[0.9,\"#4d9221\"],[1,\"#276419\"]],\"sequential\":[[0.0,\"#0d0887\"],[0.1111111111111111,\"#46039f\"],[0.2222222222222222,\"#7201a8\"],[0.3333333333333333,\"#9c179e\"],[0.4444444444444444,\"#bd3786\"],[0.5555555555555556,\"#d8576b\"],[0.6666666666666666,\"#ed7953\"],[0.7777777777777778,\"#fb9f3a\"],[0.8888888888888888,\"#fdca26\"],[1.0,\"#f0f921\"]],\"sequentialminus\":[[0.0,\"#0d0887\"],[0.1111111111111111,\"#46039f\"],[0.2222222222222222,\"#7201a8\"],[0.3333333333333333,\"#9c179e\"],[0.4444444444444444,\"#bd3786\"],[0.5555555555555556,\"#d8576b\"],[0.6666666666666666,\"#ed7953\"],[0.7777777777777778,\"#fb9f3a\"],[0.8888888888888888,\"#fdca26\"],[1.0,\"#f0f921\"]]},\"colorway\":[\"#636efa\",\"#EF553B\",\"#00cc96\",\"#ab63fa\",\"#FFA15A\",\"#19d3f3\",\"#FF6692\",\"#B6E880\",\"#FF97FF\",\"#FECB52\"],\"font\":{\"color\":\"#2a3f5f\"},\"geo\":{\"bgcolor\":\"white\",\"lakecolor\":\"white\",\"landcolor\":\"#E5ECF6\",\"showlakes\":true,\"showland\":true,\"subunitcolor\":\"white\"},\"hoverlabel\":{\"align\":\"left\"},\"hovermode\":\"closest\",\"mapbox\":{\"style\":\"light\"},\"paper_bgcolor\":\"white\",\"plot_bgcolor\":\"#E5ECF6\",\"polar\":{\"angularaxis\":{\"gridcolor\":\"white\",\"linecolor\":\"white\",\"ticks\":\"\"},\"bgcolor\":\"#E5ECF6\",\"radialaxis\":{\"gridcolor\":\"white\",\"linecolor\":\"white\",\"ticks\":\"\"}},\"scene\":{\"xaxis\":{\"backgroundcolor\":\"#E5ECF6\",\"gridcolor\":\"white\",\"gridwidth\":2,\"linecolor\":\"white\",\"showbackground\":true,\"ticks\":\"\",\"zerolinecolor\":\"white\"},\"yaxis\":{\"backgroundcolor\":\"#E5ECF6\",\"gridcolor\":\"white\",\"gridwidth\":2,\"linecolor\":\"white\",\"showbackground\":true,\"ticks\":\"\",\"zerolinecolor\":\"white\"},\"zaxis\":{\"backgroundcolor\":\"#E5ECF6\",\"gridcolor\":\"white\",\"gridwidth\":2,\"linecolor\":\"white\",\"showbackground\":true,\"ticks\":\"\",\"zerolinecolor\":\"white\"}},\"shapedefaults\":{\"line\":{\"color\":\"#2a3f5f\"}},\"ternary\":{\"aaxis\":{\"gridcolor\":\"white\",\"linecolor\":\"white\",\"ticks\":\"\"},\"baxis\":{\"gridcolor\":\"white\",\"linecolor\":\"white\",\"ticks\":\"\"},\"bgcolor\":\"#E5ECF6\",\"caxis\":{\"gridcolor\":\"white\",\"linecolor\":\"white\",\"ticks\":\"\"}},\"title\":{\"x\":0.05},\"xaxis\":{\"automargin\":true,\"gridcolor\":\"white\",\"linecolor\":\"white\",\"ticks\":\"\",\"title\":{\"standoff\":15},\"zerolinecolor\":\"white\",\"zerolinewidth\":2},\"yaxis\":{\"automargin\":true,\"gridcolor\":\"white\",\"linecolor\":\"white\",\"ticks\":\"\",\"title\":{\"standoff\":15},\"zerolinecolor\":\"white\",\"zerolinewidth\":2}}},\"legend\":{\"tracegroupgap\":0},\"title\":{\"text\":\"Population of European continent\"}},                        {\"responsive\": true}                    ).then(function(){\n",
       "                            \n",
       "var gd = document.getElementById('c55a5ab6-fc27-4461-90ba-6160069af0c9');\n",
       "var x = new MutationObserver(function (mutations, observer) {{\n",
       "        var display = window.getComputedStyle(gd).display;\n",
       "        if (!display || display === 'none') {{\n",
       "            console.log([gd, 'removed!']);\n",
       "            Plotly.purge(gd);\n",
       "            observer.disconnect();\n",
       "        }}\n",
       "}});\n",
       "\n",
       "// Listen for the removal of the full notebook cells\n",
       "var notebookContainer = gd.closest('#notebook-container');\n",
       "if (notebookContainer) {{\n",
       "    x.observe(notebookContainer, {childList: true});\n",
       "}}\n",
       "\n",
       "// Listen for the clearing of the current output cell\n",
       "var outputEl = gd.closest('.output');\n",
       "if (outputEl) {{\n",
       "    x.observe(outputEl, {childList: true});\n",
       "}}\n",
       "\n",
       "                        })                };                            </script>        </div>\n",
       "</body>\n",
       "</html>"
      ]
     },
     "metadata": {},
     "output_type": "display_data"
    }
   ],
   "source": [
    "import plotly.express as px\n",
    "\n",
    "fig = px.pie(values=count_status.values(), names=count_status.keys(), title='Population of European continent')\n",
    "\n",
    "fig.show()"
   ]
  },
  {
   "cell_type": "code",
   "execution_count": null,
   "metadata": {
    "id": "hhRhjqxoItrt"
   },
   "outputs": [],
   "source": [
    "new_df = df.copy()"
   ]
  },
  {
   "cell_type": "markdown",
   "metadata": {
    "id": "P6v_Tut5gMYk"
   },
   "source": [
    "## Average funding per status"
   ]
  },
  {
   "cell_type": "markdown",
   "metadata": {
    "id": "EW0o0SPgKPZ6"
   },
   "source": [
    "Start-ups that are acquired by bigger businesses receive a different level of funding from investors compared to start-ups that are still operating without being acquired or failing. The figure below shows explicitly that acquired start-ups received approximately twice the funding of operating start-ups and thrice the closed ones. "
   ]
  },
  {
   "cell_type": "code",
   "execution_count": null,
   "metadata": {
    "id": "Nx1teknZ0xCy"
   },
   "outputs": [],
   "source": [
    "averageFundingPerStatus =df.groupby(\"status\").mean().funding_total_usd"
   ]
  },
  {
   "cell_type": "code",
   "execution_count": null,
   "metadata": {
    "colab": {
     "base_uri": "https://localhost:8080/",
     "height": 542
    },
    "id": "qgRaz0JWvK7g",
    "outputId": "4fee0a8d-63bd-4e82-cd28-78e625ea33ac"
   },
   "outputs": [
    {
     "data": {
      "text/html": [
       "<html>\n",
       "<head><meta charset=\"utf-8\" /></head>\n",
       "<body>\n",
       "    <div>            <script src=\"https://cdnjs.cloudflare.com/ajax/libs/mathjax/2.7.5/MathJax.js?config=TeX-AMS-MML_SVG\"></script><script type=\"text/javascript\">if (window.MathJax) {MathJax.Hub.Config({SVG: {font: \"STIX-Web\"}});}</script>                <script type=\"text/javascript\">window.PlotlyConfig = {MathJaxConfig: 'local'};</script>\n",
       "        <script src=\"https://cdn.plot.ly/plotly-2.8.3.min.js\"></script>                <div id=\"845efe99-6864-40b1-b2e7-88caddd9f0b7\" class=\"plotly-graph-div\" style=\"height:525px; width:100%;\"></div>            <script type=\"text/javascript\">                                    window.PLOTLYENV=window.PLOTLYENV || {};                                    if (document.getElementById(\"845efe99-6864-40b1-b2e7-88caddd9f0b7\")) {                    Plotly.newPlot(                        \"845efe99-6864-40b1-b2e7-88caddd9f0b7\",                        [{\"alignmentgroup\":\"True\",\"hovertemplate\":\"Start-up Status=%{x}<br>Total funding in USD=%{y}<extra></extra>\",\"legendgroup\":\"\",\"marker\":{\"color\":\"#636efa\",\"pattern\":{\"shape\":\"\"}},\"name\":\"\",\"offsetgroup\":\"\",\"orientation\":\"v\",\"showlegend\":false,\"textposition\":\"auto\",\"x\":[\"acquired\",\"closed\",\"operating\"],\"xaxis\":\"x\",\"y\":[21207964.645358723,6134882.858509567,13312525.085349211],\"yaxis\":\"y\",\"type\":\"bar\"}],                        {\"template\":{\"data\":{\"bar\":[{\"error_x\":{\"color\":\"#2a3f5f\"},\"error_y\":{\"color\":\"#2a3f5f\"},\"marker\":{\"line\":{\"color\":\"#E5ECF6\",\"width\":0.5},\"pattern\":{\"fillmode\":\"overlay\",\"size\":10,\"solidity\":0.2}},\"type\":\"bar\"}],\"barpolar\":[{\"marker\":{\"line\":{\"color\":\"#E5ECF6\",\"width\":0.5},\"pattern\":{\"fillmode\":\"overlay\",\"size\":10,\"solidity\":0.2}},\"type\":\"barpolar\"}],\"carpet\":[{\"aaxis\":{\"endlinecolor\":\"#2a3f5f\",\"gridcolor\":\"white\",\"linecolor\":\"white\",\"minorgridcolor\":\"white\",\"startlinecolor\":\"#2a3f5f\"},\"baxis\":{\"endlinecolor\":\"#2a3f5f\",\"gridcolor\":\"white\",\"linecolor\":\"white\",\"minorgridcolor\":\"white\",\"startlinecolor\":\"#2a3f5f\"},\"type\":\"carpet\"}],\"choropleth\":[{\"colorbar\":{\"outlinewidth\":0,\"ticks\":\"\"},\"type\":\"choropleth\"}],\"contour\":[{\"colorbar\":{\"outlinewidth\":0,\"ticks\":\"\"},\"colorscale\":[[0.0,\"#0d0887\"],[0.1111111111111111,\"#46039f\"],[0.2222222222222222,\"#7201a8\"],[0.3333333333333333,\"#9c179e\"],[0.4444444444444444,\"#bd3786\"],[0.5555555555555556,\"#d8576b\"],[0.6666666666666666,\"#ed7953\"],[0.7777777777777778,\"#fb9f3a\"],[0.8888888888888888,\"#fdca26\"],[1.0,\"#f0f921\"]],\"type\":\"contour\"}],\"contourcarpet\":[{\"colorbar\":{\"outlinewidth\":0,\"ticks\":\"\"},\"type\":\"contourcarpet\"}],\"heatmap\":[{\"colorbar\":{\"outlinewidth\":0,\"ticks\":\"\"},\"colorscale\":[[0.0,\"#0d0887\"],[0.1111111111111111,\"#46039f\"],[0.2222222222222222,\"#7201a8\"],[0.3333333333333333,\"#9c179e\"],[0.4444444444444444,\"#bd3786\"],[0.5555555555555556,\"#d8576b\"],[0.6666666666666666,\"#ed7953\"],[0.7777777777777778,\"#fb9f3a\"],[0.8888888888888888,\"#fdca26\"],[1.0,\"#f0f921\"]],\"type\":\"heatmap\"}],\"heatmapgl\":[{\"colorbar\":{\"outlinewidth\":0,\"ticks\":\"\"},\"colorscale\":[[0.0,\"#0d0887\"],[0.1111111111111111,\"#46039f\"],[0.2222222222222222,\"#7201a8\"],[0.3333333333333333,\"#9c179e\"],[0.4444444444444444,\"#bd3786\"],[0.5555555555555556,\"#d8576b\"],[0.6666666666666666,\"#ed7953\"],[0.7777777777777778,\"#fb9f3a\"],[0.8888888888888888,\"#fdca26\"],[1.0,\"#f0f921\"]],\"type\":\"heatmapgl\"}],\"histogram\":[{\"marker\":{\"pattern\":{\"fillmode\":\"overlay\",\"size\":10,\"solidity\":0.2}},\"type\":\"histogram\"}],\"histogram2d\":[{\"colorbar\":{\"outlinewidth\":0,\"ticks\":\"\"},\"colorscale\":[[0.0,\"#0d0887\"],[0.1111111111111111,\"#46039f\"],[0.2222222222222222,\"#7201a8\"],[0.3333333333333333,\"#9c179e\"],[0.4444444444444444,\"#bd3786\"],[0.5555555555555556,\"#d8576b\"],[0.6666666666666666,\"#ed7953\"],[0.7777777777777778,\"#fb9f3a\"],[0.8888888888888888,\"#fdca26\"],[1.0,\"#f0f921\"]],\"type\":\"histogram2d\"}],\"histogram2dcontour\":[{\"colorbar\":{\"outlinewidth\":0,\"ticks\":\"\"},\"colorscale\":[[0.0,\"#0d0887\"],[0.1111111111111111,\"#46039f\"],[0.2222222222222222,\"#7201a8\"],[0.3333333333333333,\"#9c179e\"],[0.4444444444444444,\"#bd3786\"],[0.5555555555555556,\"#d8576b\"],[0.6666666666666666,\"#ed7953\"],[0.7777777777777778,\"#fb9f3a\"],[0.8888888888888888,\"#fdca26\"],[1.0,\"#f0f921\"]],\"type\":\"histogram2dcontour\"}],\"mesh3d\":[{\"colorbar\":{\"outlinewidth\":0,\"ticks\":\"\"},\"type\":\"mesh3d\"}],\"parcoords\":[{\"line\":{\"colorbar\":{\"outlinewidth\":0,\"ticks\":\"\"}},\"type\":\"parcoords\"}],\"pie\":[{\"automargin\":true,\"type\":\"pie\"}],\"scatter\":[{\"marker\":{\"colorbar\":{\"outlinewidth\":0,\"ticks\":\"\"}},\"type\":\"scatter\"}],\"scatter3d\":[{\"line\":{\"colorbar\":{\"outlinewidth\":0,\"ticks\":\"\"}},\"marker\":{\"colorbar\":{\"outlinewidth\":0,\"ticks\":\"\"}},\"type\":\"scatter3d\"}],\"scattercarpet\":[{\"marker\":{\"colorbar\":{\"outlinewidth\":0,\"ticks\":\"\"}},\"type\":\"scattercarpet\"}],\"scattergeo\":[{\"marker\":{\"colorbar\":{\"outlinewidth\":0,\"ticks\":\"\"}},\"type\":\"scattergeo\"}],\"scattergl\":[{\"marker\":{\"colorbar\":{\"outlinewidth\":0,\"ticks\":\"\"}},\"type\":\"scattergl\"}],\"scattermapbox\":[{\"marker\":{\"colorbar\":{\"outlinewidth\":0,\"ticks\":\"\"}},\"type\":\"scattermapbox\"}],\"scatterpolar\":[{\"marker\":{\"colorbar\":{\"outlinewidth\":0,\"ticks\":\"\"}},\"type\":\"scatterpolar\"}],\"scatterpolargl\":[{\"marker\":{\"colorbar\":{\"outlinewidth\":0,\"ticks\":\"\"}},\"type\":\"scatterpolargl\"}],\"scatterternary\":[{\"marker\":{\"colorbar\":{\"outlinewidth\":0,\"ticks\":\"\"}},\"type\":\"scatterternary\"}],\"surface\":[{\"colorbar\":{\"outlinewidth\":0,\"ticks\":\"\"},\"colorscale\":[[0.0,\"#0d0887\"],[0.1111111111111111,\"#46039f\"],[0.2222222222222222,\"#7201a8\"],[0.3333333333333333,\"#9c179e\"],[0.4444444444444444,\"#bd3786\"],[0.5555555555555556,\"#d8576b\"],[0.6666666666666666,\"#ed7953\"],[0.7777777777777778,\"#fb9f3a\"],[0.8888888888888888,\"#fdca26\"],[1.0,\"#f0f921\"]],\"type\":\"surface\"}],\"table\":[{\"cells\":{\"fill\":{\"color\":\"#EBF0F8\"},\"line\":{\"color\":\"white\"}},\"header\":{\"fill\":{\"color\":\"#C8D4E3\"},\"line\":{\"color\":\"white\"}},\"type\":\"table\"}]},\"layout\":{\"annotationdefaults\":{\"arrowcolor\":\"#2a3f5f\",\"arrowhead\":0,\"arrowwidth\":1},\"autotypenumbers\":\"strict\",\"coloraxis\":{\"colorbar\":{\"outlinewidth\":0,\"ticks\":\"\"}},\"colorscale\":{\"diverging\":[[0,\"#8e0152\"],[0.1,\"#c51b7d\"],[0.2,\"#de77ae\"],[0.3,\"#f1b6da\"],[0.4,\"#fde0ef\"],[0.5,\"#f7f7f7\"],[0.6,\"#e6f5d0\"],[0.7,\"#b8e186\"],[0.8,\"#7fbc41\"],[0.9,\"#4d9221\"],[1,\"#276419\"]],\"sequential\":[[0.0,\"#0d0887\"],[0.1111111111111111,\"#46039f\"],[0.2222222222222222,\"#7201a8\"],[0.3333333333333333,\"#9c179e\"],[0.4444444444444444,\"#bd3786\"],[0.5555555555555556,\"#d8576b\"],[0.6666666666666666,\"#ed7953\"],[0.7777777777777778,\"#fb9f3a\"],[0.8888888888888888,\"#fdca26\"],[1.0,\"#f0f921\"]],\"sequentialminus\":[[0.0,\"#0d0887\"],[0.1111111111111111,\"#46039f\"],[0.2222222222222222,\"#7201a8\"],[0.3333333333333333,\"#9c179e\"],[0.4444444444444444,\"#bd3786\"],[0.5555555555555556,\"#d8576b\"],[0.6666666666666666,\"#ed7953\"],[0.7777777777777778,\"#fb9f3a\"],[0.8888888888888888,\"#fdca26\"],[1.0,\"#f0f921\"]]},\"colorway\":[\"#636efa\",\"#EF553B\",\"#00cc96\",\"#ab63fa\",\"#FFA15A\",\"#19d3f3\",\"#FF6692\",\"#B6E880\",\"#FF97FF\",\"#FECB52\"],\"font\":{\"color\":\"#2a3f5f\"},\"geo\":{\"bgcolor\":\"white\",\"lakecolor\":\"white\",\"landcolor\":\"#E5ECF6\",\"showlakes\":true,\"showland\":true,\"subunitcolor\":\"white\"},\"hoverlabel\":{\"align\":\"left\"},\"hovermode\":\"closest\",\"mapbox\":{\"style\":\"light\"},\"paper_bgcolor\":\"white\",\"plot_bgcolor\":\"#E5ECF6\",\"polar\":{\"angularaxis\":{\"gridcolor\":\"white\",\"linecolor\":\"white\",\"ticks\":\"\"},\"bgcolor\":\"#E5ECF6\",\"radialaxis\":{\"gridcolor\":\"white\",\"linecolor\":\"white\",\"ticks\":\"\"}},\"scene\":{\"xaxis\":{\"backgroundcolor\":\"#E5ECF6\",\"gridcolor\":\"white\",\"gridwidth\":2,\"linecolor\":\"white\",\"showbackground\":true,\"ticks\":\"\",\"zerolinecolor\":\"white\"},\"yaxis\":{\"backgroundcolor\":\"#E5ECF6\",\"gridcolor\":\"white\",\"gridwidth\":2,\"linecolor\":\"white\",\"showbackground\":true,\"ticks\":\"\",\"zerolinecolor\":\"white\"},\"zaxis\":{\"backgroundcolor\":\"#E5ECF6\",\"gridcolor\":\"white\",\"gridwidth\":2,\"linecolor\":\"white\",\"showbackground\":true,\"ticks\":\"\",\"zerolinecolor\":\"white\"}},\"shapedefaults\":{\"line\":{\"color\":\"#2a3f5f\"}},\"ternary\":{\"aaxis\":{\"gridcolor\":\"white\",\"linecolor\":\"white\",\"ticks\":\"\"},\"baxis\":{\"gridcolor\":\"white\",\"linecolor\":\"white\",\"ticks\":\"\"},\"bgcolor\":\"#E5ECF6\",\"caxis\":{\"gridcolor\":\"white\",\"linecolor\":\"white\",\"ticks\":\"\"}},\"title\":{\"x\":0.05},\"xaxis\":{\"automargin\":true,\"gridcolor\":\"white\",\"linecolor\":\"white\",\"ticks\":\"\",\"title\":{\"standoff\":15},\"zerolinecolor\":\"white\",\"zerolinewidth\":2},\"yaxis\":{\"automargin\":true,\"gridcolor\":\"white\",\"linecolor\":\"white\",\"ticks\":\"\",\"title\":{\"standoff\":15},\"zerolinecolor\":\"white\",\"zerolinewidth\":2}}},\"xaxis\":{\"anchor\":\"y\",\"domain\":[0.0,1.0],\"title\":{\"text\":\"Start-up Status\"}},\"yaxis\":{\"anchor\":\"x\",\"domain\":[0.0,1.0],\"title\":{\"text\":\"Total funding in USD\"}},\"legend\":{\"tracegroupgap\":0},\"title\":{\"text\":\"Average funding per start-up status\"},\"barmode\":\"relative\"},                        {\"responsive\": true}                    ).then(function(){\n",
       "                            \n",
       "var gd = document.getElementById('845efe99-6864-40b1-b2e7-88caddd9f0b7');\n",
       "var x = new MutationObserver(function (mutations, observer) {{\n",
       "        var display = window.getComputedStyle(gd).display;\n",
       "        if (!display || display === 'none') {{\n",
       "            console.log([gd, 'removed!']);\n",
       "            Plotly.purge(gd);\n",
       "            observer.disconnect();\n",
       "        }}\n",
       "}});\n",
       "\n",
       "// Listen for the removal of the full notebook cells\n",
       "var notebookContainer = gd.closest('#notebook-container');\n",
       "if (notebookContainer) {{\n",
       "    x.observe(notebookContainer, {childList: true});\n",
       "}}\n",
       "\n",
       "// Listen for the clearing of the current output cell\n",
       "var outputEl = gd.closest('.output');\n",
       "if (outputEl) {{\n",
       "    x.observe(outputEl, {childList: true});\n",
       "}}\n",
       "\n",
       "                        })                };                            </script>        </div>\n",
       "</body>\n",
       "</html>"
      ]
     },
     "metadata": {},
     "output_type": "display_data"
    }
   ],
   "source": [
    "import plotly.express as px\n",
    "\n",
    "fig = px.bar(x= ['acquired', 'closed', 'operating'], y= averageFundingPerStatus, title=\"Average funding per start-up status\", labels={'x':'Start-up Status', 'y':'Total funding in USD'})\n",
    "fig.show()"
   ]
  },
  {
   "cell_type": "markdown",
   "metadata": {
    "id": "xWRzHdN1QQdw"
   },
   "source": [
    "### Are these means significantly different?\n",
    "When testing the mean of two populations, it is important to remember that every test has its own assumptions. In the case of the `t-test`, the assumptions are that the samples are independent, normally distributed, have equal variances, and are randomly selected from the population. If any of these assumptions are violated, the results of the t-test may be invalid.\n",
    "\n",
    "In such cases, an appropriate alternative test is the non-parametric `Mann-Whitney U test`. This test does not assume any underlying distributions and does not require equal variances. To perform the Mann-Whitney U test, one must first calculate the ranks of the data in the two populations, then calculate the Mann-Whitney U statistic, and finally compare the U statistic to the critical value at a given significance level. If the calculated U statistic is greater than the critical value, then the null hypothesis is rejected, and the means of the two populations are significantly different.\n",
    "\n",
    "Below, we would first check the assumptions of t-test before running it. Since these assumptions are violated using different tests such as `Shapiro-Wilk test`, `Levene test`, and `Wilcoxon rank-sum test`, we would turn our attentoin to an alternative non-parametric method introduced before."
   ]
  },
  {
   "cell_type": "code",
   "execution_count": null,
   "metadata": {
    "id": "aHe_oJUBX7k4"
   },
   "outputs": [],
   "source": [
    "total_funding_acquired = list(df[df[\"status\"] == \"acquired\"][\"funding_total_usd\"])\n",
    "total_funding_operating = list(df[df[\"status\"] == \"operating\"][\"funding_total_usd\"])\n",
    "total_funding_closed = list(df[df[\"status\"] == \"closed\"][\"funding_total_usd\"])"
   ]
  },
  {
   "cell_type": "code",
   "execution_count": null,
   "metadata": {
    "colab": {
     "base_uri": "https://localhost:8080/"
    },
    "id": "9jnEPZKJX9OB",
    "outputId": "2f6cbbc3-99c6-4f97-b46b-0214c28d65e5"
   },
   "outputs": [
    {
     "name": "stdout",
     "output_type": "stream",
     "text": [
      "Shapiro-Wilk Statistic: 0.09239739179611206\n",
      "Shapiro-Wilk p-value: 0.0\n",
      "The two sample are NOT normally distributed with a 95% confidence significance level\n",
      "\n",
      "Levene Statistic: 3.3607505855683955\n",
      "Levene p-value: 0.06677607423625867\n",
      "The two sample are independent with a 95% confidence significance level\n",
      "\n",
      "Wilcoxon rank-sum statistic: 30.249349436946474\n",
      "Wilcoxon rank-sum p-value: 5.32108421966428e-201\n",
      "The two sample are different with a 95% confidence significance level\n",
      "\n"
     ]
    }
   ],
   "source": [
    "# Define two arrays of sample data\n",
    "sample_1 = total_funding_acquired\n",
    "sample_2 = total_funding_operating\n",
    "\n",
    "# Perform the Shapiro-Wilk test for normality\n",
    "stat, p = stats.shapiro(sample_1)\n",
    "print('Shapiro-Wilk Statistic:', stat)\n",
    "print('Shapiro-Wilk p-value:', p)\n",
    "\n",
    "shapiro_flag = True\n",
    "if p < 0.05:\n",
    "  print(\"The two sample are NOT normally distributed with a 95% confidence significance level\\n\")\n",
    "  shapiro_flag = False\n",
    "else:\n",
    "  print(\"The two sample are normally distributed with a 95% confidence significance level\\n\")\n",
    "\n",
    "# Perform the Levene test for equal variance\n",
    "stat, p = stats.levene(sample_1, sample_2)\n",
    "print('Levene Statistic:', stat)\n",
    "print('Levene p-value:', p)\n",
    "\n",
    "levene_flag = True\n",
    "if p < 0.05:\n",
    "  print(\"The two sample are NOT independent with a 95% confidence significance level\\n\")\n",
    "  levene_flag = False\n",
    "else:\n",
    "  print(\"The two sample are independent with a 95% confidence significance level\\n\")\n",
    "\n",
    "if levene_flag and shapiro_flag:\n",
    "  # Perform the two-sample t-test\n",
    "  t_statistic, p_value = stats.ttest_ind(sample_1, sample_2)\n",
    "  print('t-statistic:', t_statistic)\n",
    "  print('p-value:', p_value)\n",
    "\n",
    "  if p_value < 0.05:\n",
    "    print(\"The two mean are significantly different with 95% confidence\\n\")\n",
    "  else:\n",
    "    print(\"The two mean are NOT significantly different with 95% confidence\\n\")\n",
    "else:\n",
    "  # Perform the Wilcoxon rank-sum test\n",
    "  stat, p = stats.ranksums(sample_1, sample_2)\n",
    "  print('Wilcoxon rank-sum statistic:', stat)\n",
    "  print('Wilcoxon rank-sum p-value:', p)\n",
    "\n",
    "  if p < 0.05:\n",
    "    print(\"The two sample are different with a 95% confidence significance level\\n\")\n",
    "  else:\n",
    "    print(\"The two sample are NOT different with a 95% confidence significance level\\n\")"
   ]
  },
  {
   "cell_type": "code",
   "execution_count": null,
   "metadata": {
    "colab": {
     "base_uri": "https://localhost:8080/"
    },
    "id": "_hNxjCqKP1pz",
    "outputId": "056f498a-22c4-4970-8f69-b711da091a86"
   },
   "outputs": [
    {
     "name": "stdout",
     "output_type": "stream",
     "text": [
      "The means of the two populations are significantly different.\n"
     ]
    }
   ],
   "source": [
    "# perform the Mann-Whitney U test to test the means of the two populations\n",
    "statistic, pvalue = stats.mannwhitneyu(sample_1, sample_2)\n",
    "\n",
    "# interpret the results\n",
    "if pvalue < 0.05:\n",
    "\tprint('The means of the two populations are significantly different.')\n",
    "else:\n",
    "\tprint('The means of the two populations are not significantly different.')"
   ]
  },
  {
   "cell_type": "markdown",
   "metadata": {
    "id": "oJVfsFImR3sG"
   },
   "source": [
    "As a result, statisically, the mean investment on acquired start-ups is higher than the investments on operating start-ups"
   ]
  },
  {
   "cell_type": "markdown",
   "metadata": {
    "id": "TiFisu5KTg_Y"
   },
   "source": [
    "## What's the trend in number of start-ups over the span of years?\n",
    "\n",
    "The figure below illustrates how the number of start-ups grew over the years. Starting from 1989, the number of start-ups surpassed the moving average of 5 and 10 years. This trend continued exponentially until a peak in 2012 and decreased afterward. According to CBS news, the main reason for this decline is that in 2012, venture investments fell by 10%, amounting to $26.52 billion from the previous year's $29.46 billion. The total number of deals was 3,698, 6% less than the 2011 figure of 3,937. Moreover, the fourth quarter of the same year experienced a 13% drop in venture investments, amounting to $6.4 billion compared to the 2011 total of $7.38 billion. Nonetheless, the number of deals remained consistent, with 968 in the final quarter of 2012 and 2011."
   ]
  },
  {
   "cell_type": "code",
   "execution_count": null,
   "metadata": {
    "id": "3kMimgyFf8OI"
   },
   "outputs": [],
   "source": [
    "founded = dict(df.groupby([df['founded_at'].dt.year]).count().name)\n",
    "\n",
    "founded = {str(d): founded[d] for d in founded.keys()}\n",
    "\n",
    "founded = pd.DataFrame({\"year\": founded.keys(),\n",
    "           \"count\": founded.values()})"
   ]
  },
  {
   "cell_type": "code",
   "execution_count": null,
   "metadata": {
    "id": "EGHXu85L1OMR"
   },
   "outputs": [],
   "source": [
    "founded[\"Moving average 10\"] = founded[\"count\"].rolling(10).mean()\n",
    "founded[\"Moving average 5\"] = founded[\"count\"].rolling(5).mean()"
   ]
  },
  {
   "cell_type": "code",
   "execution_count": null,
   "metadata": {
    "id": "AS7wirtWgP-o"
   },
   "outputs": [],
   "source": [
    "# plt.figure(figsize= (20, 10))\n",
    "# sns.barplot(x= \"year\", y= \"count\", data= founded)\n",
    "# sns.lineplot(x= \"year\", y= \"Moving average 5\", data= founded, label=\"MA5\")\n",
    "# sns.lineplot(x= \"year\", y= \"Moving average 10\", data= founded, label=\"MA10\")\n",
    "\n",
    "# plt.ylabel(\"Number of start-ups\")\n",
    "# plt.title(\"Total numbver of start-ups founded in each year\")\n",
    "# plt.legend()\n",
    "# plt.show()"
   ]
  },
  {
   "cell_type": "code",
   "execution_count": null,
   "metadata": {
    "colab": {
     "base_uri": "https://localhost:8080/",
     "height": 542
    },
    "id": "VBL5l2dWiqkC",
    "outputId": "1990afb2-a6cb-4253-fdf4-64ce3afdacd3"
   },
   "outputs": [
    {
     "data": {
      "text/html": [
       "<html>\n",
       "<head><meta charset=\"utf-8\" /></head>\n",
       "<body>\n",
       "    <div>            <script src=\"https://cdnjs.cloudflare.com/ajax/libs/mathjax/2.7.5/MathJax.js?config=TeX-AMS-MML_SVG\"></script><script type=\"text/javascript\">if (window.MathJax) {MathJax.Hub.Config({SVG: {font: \"STIX-Web\"}});}</script>                <script type=\"text/javascript\">window.PlotlyConfig = {MathJaxConfig: 'local'};</script>\n",
       "        <script src=\"https://cdn.plot.ly/plotly-2.8.3.min.js\"></script>                <div id=\"26494cc2-24d1-41d3-bb90-314271b7f198\" class=\"plotly-graph-div\" style=\"height:525px; width:100%;\"></div>            <script type=\"text/javascript\">                                    window.PLOTLYENV=window.PLOTLYENV || {};                                    if (document.getElementById(\"26494cc2-24d1-41d3-bb90-314271b7f198\")) {                    Plotly.newPlot(                        \"26494cc2-24d1-41d3-bb90-314271b7f198\",                        [{\"marker\":{\"color\":\"#0099CC\",\"line\":{\"color\":\"#0099CC\",\"width\":1.5}},\"opacity\":0.8,\"text\":[3.0,40.0,33.0,60.0,69.0,77.0,66.0,68.0,73.0,91.0,87.0,92.0,115.0,129.0,156.0,224.0,304.0,359.0,437.0,758.0,888.0,741.0,788.0,965.0,1156.0,1418.0,1807.0,2331.0,2348.0,2979.0,3773.0,4904.0,5211.0,4044.0,1469.0],\"textposition\":\"auto\",\"x\":[\"1980\",\"1981\",\"1982\",\"1983\",\"1984\",\"1985\",\"1986\",\"1987\",\"1988\",\"1989\",\"1990\",\"1991\",\"1992\",\"1993\",\"1994\",\"1995\",\"1996\",\"1997\",\"1998\",\"1999\",\"2000\",\"2001\",\"2002\",\"2003\",\"2004\",\"2005\",\"2006\",\"2007\",\"2008\",\"2009\",\"2010\",\"2011\",\"2012\",\"2013\",\"2014\"],\"y\":[3,40,33,60,69,77,66,68,73,91,87,92,115,129,156,224,304,359,437,758,888,741,788,965,1156,1418,1807,2331,2348,2979,3773,4904,5211,4044,1469],\"type\":\"bar\"},{\"line\":{\"color\":\"#FFA500\"},\"mode\":\"lines\",\"name\":\"MA5\",\"x\":[\"1980\",\"1981\",\"1982\",\"1983\",\"1984\",\"1985\",\"1986\",\"1987\",\"1988\",\"1989\",\"1990\",\"1991\",\"1992\",\"1993\",\"1994\",\"1995\",\"1996\",\"1997\",\"1998\",\"1999\",\"2000\",\"2001\",\"2002\",\"2003\",\"2004\",\"2005\",\"2006\",\"2007\",\"2008\",\"2009\",\"2010\",\"2011\",\"2012\",\"2013\",\"2014\"],\"y\":[null,null,null,null,41.0,55.8,61.0,68.0,70.6,75.0,77.0,82.2,91.6,102.8,115.8,143.2,185.6,234.4,296.0,416.4,549.2,636.6,722.4,828.0,907.6,1013.6,1226.8,1535.4,1812.0,2176.6,2647.6,3267.0,3843.0,4182.2,3880.2],\"type\":\"scatter\"},{\"line\":{\"color\":\"#FF00FF\"},\"mode\":\"lines\",\"name\":\"MA10\",\"x\":[\"1980\",\"1981\",\"1982\",\"1983\",\"1984\",\"1985\",\"1986\",\"1987\",\"1988\",\"1989\",\"1990\",\"1991\",\"1992\",\"1993\",\"1994\",\"1995\",\"1996\",\"1997\",\"1998\",\"1999\",\"2000\",\"2001\",\"2002\",\"2003\",\"2004\",\"2005\",\"2006\",\"2007\",\"2008\",\"2009\",\"2010\",\"2011\",\"2012\",\"2013\",\"2014\"],\"y\":[null,null,null,null,null,null,null,null,null,58.0,66.4,71.6,79.8,86.7,95.4,110.1,133.9,163.0,199.4,266.1,346.2,411.1,478.4,562.0,662.0,781.4,931.7,1128.9,1320.0,1542.1,1830.6,2246.9,2689.2,2997.1,3028.4],\"type\":\"scatter\"}],                        {\"template\":{\"data\":{\"bar\":[{\"error_x\":{\"color\":\"#2a3f5f\"},\"error_y\":{\"color\":\"#2a3f5f\"},\"marker\":{\"line\":{\"color\":\"#E5ECF6\",\"width\":0.5},\"pattern\":{\"fillmode\":\"overlay\",\"size\":10,\"solidity\":0.2}},\"type\":\"bar\"}],\"barpolar\":[{\"marker\":{\"line\":{\"color\":\"#E5ECF6\",\"width\":0.5},\"pattern\":{\"fillmode\":\"overlay\",\"size\":10,\"solidity\":0.2}},\"type\":\"barpolar\"}],\"carpet\":[{\"aaxis\":{\"endlinecolor\":\"#2a3f5f\",\"gridcolor\":\"white\",\"linecolor\":\"white\",\"minorgridcolor\":\"white\",\"startlinecolor\":\"#2a3f5f\"},\"baxis\":{\"endlinecolor\":\"#2a3f5f\",\"gridcolor\":\"white\",\"linecolor\":\"white\",\"minorgridcolor\":\"white\",\"startlinecolor\":\"#2a3f5f\"},\"type\":\"carpet\"}],\"choropleth\":[{\"colorbar\":{\"outlinewidth\":0,\"ticks\":\"\"},\"type\":\"choropleth\"}],\"contour\":[{\"colorbar\":{\"outlinewidth\":0,\"ticks\":\"\"},\"colorscale\":[[0.0,\"#0d0887\"],[0.1111111111111111,\"#46039f\"],[0.2222222222222222,\"#7201a8\"],[0.3333333333333333,\"#9c179e\"],[0.4444444444444444,\"#bd3786\"],[0.5555555555555556,\"#d8576b\"],[0.6666666666666666,\"#ed7953\"],[0.7777777777777778,\"#fb9f3a\"],[0.8888888888888888,\"#fdca26\"],[1.0,\"#f0f921\"]],\"type\":\"contour\"}],\"contourcarpet\":[{\"colorbar\":{\"outlinewidth\":0,\"ticks\":\"\"},\"type\":\"contourcarpet\"}],\"heatmap\":[{\"colorbar\":{\"outlinewidth\":0,\"ticks\":\"\"},\"colorscale\":[[0.0,\"#0d0887\"],[0.1111111111111111,\"#46039f\"],[0.2222222222222222,\"#7201a8\"],[0.3333333333333333,\"#9c179e\"],[0.4444444444444444,\"#bd3786\"],[0.5555555555555556,\"#d8576b\"],[0.6666666666666666,\"#ed7953\"],[0.7777777777777778,\"#fb9f3a\"],[0.8888888888888888,\"#fdca26\"],[1.0,\"#f0f921\"]],\"type\":\"heatmap\"}],\"heatmapgl\":[{\"colorbar\":{\"outlinewidth\":0,\"ticks\":\"\"},\"colorscale\":[[0.0,\"#0d0887\"],[0.1111111111111111,\"#46039f\"],[0.2222222222222222,\"#7201a8\"],[0.3333333333333333,\"#9c179e\"],[0.4444444444444444,\"#bd3786\"],[0.5555555555555556,\"#d8576b\"],[0.6666666666666666,\"#ed7953\"],[0.7777777777777778,\"#fb9f3a\"],[0.8888888888888888,\"#fdca26\"],[1.0,\"#f0f921\"]],\"type\":\"heatmapgl\"}],\"histogram\":[{\"marker\":{\"pattern\":{\"fillmode\":\"overlay\",\"size\":10,\"solidity\":0.2}},\"type\":\"histogram\"}],\"histogram2d\":[{\"colorbar\":{\"outlinewidth\":0,\"ticks\":\"\"},\"colorscale\":[[0.0,\"#0d0887\"],[0.1111111111111111,\"#46039f\"],[0.2222222222222222,\"#7201a8\"],[0.3333333333333333,\"#9c179e\"],[0.4444444444444444,\"#bd3786\"],[0.5555555555555556,\"#d8576b\"],[0.6666666666666666,\"#ed7953\"],[0.7777777777777778,\"#fb9f3a\"],[0.8888888888888888,\"#fdca26\"],[1.0,\"#f0f921\"]],\"type\":\"histogram2d\"}],\"histogram2dcontour\":[{\"colorbar\":{\"outlinewidth\":0,\"ticks\":\"\"},\"colorscale\":[[0.0,\"#0d0887\"],[0.1111111111111111,\"#46039f\"],[0.2222222222222222,\"#7201a8\"],[0.3333333333333333,\"#9c179e\"],[0.4444444444444444,\"#bd3786\"],[0.5555555555555556,\"#d8576b\"],[0.6666666666666666,\"#ed7953\"],[0.7777777777777778,\"#fb9f3a\"],[0.8888888888888888,\"#fdca26\"],[1.0,\"#f0f921\"]],\"type\":\"histogram2dcontour\"}],\"mesh3d\":[{\"colorbar\":{\"outlinewidth\":0,\"ticks\":\"\"},\"type\":\"mesh3d\"}],\"parcoords\":[{\"line\":{\"colorbar\":{\"outlinewidth\":0,\"ticks\":\"\"}},\"type\":\"parcoords\"}],\"pie\":[{\"automargin\":true,\"type\":\"pie\"}],\"scatter\":[{\"marker\":{\"colorbar\":{\"outlinewidth\":0,\"ticks\":\"\"}},\"type\":\"scatter\"}],\"scatter3d\":[{\"line\":{\"colorbar\":{\"outlinewidth\":0,\"ticks\":\"\"}},\"marker\":{\"colorbar\":{\"outlinewidth\":0,\"ticks\":\"\"}},\"type\":\"scatter3d\"}],\"scattercarpet\":[{\"marker\":{\"colorbar\":{\"outlinewidth\":0,\"ticks\":\"\"}},\"type\":\"scattercarpet\"}],\"scattergeo\":[{\"marker\":{\"colorbar\":{\"outlinewidth\":0,\"ticks\":\"\"}},\"type\":\"scattergeo\"}],\"scattergl\":[{\"marker\":{\"colorbar\":{\"outlinewidth\":0,\"ticks\":\"\"}},\"type\":\"scattergl\"}],\"scattermapbox\":[{\"marker\":{\"colorbar\":{\"outlinewidth\":0,\"ticks\":\"\"}},\"type\":\"scattermapbox\"}],\"scatterpolar\":[{\"marker\":{\"colorbar\":{\"outlinewidth\":0,\"ticks\":\"\"}},\"type\":\"scatterpolar\"}],\"scatterpolargl\":[{\"marker\":{\"colorbar\":{\"outlinewidth\":0,\"ticks\":\"\"}},\"type\":\"scatterpolargl\"}],\"scatterternary\":[{\"marker\":{\"colorbar\":{\"outlinewidth\":0,\"ticks\":\"\"}},\"type\":\"scatterternary\"}],\"surface\":[{\"colorbar\":{\"outlinewidth\":0,\"ticks\":\"\"},\"colorscale\":[[0.0,\"#0d0887\"],[0.1111111111111111,\"#46039f\"],[0.2222222222222222,\"#7201a8\"],[0.3333333333333333,\"#9c179e\"],[0.4444444444444444,\"#bd3786\"],[0.5555555555555556,\"#d8576b\"],[0.6666666666666666,\"#ed7953\"],[0.7777777777777778,\"#fb9f3a\"],[0.8888888888888888,\"#fdca26\"],[1.0,\"#f0f921\"]],\"type\":\"surface\"}],\"table\":[{\"cells\":{\"fill\":{\"color\":\"#EBF0F8\"},\"line\":{\"color\":\"white\"}},\"header\":{\"fill\":{\"color\":\"#C8D4E3\"},\"line\":{\"color\":\"white\"}},\"type\":\"table\"}]},\"layout\":{\"annotationdefaults\":{\"arrowcolor\":\"#2a3f5f\",\"arrowhead\":0,\"arrowwidth\":1},\"autotypenumbers\":\"strict\",\"coloraxis\":{\"colorbar\":{\"outlinewidth\":0,\"ticks\":\"\"}},\"colorscale\":{\"diverging\":[[0,\"#8e0152\"],[0.1,\"#c51b7d\"],[0.2,\"#de77ae\"],[0.3,\"#f1b6da\"],[0.4,\"#fde0ef\"],[0.5,\"#f7f7f7\"],[0.6,\"#e6f5d0\"],[0.7,\"#b8e186\"],[0.8,\"#7fbc41\"],[0.9,\"#4d9221\"],[1,\"#276419\"]],\"sequential\":[[0.0,\"#0d0887\"],[0.1111111111111111,\"#46039f\"],[0.2222222222222222,\"#7201a8\"],[0.3333333333333333,\"#9c179e\"],[0.4444444444444444,\"#bd3786\"],[0.5555555555555556,\"#d8576b\"],[0.6666666666666666,\"#ed7953\"],[0.7777777777777778,\"#fb9f3a\"],[0.8888888888888888,\"#fdca26\"],[1.0,\"#f0f921\"]],\"sequentialminus\":[[0.0,\"#0d0887\"],[0.1111111111111111,\"#46039f\"],[0.2222222222222222,\"#7201a8\"],[0.3333333333333333,\"#9c179e\"],[0.4444444444444444,\"#bd3786\"],[0.5555555555555556,\"#d8576b\"],[0.6666666666666666,\"#ed7953\"],[0.7777777777777778,\"#fb9f3a\"],[0.8888888888888888,\"#fdca26\"],[1.0,\"#f0f921\"]]},\"colorway\":[\"#636efa\",\"#EF553B\",\"#00cc96\",\"#ab63fa\",\"#FFA15A\",\"#19d3f3\",\"#FF6692\",\"#B6E880\",\"#FF97FF\",\"#FECB52\"],\"font\":{\"color\":\"#2a3f5f\"},\"geo\":{\"bgcolor\":\"white\",\"lakecolor\":\"white\",\"landcolor\":\"#E5ECF6\",\"showlakes\":true,\"showland\":true,\"subunitcolor\":\"white\"},\"hoverlabel\":{\"align\":\"left\"},\"hovermode\":\"closest\",\"mapbox\":{\"style\":\"light\"},\"paper_bgcolor\":\"white\",\"plot_bgcolor\":\"#E5ECF6\",\"polar\":{\"angularaxis\":{\"gridcolor\":\"white\",\"linecolor\":\"white\",\"ticks\":\"\"},\"bgcolor\":\"#E5ECF6\",\"radialaxis\":{\"gridcolor\":\"white\",\"linecolor\":\"white\",\"ticks\":\"\"}},\"scene\":{\"xaxis\":{\"backgroundcolor\":\"#E5ECF6\",\"gridcolor\":\"white\",\"gridwidth\":2,\"linecolor\":\"white\",\"showbackground\":true,\"ticks\":\"\",\"zerolinecolor\":\"white\"},\"yaxis\":{\"backgroundcolor\":\"#E5ECF6\",\"gridcolor\":\"white\",\"gridwidth\":2,\"linecolor\":\"white\",\"showbackground\":true,\"ticks\":\"\",\"zerolinecolor\":\"white\"},\"zaxis\":{\"backgroundcolor\":\"#E5ECF6\",\"gridcolor\":\"white\",\"gridwidth\":2,\"linecolor\":\"white\",\"showbackground\":true,\"ticks\":\"\",\"zerolinecolor\":\"white\"}},\"shapedefaults\":{\"line\":{\"color\":\"#2a3f5f\"}},\"ternary\":{\"aaxis\":{\"gridcolor\":\"white\",\"linecolor\":\"white\",\"ticks\":\"\"},\"baxis\":{\"gridcolor\":\"white\",\"linecolor\":\"white\",\"ticks\":\"\"},\"bgcolor\":\"#E5ECF6\",\"caxis\":{\"gridcolor\":\"white\",\"linecolor\":\"white\",\"ticks\":\"\"}},\"title\":{\"x\":0.05},\"xaxis\":{\"automargin\":true,\"gridcolor\":\"white\",\"linecolor\":\"white\",\"ticks\":\"\",\"title\":{\"standoff\":15},\"zerolinecolor\":\"white\",\"zerolinewidth\":2},\"yaxis\":{\"automargin\":true,\"gridcolor\":\"white\",\"linecolor\":\"white\",\"ticks\":\"\",\"title\":{\"standoff\":15},\"zerolinecolor\":\"white\",\"zerolinewidth\":2}}},\"font\":{\"family\":\"Courier New, monospace\",\"size\":18,\"color\":\"#7f7f7f\"},\"title\":{\"text\":\"Total number of start-ups founded in each year\"},\"yaxis\":{\"title\":{\"text\":\"Number of start-ups\"}},\"plot_bgcolor\":\"#f2f2f2\"},                        {\"responsive\": true}                    ).then(function(){\n",
       "                            \n",
       "var gd = document.getElementById('26494cc2-24d1-41d3-bb90-314271b7f198');\n",
       "var x = new MutationObserver(function (mutations, observer) {{\n",
       "        var display = window.getComputedStyle(gd).display;\n",
       "        if (!display || display === 'none') {{\n",
       "            console.log([gd, 'removed!']);\n",
       "            Plotly.purge(gd);\n",
       "            observer.disconnect();\n",
       "        }}\n",
       "}});\n",
       "\n",
       "// Listen for the removal of the full notebook cells\n",
       "var notebookContainer = gd.closest('#notebook-container');\n",
       "if (notebookContainer) {{\n",
       "    x.observe(notebookContainer, {childList: true});\n",
       "}}\n",
       "\n",
       "// Listen for the clearing of the current output cell\n",
       "var outputEl = gd.closest('.output');\n",
       "if (outputEl) {{\n",
       "    x.observe(outputEl, {childList: true});\n",
       "}}\n",
       "\n",
       "                        })                };                            </script>        </div>\n",
       "</body>\n",
       "</html>"
      ]
     },
     "metadata": {},
     "output_type": "display_data"
    }
   ],
   "source": [
    "import plotly.express as px\n",
    "import plotly.graph_objects as go\n",
    "\n",
    "fig = go.Figure(data=[go.Bar(\n",
    "            x=founded['year'], y=founded['count'],\n",
    "            text=founded['count'],\n",
    "            textposition='auto',\n",
    "            marker_color='#0099CC',\n",
    "            marker_line_color='#0099CC',\n",
    "            marker_line_width=1.5,\n",
    "            opacity=0.8\n",
    "        )])\n",
    "\n",
    "fig.add_scatter(x=founded['year'], y=founded['Moving average 5'], mode='lines', name='MA5', line = {'color': '#FFA500'})\n",
    "fig.add_scatter(x=founded['year'], y=founded['Moving average 10'], mode='lines', name='MA10', line = {'color': '#FF00FF'})\n",
    "\n",
    "fig.update_layout(\n",
    "    title=\"Total number of start-ups founded in each year\",\n",
    "    yaxis_title=\"Number of start-ups\",\n",
    "    font=dict(\n",
    "        family=\"Courier New, monospace\",\n",
    "        size=18,\n",
    "        color=\"#7f7f7f\"\n",
    "    ),\n",
    "    plot_bgcolor = '#f2f2f2'\n",
    ")\n",
    "\n",
    "fig.show()"
   ]
  },
  {
   "cell_type": "markdown",
   "metadata": {
    "id": "gg-km5wRhT-v"
   },
   "source": [
    "## Top 10 industries with highest total and average investments"
   ]
  },
  {
   "cell_type": "markdown",
   "metadata": {
    "id": "lqVGi9fMmEyr"
   },
   "source": [
    "In terms of the total investment in different industries, Biotechnology, Mobile, and Software had the most investments respectively. The total investments in these industries were $53 billion, $46 billion, and $36 billion."
   ]
  },
  {
   "cell_type": "code",
   "execution_count": null,
   "metadata": {
    "id": "tNIKsaklmRyr"
   },
   "outputs": [],
   "source": [
    "mean_funding = df[\"funding_total_usd\"].mean()"
   ]
  },
  {
   "cell_type": "code",
   "execution_count": null,
   "metadata": {
    "id": "LoG2942llhTN"
   },
   "outputs": [],
   "source": [
    "# total_investments = df.groupby(\"market\").sum().funding_total_usd\n",
    "# total_investments = sorted(dict(total_investments).items(), key=lambda x: x[1], reverse= True)\n",
    "# top_10_investments = [total_investments[index][1] for index in range(10)]\n",
    "# top10_investments_markets = [total_investments[index][0] for index in range(10)]\n",
    "\n",
    "# plt.figure(figsize= (30, 5))\n",
    "# sns.barplot(x=top10_investments_markets, y=top_10_investments, palette=\"rocket\")\n",
    "# plt.title(\"Total Funding per market (USD)\")\n",
    "# plt.ylabel(\"Funding (USD)\")\n"
   ]
  },
  {
   "cell_type": "code",
   "execution_count": null,
   "metadata": {
    "colab": {
     "base_uri": "https://localhost:8080/",
     "height": 542
    },
    "id": "mS0LCNjUkV3S",
    "outputId": "998c4db5-0f2b-4d72-d78b-81b4c1b08b02"
   },
   "outputs": [
    {
     "data": {
      "text/html": [
       "<html>\n",
       "<head><meta charset=\"utf-8\" /></head>\n",
       "<body>\n",
       "    <div>            <script src=\"https://cdnjs.cloudflare.com/ajax/libs/mathjax/2.7.5/MathJax.js?config=TeX-AMS-MML_SVG\"></script><script type=\"text/javascript\">if (window.MathJax) {MathJax.Hub.Config({SVG: {font: \"STIX-Web\"}});}</script>                <script type=\"text/javascript\">window.PlotlyConfig = {MathJaxConfig: 'local'};</script>\n",
       "        <script src=\"https://cdn.plot.ly/plotly-2.8.3.min.js\"></script>                <div id=\"8c1d8e97-ce91-4a08-8db5-da288f2ac05a\" class=\"plotly-graph-div\" style=\"height:525px; width:100%;\"></div>            <script type=\"text/javascript\">                                    window.PLOTLYENV=window.PLOTLYENV || {};                                    if (document.getElementById(\"8c1d8e97-ce91-4a08-8db5-da288f2ac05a\")) {                    Plotly.newPlot(                        \"8c1d8e97-ce91-4a08-8db5-da288f2ac05a\",                        [{\"marker\":{\"color\":\"#0099CC\",\"line\":{\"color\":\"#0099CC\",\"width\":1.5}},\"opacity\":0.8,\"text\":[\"53861285900.0\",\"46536427132.0\",\"36245484046.0\",\"27109722051.0\",\"23093320206.0\",\"18677312806.0\",\"17556265803.0\",\"11392641946.0\",\"10212829085.0\",\"9559118627.0\"],\"textposition\":\"auto\",\"x\":[\" Biotechnology \",\" Mobile \",\" Software \",\" Clean Technology \",\" Health Care \",\" E-Commerce \",\" Enterprise Software \",\" Advertising \",\" Semiconductors \",\" Technology \"],\"y\":[53861285900.0,46536427132.0,36245484046.0,27109722051.0,23093320206.0,18677312806.0,17556265803.0,11392641946.0,10212829085.0,9559118627.0],\"type\":\"bar\"}],                        {\"template\":{\"data\":{\"bar\":[{\"error_x\":{\"color\":\"#2a3f5f\"},\"error_y\":{\"color\":\"#2a3f5f\"},\"marker\":{\"line\":{\"color\":\"#E5ECF6\",\"width\":0.5},\"pattern\":{\"fillmode\":\"overlay\",\"size\":10,\"solidity\":0.2}},\"type\":\"bar\"}],\"barpolar\":[{\"marker\":{\"line\":{\"color\":\"#E5ECF6\",\"width\":0.5},\"pattern\":{\"fillmode\":\"overlay\",\"size\":10,\"solidity\":0.2}},\"type\":\"barpolar\"}],\"carpet\":[{\"aaxis\":{\"endlinecolor\":\"#2a3f5f\",\"gridcolor\":\"white\",\"linecolor\":\"white\",\"minorgridcolor\":\"white\",\"startlinecolor\":\"#2a3f5f\"},\"baxis\":{\"endlinecolor\":\"#2a3f5f\",\"gridcolor\":\"white\",\"linecolor\":\"white\",\"minorgridcolor\":\"white\",\"startlinecolor\":\"#2a3f5f\"},\"type\":\"carpet\"}],\"choropleth\":[{\"colorbar\":{\"outlinewidth\":0,\"ticks\":\"\"},\"type\":\"choropleth\"}],\"contour\":[{\"colorbar\":{\"outlinewidth\":0,\"ticks\":\"\"},\"colorscale\":[[0.0,\"#0d0887\"],[0.1111111111111111,\"#46039f\"],[0.2222222222222222,\"#7201a8\"],[0.3333333333333333,\"#9c179e\"],[0.4444444444444444,\"#bd3786\"],[0.5555555555555556,\"#d8576b\"],[0.6666666666666666,\"#ed7953\"],[0.7777777777777778,\"#fb9f3a\"],[0.8888888888888888,\"#fdca26\"],[1.0,\"#f0f921\"]],\"type\":\"contour\"}],\"contourcarpet\":[{\"colorbar\":{\"outlinewidth\":0,\"ticks\":\"\"},\"type\":\"contourcarpet\"}],\"heatmap\":[{\"colorbar\":{\"outlinewidth\":0,\"ticks\":\"\"},\"colorscale\":[[0.0,\"#0d0887\"],[0.1111111111111111,\"#46039f\"],[0.2222222222222222,\"#7201a8\"],[0.3333333333333333,\"#9c179e\"],[0.4444444444444444,\"#bd3786\"],[0.5555555555555556,\"#d8576b\"],[0.6666666666666666,\"#ed7953\"],[0.7777777777777778,\"#fb9f3a\"],[0.8888888888888888,\"#fdca26\"],[1.0,\"#f0f921\"]],\"type\":\"heatmap\"}],\"heatmapgl\":[{\"colorbar\":{\"outlinewidth\":0,\"ticks\":\"\"},\"colorscale\":[[0.0,\"#0d0887\"],[0.1111111111111111,\"#46039f\"],[0.2222222222222222,\"#7201a8\"],[0.3333333333333333,\"#9c179e\"],[0.4444444444444444,\"#bd3786\"],[0.5555555555555556,\"#d8576b\"],[0.6666666666666666,\"#ed7953\"],[0.7777777777777778,\"#fb9f3a\"],[0.8888888888888888,\"#fdca26\"],[1.0,\"#f0f921\"]],\"type\":\"heatmapgl\"}],\"histogram\":[{\"marker\":{\"pattern\":{\"fillmode\":\"overlay\",\"size\":10,\"solidity\":0.2}},\"type\":\"histogram\"}],\"histogram2d\":[{\"colorbar\":{\"outlinewidth\":0,\"ticks\":\"\"},\"colorscale\":[[0.0,\"#0d0887\"],[0.1111111111111111,\"#46039f\"],[0.2222222222222222,\"#7201a8\"],[0.3333333333333333,\"#9c179e\"],[0.4444444444444444,\"#bd3786\"],[0.5555555555555556,\"#d8576b\"],[0.6666666666666666,\"#ed7953\"],[0.7777777777777778,\"#fb9f3a\"],[0.8888888888888888,\"#fdca26\"],[1.0,\"#f0f921\"]],\"type\":\"histogram2d\"}],\"histogram2dcontour\":[{\"colorbar\":{\"outlinewidth\":0,\"ticks\":\"\"},\"colorscale\":[[0.0,\"#0d0887\"],[0.1111111111111111,\"#46039f\"],[0.2222222222222222,\"#7201a8\"],[0.3333333333333333,\"#9c179e\"],[0.4444444444444444,\"#bd3786\"],[0.5555555555555556,\"#d8576b\"],[0.6666666666666666,\"#ed7953\"],[0.7777777777777778,\"#fb9f3a\"],[0.8888888888888888,\"#fdca26\"],[1.0,\"#f0f921\"]],\"type\":\"histogram2dcontour\"}],\"mesh3d\":[{\"colorbar\":{\"outlinewidth\":0,\"ticks\":\"\"},\"type\":\"mesh3d\"}],\"parcoords\":[{\"line\":{\"colorbar\":{\"outlinewidth\":0,\"ticks\":\"\"}},\"type\":\"parcoords\"}],\"pie\":[{\"automargin\":true,\"type\":\"pie\"}],\"scatter\":[{\"marker\":{\"colorbar\":{\"outlinewidth\":0,\"ticks\":\"\"}},\"type\":\"scatter\"}],\"scatter3d\":[{\"line\":{\"colorbar\":{\"outlinewidth\":0,\"ticks\":\"\"}},\"marker\":{\"colorbar\":{\"outlinewidth\":0,\"ticks\":\"\"}},\"type\":\"scatter3d\"}],\"scattercarpet\":[{\"marker\":{\"colorbar\":{\"outlinewidth\":0,\"ticks\":\"\"}},\"type\":\"scattercarpet\"}],\"scattergeo\":[{\"marker\":{\"colorbar\":{\"outlinewidth\":0,\"ticks\":\"\"}},\"type\":\"scattergeo\"}],\"scattergl\":[{\"marker\":{\"colorbar\":{\"outlinewidth\":0,\"ticks\":\"\"}},\"type\":\"scattergl\"}],\"scattermapbox\":[{\"marker\":{\"colorbar\":{\"outlinewidth\":0,\"ticks\":\"\"}},\"type\":\"scattermapbox\"}],\"scatterpolar\":[{\"marker\":{\"colorbar\":{\"outlinewidth\":0,\"ticks\":\"\"}},\"type\":\"scatterpolar\"}],\"scatterpolargl\":[{\"marker\":{\"colorbar\":{\"outlinewidth\":0,\"ticks\":\"\"}},\"type\":\"scatterpolargl\"}],\"scatterternary\":[{\"marker\":{\"colorbar\":{\"outlinewidth\":0,\"ticks\":\"\"}},\"type\":\"scatterternary\"}],\"surface\":[{\"colorbar\":{\"outlinewidth\":0,\"ticks\":\"\"},\"colorscale\":[[0.0,\"#0d0887\"],[0.1111111111111111,\"#46039f\"],[0.2222222222222222,\"#7201a8\"],[0.3333333333333333,\"#9c179e\"],[0.4444444444444444,\"#bd3786\"],[0.5555555555555556,\"#d8576b\"],[0.6666666666666666,\"#ed7953\"],[0.7777777777777778,\"#fb9f3a\"],[0.8888888888888888,\"#fdca26\"],[1.0,\"#f0f921\"]],\"type\":\"surface\"}],\"table\":[{\"cells\":{\"fill\":{\"color\":\"#EBF0F8\"},\"line\":{\"color\":\"white\"}},\"header\":{\"fill\":{\"color\":\"#C8D4E3\"},\"line\":{\"color\":\"white\"}},\"type\":\"table\"}]},\"layout\":{\"annotationdefaults\":{\"arrowcolor\":\"#2a3f5f\",\"arrowhead\":0,\"arrowwidth\":1},\"autotypenumbers\":\"strict\",\"coloraxis\":{\"colorbar\":{\"outlinewidth\":0,\"ticks\":\"\"}},\"colorscale\":{\"diverging\":[[0,\"#8e0152\"],[0.1,\"#c51b7d\"],[0.2,\"#de77ae\"],[0.3,\"#f1b6da\"],[0.4,\"#fde0ef\"],[0.5,\"#f7f7f7\"],[0.6,\"#e6f5d0\"],[0.7,\"#b8e186\"],[0.8,\"#7fbc41\"],[0.9,\"#4d9221\"],[1,\"#276419\"]],\"sequential\":[[0.0,\"#0d0887\"],[0.1111111111111111,\"#46039f\"],[0.2222222222222222,\"#7201a8\"],[0.3333333333333333,\"#9c179e\"],[0.4444444444444444,\"#bd3786\"],[0.5555555555555556,\"#d8576b\"],[0.6666666666666666,\"#ed7953\"],[0.7777777777777778,\"#fb9f3a\"],[0.8888888888888888,\"#fdca26\"],[1.0,\"#f0f921\"]],\"sequentialminus\":[[0.0,\"#0d0887\"],[0.1111111111111111,\"#46039f\"],[0.2222222222222222,\"#7201a8\"],[0.3333333333333333,\"#9c179e\"],[0.4444444444444444,\"#bd3786\"],[0.5555555555555556,\"#d8576b\"],[0.6666666666666666,\"#ed7953\"],[0.7777777777777778,\"#fb9f3a\"],[0.8888888888888888,\"#fdca26\"],[1.0,\"#f0f921\"]]},\"colorway\":[\"#636efa\",\"#EF553B\",\"#00cc96\",\"#ab63fa\",\"#FFA15A\",\"#19d3f3\",\"#FF6692\",\"#B6E880\",\"#FF97FF\",\"#FECB52\"],\"font\":{\"color\":\"#2a3f5f\"},\"geo\":{\"bgcolor\":\"white\",\"lakecolor\":\"white\",\"landcolor\":\"#E5ECF6\",\"showlakes\":true,\"showland\":true,\"subunitcolor\":\"white\"},\"hoverlabel\":{\"align\":\"left\"},\"hovermode\":\"closest\",\"mapbox\":{\"style\":\"light\"},\"paper_bgcolor\":\"white\",\"plot_bgcolor\":\"#E5ECF6\",\"polar\":{\"angularaxis\":{\"gridcolor\":\"white\",\"linecolor\":\"white\",\"ticks\":\"\"},\"bgcolor\":\"#E5ECF6\",\"radialaxis\":{\"gridcolor\":\"white\",\"linecolor\":\"white\",\"ticks\":\"\"}},\"scene\":{\"xaxis\":{\"backgroundcolor\":\"#E5ECF6\",\"gridcolor\":\"white\",\"gridwidth\":2,\"linecolor\":\"white\",\"showbackground\":true,\"ticks\":\"\",\"zerolinecolor\":\"white\"},\"yaxis\":{\"backgroundcolor\":\"#E5ECF6\",\"gridcolor\":\"white\",\"gridwidth\":2,\"linecolor\":\"white\",\"showbackground\":true,\"ticks\":\"\",\"zerolinecolor\":\"white\"},\"zaxis\":{\"backgroundcolor\":\"#E5ECF6\",\"gridcolor\":\"white\",\"gridwidth\":2,\"linecolor\":\"white\",\"showbackground\":true,\"ticks\":\"\",\"zerolinecolor\":\"white\"}},\"shapedefaults\":{\"line\":{\"color\":\"#2a3f5f\"}},\"ternary\":{\"aaxis\":{\"gridcolor\":\"white\",\"linecolor\":\"white\",\"ticks\":\"\"},\"baxis\":{\"gridcolor\":\"white\",\"linecolor\":\"white\",\"ticks\":\"\"},\"bgcolor\":\"#E5ECF6\",\"caxis\":{\"gridcolor\":\"white\",\"linecolor\":\"white\",\"ticks\":\"\"}},\"title\":{\"x\":0.05},\"xaxis\":{\"automargin\":true,\"gridcolor\":\"white\",\"linecolor\":\"white\",\"ticks\":\"\",\"title\":{\"standoff\":15},\"zerolinecolor\":\"white\",\"zerolinewidth\":2},\"yaxis\":{\"automargin\":true,\"gridcolor\":\"white\",\"linecolor\":\"white\",\"ticks\":\"\",\"title\":{\"standoff\":15},\"zerolinecolor\":\"white\",\"zerolinewidth\":2}}},\"font\":{\"family\":\"Courier New, monospace\",\"size\":18,\"color\":\"#7f7f7f\"},\"title\":{\"text\":\"Total Funding per market (USD)\"},\"yaxis\":{\"title\":{\"text\":\"Funding (USD)\"}},\"plot_bgcolor\":\"#f2f2f2\"},                        {\"responsive\": true}                    ).then(function(){\n",
       "                            \n",
       "var gd = document.getElementById('8c1d8e97-ce91-4a08-8db5-da288f2ac05a');\n",
       "var x = new MutationObserver(function (mutations, observer) {{\n",
       "        var display = window.getComputedStyle(gd).display;\n",
       "        if (!display || display === 'none') {{\n",
       "            console.log([gd, 'removed!']);\n",
       "            Plotly.purge(gd);\n",
       "            observer.disconnect();\n",
       "        }}\n",
       "}});\n",
       "\n",
       "// Listen for the removal of the full notebook cells\n",
       "var notebookContainer = gd.closest('#notebook-container');\n",
       "if (notebookContainer) {{\n",
       "    x.observe(notebookContainer, {childList: true});\n",
       "}}\n",
       "\n",
       "// Listen for the clearing of the current output cell\n",
       "var outputEl = gd.closest('.output');\n",
       "if (outputEl) {{\n",
       "    x.observe(outputEl, {childList: true});\n",
       "}}\n",
       "\n",
       "                        })                };                            </script>        </div>\n",
       "</body>\n",
       "</html>"
      ]
     },
     "metadata": {},
     "output_type": "display_data"
    }
   ],
   "source": [
    "import plotly.express as px\n",
    "import plotly.graph_objects as go\n",
    "\n",
    "total_investments = df.groupby(\"market\").sum().funding_total_usd\n",
    "total_investments = sorted(dict(total_investments).items(), key=lambda x: x[1], reverse= True)\n",
    "top_10_investments = [total_investments[index][1] for index in range(10)]\n",
    "top10_investments_markets = [total_investments[index][0] for index in range(10)]\n",
    "\n",
    "fig = go.Figure(data=[go.Bar(\n",
    "            x=top10_investments_markets, y=top_10_investments,\n",
    "            text=top_10_investments,\n",
    "            textposition='auto',\n",
    "            marker_color='#0099CC',\n",
    "            marker_line_color='#0099CC',\n",
    "            marker_line_width=1.5,\n",
    "            opacity=0.8\n",
    "        )])\n",
    "\n",
    "fig.update_layout(\n",
    "    title=\"Total Funding per market (USD)\",\n",
    "    yaxis_title=\"Funding (USD)\",\n",
    "    font=dict(\n",
    "        family=\"Courier New, monospace\",\n",
    "        size=18,\n",
    "        color=\"#7f7f7f\"\n",
    "    ),\n",
    "    plot_bgcolor = '#f2f2f2'\n",
    ")\n",
    "\n",
    "fig.show()"
   ]
  },
  {
   "cell_type": "code",
   "execution_count": null,
   "metadata": {
    "id": "VkYaiAjvrUWa"
   },
   "outputs": [],
   "source": [
    "# total_investments = df.groupby(\"market\").mean().funding_total_usd\n",
    "# total_investments = sorted(dict(total_investments).items(), key=lambda x: x[1], reverse= True)\n",
    "# top_10_investments = [total_investments[index][1] for index in range(10)]\n",
    "# top10_investments_markets = [total_investments[index][0] for index in range(10)]\n",
    "\n",
    "# plt.figure(figsize= (30, 5))\n",
    "# sns.barplot(x=top10_investments_markets, y=top_10_investments, palette=\"rocket\")\n",
    "# plt.title(\"Average funding per market (USD)\")\n",
    "# plt.ylabel(\"Funding (USD)\")\n",
    "\n",
    "# plt.axhline(y=mean_funding, color='Blue', linestyle=\"--\")"
   ]
  },
  {
   "cell_type": "code",
   "execution_count": null,
   "metadata": {
    "id": "tEQaUQHz0Nh4"
   },
   "outputs": [],
   "source": [
    "total_investments = df.groupby(\"market\").sum().funding_total_usd"
   ]
  },
  {
   "cell_type": "code",
   "execution_count": null,
   "metadata": {
    "colab": {
     "base_uri": "https://localhost:8080/",
     "height": 419
    },
    "id": "4aPe3Z9A0Zy4",
    "outputId": "ab55052c-d84d-45a1-c327-bea408c8728e"
   },
   "outputs": [
    {
     "data": {
      "text/html": [
       "\n",
       "  <div id=\"df-c14eaeb7-9a8e-49e9-a365-7c7d9867d5bb\">\n",
       "    <div class=\"colab-df-container\">\n",
       "      <div>\n",
       "<style scoped>\n",
       "    .dataframe tbody tr th:only-of-type {\n",
       "        vertical-align: middle;\n",
       "    }\n",
       "\n",
       "    .dataframe tbody tr th {\n",
       "        vertical-align: top;\n",
       "    }\n",
       "\n",
       "    .dataframe thead th {\n",
       "        text-align: right;\n",
       "    }\n",
       "</style>\n",
       "<table border=\"1\" class=\"dataframe\">\n",
       "  <thead>\n",
       "    <tr style=\"text-align: right;\">\n",
       "      <th></th>\n",
       "      <th>market</th>\n",
       "      <th>funding_total_usd</th>\n",
       "    </tr>\n",
       "  </thead>\n",
       "  <tbody>\n",
       "    <tr>\n",
       "      <th>0</th>\n",
       "      <td>3D</td>\n",
       "      <td>77305763.0</td>\n",
       "    </tr>\n",
       "    <tr>\n",
       "      <th>1</th>\n",
       "      <td>3D Printing</td>\n",
       "      <td>32254000.0</td>\n",
       "    </tr>\n",
       "    <tr>\n",
       "      <th>2</th>\n",
       "      <td>3D Technology</td>\n",
       "      <td>11505000.0</td>\n",
       "    </tr>\n",
       "    <tr>\n",
       "      <th>3</th>\n",
       "      <td>Accounting</td>\n",
       "      <td>311255618.0</td>\n",
       "    </tr>\n",
       "    <tr>\n",
       "      <th>4</th>\n",
       "      <td>Ad Targeting</td>\n",
       "      <td>179329558.0</td>\n",
       "    </tr>\n",
       "    <tr>\n",
       "      <th>...</th>\n",
       "      <td>...</td>\n",
       "      <td>...</td>\n",
       "    </tr>\n",
       "    <tr>\n",
       "      <th>748</th>\n",
       "      <td>iOS</td>\n",
       "      <td>221147342.0</td>\n",
       "    </tr>\n",
       "    <tr>\n",
       "      <th>749</th>\n",
       "      <td>iPad</td>\n",
       "      <td>47962714.0</td>\n",
       "    </tr>\n",
       "    <tr>\n",
       "      <th>750</th>\n",
       "      <td>iPhone</td>\n",
       "      <td>202824149.0</td>\n",
       "    </tr>\n",
       "    <tr>\n",
       "      <th>751</th>\n",
       "      <td>iPod Touch</td>\n",
       "      <td>4338000.0</td>\n",
       "    </tr>\n",
       "    <tr>\n",
       "      <th>752</th>\n",
       "      <td>mHealth</td>\n",
       "      <td>4902386.0</td>\n",
       "    </tr>\n",
       "  </tbody>\n",
       "</table>\n",
       "<p>753 rows × 2 columns</p>\n",
       "</div>\n",
       "      <button class=\"colab-df-convert\" onclick=\"convertToInteractive('df-c14eaeb7-9a8e-49e9-a365-7c7d9867d5bb')\"\n",
       "              title=\"Convert this dataframe to an interactive table.\"\n",
       "              style=\"display:none;\">\n",
       "        \n",
       "  <svg xmlns=\"http://www.w3.org/2000/svg\" height=\"24px\"viewBox=\"0 0 24 24\"\n",
       "       width=\"24px\">\n",
       "    <path d=\"M0 0h24v24H0V0z\" fill=\"none\"/>\n",
       "    <path d=\"M18.56 5.44l.94 2.06.94-2.06 2.06-.94-2.06-.94-.94-2.06-.94 2.06-2.06.94zm-11 1L8.5 8.5l.94-2.06 2.06-.94-2.06-.94L8.5 2.5l-.94 2.06-2.06.94zm10 10l.94 2.06.94-2.06 2.06-.94-2.06-.94-.94-2.06-.94 2.06-2.06.94z\"/><path d=\"M17.41 7.96l-1.37-1.37c-.4-.4-.92-.59-1.43-.59-.52 0-1.04.2-1.43.59L10.3 9.45l-7.72 7.72c-.78.78-.78 2.05 0 2.83L4 21.41c.39.39.9.59 1.41.59.51 0 1.02-.2 1.41-.59l7.78-7.78 2.81-2.81c.8-.78.8-2.07 0-2.86zM5.41 20L4 18.59l7.72-7.72 1.47 1.35L5.41 20z\"/>\n",
       "  </svg>\n",
       "      </button>\n",
       "      \n",
       "  <style>\n",
       "    .colab-df-container {\n",
       "      display:flex;\n",
       "      flex-wrap:wrap;\n",
       "      gap: 12px;\n",
       "    }\n",
       "\n",
       "    .colab-df-convert {\n",
       "      background-color: #E8F0FE;\n",
       "      border: none;\n",
       "      border-radius: 50%;\n",
       "      cursor: pointer;\n",
       "      display: none;\n",
       "      fill: #1967D2;\n",
       "      height: 32px;\n",
       "      padding: 0 0 0 0;\n",
       "      width: 32px;\n",
       "    }\n",
       "\n",
       "    .colab-df-convert:hover {\n",
       "      background-color: #E2EBFA;\n",
       "      box-shadow: 0px 1px 2px rgba(60, 64, 67, 0.3), 0px 1px 3px 1px rgba(60, 64, 67, 0.15);\n",
       "      fill: #174EA6;\n",
       "    }\n",
       "\n",
       "    [theme=dark] .colab-df-convert {\n",
       "      background-color: #3B4455;\n",
       "      fill: #D2E3FC;\n",
       "    }\n",
       "\n",
       "    [theme=dark] .colab-df-convert:hover {\n",
       "      background-color: #434B5C;\n",
       "      box-shadow: 0px 1px 3px 1px rgba(0, 0, 0, 0.15);\n",
       "      filter: drop-shadow(0px 1px 2px rgba(0, 0, 0, 0.3));\n",
       "      fill: #FFFFFF;\n",
       "    }\n",
       "  </style>\n",
       "\n",
       "      <script>\n",
       "        const buttonEl =\n",
       "          document.querySelector('#df-c14eaeb7-9a8e-49e9-a365-7c7d9867d5bb button.colab-df-convert');\n",
       "        buttonEl.style.display =\n",
       "          google.colab.kernel.accessAllowed ? 'block' : 'none';\n",
       "\n",
       "        async function convertToInteractive(key) {\n",
       "          const element = document.querySelector('#df-c14eaeb7-9a8e-49e9-a365-7c7d9867d5bb');\n",
       "          const dataTable =\n",
       "            await google.colab.kernel.invokeFunction('convertToInteractive',\n",
       "                                                     [key], {});\n",
       "          if (!dataTable) return;\n",
       "\n",
       "          const docLinkHtml = 'Like what you see? Visit the ' +\n",
       "            '<a target=\"_blank\" href=https://colab.research.google.com/notebooks/data_table.ipynb>data table notebook</a>'\n",
       "            + ' to learn more about interactive tables.';\n",
       "          element.innerHTML = '';\n",
       "          dataTable['output_type'] = 'display_data';\n",
       "          await google.colab.output.renderOutput(dataTable, element);\n",
       "          const docLink = document.createElement('div');\n",
       "          docLink.innerHTML = docLinkHtml;\n",
       "          element.appendChild(docLink);\n",
       "        }\n",
       "      </script>\n",
       "    </div>\n",
       "  </div>\n",
       "  "
      ],
      "text/plain": [
       "              market  funding_total_usd\n",
       "0                3D          77305763.0\n",
       "1       3D Printing          32254000.0\n",
       "2     3D Technology          11505000.0\n",
       "3        Accounting         311255618.0\n",
       "4      Ad Targeting         179329558.0\n",
       "..               ...                ...\n",
       "748             iOS         221147342.0\n",
       "749            iPad          47962714.0\n",
       "750          iPhone         202824149.0\n",
       "751      iPod Touch           4338000.0\n",
       "752         mHealth           4902386.0\n",
       "\n",
       "[753 rows x 2 columns]"
      ]
     },
     "execution_count": 39,
     "metadata": {},
     "output_type": "execute_result"
    }
   ],
   "source": [
    "pd.DataFrame(total_investments).reset_index()"
   ]
  },
  {
   "cell_type": "code",
   "execution_count": null,
   "metadata": {
    "colab": {
     "base_uri": "https://localhost:8080/",
     "height": 542
    },
    "id": "dt93GzKS0NqU",
    "outputId": "f420defc-972e-42f8-b8e3-8ee38fc52c34"
   },
   "outputs": [
    {
     "data": {
      "text/html": [
       "<html>\n",
       "<head><meta charset=\"utf-8\" /></head>\n",
       "<body>\n",
       "    <div>            <script src=\"https://cdnjs.cloudflare.com/ajax/libs/mathjax/2.7.5/MathJax.js?config=TeX-AMS-MML_SVG\"></script><script type=\"text/javascript\">if (window.MathJax) {MathJax.Hub.Config({SVG: {font: \"STIX-Web\"}});}</script>                <script type=\"text/javascript\">window.PlotlyConfig = {MathJaxConfig: 'local'};</script>\n",
       "        <script src=\"https://cdn.plot.ly/plotly-2.8.3.min.js\"></script>                <div id=\"45bf1d5e-6f52-4cfd-a04e-18cbae45a7a8\" class=\"plotly-graph-div\" style=\"height:525px; width:100%;\"></div>            <script type=\"text/javascript\">                                    window.PLOTLYENV=window.PLOTLYENV || {};                                    if (document.getElementById(\"45bf1d5e-6f52-4cfd-a04e-18cbae45a7a8\")) {                    Plotly.newPlot(                        \"45bf1d5e-6f52-4cfd-a04e-18cbae45a7a8\",                        [{\"branchvalues\":\"total\",\"domain\":{\"x\":[0.0,1.0],\"y\":[0.0,1.0]},\"hovertemplate\":\"labels=%{label}<br>funding_total_usd=%{value}<br>parent=%{parent}<br>id=%{id}<extra></extra>\",\"ids\":[\" 3D \",\" 3D Printing \",\" 3D Technology \",\" Accounting \",\" Ad Targeting \",\" Advanced Materials \",\" Adventure Travel \",\" Advertising \",\" Advertising Exchanges \",\" Advertising Networks \",\" Advertising Platforms \",\" Advice \",\" Aerospace \",\" Agriculture \",\" Algorithms \",\" All Markets \",\" All Students \",\" Alternative Medicine \",\" Alumni \",\" Analytics \",\" Android \",\" Angels \",\" Animal Feed \",\" App Discovery \",\" App Marketing \",\" App Stores \",\" Application Performance Monitoring \",\" Application Platforms \",\" Apps \",\" Architecture \",\" Archiving \",\" Art \",\" Artificial Intelligence \",\" Artists Globally \",\" Assisitive Technology \",\" Auctions \",\" Audio \",\" Augmented Reality \",\" Auto \",\" Automated Kiosk \",\" Automotive \",\" B2B \",\" B2B Express Delivery \",\" BPO Services \",\" Babies \",\" Baby Accessories \",\" Baby Boomers \",\" Banking \",\" Batteries \",\" Beauty \",\" Bicycles \",\" Big Data \",\" Big Data Analytics \",\" Billing \",\" Bio-Pharm \",\" Biofuels \",\" Bioinformatics \",\" Biomass Power Generation \",\" Biometrics \",\" Biotechnology \",\" Biotechnology and Semiconductor \",\" Bitcoin \",\" Blogging Platforms \",\" Boating Industry \",\" Brand Marketing \",\" Bridging Online and Offline \",\" Broadcasting \",\" Brokers \",\" Browser Extensions \",\" Business Analytics \",\" Business Development \",\" Business Information Systems \",\" Business Intelligence \",\" Business Productivity \",\" Business Services \",\" CAD \",\" CRM \",\" Cable \",\" Call Center Automation \",\" Carbon \",\" Career Management \",\" Career Planning \",\" Cars \",\" Casual Games \",\" Celebrity \",\" Certification Test \",\" Charity \",\" Charter Schools \",\" Chat \",\" Chemicals \",\" China Internet \",\" Civil Engineers \",\" Classifieds \",\" Clean Energy \",\" Clean Technology \",\" Clean Technology IT \",\" Clinical Trials \",\" Cloud Computing \",\" Cloud Data Services \",\" Cloud Infrastructure \",\" Cloud Management \",\" Cloud Security \",\" Cloud-Based Music \",\" Coffee \",\" Collaboration \",\" Collaborative Consumption \",\" Collectibles \",\" College Campuses \",\" College Recruiting \",\" Colleges \",\" Comics \",\" Commercial Real Estate \",\" Commercial Solar \",\" Commodities \",\" Communications Hardware \",\" Communications Infrastructure \",\" Communities \",\" Comparison Shopping \",\" Computer Vision \",\" Computers \",\" Concerts \",\" Construction \",\" Consulting \",\" Consumer Behavior \",\" Consumer Electronics \",\" Consumer Goods \",\" Consumer Internet \",\" Consumer Lending \",\" Consumers \",\" Contact Centers \",\" Contact Management \",\" Content \",\" Content Creators \",\" Content Delivery \",\" Content Discovery \",\" Content Syndication \",\" Contests \",\" Cooking \",\" Corporate IT \",\" Corporate Training \",\" Corporate Wellness \",\" Cosmetic Surgery \",\" Cosmetics \",\" Coupons \",\" Coworking \",\" Craft Beer \",\" Craigslist Killers \",\" Creative \",\" Creative Industries \",\" Credit \",\" Credit Cards \",\" Crowdfunding \",\" Crowdsourcing \",\" Curated Web \",\" Custom Retail \",\" Customer Service \",\" Customer Support Tools \",\" Cyber \",\" Cyber Security \",\" DIY \",\" DOD/Military \",\" Data Center Automation \",\" Data Center Infrastructure \",\" Data Centers \",\" Data Integration \",\" Data Mining \",\" Data Privacy \",\" Data Security \",\" Data Visualization \",\" Databases \",\" Debt Collecting \",\" Deep Information Technology \",\" Defense \",\" Demographies \",\" Dental \",\" Design \",\" Designers \",\" Developer APIs \",\" Developer Tools \",\" Development Platforms \",\" Diabetes \",\" Diagnostics \",\" Dietary Supplements \",\" Digital Entertainment \",\" Digital Media \",\" Digital Rights Management \",\" Digital Signage \",\" Direct Marketing \",\" Direct Sales \",\" Discounts \",\" Displays \",\" Distributed Generation \",\" Distribution \",\" Distributors \",\" Doctors \",\" Document Management \",\" Domains \",\" Drones \",\" E-Books \",\" E-Commerce \",\" E-Commerce Platforms \",\" EBooks \",\" EDA Tools \",\" Early-Stage Technology \",\" Ediscovery \",\" Education \",\" Educational Games \",\" Elder Care \",\" Electric Vehicles \",\" Electrical Distribution \",\" Electronic Health Records \",\" Electronics \",\" Email \",\" Email Marketing \",\" Email Newsletters \",\" Embedded Hardware and Software \",\" Emerging Markets \",\" Employer Benefits Programs \",\" Employment \",\" Energy \",\" Energy Efficiency \",\" Energy IT \",\" Energy Management \",\" Energy Storage \",\" Engineering Firms \",\" English-Speaking \",\" Enterprise 2.0 \",\" Enterprise Application \",\" Enterprise Hardware \",\" Enterprise Purchasing \",\" Enterprise Resource Planning \",\" Enterprise Search \",\" Enterprise Security \",\" Enterprise Software \",\" Enterprises \",\" Entertainment \",\" Entertainment Industry \",\" Entrepreneur \",\" Environmental Innovation \",\" Estimation and Quoting \",\" Event Management \",\" Events \",\" Exercise \",\" Eyewear \",\" Face Recognition \",\" Facebook Applications \",\" Families \",\" Fantasy Sports \",\" Farmers Market \",\" Farming \",\" Fashion \",\" File Sharing \",\" Film \",\" Film Distribution \",\" Film Production \",\" Finance \",\" Finance Technology \",\" Financial Exchanges \",\" Financial Services \",\" Fitness \",\" Flash Sales \",\" Flash Storage \",\" Fleet Management \",\" Flowers \",\" Food Processing \",\" Forums \",\" Franchises \",\" Fraud Detection \",\" Freelancers \",\" Freemium \",\" FreetoPlay Gaming \",\" Fuels \",\" Funeral Industry \",\" Gadget \",\" Gambling \",\" Game \",\" Game Mechanics \",\" Games \",\" Gamification \",\" Gas \",\" General Public Worldwide \",\" Genetic Testing \",\" Geospatial \",\" Gift Card \",\" Gift Exchange \",\" Gift Registries \",\" Gold \",\" Golf Equipment \",\" Google Apps \",\" Google Glass \",\" Governance \",\" Government Innovation \",\" Governments \",\" Gps \",\" Graphics \",\" Green \",\" Green Building \",\" Green Consumer Goods \",\" Groceries \",\" Group Buying \",\" Group SMS \",\" Guides \",\" Handmade \",\" Hardware \",\" Hardware + Software \",\" Health Care \",\" Health Care Information Technology \",\" Health Services Industry \",\" Health and Insurance \",\" Health and Wellness \",\" Healthcare Services \",\" Heavy Industry \",\" Hedge Funds \",\" High Schools \",\" High Tech \",\" Home & Garden \",\" Home Automation \",\" Home Decor \",\" Home Owners \",\" Home Renovation \",\" Homeland Security \",\" Homeless Shelter \",\" Hospitality \",\" Hospitals \",\" Hotels \",\" Human Computer Interaction \",\" Human Resource Automation \",\" Human Resources \",\" Humanitarian \",\" ICT \",\" IT Management \",\" IT and Cybersecurity \",\" IaaS \",\" Identity \",\" Identity Management \",\" Image Recognition \",\" In-Flight Entertainment \",\" Incentives \",\" Incubators \",\" Independent Music Labels \",\" Indoor Positioning \",\" Industrial \",\" Industrial Automation \",\" Industrial Energy Efficiency \",\" Information Security \",\" Information Services \",\" Information Technology \",\" Infrastructure \",\" Infrastructure Builders \",\" Innovation Engineering \",\" Innovation Management \",\" Insurance \",\" Insurance Companies \",\" Intellectual Asset Management \",\" Intellectual Property \",\" Intelligent Systems \",\" Interest Graph \",\" Interface Design \",\" Interior Design \",\" Internet \",\" Internet Infrastructure \",\" Internet Marketing \",\" Internet Radio Market \",\" Internet Service Providers \",\" Internet TV \",\" Internet Technology \",\" Internet of Things \",\" Investment Management \",\" Jewelry \",\" Journalism \",\" K-12 Education \",\" Kids \",\" Kinect \",\" Knowledge Management \",\" Language Learning \",\" Lasers \",\" Law Enforcement \",\" Lead Generation \",\" Lead Management \",\" Legal \",\" Leisure \",\" Licensing \",\" Life Sciences \",\" Lifestyle \",\" Lifestyle Businesses \",\" Lifestyle Products \",\" Lighting \",\" Lingerie \",\" Linux \",\" Local \",\" Local Advertising \",\" Local Based Services \",\" Local Businesses \",\" Local Commerce \",\" Local Coupons \",\" Local Search \",\" Location Based Services \",\" Logistics \",\" Logistics Company \",\" Lotteries \",\" Low Bid Auctions \",\" Loyalty Programs \",\" M2M \",\" MMO Games \",\" Mac \",\" Machine Learning \",\" Manufacturing \",\" Maps \",\" Market Research \",\" Marketing Automation \",\" Marketplaces \",\" Mass Customization \",\" Match-Making \",\" Material Science \",\" Mechanical Solutions \",\" Media \",\" Medical \",\" Medical Devices \",\" Medical Marijuana Patients \",\" Medical Professionals \",\" Meeting Software \",\" Messaging \",\" MicroBlogging \",\" Minerals \",\" Mining Technologies \",\" Mobile \",\" Mobile Advertising \",\" Mobile Analytics \",\" Mobile Commerce \",\" Mobile Coupons \",\" Mobile Devices \",\" Mobile Emergency&Health \",\" Mobile Enterprise \",\" Mobile Games \",\" Mobile Health \",\" Mobile Infrastructure \",\" Mobile Payments \",\" Mobile Security \",\" Mobile Shopping \",\" Mobile Social \",\" Mobile Software Tools \",\" Mobile Video \",\" Mobility \",\" Monetization \",\" Moneymaking \",\" Motion Capture \",\" Motors \",\" Multi-level Marketing \",\" Music \",\" Music Education \",\" Music Services \",\" Music Venues \",\" Musical Instruments \",\" Musicians \",\" NFC \",\" Nanotechnology \",\" Natural Gas Uses \",\" Natural Language Processing \",\" Natural Resources \",\" Navigation \",\" Network Security \",\" Networking \",\" Neuroscience \",\" New Product Development \",\" New Technologies \",\" News \",\" Niche Specific \",\" Nightclubs \",\" Nightlife \",\" Non Profit \",\" Nonprofits \",\" Nutrition \",\" Office Space \",\" Offline Businesses \",\" Oil \",\" Oil & Gas \",\" Oil and Gas \",\" Online Auctions \",\" Online Dating \",\" Online Gaming \",\" Online Identity \",\" Online Rental \",\" Online Reservations \",\" Online Scheduling \",\" Online Shopping \",\" Online Travel \",\" Online Video Advertising \",\" Open Source \",\" Opinions \",\" Optimization \",\" Organic \",\" Organic Food \",\" Outdoor Advertising \",\" Outdoors \",\" Outsourcing \",\" P2P Money Transfer \",\" PC Gaming \",\" PaaS \",\" Parenting \",\" Parking \",\" Payments \",\" Peer-to-Peer \",\" Performance Marketing \",\" Performing Arts \",\" Personal Branding \",\" Personal Data \",\" Personal Finance \",\" Personal Health \",\" Personalization \",\" Pets \",\" Pharmaceuticals \",\" Photo Editing \",\" Photo Sharing \",\" Photography \",\" Physical Security \",\" Physicians \",\" Plumbers \",\" Point of Sale \",\" Politics \",\" Polling \",\" Portals \",\" Postal and Courier Services \",\" Predictive Analytics \",\" Presentations \",\" Price Comparison \",\" Printing \",\" Privacy \",\" Private Social Networking \",\" Procurement \",\" Product Design \",\" Product Development Services \",\" Product Search \",\" Productivity Software \",\" Professional Networking \",\" Professional Services \",\" Project Management \",\" Promotional \",\" Property Management \",\" Proximity Internet \",\" Psychology \",\" Public Relations \",\" Public Safety \",\" Public Transportation \",\" Publishing \",\" Q&A \",\" QR Codes \",\" Quantified Self \",\" Quantitative Marketing \",\" RFID \",\" RIM \",\" Racing \",\" Radical Breakthrough Startups \",\" Rapidly Expanding \",\" Reading Apps \",\" Real Estate \",\" Real Estate Investors \",\" Real Time \",\" Realtors \",\" Recipes \",\" Recreation \",\" Recruiting \",\" Recycling \",\" Registrars \",\" Rehabilitation \",\" Religion \",\" Remediation \",\" Renewable Energies \",\" Renewable Tech \",\" Rental Housing \",\" Reputation \",\" Residential Solar \",\" Resorts \",\" Restaurants \",\" Retail \",\" Retail Technology \",\" Retirement \",\" Reviews and Recommendations \",\" Risk Management \",\" Robotics \",\" Rural Energy \",\" SEO \",\" SMS \",\" SNS \",\" SaaS \",\" Sales Automation \",\" Sales and Marketing \",\" Search \",\" Search Marketing \",\" Security \",\" Self Development \",\" Self Storage \",\" Semantic Search \",\" Semantic Web \",\" Semiconductor Manufacturing Equipment \",\" Semiconductors \",\" Senior Citizens \",\" Senior Health \",\" Sensors \",\" Service Industries \",\" Service Providers \",\" Services \",\" Sex \",\" Shared Services \",\" Shipping \",\" Shoes \",\" Shopping \",\" Simulation \",\" Skill Assessment \",\" Small and Medium Businesses \",\" Smart Building \",\" Smart Grid \",\" Soccer \",\" Social + Mobile + Local \",\" Social Bookmarking \",\" Social Business \",\" Social Buying \",\" Social CRM \",\" Social Commerce \",\" Social Fundraising \",\" Social Games \",\" Social Innovation \",\" Social Investing \",\" Social Media \",\" Social Media Advertising \",\" Social Media Agent \",\" Social Media Management \",\" Social Media Marketing \",\" Social Media Monitoring \",\" Social Media Platforms \",\" Social Network Media \",\" Social News \",\" Social Opinion Platform \",\" Social Recruiting \",\" Social Search \",\" Social Television \",\" Social Travel \",\" Software \",\" Software Compliance \",\" Solar \",\" Space Travel \",\" Spas \",\" Specialty Chemicals \",\" Specialty Foods \",\" Specialty Retail \",\" Speech Recognition \",\" Sponsorship \",\" Sporting Goods \",\" Sports \",\" Staffing Firms \",\" Startups \",\" Stock Exchanges \",\" Storage \",\" Subscription Businesses \",\" Sunglasses \",\" Supply Chain Management \",\" Surveys \",\" Sustainability \",\" Swimming \",\" Synchronization \",\" Synthetic Biology \",\" Systems \",\" TV Production \",\" Tablets \",\" Task Management \",\" Taxis \",\" Tea \",\" Teachers \",\" Tech Field Support \",\" Technical Continuing Education \",\" Technology \",\" Teenagers \",\" Telecommunications \",\" Telephony \",\" Television \",\" Test and Measurement \",\" Testing \",\" Text Analytics \",\" Textbooks \",\" Textiles \",\" Theatre \",\" Therapeutics \",\" Ticketing \",\" Timeshares \",\" Tourism \",\" Toys \",\" Tracking \",\" Trading \",\" Training \",\" Transaction Processing \",\" Translation \",\" Transportation \",\" Travel \",\" Travel & Tourism \",\" Trusted Networks \",\" Tutoring \",\" Twin-Tip Skis \",\" Twitter Applications \",\" Unifed Communications \",\" Universities \",\" University Students \",\" Unmanned Air Systems \",\" Usability \",\" User Experience Design \",\" Utilities \",\" Vacation Rentals \",\" Vending and Concessions \",\" Venture Capital \",\" Ventures for Good \",\" Vertical Search \",\" Veterinary \",\" Video \",\" Video Chat \",\" Video Conferencing \",\" Video Editing \",\" Video Games \",\" Video Processing \",\" Video Streaming \",\" Video on Demand \",\" Virtual Currency \",\" Virtual Goods \",\" Virtual Workforces \",\" Virtual Worlds \",\" Virtualization \",\" Visual Search \",\" Visualization \",\" VoIP \",\" Water \",\" Water Purification \",\" Wealth Management \",\" Web Browsers \",\" Web CMS \",\" Web Design \",\" Web Development \",\" Web Hosting \",\" Web Presence Management \",\" Web Tools \",\" WebOS \",\" Weddings \",\" Weird Hardware \",\" Wholesale \",\" Wind \",\" Windows Phone 7 \",\" Wine And Spirits \",\" Wireless \",\" Women \",\" World Domination \",\" Writers \",\" Young Adults \",\" iOS \",\" iPad \",\" iPhone \",\" iPod Touch \",\" mHealth \"],\"labels\":[\" 3D \",\" 3D Printing \",\" 3D Technology \",\" Accounting \",\" Ad Targeting \",\" Advanced Materials \",\" Adventure Travel \",\" Advertising \",\" Advertising Exchanges \",\" Advertising Networks \",\" Advertising Platforms \",\" Advice \",\" Aerospace \",\" Agriculture \",\" Algorithms \",\" All Markets \",\" All Students \",\" Alternative Medicine \",\" Alumni \",\" Analytics \",\" Android \",\" Angels \",\" Animal Feed \",\" App Discovery \",\" App Marketing \",\" App Stores \",\" Application Performance Monitoring \",\" Application Platforms \",\" Apps \",\" Architecture \",\" Archiving \",\" Art \",\" Artificial Intelligence \",\" Artists Globally \",\" Assisitive Technology \",\" Auctions \",\" Audio \",\" Augmented Reality \",\" Auto \",\" Automated Kiosk \",\" Automotive \",\" B2B \",\" B2B Express Delivery \",\" BPO Services \",\" Babies \",\" Baby Accessories \",\" Baby Boomers \",\" Banking \",\" Batteries \",\" Beauty \",\" Bicycles \",\" Big Data \",\" Big Data Analytics \",\" Billing \",\" Bio-Pharm \",\" Biofuels \",\" Bioinformatics \",\" Biomass Power Generation \",\" Biometrics \",\" Biotechnology \",\" Biotechnology and Semiconductor \",\" Bitcoin \",\" Blogging Platforms \",\" Boating Industry \",\" Brand Marketing \",\" Bridging Online and Offline \",\" Broadcasting \",\" Brokers \",\" Browser Extensions \",\" Business Analytics \",\" Business Development \",\" Business Information Systems \",\" Business Intelligence \",\" Business Productivity \",\" Business Services \",\" CAD \",\" CRM \",\" Cable \",\" Call Center Automation \",\" Carbon \",\" Career Management \",\" Career Planning \",\" Cars \",\" Casual Games \",\" Celebrity \",\" Certification Test \",\" Charity \",\" Charter Schools \",\" Chat \",\" Chemicals \",\" China Internet \",\" Civil Engineers \",\" Classifieds \",\" Clean Energy \",\" Clean Technology \",\" Clean Technology IT \",\" Clinical Trials \",\" Cloud Computing \",\" Cloud Data Services \",\" Cloud Infrastructure \",\" Cloud Management \",\" Cloud Security \",\" Cloud-Based Music \",\" Coffee \",\" Collaboration \",\" Collaborative Consumption \",\" Collectibles \",\" College Campuses \",\" College Recruiting \",\" Colleges \",\" Comics \",\" Commercial Real Estate \",\" Commercial Solar \",\" Commodities \",\" Communications Hardware \",\" Communications Infrastructure \",\" Communities \",\" Comparison Shopping \",\" Computer Vision \",\" Computers \",\" Concerts \",\" Construction \",\" Consulting \",\" Consumer Behavior \",\" Consumer Electronics \",\" Consumer Goods \",\" Consumer Internet \",\" Consumer Lending \",\" Consumers \",\" Contact Centers \",\" Contact Management \",\" Content \",\" Content Creators \",\" Content Delivery \",\" Content Discovery \",\" Content Syndication \",\" Contests \",\" Cooking \",\" Corporate IT \",\" Corporate Training \",\" Corporate Wellness \",\" Cosmetic Surgery \",\" Cosmetics \",\" Coupons \",\" Coworking \",\" Craft Beer \",\" Craigslist Killers \",\" Creative \",\" Creative Industries \",\" Credit \",\" Credit Cards \",\" Crowdfunding \",\" Crowdsourcing \",\" Curated Web \",\" Custom Retail \",\" Customer Service \",\" Customer Support Tools \",\" Cyber \",\" Cyber Security \",\" DIY \",\" DOD/Military \",\" Data Center Automation \",\" Data Center Infrastructure \",\" Data Centers \",\" Data Integration \",\" Data Mining \",\" Data Privacy \",\" Data Security \",\" Data Visualization \",\" Databases \",\" Debt Collecting \",\" Deep Information Technology \",\" Defense \",\" Demographies \",\" Dental \",\" Design \",\" Designers \",\" Developer APIs \",\" Developer Tools \",\" Development Platforms \",\" Diabetes \",\" Diagnostics \",\" Dietary Supplements \",\" Digital Entertainment \",\" Digital Media \",\" Digital Rights Management \",\" Digital Signage \",\" Direct Marketing \",\" Direct Sales \",\" Discounts \",\" Displays \",\" Distributed Generation \",\" Distribution \",\" Distributors \",\" Doctors \",\" Document Management \",\" Domains \",\" Drones \",\" E-Books \",\" E-Commerce \",\" E-Commerce Platforms \",\" EBooks \",\" EDA Tools \",\" Early-Stage Technology \",\" Ediscovery \",\" Education \",\" Educational Games \",\" Elder Care \",\" Electric Vehicles \",\" Electrical Distribution \",\" Electronic Health Records \",\" Electronics \",\" Email \",\" Email Marketing \",\" Email Newsletters \",\" Embedded Hardware and Software \",\" Emerging Markets \",\" Employer Benefits Programs \",\" Employment \",\" Energy \",\" Energy Efficiency \",\" Energy IT \",\" Energy Management \",\" Energy Storage \",\" Engineering Firms \",\" English-Speaking \",\" Enterprise 2.0 \",\" Enterprise Application \",\" Enterprise Hardware \",\" Enterprise Purchasing \",\" Enterprise Resource Planning \",\" Enterprise Search \",\" Enterprise Security \",\" Enterprise Software \",\" Enterprises \",\" Entertainment \",\" Entertainment Industry \",\" Entrepreneur \",\" Environmental Innovation \",\" Estimation and Quoting \",\" Event Management \",\" Events \",\" Exercise \",\" Eyewear \",\" Face Recognition \",\" Facebook Applications \",\" Families \",\" Fantasy Sports \",\" Farmers Market \",\" Farming \",\" Fashion \",\" File Sharing \",\" Film \",\" Film Distribution \",\" Film Production \",\" Finance \",\" Finance Technology \",\" Financial Exchanges \",\" Financial Services \",\" Fitness \",\" Flash Sales \",\" Flash Storage \",\" Fleet Management \",\" Flowers \",\" Food Processing \",\" Forums \",\" Franchises \",\" Fraud Detection \",\" Freelancers \",\" Freemium \",\" FreetoPlay Gaming \",\" Fuels \",\" Funeral Industry \",\" Gadget \",\" Gambling \",\" Game \",\" Game Mechanics \",\" Games \",\" Gamification \",\" Gas \",\" General Public Worldwide \",\" Genetic Testing \",\" Geospatial \",\" Gift Card \",\" Gift Exchange \",\" Gift Registries \",\" Gold \",\" Golf Equipment \",\" Google Apps \",\" Google Glass \",\" Governance \",\" Government Innovation \",\" Governments \",\" Gps \",\" Graphics \",\" Green \",\" Green Building \",\" Green Consumer Goods \",\" Groceries \",\" Group Buying \",\" Group SMS \",\" Guides \",\" Handmade \",\" Hardware \",\" Hardware + Software \",\" Health Care \",\" Health Care Information Technology \",\" Health Services Industry \",\" Health and Insurance \",\" Health and Wellness \",\" Healthcare Services \",\" Heavy Industry \",\" Hedge Funds \",\" High Schools \",\" High Tech \",\" Home & Garden \",\" Home Automation \",\" Home Decor \",\" Home Owners \",\" Home Renovation \",\" Homeland Security \",\" Homeless Shelter \",\" Hospitality \",\" Hospitals \",\" Hotels \",\" Human Computer Interaction \",\" Human Resource Automation \",\" Human Resources \",\" Humanitarian \",\" ICT \",\" IT Management \",\" IT and Cybersecurity \",\" IaaS \",\" Identity \",\" Identity Management \",\" Image Recognition \",\" In-Flight Entertainment \",\" Incentives \",\" Incubators \",\" Independent Music Labels \",\" Indoor Positioning \",\" Industrial \",\" Industrial Automation \",\" Industrial Energy Efficiency \",\" Information Security \",\" Information Services \",\" Information Technology \",\" Infrastructure \",\" Infrastructure Builders \",\" Innovation Engineering \",\" Innovation Management \",\" Insurance \",\" Insurance Companies \",\" Intellectual Asset Management \",\" Intellectual Property \",\" Intelligent Systems \",\" Interest Graph \",\" Interface Design \",\" Interior Design \",\" Internet \",\" Internet Infrastructure \",\" Internet Marketing \",\" Internet Radio Market \",\" Internet Service Providers \",\" Internet TV \",\" Internet Technology \",\" Internet of Things \",\" Investment Management \",\" Jewelry \",\" Journalism \",\" K-12 Education \",\" Kids \",\" Kinect \",\" Knowledge Management \",\" Language Learning \",\" Lasers \",\" Law Enforcement \",\" Lead Generation \",\" Lead Management \",\" Legal \",\" Leisure \",\" Licensing \",\" Life Sciences \",\" Lifestyle \",\" Lifestyle Businesses \",\" Lifestyle Products \",\" Lighting \",\" Lingerie \",\" Linux \",\" Local \",\" Local Advertising \",\" Local Based Services \",\" Local Businesses \",\" Local Commerce \",\" Local Coupons \",\" Local Search \",\" Location Based Services \",\" Logistics \",\" Logistics Company \",\" Lotteries \",\" Low Bid Auctions \",\" Loyalty Programs \",\" M2M \",\" MMO Games \",\" Mac \",\" Machine Learning \",\" Manufacturing \",\" Maps \",\" Market Research \",\" Marketing Automation \",\" Marketplaces \",\" Mass Customization \",\" Match-Making \",\" Material Science \",\" Mechanical Solutions \",\" Media \",\" Medical \",\" Medical Devices \",\" Medical Marijuana Patients \",\" Medical Professionals \",\" Meeting Software \",\" Messaging \",\" MicroBlogging \",\" Minerals \",\" Mining Technologies \",\" Mobile \",\" Mobile Advertising \",\" Mobile Analytics \",\" Mobile Commerce \",\" Mobile Coupons \",\" Mobile Devices \",\" Mobile Emergency&Health \",\" Mobile Enterprise \",\" Mobile Games \",\" Mobile Health \",\" Mobile Infrastructure \",\" Mobile Payments \",\" Mobile Security \",\" Mobile Shopping \",\" Mobile Social \",\" Mobile Software Tools \",\" Mobile Video \",\" Mobility \",\" Monetization \",\" Moneymaking \",\" Motion Capture \",\" Motors \",\" Multi-level Marketing \",\" Music \",\" Music Education \",\" Music Services \",\" Music Venues \",\" Musical Instruments \",\" Musicians \",\" NFC \",\" Nanotechnology \",\" Natural Gas Uses \",\" Natural Language Processing \",\" Natural Resources \",\" Navigation \",\" Network Security \",\" Networking \",\" Neuroscience \",\" New Product Development \",\" New Technologies \",\" News \",\" Niche Specific \",\" Nightclubs \",\" Nightlife \",\" Non Profit \",\" Nonprofits \",\" Nutrition \",\" Office Space \",\" Offline Businesses \",\" Oil \",\" Oil & Gas \",\" Oil and Gas \",\" Online Auctions \",\" Online Dating \",\" Online Gaming \",\" Online Identity \",\" Online Rental \",\" Online Reservations \",\" Online Scheduling \",\" Online Shopping \",\" Online Travel \",\" Online Video Advertising \",\" Open Source \",\" Opinions \",\" Optimization \",\" Organic \",\" Organic Food \",\" Outdoor Advertising \",\" Outdoors \",\" Outsourcing \",\" P2P Money Transfer \",\" PC Gaming \",\" PaaS \",\" Parenting \",\" Parking \",\" Payments \",\" Peer-to-Peer \",\" Performance Marketing \",\" Performing Arts \",\" Personal Branding \",\" Personal Data \",\" Personal Finance \",\" Personal Health \",\" Personalization \",\" Pets \",\" Pharmaceuticals \",\" Photo Editing \",\" Photo Sharing \",\" Photography \",\" Physical Security \",\" Physicians \",\" Plumbers \",\" Point of Sale \",\" Politics \",\" Polling \",\" Portals \",\" Postal and Courier Services \",\" Predictive Analytics \",\" Presentations \",\" Price Comparison \",\" Printing \",\" Privacy \",\" Private Social Networking \",\" Procurement \",\" Product Design \",\" Product Development Services \",\" Product Search \",\" Productivity Software \",\" Professional Networking \",\" Professional Services \",\" Project Management \",\" Promotional \",\" Property Management \",\" Proximity Internet \",\" Psychology \",\" Public Relations \",\" Public Safety \",\" Public Transportation \",\" Publishing \",\" Q&A \",\" QR Codes \",\" Quantified Self \",\" Quantitative Marketing \",\" RFID \",\" RIM \",\" Racing \",\" Radical Breakthrough Startups \",\" Rapidly Expanding \",\" Reading Apps \",\" Real Estate \",\" Real Estate Investors \",\" Real Time \",\" Realtors \",\" Recipes \",\" Recreation \",\" Recruiting \",\" Recycling \",\" Registrars \",\" Rehabilitation \",\" Religion \",\" Remediation \",\" Renewable Energies \",\" Renewable Tech \",\" Rental Housing \",\" Reputation \",\" Residential Solar \",\" Resorts \",\" Restaurants \",\" Retail \",\" Retail Technology \",\" Retirement \",\" Reviews and Recommendations \",\" Risk Management \",\" Robotics \",\" Rural Energy \",\" SEO \",\" SMS \",\" SNS \",\" SaaS \",\" Sales Automation \",\" Sales and Marketing \",\" Search \",\" Search Marketing \",\" Security \",\" Self Development \",\" Self Storage \",\" Semantic Search \",\" Semantic Web \",\" Semiconductor Manufacturing Equipment \",\" Semiconductors \",\" Senior Citizens \",\" Senior Health \",\" Sensors \",\" Service Industries \",\" Service Providers \",\" Services \",\" Sex \",\" Shared Services \",\" Shipping \",\" Shoes \",\" Shopping \",\" Simulation \",\" Skill Assessment \",\" Small and Medium Businesses \",\" Smart Building \",\" Smart Grid \",\" Soccer \",\" Social + Mobile + Local \",\" Social Bookmarking \",\" Social Business \",\" Social Buying \",\" Social CRM \",\" Social Commerce \",\" Social Fundraising \",\" Social Games \",\" Social Innovation \",\" Social Investing \",\" Social Media \",\" Social Media Advertising \",\" Social Media Agent \",\" Social Media Management \",\" Social Media Marketing \",\" Social Media Monitoring \",\" Social Media Platforms \",\" Social Network Media \",\" Social News \",\" Social Opinion Platform \",\" Social Recruiting \",\" Social Search \",\" Social Television \",\" Social Travel \",\" Software \",\" Software Compliance \",\" Solar \",\" Space Travel \",\" Spas \",\" Specialty Chemicals \",\" Specialty Foods \",\" Specialty Retail \",\" Speech Recognition \",\" Sponsorship \",\" Sporting Goods \",\" Sports \",\" Staffing Firms \",\" Startups \",\" Stock Exchanges \",\" Storage \",\" Subscription Businesses \",\" Sunglasses \",\" Supply Chain Management \",\" Surveys \",\" Sustainability \",\" Swimming \",\" Synchronization \",\" Synthetic Biology \",\" Systems \",\" TV Production \",\" Tablets \",\" Task Management \",\" Taxis \",\" Tea \",\" Teachers \",\" Tech Field Support \",\" Technical Continuing Education \",\" Technology \",\" Teenagers \",\" Telecommunications \",\" Telephony \",\" Television \",\" Test and Measurement \",\" Testing \",\" Text Analytics \",\" Textbooks \",\" Textiles \",\" Theatre \",\" Therapeutics \",\" Ticketing \",\" Timeshares \",\" Tourism \",\" Toys \",\" Tracking \",\" Trading \",\" Training \",\" Transaction Processing \",\" Translation \",\" Transportation \",\" Travel \",\" Travel & Tourism \",\" Trusted Networks \",\" Tutoring \",\" Twin-Tip Skis \",\" Twitter Applications \",\" Unifed Communications \",\" Universities \",\" University Students \",\" Unmanned Air Systems \",\" Usability \",\" User Experience Design \",\" Utilities \",\" Vacation Rentals \",\" Vending and Concessions \",\" Venture Capital \",\" Ventures for Good \",\" Vertical Search \",\" Veterinary \",\" Video \",\" Video Chat \",\" Video Conferencing \",\" Video Editing \",\" Video Games \",\" Video Processing \",\" Video Streaming \",\" Video on Demand \",\" Virtual Currency \",\" Virtual Goods \",\" Virtual Workforces \",\" Virtual Worlds \",\" Virtualization \",\" Visual Search \",\" Visualization \",\" VoIP \",\" Water \",\" Water Purification \",\" Wealth Management \",\" Web Browsers \",\" Web CMS \",\" Web Design \",\" Web Development \",\" Web Hosting \",\" Web Presence Management \",\" Web Tools \",\" WebOS \",\" Weddings \",\" Weird Hardware \",\" Wholesale \",\" Wind \",\" Windows Phone 7 \",\" Wine And Spirits \",\" Wireless \",\" Women \",\" World Domination \",\" Writers \",\" Young Adults \",\" iOS \",\" iPad \",\" iPhone \",\" iPod Touch \",\" mHealth \"],\"name\":\"\",\"parents\":[\"\",\"\",\"\",\"\",\"\",\"\",\"\",\"\",\"\",\"\",\"\",\"\",\"\",\"\",\"\",\"\",\"\",\"\",\"\",\"\",\"\",\"\",\"\",\"\",\"\",\"\",\"\",\"\",\"\",\"\",\"\",\"\",\"\",\"\",\"\",\"\",\"\",\"\",\"\",\"\",\"\",\"\",\"\",\"\",\"\",\"\",\"\",\"\",\"\",\"\",\"\",\"\",\"\",\"\",\"\",\"\",\"\",\"\",\"\",\"\",\"\",\"\",\"\",\"\",\"\",\"\",\"\",\"\",\"\",\"\",\"\",\"\",\"\",\"\",\"\",\"\",\"\",\"\",\"\",\"\",\"\",\"\",\"\",\"\",\"\",\"\",\"\",\"\",\"\",\"\",\"\",\"\",\"\",\"\",\"\",\"\",\"\",\"\",\"\",\"\",\"\",\"\",\"\",\"\",\"\",\"\",\"\",\"\",\"\",\"\",\"\",\"\",\"\",\"\",\"\",\"\",\"\",\"\",\"\",\"\",\"\",\"\",\"\",\"\",\"\",\"\",\"\",\"\",\"\",\"\",\"\",\"\",\"\",\"\",\"\",\"\",\"\",\"\",\"\",\"\",\"\",\"\",\"\",\"\",\"\",\"\",\"\",\"\",\"\",\"\",\"\",\"\",\"\",\"\",\"\",\"\",\"\",\"\",\"\",\"\",\"\",\"\",\"\",\"\",\"\",\"\",\"\",\"\",\"\",\"\",\"\",\"\",\"\",\"\",\"\",\"\",\"\",\"\",\"\",\"\",\"\",\"\",\"\",\"\",\"\",\"\",\"\",\"\",\"\",\"\",\"\",\"\",\"\",\"\",\"\",\"\",\"\",\"\",\"\",\"\",\"\",\"\",\"\",\"\",\"\",\"\",\"\",\"\",\"\",\"\",\"\",\"\",\"\",\"\",\"\",\"\",\"\",\"\",\"\",\"\",\"\",\"\",\"\",\"\",\"\",\"\",\"\",\"\",\"\",\"\",\"\",\"\",\"\",\"\",\"\",\"\",\"\",\"\",\"\",\"\",\"\",\"\",\"\",\"\",\"\",\"\",\"\",\"\",\"\",\"\",\"\",\"\",\"\",\"\",\"\",\"\",\"\",\"\",\"\",\"\",\"\",\"\",\"\",\"\",\"\",\"\",\"\",\"\",\"\",\"\",\"\",\"\",\"\",\"\",\"\",\"\",\"\",\"\",\"\",\"\",\"\",\"\",\"\",\"\",\"\",\"\",\"\",\"\",\"\",\"\",\"\",\"\",\"\",\"\",\"\",\"\",\"\",\"\",\"\",\"\",\"\",\"\",\"\",\"\",\"\",\"\",\"\",\"\",\"\",\"\",\"\",\"\",\"\",\"\",\"\",\"\",\"\",\"\",\"\",\"\",\"\",\"\",\"\",\"\",\"\",\"\",\"\",\"\",\"\",\"\",\"\",\"\",\"\",\"\",\"\",\"\",\"\",\"\",\"\",\"\",\"\",\"\",\"\",\"\",\"\",\"\",\"\",\"\",\"\",\"\",\"\",\"\",\"\",\"\",\"\",\"\",\"\",\"\",\"\",\"\",\"\",\"\",\"\",\"\",\"\",\"\",\"\",\"\",\"\",\"\",\"\",\"\",\"\",\"\",\"\",\"\",\"\",\"\",\"\",\"\",\"\",\"\",\"\",\"\",\"\",\"\",\"\",\"\",\"\",\"\",\"\",\"\",\"\",\"\",\"\",\"\",\"\",\"\",\"\",\"\",\"\",\"\",\"\",\"\",\"\",\"\",\"\",\"\",\"\",\"\",\"\",\"\",\"\",\"\",\"\",\"\",\"\",\"\",\"\",\"\",\"\",\"\",\"\",\"\",\"\",\"\",\"\",\"\",\"\",\"\",\"\",\"\",\"\",\"\",\"\",\"\",\"\",\"\",\"\",\"\",\"\",\"\",\"\",\"\",\"\",\"\",\"\",\"\",\"\",\"\",\"\",\"\",\"\",\"\",\"\",\"\",\"\",\"\",\"\",\"\",\"\",\"\",\"\",\"\",\"\",\"\",\"\",\"\",\"\",\"\",\"\",\"\",\"\",\"\",\"\",\"\",\"\",\"\",\"\",\"\",\"\",\"\",\"\",\"\",\"\",\"\",\"\",\"\",\"\",\"\",\"\",\"\",\"\",\"\",\"\",\"\",\"\",\"\",\"\",\"\",\"\",\"\",\"\",\"\",\"\",\"\",\"\",\"\",\"\",\"\",\"\",\"\",\"\",\"\",\"\",\"\",\"\",\"\",\"\",\"\",\"\",\"\",\"\",\"\",\"\",\"\",\"\",\"\",\"\",\"\",\"\",\"\",\"\",\"\",\"\",\"\",\"\",\"\",\"\",\"\",\"\",\"\",\"\",\"\",\"\",\"\",\"\",\"\",\"\",\"\",\"\",\"\",\"\",\"\",\"\",\"\",\"\",\"\",\"\",\"\",\"\",\"\",\"\",\"\",\"\",\"\",\"\",\"\",\"\",\"\",\"\",\"\",\"\",\"\",\"\",\"\",\"\",\"\",\"\",\"\",\"\",\"\",\"\",\"\",\"\",\"\",\"\",\"\",\"\",\"\",\"\",\"\",\"\",\"\",\"\",\"\",\"\",\"\",\"\",\"\",\"\",\"\",\"\",\"\",\"\",\"\",\"\",\"\",\"\",\"\",\"\",\"\",\"\",\"\",\"\",\"\",\"\",\"\",\"\",\"\",\"\",\"\",\"\",\"\",\"\",\"\",\"\",\"\",\"\",\"\",\"\",\"\",\"\",\"\",\"\",\"\",\"\",\"\",\"\",\"\",\"\",\"\",\"\",\"\",\"\",\"\",\"\",\"\",\"\",\"\",\"\",\"\",\"\",\"\",\"\",\"\",\"\",\"\",\"\",\"\",\"\",\"\",\"\",\"\",\"\",\"\",\"\",\"\",\"\",\"\",\"\",\"\",\"\",\"\",\"\",\"\",\"\",\"\",\"\",\"\",\"\",\"\",\"\",\"\",\"\",\"\",\"\",\"\",\"\",\"\",\"\",\"\",\"\",\"\",\"\",\"\",\"\",\"\",\"\",\"\",\"\",\"\",\"\",\"\",\"\",\"\",\"\",\"\",\"\",\"\",\"\",\"\",\"\",\"\",\"\",\"\",\"\",\"\",\"\",\"\",\"\",\"\",\"\",\"\",\"\",\"\",\"\",\"\",\"\",\"\",\"\",\"\",\"\",\"\",\"\",\"\",\"\",\"\",\"\",\"\",\"\",\"\",\"\",\"\",\"\",\"\",\"\",\"\",\"\",\"\",\"\",\"\",\"\"],\"values\":[77305763.0,32254000.0,11505000.0,311255618.0,179329558.0,0.0,1481432.0,11392641946.0,77420020.0,8200000.0,207860324.0,74719856.0,226615676.0,234451798.0,1336004.0,77901807.0,64763754.0,6200000.0,610000.0,7623910775.0,242191104.0,1669247.0,7665000.0,1850000.0,237528444.0,24317000.0,36019705.0,53355879.0,461417238.0,68060957.0,26185543.0,30118086.0,112254561.0,7609325.0,1300000.0,170462632.0,115875300.0,9812934.0,14537092.0,375000.0,3357700432.0,145397699.0,105000000.0,0.0,47518707.0,0.0,167000.0,543399354.0,614432095.0,220928253.0,150000.0,1446660273.0,512490760.0,155307955.0,138636173.0,0.0,7488328.0,0.0,3949837.0,53861285900.0,13486929.0,210200274.0,143584461.0,1932000.0,468348637.0,2570000.0,448520551.0,138817974.0,221640189.0,121853999.0,13163235.0,23278000.0,336794055.0,19910000.0,1251912535.0,0.0,273094411.0,8704000.0,0.0,51842.0,166658231.0,16849605.0,47102934.0,1600000.0,15805953.0,13000000.0,10505559.0,6845000.0,241556510.0,814044300.0,3200000.0,5000000.0,82837201.0,246913954.0,27109722051.0,38817.0,2542000.0,1370669330.0,1900481008.0,349802740.0,462376214.0,263761845.0,0.0,49074713.0,552968355.0,24205364.0,2950425.0,100000.0,329147.0,165934339.0,0.0,58354637.0,2500000.0,8020000.0,1363884210.0,71451689.0,2548199630.0,8358034.0,48875259.0,210562721.0,64850000.0,1122091365.0,2027834773.0,3210000.0,1420361756.0,110046653.0,88272213.0,1400000.0,565899806.0,1000000.0,60743595.0,551162140.0,1091740000.0,164900000.0,69092563.0,50038699.0,60000.0,88413663.0,46404420.0,84963892.0,11668000.0,115119.0,10820000.0,57852598.0,54600000.0,1232308.0,27738750.0,68093970.0,19394025.0,1041667100.0,231695000.0,54771036.0,396445139.0,7870474589.0,0.0,665373279.0,95180632.0,42400000.0,102829714.0,18775000.0,2170593.0,62770002.0,83061620.0,1076623145.0,341928662.0,103694662.0,24165000.0,466303491.0,115675135.0,442363086.0,0.0,6752380.0,2710000.0,23300000.0,68582876.0,1125042042.0,5900000.0,168978729.0,66135116.0,2378055146.0,395617903.0,349493383.0,0.0,28660000.0,672693394.0,15000000.0,85256462.0,53236939.0,500880.0,101880978.0,521910123.0,30000000.0,172666781.0,107633526.0,134217166.0,118377791.0,102993161.0,49975057.0,25308588.0,18677312806.0,82364141.0,1650000.0,0.0,2650000.0,81371884.0,3165097522.0,5307198.0,23519998.0,24277658.0,21191494.0,104969615.0,269831552.0,290599632.0,377273380.0,50000.0,2958000.0,30560000.0,23071740.0,70864773.0,658276294.0,301844631.0,4217000.0,51370753.0,0.0,23050000.0,116775000.0,11298100.0,38334974.0,456104.0,31300000.0,176146895.0,47903415.0,46400000.0,17556265803.0,473481994.0,1794997719.0,8915007.0,69238268.0,204845240.0,800000.0,154371953.0,369871820.0,12750000.0,3000000.0,25150000.0,185537460.0,1370000.0,186839268.0,500000.0,100.0,2688451745.0,933062499.0,59654525.0,830000.0,525350000.0,8500358372.0,1060871938.0,103188838.0,484993723.0,92030467.0,67569145.0,226217750.0,97572962.0,725000.0,823746253.0,48704500.0,7035000.0,69400000.0,28152897.0,22276400.0,44827868.0,1431376.0,1250000.0,4300000.0,29154707.0,61986546.0,114165000.0,7761253321.0,23166112.0,400000.0,600000.0,55228882.0,99398990.0,54707895.0,0.0,4030000.0,0.0,450000.0,143390000.0,100000.0,8000000.0,25910000.0,9250000.0,49925198.0,46909439.0,19877970.0,0.0,16335278.0,54800000.0,180762500.0,1500000.0,57386845.0,600000.0,1422298533.0,9077539321.0,23093320206.0,211981611.0,0.0,42687197.0,8362881116.0,169004549.0,45299500.0,1580000.0,20634626.0,17130000.0,319413137.0,351111850.0,123599890.0,22000.0,1846000.0,0.0,1260000.0,3431926168.0,246436155.0,356065826.0,22036213.0,5872344.0,492007402.0,22150000.0,0.0,196360278.0,52060580.0,102838263.0,118201398.0,295063001.0,27895531.0,5239960.0,85304926.0,7343251.0,0.0,37840000.0,3664000.0,5261000.0,24656275.0,166033629.0,57888948.0,879306638.0,171807104.0,1700000.0,34979335.0,10840000.0,203088693.0,10400000.0,13957640.0,0.0,12202276.0,13786122.0,3800000.0,5600000.0,9302768487.0,5664000.0,281646922.0,11473600.0,65587870.0,28416450.0,13485455.0,563767556.0,606042729.0,233169810.0,45893155.0,53622231.0,56369827.0,1908814.0,487500.0,88830000.0,0.0,31765427.0,267514934.0,49591212.0,565180619.0,29538855.0,20195885.0,258846753.0,612165959.0,1100000.0,282064.0,140850000.0,20000000.0,87147800.0,267718984.0,42393750.0,29834193.0,103902384.0,540000.0,175000.0,65318883.0,301601257.0,316656561.0,3860000.0,0.0,0.0,231509913.0,40477820.0,43791615.0,11370000.0,70014560.0,6346899044.0,144307201.0,296217439.0,687064341.0,768665860.0,11840601.0,35913905.0,18865228.0,765120.0,407618988.0,804501845.0,2203798364.0,275000.0,191068416.0,31882537.0,2169862652.0,8705520.0,1100000.0,27440000.0,46536427132.0,242672000.0,44750000.0,167189821.0,12750000.0,101944755.0,1140000.0,10920000.0,481507588.0,17495320.0,36470600.0,540172427.0,525191280.0,22804999.0,55944115.0,222875262.0,17735000.0,50981329.0,152814377.0,100000.0,421057.0,30200000.0,35000000.0,1510478352.0,1400000.0,30228076.0,775000.0,100000.0,250000.0,57899740.0,1194350200.0,0.0,6317573.0,41384000.0,198675351.0,1017063995.0,998653148.0,41550000.0,60000.0,0.0,2139201347.0,0.0,11358800.0,989668.0,53237000.0,284802485.0,332824.0,1655121.0,32925000.0,363738181.0,849845464.0,1694180346.0,6211968.0,47716255.0,86940661.0,86425000.0,68687871.0,65864869.0,126605990.0,3541810921.0,162525452.0,132766440.0,386463320.0,144879916.0,391123038.0,11725000.0,50943798.0,3165000.0,270118.0,78112474.0,642848851.0,2258000.0,245181147.0,14059556.0,12156291.0,1510541293.0,1149161304.0,32050332.0,0.0,520000.0,5564999.0,471712158.0,26064461.0,123598619.0,183034235.0,1224248980.0,27000000.0,100175551.0,2405324134.0,848798.0,587556653.0,18169345.0,338848350.0,69514680.0,24755774.0,20853800.0,2628688.0,457406283.0,91551784.0,92983473.0,247771388.0,178853555.0,9842321.0,2605000.0,36351314.0,27350000.0,400000.0,114655537.0,5665026.0,19196842.0,23698244.0,10159940.0,22877688.0,42580000.0,3603573.0,1044794674.0,16884307.0,1455591675.0,844951145.0,10500000.0,7669252.0,175000.0,6000000.0,635844.0,2300000.0,68569234.0,6500000.0,21000000.0,3000000.0,3276755367.0,8260000.0,199552427.0,0.0,114065015.0,0.0,421629302.0,21588465.0,550000.0,0.0,33000000.0,0.0,781138629.0,895000.0,25643099.0,45312461.0,6500000.0,18992723.0,360762970.0,750668751.0,264558738.0,2000000.0,338351358.0,423699274.0,157188294.0,0.0,101157299.0,165187164.0,56194473.0,1960307106.0,125788000.0,555311014.0,2627039159.0,66043852.0,5176207129.0,535149.0,260000.0,208433739.0,72241761.0,39100000.0,10212829085.0,2100000.0,2500000.0,40736562.0,16820000.0,57389376.0,1010015279.0,4800000.0,20088096.0,27248901.0,450558337.0,743224192.0,2642000.0,4315217.0,120129994.0,585191.0,308184455.0,1609813.0,21176147.0,14210000.0,32013402.0,110644059.0,99098000.0,212430116.0,22238000.0,69194691.0,0.0,3230000.0,2852333481.0,18801261.0,10000.0,19332701.0,233467299.0,56430483.0,30665365.0,510939051.0,0.0,7000000.0,90579543.0,57496002.0,4908039.0,23900248.0,36245484046.0,700000.0,3049436612.0,37500000.0,1743500.0,70000000.0,17125620.0,10100000.0,20395476.0,3995000.0,3644570.0,667516536.0,1521181.0,321747637.0,5923098.0,1212456780.0,66632009.0,30457208.0,173224606.0,18292132.0,200720375.0,104000.0,8885000.0,0.0,33959500.0,50000000.0,136215000.0,70346912.0,16437418.0,7409332.0,5265000.0,92290000.0,870000.0,9559118627.0,4535890.0,1851909446.0,37493975.0,402571000.0,28905507.0,382394061.0,8481427.0,9660931.0,717000.0,60000.0,800994572.0,93717416.0,5000000.0,10818520.0,29052787.0,195595023.0,11730492.0,65139037.0,22000000.0,76045528.0,3605169983.0,3281751989.0,59357691.0,15195000.0,48871683.0,8050000.0,177828704.0,118606025.0,1107864.0,1031500.0,0.0,1585738.0,12731073.0,436236358.0,96169232.0,1100000.0,218802308.0,40000.0,1635000.0,34623.0,2218913447.0,3660000.0,12403250.0,625000.0,153540382.0,670000.0,1019953209.0,111381038.0,6174299.0,6000000.0,70300000.0,71312633.0,546766751.0,67185848.0,19940086.0,225951921.0,3189399.0,52488805.0,136491250.0,30438800.0,393349588.0,110799370.0,699795572.0,7362853793.0,0.0,507945354.0,1447300.0,32695000.0,0.0,3303117.0,14000000.0,19260978.0,9992248.0,3037625631.0,75487095.0,88824220.0,345000.0,1100000.0,221147342.0,47962714.0,202824149.0,4338000.0,4902386.0],\"type\":\"treemap\"}],                        {\"template\":{\"data\":{\"bar\":[{\"error_x\":{\"color\":\"#2a3f5f\"},\"error_y\":{\"color\":\"#2a3f5f\"},\"marker\":{\"line\":{\"color\":\"#E5ECF6\",\"width\":0.5},\"pattern\":{\"fillmode\":\"overlay\",\"size\":10,\"solidity\":0.2}},\"type\":\"bar\"}],\"barpolar\":[{\"marker\":{\"line\":{\"color\":\"#E5ECF6\",\"width\":0.5},\"pattern\":{\"fillmode\":\"overlay\",\"size\":10,\"solidity\":0.2}},\"type\":\"barpolar\"}],\"carpet\":[{\"aaxis\":{\"endlinecolor\":\"#2a3f5f\",\"gridcolor\":\"white\",\"linecolor\":\"white\",\"minorgridcolor\":\"white\",\"startlinecolor\":\"#2a3f5f\"},\"baxis\":{\"endlinecolor\":\"#2a3f5f\",\"gridcolor\":\"white\",\"linecolor\":\"white\",\"minorgridcolor\":\"white\",\"startlinecolor\":\"#2a3f5f\"},\"type\":\"carpet\"}],\"choropleth\":[{\"colorbar\":{\"outlinewidth\":0,\"ticks\":\"\"},\"type\":\"choropleth\"}],\"contour\":[{\"colorbar\":{\"outlinewidth\":0,\"ticks\":\"\"},\"colorscale\":[[0.0,\"#0d0887\"],[0.1111111111111111,\"#46039f\"],[0.2222222222222222,\"#7201a8\"],[0.3333333333333333,\"#9c179e\"],[0.4444444444444444,\"#bd3786\"],[0.5555555555555556,\"#d8576b\"],[0.6666666666666666,\"#ed7953\"],[0.7777777777777778,\"#fb9f3a\"],[0.8888888888888888,\"#fdca26\"],[1.0,\"#f0f921\"]],\"type\":\"contour\"}],\"contourcarpet\":[{\"colorbar\":{\"outlinewidth\":0,\"ticks\":\"\"},\"type\":\"contourcarpet\"}],\"heatmap\":[{\"colorbar\":{\"outlinewidth\":0,\"ticks\":\"\"},\"colorscale\":[[0.0,\"#0d0887\"],[0.1111111111111111,\"#46039f\"],[0.2222222222222222,\"#7201a8\"],[0.3333333333333333,\"#9c179e\"],[0.4444444444444444,\"#bd3786\"],[0.5555555555555556,\"#d8576b\"],[0.6666666666666666,\"#ed7953\"],[0.7777777777777778,\"#fb9f3a\"],[0.8888888888888888,\"#fdca26\"],[1.0,\"#f0f921\"]],\"type\":\"heatmap\"}],\"heatmapgl\":[{\"colorbar\":{\"outlinewidth\":0,\"ticks\":\"\"},\"colorscale\":[[0.0,\"#0d0887\"],[0.1111111111111111,\"#46039f\"],[0.2222222222222222,\"#7201a8\"],[0.3333333333333333,\"#9c179e\"],[0.4444444444444444,\"#bd3786\"],[0.5555555555555556,\"#d8576b\"],[0.6666666666666666,\"#ed7953\"],[0.7777777777777778,\"#fb9f3a\"],[0.8888888888888888,\"#fdca26\"],[1.0,\"#f0f921\"]],\"type\":\"heatmapgl\"}],\"histogram\":[{\"marker\":{\"pattern\":{\"fillmode\":\"overlay\",\"size\":10,\"solidity\":0.2}},\"type\":\"histogram\"}],\"histogram2d\":[{\"colorbar\":{\"outlinewidth\":0,\"ticks\":\"\"},\"colorscale\":[[0.0,\"#0d0887\"],[0.1111111111111111,\"#46039f\"],[0.2222222222222222,\"#7201a8\"],[0.3333333333333333,\"#9c179e\"],[0.4444444444444444,\"#bd3786\"],[0.5555555555555556,\"#d8576b\"],[0.6666666666666666,\"#ed7953\"],[0.7777777777777778,\"#fb9f3a\"],[0.8888888888888888,\"#fdca26\"],[1.0,\"#f0f921\"]],\"type\":\"histogram2d\"}],\"histogram2dcontour\":[{\"colorbar\":{\"outlinewidth\":0,\"ticks\":\"\"},\"colorscale\":[[0.0,\"#0d0887\"],[0.1111111111111111,\"#46039f\"],[0.2222222222222222,\"#7201a8\"],[0.3333333333333333,\"#9c179e\"],[0.4444444444444444,\"#bd3786\"],[0.5555555555555556,\"#d8576b\"],[0.6666666666666666,\"#ed7953\"],[0.7777777777777778,\"#fb9f3a\"],[0.8888888888888888,\"#fdca26\"],[1.0,\"#f0f921\"]],\"type\":\"histogram2dcontour\"}],\"mesh3d\":[{\"colorbar\":{\"outlinewidth\":0,\"ticks\":\"\"},\"type\":\"mesh3d\"}],\"parcoords\":[{\"line\":{\"colorbar\":{\"outlinewidth\":0,\"ticks\":\"\"}},\"type\":\"parcoords\"}],\"pie\":[{\"automargin\":true,\"type\":\"pie\"}],\"scatter\":[{\"marker\":{\"colorbar\":{\"outlinewidth\":0,\"ticks\":\"\"}},\"type\":\"scatter\"}],\"scatter3d\":[{\"line\":{\"colorbar\":{\"outlinewidth\":0,\"ticks\":\"\"}},\"marker\":{\"colorbar\":{\"outlinewidth\":0,\"ticks\":\"\"}},\"type\":\"scatter3d\"}],\"scattercarpet\":[{\"marker\":{\"colorbar\":{\"outlinewidth\":0,\"ticks\":\"\"}},\"type\":\"scattercarpet\"}],\"scattergeo\":[{\"marker\":{\"colorbar\":{\"outlinewidth\":0,\"ticks\":\"\"}},\"type\":\"scattergeo\"}],\"scattergl\":[{\"marker\":{\"colorbar\":{\"outlinewidth\":0,\"ticks\":\"\"}},\"type\":\"scattergl\"}],\"scattermapbox\":[{\"marker\":{\"colorbar\":{\"outlinewidth\":0,\"ticks\":\"\"}},\"type\":\"scattermapbox\"}],\"scatterpolar\":[{\"marker\":{\"colorbar\":{\"outlinewidth\":0,\"ticks\":\"\"}},\"type\":\"scatterpolar\"}],\"scatterpolargl\":[{\"marker\":{\"colorbar\":{\"outlinewidth\":0,\"ticks\":\"\"}},\"type\":\"scatterpolargl\"}],\"scatterternary\":[{\"marker\":{\"colorbar\":{\"outlinewidth\":0,\"ticks\":\"\"}},\"type\":\"scatterternary\"}],\"surface\":[{\"colorbar\":{\"outlinewidth\":0,\"ticks\":\"\"},\"colorscale\":[[0.0,\"#0d0887\"],[0.1111111111111111,\"#46039f\"],[0.2222222222222222,\"#7201a8\"],[0.3333333333333333,\"#9c179e\"],[0.4444444444444444,\"#bd3786\"],[0.5555555555555556,\"#d8576b\"],[0.6666666666666666,\"#ed7953\"],[0.7777777777777778,\"#fb9f3a\"],[0.8888888888888888,\"#fdca26\"],[1.0,\"#f0f921\"]],\"type\":\"surface\"}],\"table\":[{\"cells\":{\"fill\":{\"color\":\"#EBF0F8\"},\"line\":{\"color\":\"white\"}},\"header\":{\"fill\":{\"color\":\"#C8D4E3\"},\"line\":{\"color\":\"white\"}},\"type\":\"table\"}]},\"layout\":{\"annotationdefaults\":{\"arrowcolor\":\"#2a3f5f\",\"arrowhead\":0,\"arrowwidth\":1},\"autotypenumbers\":\"strict\",\"coloraxis\":{\"colorbar\":{\"outlinewidth\":0,\"ticks\":\"\"}},\"colorscale\":{\"diverging\":[[0,\"#8e0152\"],[0.1,\"#c51b7d\"],[0.2,\"#de77ae\"],[0.3,\"#f1b6da\"],[0.4,\"#fde0ef\"],[0.5,\"#f7f7f7\"],[0.6,\"#e6f5d0\"],[0.7,\"#b8e186\"],[0.8,\"#7fbc41\"],[0.9,\"#4d9221\"],[1,\"#276419\"]],\"sequential\":[[0.0,\"#0d0887\"],[0.1111111111111111,\"#46039f\"],[0.2222222222222222,\"#7201a8\"],[0.3333333333333333,\"#9c179e\"],[0.4444444444444444,\"#bd3786\"],[0.5555555555555556,\"#d8576b\"],[0.6666666666666666,\"#ed7953\"],[0.7777777777777778,\"#fb9f3a\"],[0.8888888888888888,\"#fdca26\"],[1.0,\"#f0f921\"]],\"sequentialminus\":[[0.0,\"#0d0887\"],[0.1111111111111111,\"#46039f\"],[0.2222222222222222,\"#7201a8\"],[0.3333333333333333,\"#9c179e\"],[0.4444444444444444,\"#bd3786\"],[0.5555555555555556,\"#d8576b\"],[0.6666666666666666,\"#ed7953\"],[0.7777777777777778,\"#fb9f3a\"],[0.8888888888888888,\"#fdca26\"],[1.0,\"#f0f921\"]]},\"colorway\":[\"#636efa\",\"#EF553B\",\"#00cc96\",\"#ab63fa\",\"#FFA15A\",\"#19d3f3\",\"#FF6692\",\"#B6E880\",\"#FF97FF\",\"#FECB52\"],\"font\":{\"color\":\"#2a3f5f\"},\"geo\":{\"bgcolor\":\"white\",\"lakecolor\":\"white\",\"landcolor\":\"#E5ECF6\",\"showlakes\":true,\"showland\":true,\"subunitcolor\":\"white\"},\"hoverlabel\":{\"align\":\"left\"},\"hovermode\":\"closest\",\"mapbox\":{\"style\":\"light\"},\"paper_bgcolor\":\"white\",\"plot_bgcolor\":\"#E5ECF6\",\"polar\":{\"angularaxis\":{\"gridcolor\":\"white\",\"linecolor\":\"white\",\"ticks\":\"\"},\"bgcolor\":\"#E5ECF6\",\"radialaxis\":{\"gridcolor\":\"white\",\"linecolor\":\"white\",\"ticks\":\"\"}},\"scene\":{\"xaxis\":{\"backgroundcolor\":\"#E5ECF6\",\"gridcolor\":\"white\",\"gridwidth\":2,\"linecolor\":\"white\",\"showbackground\":true,\"ticks\":\"\",\"zerolinecolor\":\"white\"},\"yaxis\":{\"backgroundcolor\":\"#E5ECF6\",\"gridcolor\":\"white\",\"gridwidth\":2,\"linecolor\":\"white\",\"showbackground\":true,\"ticks\":\"\",\"zerolinecolor\":\"white\"},\"zaxis\":{\"backgroundcolor\":\"#E5ECF6\",\"gridcolor\":\"white\",\"gridwidth\":2,\"linecolor\":\"white\",\"showbackground\":true,\"ticks\":\"\",\"zerolinecolor\":\"white\"}},\"shapedefaults\":{\"line\":{\"color\":\"#2a3f5f\"}},\"ternary\":{\"aaxis\":{\"gridcolor\":\"white\",\"linecolor\":\"white\",\"ticks\":\"\"},\"baxis\":{\"gridcolor\":\"white\",\"linecolor\":\"white\",\"ticks\":\"\"},\"bgcolor\":\"#E5ECF6\",\"caxis\":{\"gridcolor\":\"white\",\"linecolor\":\"white\",\"ticks\":\"\"}},\"title\":{\"x\":0.05},\"xaxis\":{\"automargin\":true,\"gridcolor\":\"white\",\"linecolor\":\"white\",\"ticks\":\"\",\"title\":{\"standoff\":15},\"zerolinecolor\":\"white\",\"zerolinewidth\":2},\"yaxis\":{\"automargin\":true,\"gridcolor\":\"white\",\"linecolor\":\"white\",\"ticks\":\"\",\"title\":{\"standoff\":15},\"zerolinecolor\":\"white\",\"zerolinewidth\":2}}},\"legend\":{\"tracegroupgap\":0},\"margin\":{\"t\":60},\"treemapcolorway\":[\"#FD3216\",\"#00FE35\",\"#6A76FC\",\"#FED4C4\",\"#FE00CE\",\"#0DF9FF\",\"#F6F926\",\"#FF9616\",\"#479B55\",\"#EEA6FB\",\"#DC587D\",\"#D626FF\",\"#6E899C\",\"#00B5F7\",\"#B68E00\",\"#C9FBE5\",\"#FF0092\",\"#22FFA7\",\"#E3EE9E\",\"#86CE00\",\"#BC7196\",\"#7E7DCD\",\"#FC6955\",\"#E48F72\"],\"title\":{\"text\":\"Total investment in each industry\"}},                        {\"responsive\": true}                    ).then(function(){\n",
       "                            \n",
       "var gd = document.getElementById('45bf1d5e-6f52-4cfd-a04e-18cbae45a7a8');\n",
       "var x = new MutationObserver(function (mutations, observer) {{\n",
       "        var display = window.getComputedStyle(gd).display;\n",
       "        if (!display || display === 'none') {{\n",
       "            console.log([gd, 'removed!']);\n",
       "            Plotly.purge(gd);\n",
       "            observer.disconnect();\n",
       "        }}\n",
       "}});\n",
       "\n",
       "// Listen for the removal of the full notebook cells\n",
       "var notebookContainer = gd.closest('#notebook-container');\n",
       "if (notebookContainer) {{\n",
       "    x.observe(notebookContainer, {childList: true});\n",
       "}}\n",
       "\n",
       "// Listen for the clearing of the current output cell\n",
       "var outputEl = gd.closest('.output');\n",
       "if (outputEl) {{\n",
       "    x.observe(outputEl, {childList: true});\n",
       "}}\n",
       "\n",
       "                        })                };                            </script>        </div>\n",
       "</body>\n",
       "</html>"
      ]
     },
     "metadata": {},
     "output_type": "display_data"
    }
   ],
   "source": [
    "import plotly.express as px\n",
    "\n",
    "fig = px.treemap(pd.DataFrame(total_investments).reset_index(), path=['market'], values='funding_total_usd',\n",
    "                  color_discrete_sequence=px.colors.qualitative.Light24)\n",
    "\n",
    "fig.update_layout(title=\"Total investment in each industry\")\n",
    "# fig.update_traces(textinfo='label+value', textfont_size=10, texttemplate='%{label}: %{value:.2f}')\n",
    "fig.show()"
   ]
  },
  {
   "cell_type": "markdown",
   "metadata": {
    "id": "Rqe2NB9VpgsQ"
   },
   "source": [
    "The following figure illustrates that even though the top three total investments have been in the biotechnology, mobile, and software industries, the top 3 average investments happened in no-necessarily tech industries. Development platforms, Chemicals, and Content Creators have been the top 3 industries with the highest average investments."
   ]
  },
  {
   "cell_type": "code",
   "execution_count": null,
   "metadata": {
    "colab": {
     "base_uri": "https://localhost:8080/",
     "height": 542
    },
    "id": "SYLaMGIAnhxU",
    "outputId": "12ba1af8-3c7d-4416-d5be-4bcedf5c76d9"
   },
   "outputs": [
    {
     "data": {
      "text/html": [
       "<html>\n",
       "<head><meta charset=\"utf-8\" /></head>\n",
       "<body>\n",
       "    <div>            <script src=\"https://cdnjs.cloudflare.com/ajax/libs/mathjax/2.7.5/MathJax.js?config=TeX-AMS-MML_SVG\"></script><script type=\"text/javascript\">if (window.MathJax) {MathJax.Hub.Config({SVG: {font: \"STIX-Web\"}});}</script>                <script type=\"text/javascript\">window.PlotlyConfig = {MathJaxConfig: 'local'};</script>\n",
       "        <script src=\"https://cdn.plot.ly/plotly-2.8.3.min.js\"></script>                <div id=\"582489bd-9e89-4df7-bcb8-34c93aa9005b\" class=\"plotly-graph-div\" style=\"height:525px; width:100%;\"></div>            <script type=\"text/javascript\">                                    window.PLOTLYENV=window.PLOTLYENV || {};                                    if (document.getElementById(\"582489bd-9e89-4df7-bcb8-34c93aa9005b\")) {                    Plotly.newPlot(                        \"582489bd-9e89-4df7-bcb8-34c93aa9005b\",                        [{\"alignmentgroup\":\"True\",\"hovertemplate\":\"<b>%{y:.2f} USD</b><extra></extra>\",\"legendgroup\":\"\",\"marker\":{\"color\":\"#3366CC\",\"pattern\":{\"shape\":\"\"}},\"name\":\"\",\"offsetgroup\":\"\",\"orientation\":\"v\",\"showlegend\":false,\"textposition\":\"auto\",\"x\":[\" Development Platforms \",\" Chemicals \",\" Content Creators \",\" B2B Express Delivery \",\" Batteries \",\" Construction \",\" Communications Hardware \",\" Credit \",\" Communities \",\" Cloud Data Services \"],\"xaxis\":\"x\",\"y\":[139885596.82352942,135674050.0,121304444.44444445,105000000.0,102405349.16666667,93507613.75,85242763.125,80128238.46153846,65338452.05128205,57590333.57575758],\"yaxis\":\"y\",\"type\":\"bar\"},{\"line\":{\"color\":\"Blue\",\"dash\":\"dash\"},\"mode\":\"lines\",\"name\":\"Average funding\",\"x\":[\" Development Platforms \",\" Chemicals \",\" Content Creators \",\" B2B Express Delivery \",\" Batteries \",\" Construction \",\" Communications Hardware \",\" Credit \",\" Communities \",\" Cloud Data Services \"],\"y\":[13467965.904240226,13467965.904240226,13467965.904240226,13467965.904240226,13467965.904240226,13467965.904240226,13467965.904240226,13467965.904240226,13467965.904240226,13467965.904240226],\"type\":\"scatter\",\"hovertemplate\":\"<b>%{y:.2f} USD</b><extra></extra>\"}],                        {\"template\":{\"data\":{\"bar\":[{\"error_x\":{\"color\":\"#2a3f5f\"},\"error_y\":{\"color\":\"#2a3f5f\"},\"marker\":{\"line\":{\"color\":\"#E5ECF6\",\"width\":0.5},\"pattern\":{\"fillmode\":\"overlay\",\"size\":10,\"solidity\":0.2}},\"type\":\"bar\"}],\"barpolar\":[{\"marker\":{\"line\":{\"color\":\"#E5ECF6\",\"width\":0.5},\"pattern\":{\"fillmode\":\"overlay\",\"size\":10,\"solidity\":0.2}},\"type\":\"barpolar\"}],\"carpet\":[{\"aaxis\":{\"endlinecolor\":\"#2a3f5f\",\"gridcolor\":\"white\",\"linecolor\":\"white\",\"minorgridcolor\":\"white\",\"startlinecolor\":\"#2a3f5f\"},\"baxis\":{\"endlinecolor\":\"#2a3f5f\",\"gridcolor\":\"white\",\"linecolor\":\"white\",\"minorgridcolor\":\"white\",\"startlinecolor\":\"#2a3f5f\"},\"type\":\"carpet\"}],\"choropleth\":[{\"colorbar\":{\"outlinewidth\":0,\"ticks\":\"\"},\"type\":\"choropleth\"}],\"contour\":[{\"colorbar\":{\"outlinewidth\":0,\"ticks\":\"\"},\"colorscale\":[[0.0,\"#0d0887\"],[0.1111111111111111,\"#46039f\"],[0.2222222222222222,\"#7201a8\"],[0.3333333333333333,\"#9c179e\"],[0.4444444444444444,\"#bd3786\"],[0.5555555555555556,\"#d8576b\"],[0.6666666666666666,\"#ed7953\"],[0.7777777777777778,\"#fb9f3a\"],[0.8888888888888888,\"#fdca26\"],[1.0,\"#f0f921\"]],\"type\":\"contour\"}],\"contourcarpet\":[{\"colorbar\":{\"outlinewidth\":0,\"ticks\":\"\"},\"type\":\"contourcarpet\"}],\"heatmap\":[{\"colorbar\":{\"outlinewidth\":0,\"ticks\":\"\"},\"colorscale\":[[0.0,\"#0d0887\"],[0.1111111111111111,\"#46039f\"],[0.2222222222222222,\"#7201a8\"],[0.3333333333333333,\"#9c179e\"],[0.4444444444444444,\"#bd3786\"],[0.5555555555555556,\"#d8576b\"],[0.6666666666666666,\"#ed7953\"],[0.7777777777777778,\"#fb9f3a\"],[0.8888888888888888,\"#fdca26\"],[1.0,\"#f0f921\"]],\"type\":\"heatmap\"}],\"heatmapgl\":[{\"colorbar\":{\"outlinewidth\":0,\"ticks\":\"\"},\"colorscale\":[[0.0,\"#0d0887\"],[0.1111111111111111,\"#46039f\"],[0.2222222222222222,\"#7201a8\"],[0.3333333333333333,\"#9c179e\"],[0.4444444444444444,\"#bd3786\"],[0.5555555555555556,\"#d8576b\"],[0.6666666666666666,\"#ed7953\"],[0.7777777777777778,\"#fb9f3a\"],[0.8888888888888888,\"#fdca26\"],[1.0,\"#f0f921\"]],\"type\":\"heatmapgl\"}],\"histogram\":[{\"marker\":{\"pattern\":{\"fillmode\":\"overlay\",\"size\":10,\"solidity\":0.2}},\"type\":\"histogram\"}],\"histogram2d\":[{\"colorbar\":{\"outlinewidth\":0,\"ticks\":\"\"},\"colorscale\":[[0.0,\"#0d0887\"],[0.1111111111111111,\"#46039f\"],[0.2222222222222222,\"#7201a8\"],[0.3333333333333333,\"#9c179e\"],[0.4444444444444444,\"#bd3786\"],[0.5555555555555556,\"#d8576b\"],[0.6666666666666666,\"#ed7953\"],[0.7777777777777778,\"#fb9f3a\"],[0.8888888888888888,\"#fdca26\"],[1.0,\"#f0f921\"]],\"type\":\"histogram2d\"}],\"histogram2dcontour\":[{\"colorbar\":{\"outlinewidth\":0,\"ticks\":\"\"},\"colorscale\":[[0.0,\"#0d0887\"],[0.1111111111111111,\"#46039f\"],[0.2222222222222222,\"#7201a8\"],[0.3333333333333333,\"#9c179e\"],[0.4444444444444444,\"#bd3786\"],[0.5555555555555556,\"#d8576b\"],[0.6666666666666666,\"#ed7953\"],[0.7777777777777778,\"#fb9f3a\"],[0.8888888888888888,\"#fdca26\"],[1.0,\"#f0f921\"]],\"type\":\"histogram2dcontour\"}],\"mesh3d\":[{\"colorbar\":{\"outlinewidth\":0,\"ticks\":\"\"},\"type\":\"mesh3d\"}],\"parcoords\":[{\"line\":{\"colorbar\":{\"outlinewidth\":0,\"ticks\":\"\"}},\"type\":\"parcoords\"}],\"pie\":[{\"automargin\":true,\"type\":\"pie\"}],\"scatter\":[{\"marker\":{\"colorbar\":{\"outlinewidth\":0,\"ticks\":\"\"}},\"type\":\"scatter\"}],\"scatter3d\":[{\"line\":{\"colorbar\":{\"outlinewidth\":0,\"ticks\":\"\"}},\"marker\":{\"colorbar\":{\"outlinewidth\":0,\"ticks\":\"\"}},\"type\":\"scatter3d\"}],\"scattercarpet\":[{\"marker\":{\"colorbar\":{\"outlinewidth\":0,\"ticks\":\"\"}},\"type\":\"scattercarpet\"}],\"scattergeo\":[{\"marker\":{\"colorbar\":{\"outlinewidth\":0,\"ticks\":\"\"}},\"type\":\"scattergeo\"}],\"scattergl\":[{\"marker\":{\"colorbar\":{\"outlinewidth\":0,\"ticks\":\"\"}},\"type\":\"scattergl\"}],\"scattermapbox\":[{\"marker\":{\"colorbar\":{\"outlinewidth\":0,\"ticks\":\"\"}},\"type\":\"scattermapbox\"}],\"scatterpolar\":[{\"marker\":{\"colorbar\":{\"outlinewidth\":0,\"ticks\":\"\"}},\"type\":\"scatterpolar\"}],\"scatterpolargl\":[{\"marker\":{\"colorbar\":{\"outlinewidth\":0,\"ticks\":\"\"}},\"type\":\"scatterpolargl\"}],\"scatterternary\":[{\"marker\":{\"colorbar\":{\"outlinewidth\":0,\"ticks\":\"\"}},\"type\":\"scatterternary\"}],\"surface\":[{\"colorbar\":{\"outlinewidth\":0,\"ticks\":\"\"},\"colorscale\":[[0.0,\"#0d0887\"],[0.1111111111111111,\"#46039f\"],[0.2222222222222222,\"#7201a8\"],[0.3333333333333333,\"#9c179e\"],[0.4444444444444444,\"#bd3786\"],[0.5555555555555556,\"#d8576b\"],[0.6666666666666666,\"#ed7953\"],[0.7777777777777778,\"#fb9f3a\"],[0.8888888888888888,\"#fdca26\"],[1.0,\"#f0f921\"]],\"type\":\"surface\"}],\"table\":[{\"cells\":{\"fill\":{\"color\":\"#EBF0F8\"},\"line\":{\"color\":\"white\"}},\"header\":{\"fill\":{\"color\":\"#C8D4E3\"},\"line\":{\"color\":\"white\"}},\"type\":\"table\"}]},\"layout\":{\"annotationdefaults\":{\"arrowcolor\":\"#2a3f5f\",\"arrowhead\":0,\"arrowwidth\":1},\"autotypenumbers\":\"strict\",\"coloraxis\":{\"colorbar\":{\"outlinewidth\":0,\"ticks\":\"\"}},\"colorscale\":{\"diverging\":[[0,\"#8e0152\"],[0.1,\"#c51b7d\"],[0.2,\"#de77ae\"],[0.3,\"#f1b6da\"],[0.4,\"#fde0ef\"],[0.5,\"#f7f7f7\"],[0.6,\"#e6f5d0\"],[0.7,\"#b8e186\"],[0.8,\"#7fbc41\"],[0.9,\"#4d9221\"],[1,\"#276419\"]],\"sequential\":[[0.0,\"#0d0887\"],[0.1111111111111111,\"#46039f\"],[0.2222222222222222,\"#7201a8\"],[0.3333333333333333,\"#9c179e\"],[0.4444444444444444,\"#bd3786\"],[0.5555555555555556,\"#d8576b\"],[0.6666666666666666,\"#ed7953\"],[0.7777777777777778,\"#fb9f3a\"],[0.8888888888888888,\"#fdca26\"],[1.0,\"#f0f921\"]],\"sequentialminus\":[[0.0,\"#0d0887\"],[0.1111111111111111,\"#46039f\"],[0.2222222222222222,\"#7201a8\"],[0.3333333333333333,\"#9c179e\"],[0.4444444444444444,\"#bd3786\"],[0.5555555555555556,\"#d8576b\"],[0.6666666666666666,\"#ed7953\"],[0.7777777777777778,\"#fb9f3a\"],[0.8888888888888888,\"#fdca26\"],[1.0,\"#f0f921\"]]},\"colorway\":[\"#636efa\",\"#EF553B\",\"#00cc96\",\"#ab63fa\",\"#FFA15A\",\"#19d3f3\",\"#FF6692\",\"#B6E880\",\"#FF97FF\",\"#FECB52\"],\"font\":{\"color\":\"#2a3f5f\"},\"geo\":{\"bgcolor\":\"white\",\"lakecolor\":\"white\",\"landcolor\":\"#E5ECF6\",\"showlakes\":true,\"showland\":true,\"subunitcolor\":\"white\"},\"hoverlabel\":{\"align\":\"left\"},\"hovermode\":\"closest\",\"mapbox\":{\"style\":\"light\"},\"paper_bgcolor\":\"white\",\"plot_bgcolor\":\"#E5ECF6\",\"polar\":{\"angularaxis\":{\"gridcolor\":\"white\",\"linecolor\":\"white\",\"ticks\":\"\"},\"bgcolor\":\"#E5ECF6\",\"radialaxis\":{\"gridcolor\":\"white\",\"linecolor\":\"white\",\"ticks\":\"\"}},\"scene\":{\"xaxis\":{\"backgroundcolor\":\"#E5ECF6\",\"gridcolor\":\"white\",\"gridwidth\":2,\"linecolor\":\"white\",\"showbackground\":true,\"ticks\":\"\",\"zerolinecolor\":\"white\"},\"yaxis\":{\"backgroundcolor\":\"#E5ECF6\",\"gridcolor\":\"white\",\"gridwidth\":2,\"linecolor\":\"white\",\"showbackground\":true,\"ticks\":\"\",\"zerolinecolor\":\"white\"},\"zaxis\":{\"backgroundcolor\":\"#E5ECF6\",\"gridcolor\":\"white\",\"gridwidth\":2,\"linecolor\":\"white\",\"showbackground\":true,\"ticks\":\"\",\"zerolinecolor\":\"white\"}},\"shapedefaults\":{\"line\":{\"color\":\"#2a3f5f\"}},\"ternary\":{\"aaxis\":{\"gridcolor\":\"white\",\"linecolor\":\"white\",\"ticks\":\"\"},\"baxis\":{\"gridcolor\":\"white\",\"linecolor\":\"white\",\"ticks\":\"\"},\"bgcolor\":\"#E5ECF6\",\"caxis\":{\"gridcolor\":\"white\",\"linecolor\":\"white\",\"ticks\":\"\"}},\"title\":{\"x\":0.05},\"xaxis\":{\"automargin\":true,\"gridcolor\":\"white\",\"linecolor\":\"white\",\"ticks\":\"\",\"title\":{\"standoff\":15},\"zerolinecolor\":\"white\",\"zerolinewidth\":2},\"yaxis\":{\"automargin\":true,\"gridcolor\":\"white\",\"linecolor\":\"white\",\"ticks\":\"\",\"title\":{\"standoff\":15},\"zerolinecolor\":\"white\",\"zerolinewidth\":2}}},\"xaxis\":{\"anchor\":\"y\",\"domain\":[0.0,1.0],\"title\":{\"text\":\"Markets\"}},\"yaxis\":{\"anchor\":\"x\",\"domain\":[0.0,1.0],\"title\":{\"text\":\"Average Funding (USD)\"}},\"legend\":{\"tracegroupgap\":0},\"title\":{\"text\":\"Average funding per market (USD)\"},\"barmode\":\"relative\",\"showlegend\":false},                        {\"responsive\": true}                    ).then(function(){\n",
       "                            \n",
       "var gd = document.getElementById('582489bd-9e89-4df7-bcb8-34c93aa9005b');\n",
       "var x = new MutationObserver(function (mutations, observer) {{\n",
       "        var display = window.getComputedStyle(gd).display;\n",
       "        if (!display || display === 'none') {{\n",
       "            console.log([gd, 'removed!']);\n",
       "            Plotly.purge(gd);\n",
       "            observer.disconnect();\n",
       "        }}\n",
       "}});\n",
       "\n",
       "// Listen for the removal of the full notebook cells\n",
       "var notebookContainer = gd.closest('#notebook-container');\n",
       "if (notebookContainer) {{\n",
       "    x.observe(notebookContainer, {childList: true});\n",
       "}}\n",
       "\n",
       "// Listen for the clearing of the current output cell\n",
       "var outputEl = gd.closest('.output');\n",
       "if (outputEl) {{\n",
       "    x.observe(outputEl, {childList: true});\n",
       "}}\n",
       "\n",
       "                        })                };                            </script>        </div>\n",
       "</body>\n",
       "</html>"
      ]
     },
     "metadata": {},
     "output_type": "display_data"
    }
   ],
   "source": [
    "import plotly.express as px\n",
    "\n",
    "total_investments = df.groupby(\"market\").mean().funding_total_usd\n",
    "total_investments = sorted(dict(total_investments).items(), key=lambda x: x[1], reverse= True)\n",
    "top_10_investments = [total_investments[index][1] for index in range(10)]\n",
    "top10_investments_markets = [total_investments[index][0] for index in range(10)]\n",
    "\n",
    "fig = px.bar(x=top10_investments_markets, y=top_10_investments, labels={'x':'Markets', 'y':'Average Funding (USD)'}, title=\"Average funding per market (USD)\", color_discrete_sequence=px.colors.qualitative.G10)\n",
    "fig.update_layout(showlegend=False)\n",
    "fig.add_scatter(x=top10_investments_markets, y=[mean_funding for _ in range(10)], mode=\"lines\", line={'dash':'dash', 'color':'Blue'}, name=\"Average funding\")\n",
    "fig.update_traces(hovertemplate=\"<b>%{y:.2f} USD</b><extra></extra>\")"
   ]
  },
  {
   "cell_type": "markdown",
   "metadata": {
    "id": "ojOkDXrjhkHg"
   },
   "source": [
    "## How are different industries and start-ups different in terms of their investment rounds?"
   ]
  },
  {
   "cell_type": "markdown",
   "metadata": {
    "id": "J8h2HE__uXJG"
   },
   "source": [
    "Overall, it is clear that start-ups in certain industries may have more rounds of investment than those in other industries. This could be due to the industry having more attractive prospects for growth or a greater potential for returns. Additionally, it could be because the start-ups in the industry are seen as having better management teams or stronger business models than those in the other industry. However, these industries may not have the highest average total investments in comparison to other industries, indicating that investors may have preferred to spread their investments across multiple industries."
   ]
  },
  {
   "cell_type": "code",
   "execution_count": null,
   "metadata": {
    "id": "b-XR7ghAAga2"
   },
   "outputs": [],
   "source": [
    "mean_funding_rounds = df[\"funding_rounds\"].mean()"
   ]
  },
  {
   "cell_type": "code",
   "execution_count": null,
   "metadata": {
    "id": "kDZCKjj7oLDO"
   },
   "outputs": [],
   "source": [
    "#mean_funding_rounds = df.groupby(\"market\").mean().funding_rounds\n",
    "#mean_funding_rounds = sorted(dict(mean_funding_rounds).items(), key=lambda x: x[1], reverse= True)\n",
    "\n",
    "#top_10_markets_rounds = [mean_funding_rounds[index][1] for index in range(10)]\n",
    "#top_10_markets_rounds_markets = [mean_funding_rounds[index][0] for index in range(10)]\n",
    "\n",
    "#plt.figure(figsize= (40, 5))\n",
    "#sns.barplot(x=top_10_markets_rounds_markets, y=top_10_markets_rounds, palette=\"rocket\")\n",
    "\n",
    "\n",
    "#plt.title(\"Average funding rounds per market\")\n",
    "#plt.ylabel(\"Rounds\")"
   ]
  },
  {
   "cell_type": "code",
   "execution_count": null,
   "metadata": {
    "colab": {
     "base_uri": "https://localhost:8080/",
     "height": 542
    },
    "id": "BmCz7A03tCbY",
    "outputId": "923eca15-d7a7-4f41-bdad-147cde24e9ab"
   },
   "outputs": [
    {
     "data": {
      "text/html": [
       "<html>\n",
       "<head><meta charset=\"utf-8\" /></head>\n",
       "<body>\n",
       "    <div>            <script src=\"https://cdnjs.cloudflare.com/ajax/libs/mathjax/2.7.5/MathJax.js?config=TeX-AMS-MML_SVG\"></script><script type=\"text/javascript\">if (window.MathJax) {MathJax.Hub.Config({SVG: {font: \"STIX-Web\"}});}</script>                <script type=\"text/javascript\">window.PlotlyConfig = {MathJaxConfig: 'local'};</script>\n",
       "        <script src=\"https://cdn.plot.ly/plotly-2.8.3.min.js\"></script>                <div id=\"673f5cf1-8405-4569-984a-e983ce4fd7b0\" class=\"plotly-graph-div\" style=\"height:525px; width:100%;\"></div>            <script type=\"text/javascript\">                                    window.PLOTLYENV=window.PLOTLYENV || {};                                    if (document.getElementById(\"673f5cf1-8405-4569-984a-e983ce4fd7b0\")) {                    Plotly.newPlot(                        \"673f5cf1-8405-4569-984a-e983ce4fd7b0\",                        [{\"marker\":{\"color\":\"#636efa\"},\"text\":[\"4.0\",\"3.83\",\"3.67\",\"3.67\",\"3.5\",\"3.41\",\"3.12\",\"3.11\",\"3.09\",\"3.0\"],\"textposition\":\"outside\",\"x\":[\" B2B Express Delivery \",\" Batteries \",\" Bio-Pharm \",\" Chemicals \",\" Advertising Exchanges \",\" Cloud Infrastructure \",\" Communications Hardware \",\" Cloud Security \",\" Diagnostics \",\" Application Performance Monitoring \"],\"y\":[4.0,3.83,3.67,3.67,3.5,3.41,3.12,3.11,3.09,3.0],\"type\":\"bar\"}],                        {\"template\":{\"data\":{\"bar\":[{\"error_x\":{\"color\":\"#2a3f5f\"},\"error_y\":{\"color\":\"#2a3f5f\"},\"marker\":{\"line\":{\"color\":\"#E5ECF6\",\"width\":0.5},\"pattern\":{\"fillmode\":\"overlay\",\"size\":10,\"solidity\":0.2}},\"type\":\"bar\"}],\"barpolar\":[{\"marker\":{\"line\":{\"color\":\"#E5ECF6\",\"width\":0.5},\"pattern\":{\"fillmode\":\"overlay\",\"size\":10,\"solidity\":0.2}},\"type\":\"barpolar\"}],\"carpet\":[{\"aaxis\":{\"endlinecolor\":\"#2a3f5f\",\"gridcolor\":\"white\",\"linecolor\":\"white\",\"minorgridcolor\":\"white\",\"startlinecolor\":\"#2a3f5f\"},\"baxis\":{\"endlinecolor\":\"#2a3f5f\",\"gridcolor\":\"white\",\"linecolor\":\"white\",\"minorgridcolor\":\"white\",\"startlinecolor\":\"#2a3f5f\"},\"type\":\"carpet\"}],\"choropleth\":[{\"colorbar\":{\"outlinewidth\":0,\"ticks\":\"\"},\"type\":\"choropleth\"}],\"contour\":[{\"colorbar\":{\"outlinewidth\":0,\"ticks\":\"\"},\"colorscale\":[[0.0,\"#0d0887\"],[0.1111111111111111,\"#46039f\"],[0.2222222222222222,\"#7201a8\"],[0.3333333333333333,\"#9c179e\"],[0.4444444444444444,\"#bd3786\"],[0.5555555555555556,\"#d8576b\"],[0.6666666666666666,\"#ed7953\"],[0.7777777777777778,\"#fb9f3a\"],[0.8888888888888888,\"#fdca26\"],[1.0,\"#f0f921\"]],\"type\":\"contour\"}],\"contourcarpet\":[{\"colorbar\":{\"outlinewidth\":0,\"ticks\":\"\"},\"type\":\"contourcarpet\"}],\"heatmap\":[{\"colorbar\":{\"outlinewidth\":0,\"ticks\":\"\"},\"colorscale\":[[0.0,\"#0d0887\"],[0.1111111111111111,\"#46039f\"],[0.2222222222222222,\"#7201a8\"],[0.3333333333333333,\"#9c179e\"],[0.4444444444444444,\"#bd3786\"],[0.5555555555555556,\"#d8576b\"],[0.6666666666666666,\"#ed7953\"],[0.7777777777777778,\"#fb9f3a\"],[0.8888888888888888,\"#fdca26\"],[1.0,\"#f0f921\"]],\"type\":\"heatmap\"}],\"heatmapgl\":[{\"colorbar\":{\"outlinewidth\":0,\"ticks\":\"\"},\"colorscale\":[[0.0,\"#0d0887\"],[0.1111111111111111,\"#46039f\"],[0.2222222222222222,\"#7201a8\"],[0.3333333333333333,\"#9c179e\"],[0.4444444444444444,\"#bd3786\"],[0.5555555555555556,\"#d8576b\"],[0.6666666666666666,\"#ed7953\"],[0.7777777777777778,\"#fb9f3a\"],[0.8888888888888888,\"#fdca26\"],[1.0,\"#f0f921\"]],\"type\":\"heatmapgl\"}],\"histogram\":[{\"marker\":{\"pattern\":{\"fillmode\":\"overlay\",\"size\":10,\"solidity\":0.2}},\"type\":\"histogram\"}],\"histogram2d\":[{\"colorbar\":{\"outlinewidth\":0,\"ticks\":\"\"},\"colorscale\":[[0.0,\"#0d0887\"],[0.1111111111111111,\"#46039f\"],[0.2222222222222222,\"#7201a8\"],[0.3333333333333333,\"#9c179e\"],[0.4444444444444444,\"#bd3786\"],[0.5555555555555556,\"#d8576b\"],[0.6666666666666666,\"#ed7953\"],[0.7777777777777778,\"#fb9f3a\"],[0.8888888888888888,\"#fdca26\"],[1.0,\"#f0f921\"]],\"type\":\"histogram2d\"}],\"histogram2dcontour\":[{\"colorbar\":{\"outlinewidth\":0,\"ticks\":\"\"},\"colorscale\":[[0.0,\"#0d0887\"],[0.1111111111111111,\"#46039f\"],[0.2222222222222222,\"#7201a8\"],[0.3333333333333333,\"#9c179e\"],[0.4444444444444444,\"#bd3786\"],[0.5555555555555556,\"#d8576b\"],[0.6666666666666666,\"#ed7953\"],[0.7777777777777778,\"#fb9f3a\"],[0.8888888888888888,\"#fdca26\"],[1.0,\"#f0f921\"]],\"type\":\"histogram2dcontour\"}],\"mesh3d\":[{\"colorbar\":{\"outlinewidth\":0,\"ticks\":\"\"},\"type\":\"mesh3d\"}],\"parcoords\":[{\"line\":{\"colorbar\":{\"outlinewidth\":0,\"ticks\":\"\"}},\"type\":\"parcoords\"}],\"pie\":[{\"automargin\":true,\"type\":\"pie\"}],\"scatter\":[{\"marker\":{\"colorbar\":{\"outlinewidth\":0,\"ticks\":\"\"}},\"type\":\"scatter\"}],\"scatter3d\":[{\"line\":{\"colorbar\":{\"outlinewidth\":0,\"ticks\":\"\"}},\"marker\":{\"colorbar\":{\"outlinewidth\":0,\"ticks\":\"\"}},\"type\":\"scatter3d\"}],\"scattercarpet\":[{\"marker\":{\"colorbar\":{\"outlinewidth\":0,\"ticks\":\"\"}},\"type\":\"scattercarpet\"}],\"scattergeo\":[{\"marker\":{\"colorbar\":{\"outlinewidth\":0,\"ticks\":\"\"}},\"type\":\"scattergeo\"}],\"scattergl\":[{\"marker\":{\"colorbar\":{\"outlinewidth\":0,\"ticks\":\"\"}},\"type\":\"scattergl\"}],\"scattermapbox\":[{\"marker\":{\"colorbar\":{\"outlinewidth\":0,\"ticks\":\"\"}},\"type\":\"scattermapbox\"}],\"scatterpolar\":[{\"marker\":{\"colorbar\":{\"outlinewidth\":0,\"ticks\":\"\"}},\"type\":\"scatterpolar\"}],\"scatterpolargl\":[{\"marker\":{\"colorbar\":{\"outlinewidth\":0,\"ticks\":\"\"}},\"type\":\"scatterpolargl\"}],\"scatterternary\":[{\"marker\":{\"colorbar\":{\"outlinewidth\":0,\"ticks\":\"\"}},\"type\":\"scatterternary\"}],\"surface\":[{\"colorbar\":{\"outlinewidth\":0,\"ticks\":\"\"},\"colorscale\":[[0.0,\"#0d0887\"],[0.1111111111111111,\"#46039f\"],[0.2222222222222222,\"#7201a8\"],[0.3333333333333333,\"#9c179e\"],[0.4444444444444444,\"#bd3786\"],[0.5555555555555556,\"#d8576b\"],[0.6666666666666666,\"#ed7953\"],[0.7777777777777778,\"#fb9f3a\"],[0.8888888888888888,\"#fdca26\"],[1.0,\"#f0f921\"]],\"type\":\"surface\"}],\"table\":[{\"cells\":{\"fill\":{\"color\":\"#EBF0F8\"},\"line\":{\"color\":\"white\"}},\"header\":{\"fill\":{\"color\":\"#C8D4E3\"},\"line\":{\"color\":\"white\"}},\"type\":\"table\"}]},\"layout\":{\"annotationdefaults\":{\"arrowcolor\":\"#2a3f5f\",\"arrowhead\":0,\"arrowwidth\":1},\"autotypenumbers\":\"strict\",\"coloraxis\":{\"colorbar\":{\"outlinewidth\":0,\"ticks\":\"\"}},\"colorscale\":{\"diverging\":[[0,\"#8e0152\"],[0.1,\"#c51b7d\"],[0.2,\"#de77ae\"],[0.3,\"#f1b6da\"],[0.4,\"#fde0ef\"],[0.5,\"#f7f7f7\"],[0.6,\"#e6f5d0\"],[0.7,\"#b8e186\"],[0.8,\"#7fbc41\"],[0.9,\"#4d9221\"],[1,\"#276419\"]],\"sequential\":[[0.0,\"#0d0887\"],[0.1111111111111111,\"#46039f\"],[0.2222222222222222,\"#7201a8\"],[0.3333333333333333,\"#9c179e\"],[0.4444444444444444,\"#bd3786\"],[0.5555555555555556,\"#d8576b\"],[0.6666666666666666,\"#ed7953\"],[0.7777777777777778,\"#fb9f3a\"],[0.8888888888888888,\"#fdca26\"],[1.0,\"#f0f921\"]],\"sequentialminus\":[[0.0,\"#0d0887\"],[0.1111111111111111,\"#46039f\"],[0.2222222222222222,\"#7201a8\"],[0.3333333333333333,\"#9c179e\"],[0.4444444444444444,\"#bd3786\"],[0.5555555555555556,\"#d8576b\"],[0.6666666666666666,\"#ed7953\"],[0.7777777777777778,\"#fb9f3a\"],[0.8888888888888888,\"#fdca26\"],[1.0,\"#f0f921\"]]},\"colorway\":[\"#636efa\",\"#EF553B\",\"#00cc96\",\"#ab63fa\",\"#FFA15A\",\"#19d3f3\",\"#FF6692\",\"#B6E880\",\"#FF97FF\",\"#FECB52\"],\"font\":{\"color\":\"#2a3f5f\"},\"geo\":{\"bgcolor\":\"white\",\"lakecolor\":\"white\",\"landcolor\":\"#E5ECF6\",\"showlakes\":true,\"showland\":true,\"subunitcolor\":\"white\"},\"hoverlabel\":{\"align\":\"left\"},\"hovermode\":\"closest\",\"mapbox\":{\"style\":\"light\"},\"paper_bgcolor\":\"white\",\"plot_bgcolor\":\"#E5ECF6\",\"polar\":{\"angularaxis\":{\"gridcolor\":\"white\",\"linecolor\":\"white\",\"ticks\":\"\"},\"bgcolor\":\"#E5ECF6\",\"radialaxis\":{\"gridcolor\":\"white\",\"linecolor\":\"white\",\"ticks\":\"\"}},\"scene\":{\"xaxis\":{\"backgroundcolor\":\"#E5ECF6\",\"gridcolor\":\"white\",\"gridwidth\":2,\"linecolor\":\"white\",\"showbackground\":true,\"ticks\":\"\",\"zerolinecolor\":\"white\"},\"yaxis\":{\"backgroundcolor\":\"#E5ECF6\",\"gridcolor\":\"white\",\"gridwidth\":2,\"linecolor\":\"white\",\"showbackground\":true,\"ticks\":\"\",\"zerolinecolor\":\"white\"},\"zaxis\":{\"backgroundcolor\":\"#E5ECF6\",\"gridcolor\":\"white\",\"gridwidth\":2,\"linecolor\":\"white\",\"showbackground\":true,\"ticks\":\"\",\"zerolinecolor\":\"white\"}},\"shapedefaults\":{\"line\":{\"color\":\"#2a3f5f\"}},\"ternary\":{\"aaxis\":{\"gridcolor\":\"white\",\"linecolor\":\"white\",\"ticks\":\"\"},\"baxis\":{\"gridcolor\":\"white\",\"linecolor\":\"white\",\"ticks\":\"\"},\"bgcolor\":\"#E5ECF6\",\"caxis\":{\"gridcolor\":\"white\",\"linecolor\":\"white\",\"ticks\":\"\"}},\"title\":{\"x\":0.05},\"xaxis\":{\"automargin\":true,\"gridcolor\":\"white\",\"linecolor\":\"white\",\"ticks\":\"\",\"title\":{\"standoff\":15},\"zerolinecolor\":\"white\",\"zerolinewidth\":2},\"yaxis\":{\"automargin\":true,\"gridcolor\":\"white\",\"linecolor\":\"white\",\"ticks\":\"\",\"title\":{\"standoff\":15},\"zerolinecolor\":\"white\",\"zerolinewidth\":2}}},\"title\":{\"text\":\"Average funding rounds per market\"},\"yaxis\":{\"title\":{\"text\":\"Rounds\"}}},                        {\"responsive\": true}                    ).then(function(){\n",
       "                            \n",
       "var gd = document.getElementById('673f5cf1-8405-4569-984a-e983ce4fd7b0');\n",
       "var x = new MutationObserver(function (mutations, observer) {{\n",
       "        var display = window.getComputedStyle(gd).display;\n",
       "        if (!display || display === 'none') {{\n",
       "            console.log([gd, 'removed!']);\n",
       "            Plotly.purge(gd);\n",
       "            observer.disconnect();\n",
       "        }}\n",
       "}});\n",
       "\n",
       "// Listen for the removal of the full notebook cells\n",
       "var notebookContainer = gd.closest('#notebook-container');\n",
       "if (notebookContainer) {{\n",
       "    x.observe(notebookContainer, {childList: true});\n",
       "}}\n",
       "\n",
       "// Listen for the clearing of the current output cell\n",
       "var outputEl = gd.closest('.output');\n",
       "if (outputEl) {{\n",
       "    x.observe(outputEl, {childList: true});\n",
       "}}\n",
       "\n",
       "                        })                };                            </script>        </div>\n",
       "</body>\n",
       "</html>"
      ]
     },
     "metadata": {},
     "output_type": "display_data"
    }
   ],
   "source": [
    "mean_funding_rounds = df.groupby(\"market\").mean().funding_rounds\n",
    "mean_funding_rounds = sorted(dict(mean_funding_rounds).items(), key=lambda x: x[1], reverse= True)\n",
    "\n",
    "top_10_markets_rounds = [mean_funding_rounds[index][1] for index in range(10)]\n",
    "top_10_markets_rounds_markets = [mean_funding_rounds[index][0] for index in range(10)]\n",
    "\n",
    "fig = go.Figure(data=[go.Bar(x=top_10_markets_rounds_markets, \n",
    "                            y=[round(x,2) for x in top_10_markets_rounds],\n",
    "                            marker_color='#636efa',\n",
    "                            text=[round(x,2) for x in top_10_markets_rounds],\n",
    "                            textposition='outside')])\n",
    "\n",
    "fig.update_layout(title_text='Average funding rounds per market',\n",
    "                  yaxis_title='Rounds')\n",
    "\n",
    "fig.show()"
   ]
  },
  {
   "cell_type": "markdown",
   "metadata": {
    "id": "N3kBdC8-i6zF"
   },
   "source": [
    "### Avergage number of investment rounds for each start-up status"
   ]
  },
  {
   "cell_type": "code",
   "execution_count": null,
   "metadata": {
    "id": "KR2PS_MCA3D9"
   },
   "outputs": [],
   "source": [
    "# average_fundingRounds_per_status = df.groupby(\"status\").mean()[\"funding_rounds\"]\n",
    "\n",
    "# average_fundingRounds_per_status_dict = dict(average_fundingRounds_per_status)\n",
    "\n",
    "# sns.barplot(x=list(average_fundingRounds_per_status_dict.keys()), y=list(average_fundingRounds_per_status_dict.values()), palette=\"rocket\")\n",
    "\n",
    "# plt.title(\"Average funding rounds per status\")\n",
    "# plt.ylabel(\"Rounds\")\n",
    "\n",
    "# plt.axhline(y=df[\"funding_rounds\"].mean(), color='Blue', linestyle=\"--\")"
   ]
  },
  {
   "cell_type": "code",
   "execution_count": null,
   "metadata": {
    "colab": {
     "base_uri": "https://localhost:8080/",
     "height": 542
    },
    "id": "O_XBISZNtkZk",
    "outputId": "4476b487-1efe-4743-a570-cef81f0fb7ab"
   },
   "outputs": [
    {
     "data": {
      "text/html": [
       "<html>\n",
       "<head><meta charset=\"utf-8\" /></head>\n",
       "<body>\n",
       "    <div>            <script src=\"https://cdnjs.cloudflare.com/ajax/libs/mathjax/2.7.5/MathJax.js?config=TeX-AMS-MML_SVG\"></script><script type=\"text/javascript\">if (window.MathJax) {MathJax.Hub.Config({SVG: {font: \"STIX-Web\"}});}</script>                <script type=\"text/javascript\">window.PlotlyConfig = {MathJaxConfig: 'local'};</script>\n",
       "        <script src=\"https://cdn.plot.ly/plotly-2.8.3.min.js\"></script>                <div id=\"b7a9cd14-183a-4cb2-8a6f-28a14638e2cc\" class=\"plotly-graph-div\" style=\"height:525px; width:100%;\"></div>            <script type=\"text/javascript\">                                    window.PLOTLYENV=window.PLOTLYENV || {};                                    if (document.getElementById(\"b7a9cd14-183a-4cb2-8a6f-28a14638e2cc\")) {                    Plotly.newPlot(                        \"b7a9cd14-183a-4cb2-8a6f-28a14638e2cc\",                        [{\"marker\":{\"color\":[\"#FFB6C1\",\"#F0E68C\",\"#ADD8E6\",\"#90EE90\"]},\"name\":\"Average Funding Rounds per Status\",\"x\":[\"acquired\",\"closed\",\"operating\"],\"y\":[2.1261475688541314,1.448136958710977,1.794442376876318],\"type\":\"bar\"}],                        {\"template\":{\"data\":{\"barpolar\":[{\"marker\":{\"line\":{\"color\":\"white\",\"width\":0.5},\"pattern\":{\"fillmode\":\"overlay\",\"size\":10,\"solidity\":0.2}},\"type\":\"barpolar\"}],\"bar\":[{\"error_x\":{\"color\":\"#2a3f5f\"},\"error_y\":{\"color\":\"#2a3f5f\"},\"marker\":{\"line\":{\"color\":\"white\",\"width\":0.5},\"pattern\":{\"fillmode\":\"overlay\",\"size\":10,\"solidity\":0.2}},\"type\":\"bar\"}],\"carpet\":[{\"aaxis\":{\"endlinecolor\":\"#2a3f5f\",\"gridcolor\":\"#C8D4E3\",\"linecolor\":\"#C8D4E3\",\"minorgridcolor\":\"#C8D4E3\",\"startlinecolor\":\"#2a3f5f\"},\"baxis\":{\"endlinecolor\":\"#2a3f5f\",\"gridcolor\":\"#C8D4E3\",\"linecolor\":\"#C8D4E3\",\"minorgridcolor\":\"#C8D4E3\",\"startlinecolor\":\"#2a3f5f\"},\"type\":\"carpet\"}],\"choropleth\":[{\"colorbar\":{\"outlinewidth\":0,\"ticks\":\"\"},\"type\":\"choropleth\"}],\"contourcarpet\":[{\"colorbar\":{\"outlinewidth\":0,\"ticks\":\"\"},\"type\":\"contourcarpet\"}],\"contour\":[{\"colorbar\":{\"outlinewidth\":0,\"ticks\":\"\"},\"colorscale\":[[0.0,\"#0d0887\"],[0.1111111111111111,\"#46039f\"],[0.2222222222222222,\"#7201a8\"],[0.3333333333333333,\"#9c179e\"],[0.4444444444444444,\"#bd3786\"],[0.5555555555555556,\"#d8576b\"],[0.6666666666666666,\"#ed7953\"],[0.7777777777777778,\"#fb9f3a\"],[0.8888888888888888,\"#fdca26\"],[1.0,\"#f0f921\"]],\"type\":\"contour\"}],\"heatmapgl\":[{\"colorbar\":{\"outlinewidth\":0,\"ticks\":\"\"},\"colorscale\":[[0.0,\"#0d0887\"],[0.1111111111111111,\"#46039f\"],[0.2222222222222222,\"#7201a8\"],[0.3333333333333333,\"#9c179e\"],[0.4444444444444444,\"#bd3786\"],[0.5555555555555556,\"#d8576b\"],[0.6666666666666666,\"#ed7953\"],[0.7777777777777778,\"#fb9f3a\"],[0.8888888888888888,\"#fdca26\"],[1.0,\"#f0f921\"]],\"type\":\"heatmapgl\"}],\"heatmap\":[{\"colorbar\":{\"outlinewidth\":0,\"ticks\":\"\"},\"colorscale\":[[0.0,\"#0d0887\"],[0.1111111111111111,\"#46039f\"],[0.2222222222222222,\"#7201a8\"],[0.3333333333333333,\"#9c179e\"],[0.4444444444444444,\"#bd3786\"],[0.5555555555555556,\"#d8576b\"],[0.6666666666666666,\"#ed7953\"],[0.7777777777777778,\"#fb9f3a\"],[0.8888888888888888,\"#fdca26\"],[1.0,\"#f0f921\"]],\"type\":\"heatmap\"}],\"histogram2dcontour\":[{\"colorbar\":{\"outlinewidth\":0,\"ticks\":\"\"},\"colorscale\":[[0.0,\"#0d0887\"],[0.1111111111111111,\"#46039f\"],[0.2222222222222222,\"#7201a8\"],[0.3333333333333333,\"#9c179e\"],[0.4444444444444444,\"#bd3786\"],[0.5555555555555556,\"#d8576b\"],[0.6666666666666666,\"#ed7953\"],[0.7777777777777778,\"#fb9f3a\"],[0.8888888888888888,\"#fdca26\"],[1.0,\"#f0f921\"]],\"type\":\"histogram2dcontour\"}],\"histogram2d\":[{\"colorbar\":{\"outlinewidth\":0,\"ticks\":\"\"},\"colorscale\":[[0.0,\"#0d0887\"],[0.1111111111111111,\"#46039f\"],[0.2222222222222222,\"#7201a8\"],[0.3333333333333333,\"#9c179e\"],[0.4444444444444444,\"#bd3786\"],[0.5555555555555556,\"#d8576b\"],[0.6666666666666666,\"#ed7953\"],[0.7777777777777778,\"#fb9f3a\"],[0.8888888888888888,\"#fdca26\"],[1.0,\"#f0f921\"]],\"type\":\"histogram2d\"}],\"histogram\":[{\"marker\":{\"pattern\":{\"fillmode\":\"overlay\",\"size\":10,\"solidity\":0.2}},\"type\":\"histogram\"}],\"mesh3d\":[{\"colorbar\":{\"outlinewidth\":0,\"ticks\":\"\"},\"type\":\"mesh3d\"}],\"parcoords\":[{\"line\":{\"colorbar\":{\"outlinewidth\":0,\"ticks\":\"\"}},\"type\":\"parcoords\"}],\"pie\":[{\"automargin\":true,\"type\":\"pie\"}],\"scatter3d\":[{\"line\":{\"colorbar\":{\"outlinewidth\":0,\"ticks\":\"\"}},\"marker\":{\"colorbar\":{\"outlinewidth\":0,\"ticks\":\"\"}},\"type\":\"scatter3d\"}],\"scattercarpet\":[{\"marker\":{\"colorbar\":{\"outlinewidth\":0,\"ticks\":\"\"}},\"type\":\"scattercarpet\"}],\"scattergeo\":[{\"marker\":{\"colorbar\":{\"outlinewidth\":0,\"ticks\":\"\"}},\"type\":\"scattergeo\"}],\"scattergl\":[{\"marker\":{\"colorbar\":{\"outlinewidth\":0,\"ticks\":\"\"}},\"type\":\"scattergl\"}],\"scattermapbox\":[{\"marker\":{\"colorbar\":{\"outlinewidth\":0,\"ticks\":\"\"}},\"type\":\"scattermapbox\"}],\"scatterpolargl\":[{\"marker\":{\"colorbar\":{\"outlinewidth\":0,\"ticks\":\"\"}},\"type\":\"scatterpolargl\"}],\"scatterpolar\":[{\"marker\":{\"colorbar\":{\"outlinewidth\":0,\"ticks\":\"\"}},\"type\":\"scatterpolar\"}],\"scatter\":[{\"marker\":{\"colorbar\":{\"outlinewidth\":0,\"ticks\":\"\"}},\"type\":\"scatter\"}],\"scatterternary\":[{\"marker\":{\"colorbar\":{\"outlinewidth\":0,\"ticks\":\"\"}},\"type\":\"scatterternary\"}],\"surface\":[{\"colorbar\":{\"outlinewidth\":0,\"ticks\":\"\"},\"colorscale\":[[0.0,\"#0d0887\"],[0.1111111111111111,\"#46039f\"],[0.2222222222222222,\"#7201a8\"],[0.3333333333333333,\"#9c179e\"],[0.4444444444444444,\"#bd3786\"],[0.5555555555555556,\"#d8576b\"],[0.6666666666666666,\"#ed7953\"],[0.7777777777777778,\"#fb9f3a\"],[0.8888888888888888,\"#fdca26\"],[1.0,\"#f0f921\"]],\"type\":\"surface\"}],\"table\":[{\"cells\":{\"fill\":{\"color\":\"#EBF0F8\"},\"line\":{\"color\":\"white\"}},\"header\":{\"fill\":{\"color\":\"#C8D4E3\"},\"line\":{\"color\":\"white\"}},\"type\":\"table\"}]},\"layout\":{\"annotationdefaults\":{\"arrowcolor\":\"#2a3f5f\",\"arrowhead\":0,\"arrowwidth\":1},\"autotypenumbers\":\"strict\",\"coloraxis\":{\"colorbar\":{\"outlinewidth\":0,\"ticks\":\"\"}},\"colorscale\":{\"diverging\":[[0,\"#8e0152\"],[0.1,\"#c51b7d\"],[0.2,\"#de77ae\"],[0.3,\"#f1b6da\"],[0.4,\"#fde0ef\"],[0.5,\"#f7f7f7\"],[0.6,\"#e6f5d0\"],[0.7,\"#b8e186\"],[0.8,\"#7fbc41\"],[0.9,\"#4d9221\"],[1,\"#276419\"]],\"sequential\":[[0.0,\"#0d0887\"],[0.1111111111111111,\"#46039f\"],[0.2222222222222222,\"#7201a8\"],[0.3333333333333333,\"#9c179e\"],[0.4444444444444444,\"#bd3786\"],[0.5555555555555556,\"#d8576b\"],[0.6666666666666666,\"#ed7953\"],[0.7777777777777778,\"#fb9f3a\"],[0.8888888888888888,\"#fdca26\"],[1.0,\"#f0f921\"]],\"sequentialminus\":[[0.0,\"#0d0887\"],[0.1111111111111111,\"#46039f\"],[0.2222222222222222,\"#7201a8\"],[0.3333333333333333,\"#9c179e\"],[0.4444444444444444,\"#bd3786\"],[0.5555555555555556,\"#d8576b\"],[0.6666666666666666,\"#ed7953\"],[0.7777777777777778,\"#fb9f3a\"],[0.8888888888888888,\"#fdca26\"],[1.0,\"#f0f921\"]]},\"colorway\":[\"#636efa\",\"#EF553B\",\"#00cc96\",\"#ab63fa\",\"#FFA15A\",\"#19d3f3\",\"#FF6692\",\"#B6E880\",\"#FF97FF\",\"#FECB52\"],\"font\":{\"color\":\"#2a3f5f\"},\"geo\":{\"bgcolor\":\"white\",\"lakecolor\":\"white\",\"landcolor\":\"white\",\"showlakes\":true,\"showland\":true,\"subunitcolor\":\"#C8D4E3\"},\"hoverlabel\":{\"align\":\"left\"},\"hovermode\":\"closest\",\"mapbox\":{\"style\":\"light\"},\"paper_bgcolor\":\"white\",\"plot_bgcolor\":\"white\",\"polar\":{\"angularaxis\":{\"gridcolor\":\"#EBF0F8\",\"linecolor\":\"#EBF0F8\",\"ticks\":\"\"},\"bgcolor\":\"white\",\"radialaxis\":{\"gridcolor\":\"#EBF0F8\",\"linecolor\":\"#EBF0F8\",\"ticks\":\"\"}},\"scene\":{\"xaxis\":{\"backgroundcolor\":\"white\",\"gridcolor\":\"#DFE8F3\",\"gridwidth\":2,\"linecolor\":\"#EBF0F8\",\"showbackground\":true,\"ticks\":\"\",\"zerolinecolor\":\"#EBF0F8\"},\"yaxis\":{\"backgroundcolor\":\"white\",\"gridcolor\":\"#DFE8F3\",\"gridwidth\":2,\"linecolor\":\"#EBF0F8\",\"showbackground\":true,\"ticks\":\"\",\"zerolinecolor\":\"#EBF0F8\"},\"zaxis\":{\"backgroundcolor\":\"white\",\"gridcolor\":\"#DFE8F3\",\"gridwidth\":2,\"linecolor\":\"#EBF0F8\",\"showbackground\":true,\"ticks\":\"\",\"zerolinecolor\":\"#EBF0F8\"}},\"shapedefaults\":{\"line\":{\"color\":\"#2a3f5f\"}},\"ternary\":{\"aaxis\":{\"gridcolor\":\"#DFE8F3\",\"linecolor\":\"#A2B1C6\",\"ticks\":\"\"},\"baxis\":{\"gridcolor\":\"#DFE8F3\",\"linecolor\":\"#A2B1C6\",\"ticks\":\"\"},\"bgcolor\":\"white\",\"caxis\":{\"gridcolor\":\"#DFE8F3\",\"linecolor\":\"#A2B1C6\",\"ticks\":\"\"}},\"title\":{\"x\":0.05},\"xaxis\":{\"automargin\":true,\"gridcolor\":\"#EBF0F8\",\"linecolor\":\"#EBF0F8\",\"ticks\":\"\",\"title\":{\"standoff\":15},\"zerolinecolor\":\"#EBF0F8\",\"zerolinewidth\":2},\"yaxis\":{\"automargin\":true,\"gridcolor\":\"#EBF0F8\",\"linecolor\":\"#EBF0F8\",\"ticks\":\"\",\"title\":{\"standoff\":15},\"zerolinecolor\":\"#EBF0F8\",\"zerolinewidth\":2}}},\"title\":{\"text\":\"Average Funding Rounds per Status\"},\"yaxis\":{\"title\":{\"text\":\"Rounds\"}},\"shapes\":[{\"line\":{\"color\":\"Blue\",\"dash\":\"dash\",\"width\":3},\"type\":\"line\",\"x0\":0,\"x1\":1,\"xref\":\"paper\",\"y0\":1.7990226986128626,\"y1\":1.7990226986128626,\"yref\":\"y\"}]},                        {\"responsive\": true}                    ).then(function(){\n",
       "                            \n",
       "var gd = document.getElementById('b7a9cd14-183a-4cb2-8a6f-28a14638e2cc');\n",
       "var x = new MutationObserver(function (mutations, observer) {{\n",
       "        var display = window.getComputedStyle(gd).display;\n",
       "        if (!display || display === 'none') {{\n",
       "            console.log([gd, 'removed!']);\n",
       "            Plotly.purge(gd);\n",
       "            observer.disconnect();\n",
       "        }}\n",
       "}});\n",
       "\n",
       "// Listen for the removal of the full notebook cells\n",
       "var notebookContainer = gd.closest('#notebook-container');\n",
       "if (notebookContainer) {{\n",
       "    x.observe(notebookContainer, {childList: true});\n",
       "}}\n",
       "\n",
       "// Listen for the clearing of the current output cell\n",
       "var outputEl = gd.closest('.output');\n",
       "if (outputEl) {{\n",
       "    x.observe(outputEl, {childList: true});\n",
       "}}\n",
       "\n",
       "                        })                };                            </script>        </div>\n",
       "</body>\n",
       "</html>"
      ]
     },
     "metadata": {},
     "output_type": "display_data"
    }
   ],
   "source": [
    "average_fundingRounds_per_status = df.groupby(\"status\").mean()[\"funding_rounds\"]\n",
    "\n",
    "average_fundingRounds_per_status_dict = dict(average_fundingRounds_per_status)\n",
    "\n",
    "fig = go.Figure(data=[go.Bar(\n",
    "            x=list(average_fundingRounds_per_status_dict.keys()), \n",
    "            y=list(average_fundingRounds_per_status_dict.values()), \n",
    "            marker_color=[\"#FFB6C1\",\"#F0E68C\",\"#ADD8E6\",\"#90EE90\"], \n",
    "            name=\"Average Funding Rounds per Status\")])\n",
    "\n",
    "fig.update_layout(title=\"Average Funding Rounds per Status\",\n",
    "                  yaxis_title=\"Rounds\",\n",
    "                  template=\"plotly_white\")\n",
    "\n",
    "fig.update_layout(shapes=[\n",
    "    dict(\n",
    "        type=\"line\",\n",
    "        xref=\"paper\",\n",
    "        yref=\"y\",\n",
    "        x0=0,\n",
    "        y0=df[\"funding_rounds\"].mean(),\n",
    "        x1=1,\n",
    "        y1=df[\"funding_rounds\"].mean(),\n",
    "        line=dict(\n",
    "            color=\"Blue\",\n",
    "            width=3,\n",
    "            dash=\"dash\"\n",
    "        )\n",
    "    )\n",
    "\n",
    "])\n",
    "fig.show()"
   ]
  },
  {
   "cell_type": "code",
   "execution_count": null,
   "metadata": {
    "id": "87fj5iWKJ9JX"
   },
   "outputs": [],
   "source": [
    "list_of_rounds_closed = list(df[df[\"status\"] == \"closed\"][\"funding_rounds\"])\n",
    "\n",
    "list_of_rounds_acquired = list(df[df[\"status\"] == \"acquired\"][\"funding_rounds\"])\n",
    "\n",
    "list_of_rounds_operating = list(df[df[\"status\"] == \"operating\"][\"funding_rounds\"])\n",
    "\n",
    "list_of_rounds = list(df[\"funding_rounds\"])"
   ]
  },
  {
   "cell_type": "code",
   "execution_count": null,
   "metadata": {
    "colab": {
     "base_uri": "https://localhost:8080/"
    },
    "id": "d-ih-QbXJymn",
    "outputId": "dcb84ae9-c66c-4cfe-f709-ebf58aaab09c"
   },
   "outputs": [
    {
     "data": {
      "text/plain": [
       "{'acquired': 2.1261475688541314,\n",
       " 'closed': 1.448136958710977,\n",
       " 'operating': 1.794442376876318}"
      ]
     },
     "execution_count": 48,
     "metadata": {},
     "output_type": "execute_result"
    }
   ],
   "source": [
    "average_fundingRounds_per_status_dict"
   ]
  },
  {
   "cell_type": "markdown",
   "metadata": {
    "id": "QgbnPEr7jHdw"
   },
   "source": [
    "## What industries have the highest number of start-ups?"
   ]
  },
  {
   "cell_type": "code",
   "execution_count": null,
   "metadata": {
    "id": "iSfxofL3qBL_"
   },
   "outputs": [],
   "source": [
    "# sum_num_companies = df.groupby(\"market\").count().name\n",
    "# sum_num_companies = sorted(dict(sum_num_companies).items(), key=lambda x: x[1], reverse= True)\n",
    "\n",
    "# top_10_count_numOfCompanies = [sum_num_companies[index][1] for index in range(10)]\n",
    "# top_10_count_Companies = [sum_num_companies[index][0] for index in range(10)]\n",
    "\n",
    "# plt.figure(figsize= (25, 5))\n",
    "# sns.barplot(x=top_10_count_Companies, y=top_10_count_numOfCompanies, palette=\"rocket\")\n",
    "\n",
    "# plt.title(\"Number of companies per market\")\n",
    "# plt.show()"
   ]
  },
  {
   "cell_type": "code",
   "execution_count": null,
   "metadata": {
    "colab": {
     "base_uri": "https://localhost:8080/",
     "height": 542
    },
    "id": "hnIB-TVK-Utq",
    "outputId": "8f21e095-c798-4e10-aafe-0d7fe930332d"
   },
   "outputs": [
    {
     "data": {
      "text/html": [
       "<html>\n",
       "<head><meta charset=\"utf-8\" /></head>\n",
       "<body>\n",
       "    <div>            <script src=\"https://cdnjs.cloudflare.com/ajax/libs/mathjax/2.7.5/MathJax.js?config=TeX-AMS-MML_SVG\"></script><script type=\"text/javascript\">if (window.MathJax) {MathJax.Hub.Config({SVG: {font: \"STIX-Web\"}});}</script>                <script type=\"text/javascript\">window.PlotlyConfig = {MathJaxConfig: 'local'};</script>\n",
       "        <script src=\"https://cdn.plot.ly/plotly-2.8.3.min.js\"></script>                <div id=\"2faa25f7-b286-40cc-b9c4-716d58c9b507\" class=\"plotly-graph-div\" style=\"height:525px; width:100%;\"></div>            <script type=\"text/javascript\">                                    window.PLOTLYENV=window.PLOTLYENV || {};                                    if (document.getElementById(\"2faa25f7-b286-40cc-b9c4-716d58c9b507\")) {                    Plotly.newPlot(                        \"2faa25f7-b286-40cc-b9c4-716d58c9b507\",                        [{\"alignmentgroup\":\"True\",\"hovertemplate\":\"color= Software <br>x=%{x}<br>y=%{y}<extra></extra>\",\"legendgroup\":\" Software \",\"marker\":{\"color\":\"rgb(95, 70, 144)\",\"pattern\":{\"shape\":\"\"}},\"name\":\" Software \",\"offsetgroup\":\" Software \",\"orientation\":\"v\",\"showlegend\":true,\"textposition\":\"auto\",\"x\":[\" Software \"],\"xaxis\":\"x\",\"y\":[3756],\"yaxis\":\"y\",\"type\":\"bar\"},{\"alignmentgroup\":\"True\",\"hovertemplate\":\"color= Biotechnology <br>x=%{x}<br>y=%{y}<extra></extra>\",\"legendgroup\":\" Biotechnology \",\"marker\":{\"color\":\"rgb(29, 105, 150)\",\"pattern\":{\"shape\":\"\"}},\"name\":\" Biotechnology \",\"offsetgroup\":\" Biotechnology \",\"orientation\":\"v\",\"showlegend\":true,\"textposition\":\"auto\",\"x\":[\" Biotechnology \"],\"xaxis\":\"x\",\"y\":[2434],\"yaxis\":\"y\",\"type\":\"bar\"},{\"alignmentgroup\":\"True\",\"hovertemplate\":\"color= Mobile <br>x=%{x}<br>y=%{y}<extra></extra>\",\"legendgroup\":\" Mobile \",\"marker\":{\"color\":\"rgb(56, 166, 165)\",\"pattern\":{\"shape\":\"\"}},\"name\":\" Mobile \",\"offsetgroup\":\" Mobile \",\"orientation\":\"v\",\"showlegend\":true,\"textposition\":\"auto\",\"x\":[\" Mobile \"],\"xaxis\":\"x\",\"y\":[1599],\"yaxis\":\"y\",\"type\":\"bar\"},{\"alignmentgroup\":\"True\",\"hovertemplate\":\"color= E-Commerce <br>x=%{x}<br>y=%{y}<extra></extra>\",\"legendgroup\":\" E-Commerce \",\"marker\":{\"color\":\"rgb(15, 133, 84)\",\"pattern\":{\"shape\":\"\"}},\"name\":\" E-Commerce \",\"offsetgroup\":\" E-Commerce \",\"orientation\":\"v\",\"showlegend\":true,\"textposition\":\"auto\",\"x\":[\" E-Commerce \"],\"xaxis\":\"x\",\"y\":[1445],\"yaxis\":\"y\",\"type\":\"bar\"},{\"alignmentgroup\":\"True\",\"hovertemplate\":\"color= Curated Web <br>x=%{x}<br>y=%{y}<extra></extra>\",\"legendgroup\":\" Curated Web \",\"marker\":{\"color\":\"rgb(115, 175, 72)\",\"pattern\":{\"shape\":\"\"}},\"name\":\" Curated Web \",\"offsetgroup\":\" Curated Web \",\"orientation\":\"v\",\"showlegend\":true,\"textposition\":\"auto\",\"x\":[\" Curated Web \"],\"xaxis\":\"x\",\"y\":[1325],\"yaxis\":\"y\",\"type\":\"bar\"},{\"alignmentgroup\":\"True\",\"hovertemplate\":\"color= Enterprise Software <br>x=%{x}<br>y=%{y}<extra></extra>\",\"legendgroup\":\" Enterprise Software \",\"marker\":{\"color\":\"rgb(237, 173, 8)\",\"pattern\":{\"shape\":\"\"}},\"name\":\" Enterprise Software \",\"offsetgroup\":\" Enterprise Software \",\"orientation\":\"v\",\"showlegend\":true,\"textposition\":\"auto\",\"x\":[\" Enterprise Software \"],\"xaxis\":\"x\",\"y\":[1060],\"yaxis\":\"y\",\"type\":\"bar\"},{\"alignmentgroup\":\"True\",\"hovertemplate\":\"color= Games <br>x=%{x}<br>y=%{y}<extra></extra>\",\"legendgroup\":\" Games \",\"marker\":{\"color\":\"rgb(225, 124, 5)\",\"pattern\":{\"shape\":\"\"}},\"name\":\" Games \",\"offsetgroup\":\" Games \",\"orientation\":\"v\",\"showlegend\":true,\"textposition\":\"auto\",\"x\":[\" Games \"],\"xaxis\":\"x\",\"y\":[904],\"yaxis\":\"y\",\"type\":\"bar\"},{\"alignmentgroup\":\"True\",\"hovertemplate\":\"color= Advertising <br>x=%{x}<br>y=%{y}<extra></extra>\",\"legendgroup\":\" Advertising \",\"marker\":{\"color\":\"rgb(204, 80, 62)\",\"pattern\":{\"shape\":\"\"}},\"name\":\" Advertising \",\"offsetgroup\":\" Advertising \",\"orientation\":\"v\",\"showlegend\":true,\"textposition\":\"auto\",\"x\":[\" Advertising \"],\"xaxis\":\"x\",\"y\":[892],\"yaxis\":\"y\",\"type\":\"bar\"},{\"alignmentgroup\":\"True\",\"hovertemplate\":\"color= Health Care <br>x=%{x}<br>y=%{y}<extra></extra>\",\"legendgroup\":\" Health Care \",\"marker\":{\"color\":\"rgb(148, 52, 110)\",\"pattern\":{\"shape\":\"\"}},\"name\":\" Health Care \",\"offsetgroup\":\" Health Care \",\"orientation\":\"v\",\"showlegend\":true,\"textposition\":\"auto\",\"x\":[\" Health Care \"],\"xaxis\":\"x\",\"y\":[855],\"yaxis\":\"y\",\"type\":\"bar\"},{\"alignmentgroup\":\"True\",\"hovertemplate\":\"color= Hardware + Software <br>x=%{x}<br>y=%{y}<extra></extra>\",\"legendgroup\":\" Hardware + Software \",\"marker\":{\"color\":\"rgb(111, 64, 112)\",\"pattern\":{\"shape\":\"\"}},\"name\":\" Hardware + Software \",\"offsetgroup\":\" Hardware + Software \",\"orientation\":\"v\",\"showlegend\":true,\"textposition\":\"auto\",\"x\":[\" Hardware + Software \"],\"xaxis\":\"x\",\"y\":[794],\"yaxis\":\"y\",\"type\":\"bar\"}],                        {\"template\":{\"data\":{\"bar\":[{\"error_x\":{\"color\":\"#2a3f5f\"},\"error_y\":{\"color\":\"#2a3f5f\"},\"marker\":{\"line\":{\"color\":\"#E5ECF6\",\"width\":0.5},\"pattern\":{\"fillmode\":\"overlay\",\"size\":10,\"solidity\":0.2}},\"type\":\"bar\"}],\"barpolar\":[{\"marker\":{\"line\":{\"color\":\"#E5ECF6\",\"width\":0.5},\"pattern\":{\"fillmode\":\"overlay\",\"size\":10,\"solidity\":0.2}},\"type\":\"barpolar\"}],\"carpet\":[{\"aaxis\":{\"endlinecolor\":\"#2a3f5f\",\"gridcolor\":\"white\",\"linecolor\":\"white\",\"minorgridcolor\":\"white\",\"startlinecolor\":\"#2a3f5f\"},\"baxis\":{\"endlinecolor\":\"#2a3f5f\",\"gridcolor\":\"white\",\"linecolor\":\"white\",\"minorgridcolor\":\"white\",\"startlinecolor\":\"#2a3f5f\"},\"type\":\"carpet\"}],\"choropleth\":[{\"colorbar\":{\"outlinewidth\":0,\"ticks\":\"\"},\"type\":\"choropleth\"}],\"contour\":[{\"colorbar\":{\"outlinewidth\":0,\"ticks\":\"\"},\"colorscale\":[[0.0,\"#0d0887\"],[0.1111111111111111,\"#46039f\"],[0.2222222222222222,\"#7201a8\"],[0.3333333333333333,\"#9c179e\"],[0.4444444444444444,\"#bd3786\"],[0.5555555555555556,\"#d8576b\"],[0.6666666666666666,\"#ed7953\"],[0.7777777777777778,\"#fb9f3a\"],[0.8888888888888888,\"#fdca26\"],[1.0,\"#f0f921\"]],\"type\":\"contour\"}],\"contourcarpet\":[{\"colorbar\":{\"outlinewidth\":0,\"ticks\":\"\"},\"type\":\"contourcarpet\"}],\"heatmap\":[{\"colorbar\":{\"outlinewidth\":0,\"ticks\":\"\"},\"colorscale\":[[0.0,\"#0d0887\"],[0.1111111111111111,\"#46039f\"],[0.2222222222222222,\"#7201a8\"],[0.3333333333333333,\"#9c179e\"],[0.4444444444444444,\"#bd3786\"],[0.5555555555555556,\"#d8576b\"],[0.6666666666666666,\"#ed7953\"],[0.7777777777777778,\"#fb9f3a\"],[0.8888888888888888,\"#fdca26\"],[1.0,\"#f0f921\"]],\"type\":\"heatmap\"}],\"heatmapgl\":[{\"colorbar\":{\"outlinewidth\":0,\"ticks\":\"\"},\"colorscale\":[[0.0,\"#0d0887\"],[0.1111111111111111,\"#46039f\"],[0.2222222222222222,\"#7201a8\"],[0.3333333333333333,\"#9c179e\"],[0.4444444444444444,\"#bd3786\"],[0.5555555555555556,\"#d8576b\"],[0.6666666666666666,\"#ed7953\"],[0.7777777777777778,\"#fb9f3a\"],[0.8888888888888888,\"#fdca26\"],[1.0,\"#f0f921\"]],\"type\":\"heatmapgl\"}],\"histogram\":[{\"marker\":{\"pattern\":{\"fillmode\":\"overlay\",\"size\":10,\"solidity\":0.2}},\"type\":\"histogram\"}],\"histogram2d\":[{\"colorbar\":{\"outlinewidth\":0,\"ticks\":\"\"},\"colorscale\":[[0.0,\"#0d0887\"],[0.1111111111111111,\"#46039f\"],[0.2222222222222222,\"#7201a8\"],[0.3333333333333333,\"#9c179e\"],[0.4444444444444444,\"#bd3786\"],[0.5555555555555556,\"#d8576b\"],[0.6666666666666666,\"#ed7953\"],[0.7777777777777778,\"#fb9f3a\"],[0.8888888888888888,\"#fdca26\"],[1.0,\"#f0f921\"]],\"type\":\"histogram2d\"}],\"histogram2dcontour\":[{\"colorbar\":{\"outlinewidth\":0,\"ticks\":\"\"},\"colorscale\":[[0.0,\"#0d0887\"],[0.1111111111111111,\"#46039f\"],[0.2222222222222222,\"#7201a8\"],[0.3333333333333333,\"#9c179e\"],[0.4444444444444444,\"#bd3786\"],[0.5555555555555556,\"#d8576b\"],[0.6666666666666666,\"#ed7953\"],[0.7777777777777778,\"#fb9f3a\"],[0.8888888888888888,\"#fdca26\"],[1.0,\"#f0f921\"]],\"type\":\"histogram2dcontour\"}],\"mesh3d\":[{\"colorbar\":{\"outlinewidth\":0,\"ticks\":\"\"},\"type\":\"mesh3d\"}],\"parcoords\":[{\"line\":{\"colorbar\":{\"outlinewidth\":0,\"ticks\":\"\"}},\"type\":\"parcoords\"}],\"pie\":[{\"automargin\":true,\"type\":\"pie\"}],\"scatter\":[{\"marker\":{\"colorbar\":{\"outlinewidth\":0,\"ticks\":\"\"}},\"type\":\"scatter\"}],\"scatter3d\":[{\"line\":{\"colorbar\":{\"outlinewidth\":0,\"ticks\":\"\"}},\"marker\":{\"colorbar\":{\"outlinewidth\":0,\"ticks\":\"\"}},\"type\":\"scatter3d\"}],\"scattercarpet\":[{\"marker\":{\"colorbar\":{\"outlinewidth\":0,\"ticks\":\"\"}},\"type\":\"scattercarpet\"}],\"scattergeo\":[{\"marker\":{\"colorbar\":{\"outlinewidth\":0,\"ticks\":\"\"}},\"type\":\"scattergeo\"}],\"scattergl\":[{\"marker\":{\"colorbar\":{\"outlinewidth\":0,\"ticks\":\"\"}},\"type\":\"scattergl\"}],\"scattermapbox\":[{\"marker\":{\"colorbar\":{\"outlinewidth\":0,\"ticks\":\"\"}},\"type\":\"scattermapbox\"}],\"scatterpolar\":[{\"marker\":{\"colorbar\":{\"outlinewidth\":0,\"ticks\":\"\"}},\"type\":\"scatterpolar\"}],\"scatterpolargl\":[{\"marker\":{\"colorbar\":{\"outlinewidth\":0,\"ticks\":\"\"}},\"type\":\"scatterpolargl\"}],\"scatterternary\":[{\"marker\":{\"colorbar\":{\"outlinewidth\":0,\"ticks\":\"\"}},\"type\":\"scatterternary\"}],\"surface\":[{\"colorbar\":{\"outlinewidth\":0,\"ticks\":\"\"},\"colorscale\":[[0.0,\"#0d0887\"],[0.1111111111111111,\"#46039f\"],[0.2222222222222222,\"#7201a8\"],[0.3333333333333333,\"#9c179e\"],[0.4444444444444444,\"#bd3786\"],[0.5555555555555556,\"#d8576b\"],[0.6666666666666666,\"#ed7953\"],[0.7777777777777778,\"#fb9f3a\"],[0.8888888888888888,\"#fdca26\"],[1.0,\"#f0f921\"]],\"type\":\"surface\"}],\"table\":[{\"cells\":{\"fill\":{\"color\":\"#EBF0F8\"},\"line\":{\"color\":\"white\"}},\"header\":{\"fill\":{\"color\":\"#C8D4E3\"},\"line\":{\"color\":\"white\"}},\"type\":\"table\"}]},\"layout\":{\"annotationdefaults\":{\"arrowcolor\":\"#2a3f5f\",\"arrowhead\":0,\"arrowwidth\":1},\"autotypenumbers\":\"strict\",\"coloraxis\":{\"colorbar\":{\"outlinewidth\":0,\"ticks\":\"\"}},\"colorscale\":{\"diverging\":[[0,\"#8e0152\"],[0.1,\"#c51b7d\"],[0.2,\"#de77ae\"],[0.3,\"#f1b6da\"],[0.4,\"#fde0ef\"],[0.5,\"#f7f7f7\"],[0.6,\"#e6f5d0\"],[0.7,\"#b8e186\"],[0.8,\"#7fbc41\"],[0.9,\"#4d9221\"],[1,\"#276419\"]],\"sequential\":[[0.0,\"#0d0887\"],[0.1111111111111111,\"#46039f\"],[0.2222222222222222,\"#7201a8\"],[0.3333333333333333,\"#9c179e\"],[0.4444444444444444,\"#bd3786\"],[0.5555555555555556,\"#d8576b\"],[0.6666666666666666,\"#ed7953\"],[0.7777777777777778,\"#fb9f3a\"],[0.8888888888888888,\"#fdca26\"],[1.0,\"#f0f921\"]],\"sequentialminus\":[[0.0,\"#0d0887\"],[0.1111111111111111,\"#46039f\"],[0.2222222222222222,\"#7201a8\"],[0.3333333333333333,\"#9c179e\"],[0.4444444444444444,\"#bd3786\"],[0.5555555555555556,\"#d8576b\"],[0.6666666666666666,\"#ed7953\"],[0.7777777777777778,\"#fb9f3a\"],[0.8888888888888888,\"#fdca26\"],[1.0,\"#f0f921\"]]},\"colorway\":[\"#636efa\",\"#EF553B\",\"#00cc96\",\"#ab63fa\",\"#FFA15A\",\"#19d3f3\",\"#FF6692\",\"#B6E880\",\"#FF97FF\",\"#FECB52\"],\"font\":{\"color\":\"#2a3f5f\"},\"geo\":{\"bgcolor\":\"white\",\"lakecolor\":\"white\",\"landcolor\":\"#E5ECF6\",\"showlakes\":true,\"showland\":true,\"subunitcolor\":\"white\"},\"hoverlabel\":{\"align\":\"left\"},\"hovermode\":\"closest\",\"mapbox\":{\"style\":\"light\"},\"paper_bgcolor\":\"white\",\"plot_bgcolor\":\"#E5ECF6\",\"polar\":{\"angularaxis\":{\"gridcolor\":\"white\",\"linecolor\":\"white\",\"ticks\":\"\"},\"bgcolor\":\"#E5ECF6\",\"radialaxis\":{\"gridcolor\":\"white\",\"linecolor\":\"white\",\"ticks\":\"\"}},\"scene\":{\"xaxis\":{\"backgroundcolor\":\"#E5ECF6\",\"gridcolor\":\"white\",\"gridwidth\":2,\"linecolor\":\"white\",\"showbackground\":true,\"ticks\":\"\",\"zerolinecolor\":\"white\"},\"yaxis\":{\"backgroundcolor\":\"#E5ECF6\",\"gridcolor\":\"white\",\"gridwidth\":2,\"linecolor\":\"white\",\"showbackground\":true,\"ticks\":\"\",\"zerolinecolor\":\"white\"},\"zaxis\":{\"backgroundcolor\":\"#E5ECF6\",\"gridcolor\":\"white\",\"gridwidth\":2,\"linecolor\":\"white\",\"showbackground\":true,\"ticks\":\"\",\"zerolinecolor\":\"white\"}},\"shapedefaults\":{\"line\":{\"color\":\"#2a3f5f\"}},\"ternary\":{\"aaxis\":{\"gridcolor\":\"white\",\"linecolor\":\"white\",\"ticks\":\"\"},\"baxis\":{\"gridcolor\":\"white\",\"linecolor\":\"white\",\"ticks\":\"\"},\"bgcolor\":\"#E5ECF6\",\"caxis\":{\"gridcolor\":\"white\",\"linecolor\":\"white\",\"ticks\":\"\"}},\"title\":{\"x\":0.05},\"xaxis\":{\"automargin\":true,\"gridcolor\":\"white\",\"linecolor\":\"white\",\"ticks\":\"\",\"title\":{\"standoff\":15},\"zerolinecolor\":\"white\",\"zerolinewidth\":2},\"yaxis\":{\"automargin\":true,\"gridcolor\":\"white\",\"linecolor\":\"white\",\"ticks\":\"\",\"title\":{\"standoff\":15},\"zerolinecolor\":\"white\",\"zerolinewidth\":2}}},\"xaxis\":{\"anchor\":\"y\",\"domain\":[0.0,1.0],\"title\":{\"text\":\"x\"}},\"yaxis\":{\"anchor\":\"x\",\"domain\":[0.0,1.0],\"title\":{\"text\":\"y\"}},\"legend\":{\"title\":{\"text\":\"color\"},\"tracegroupgap\":0},\"title\":{\"text\":\"Number of companies per market\"},\"barmode\":\"relative\"},                        {\"responsive\": true}                    ).then(function(){\n",
       "                            \n",
       "var gd = document.getElementById('2faa25f7-b286-40cc-b9c4-716d58c9b507');\n",
       "var x = new MutationObserver(function (mutations, observer) {{\n",
       "        var display = window.getComputedStyle(gd).display;\n",
       "        if (!display || display === 'none') {{\n",
       "            console.log([gd, 'removed!']);\n",
       "            Plotly.purge(gd);\n",
       "            observer.disconnect();\n",
       "        }}\n",
       "}});\n",
       "\n",
       "// Listen for the removal of the full notebook cells\n",
       "var notebookContainer = gd.closest('#notebook-container');\n",
       "if (notebookContainer) {{\n",
       "    x.observe(notebookContainer, {childList: true});\n",
       "}}\n",
       "\n",
       "// Listen for the clearing of the current output cell\n",
       "var outputEl = gd.closest('.output');\n",
       "if (outputEl) {{\n",
       "    x.observe(outputEl, {childList: true});\n",
       "}}\n",
       "\n",
       "                        })                };                            </script>        </div>\n",
       "</body>\n",
       "</html>"
      ]
     },
     "metadata": {},
     "output_type": "display_data"
    }
   ],
   "source": [
    "sum_num_companies = df.groupby(\"market\").count().name\n",
    "sum_num_companies = sorted(dict(sum_num_companies).items(), key=lambda x: x[1], reverse= True)\n",
    "\n",
    "top_10_count_numOfCompanies = [sum_num_companies[index][1] for index in range(10)]\n",
    "top_10_count_Companies = [sum_num_companies[index][0] for index in range(10)]\n",
    "\n",
    "fig = px.bar(x=top_10_count_Companies, y=top_10_count_numOfCompanies, color=top_10_count_Companies,\n",
    "             color_discrete_sequence=px.colors.qualitative.Prism,\n",
    "             title=\"Number of companies per market\")\n",
    "\n",
    "fig.show()"
   ]
  },
  {
   "cell_type": "code",
   "execution_count": null,
   "metadata": {
    "id": "tVu7c65-x4XS"
   },
   "outputs": [],
   "source": [
    "sum_num_companies = df.groupby(\"market\").count().name"
   ]
  },
  {
   "cell_type": "code",
   "execution_count": null,
   "metadata": {
    "colab": {
     "base_uri": "https://localhost:8080/",
     "height": 542
    },
    "id": "oigZ1oK7xKbA",
    "outputId": "0d121912-e98d-44b9-a9d5-fd4e3aac5bc1"
   },
   "outputs": [
    {
     "data": {
      "text/html": [
       "<html>\n",
       "<head><meta charset=\"utf-8\" /></head>\n",
       "<body>\n",
       "    <div>            <script src=\"https://cdnjs.cloudflare.com/ajax/libs/mathjax/2.7.5/MathJax.js?config=TeX-AMS-MML_SVG\"></script><script type=\"text/javascript\">if (window.MathJax) {MathJax.Hub.Config({SVG: {font: \"STIX-Web\"}});}</script>                <script type=\"text/javascript\">window.PlotlyConfig = {MathJaxConfig: 'local'};</script>\n",
       "        <script src=\"https://cdn.plot.ly/plotly-2.8.3.min.js\"></script>                <div id=\"54c2a410-6cdd-4cbd-8eda-e36b781fe6a9\" class=\"plotly-graph-div\" style=\"height:525px; width:100%;\"></div>            <script type=\"text/javascript\">                                    window.PLOTLYENV=window.PLOTLYENV || {};                                    if (document.getElementById(\"54c2a410-6cdd-4cbd-8eda-e36b781fe6a9\")) {                    Plotly.newPlot(                        \"54c2a410-6cdd-4cbd-8eda-e36b781fe6a9\",                        [{\"branchvalues\":\"total\",\"domain\":{\"x\":[0.0,1.0],\"y\":[0.0,1.0]},\"hovertemplate\":\"labels=%{label}<br>name=%{value}<br>parent=%{parent}<br>id=%{id}<extra></extra>\",\"ids\":[\" 3D \",\" 3D Printing \",\" 3D Technology \",\" Accounting \",\" Ad Targeting \",\" Advanced Materials \",\" Adventure Travel \",\" Advertising \",\" Advertising Exchanges \",\" Advertising Networks \",\" Advertising Platforms \",\" Advice \",\" Aerospace \",\" Agriculture \",\" Algorithms \",\" All Markets \",\" All Students \",\" Alternative Medicine \",\" Alumni \",\" Analytics \",\" Android \",\" Angels \",\" Animal Feed \",\" App Discovery \",\" App Marketing \",\" App Stores \",\" Application Performance Monitoring \",\" Application Platforms \",\" Apps \",\" Architecture \",\" Archiving \",\" Art \",\" Artificial Intelligence \",\" Artists Globally \",\" Assisitive Technology \",\" Auctions \",\" Audio \",\" Augmented Reality \",\" Auto \",\" Automated Kiosk \",\" Automotive \",\" B2B \",\" B2B Express Delivery \",\" BPO Services \",\" Babies \",\" Baby Accessories \",\" Baby Boomers \",\" Banking \",\" Batteries \",\" Beauty \",\" Bicycles \",\" Big Data \",\" Big Data Analytics \",\" Billing \",\" Bio-Pharm \",\" Biofuels \",\" Bioinformatics \",\" Biomass Power Generation \",\" Biometrics \",\" Biotechnology \",\" Biotechnology and Semiconductor \",\" Bitcoin \",\" Blogging Platforms \",\" Boating Industry \",\" Brand Marketing \",\" Bridging Online and Offline \",\" Broadcasting \",\" Brokers \",\" Browser Extensions \",\" Business Analytics \",\" Business Development \",\" Business Information Systems \",\" Business Intelligence \",\" Business Productivity \",\" Business Services \",\" CAD \",\" CRM \",\" Cable \",\" Call Center Automation \",\" Carbon \",\" Career Management \",\" Career Planning \",\" Cars \",\" Casual Games \",\" Celebrity \",\" Certification Test \",\" Charity \",\" Charter Schools \",\" Chat \",\" Chemicals \",\" China Internet \",\" Civil Engineers \",\" Classifieds \",\" Clean Energy \",\" Clean Technology \",\" Clean Technology IT \",\" Clinical Trials \",\" Cloud Computing \",\" Cloud Data Services \",\" Cloud Infrastructure \",\" Cloud Management \",\" Cloud Security \",\" Cloud-Based Music \",\" Coffee \",\" Collaboration \",\" Collaborative Consumption \",\" Collectibles \",\" College Campuses \",\" College Recruiting \",\" Colleges \",\" Comics \",\" Commercial Real Estate \",\" Commercial Solar \",\" Commodities \",\" Communications Hardware \",\" Communications Infrastructure \",\" Communities \",\" Comparison Shopping \",\" Computer Vision \",\" Computers \",\" Concerts \",\" Construction \",\" Consulting \",\" Consumer Behavior \",\" Consumer Electronics \",\" Consumer Goods \",\" Consumer Internet \",\" Consumer Lending \",\" Consumers \",\" Contact Centers \",\" Contact Management \",\" Content \",\" Content Creators \",\" Content Delivery \",\" Content Discovery \",\" Content Syndication \",\" Contests \",\" Cooking \",\" Corporate IT \",\" Corporate Training \",\" Corporate Wellness \",\" Cosmetic Surgery \",\" Cosmetics \",\" Coupons \",\" Coworking \",\" Craft Beer \",\" Craigslist Killers \",\" Creative \",\" Creative Industries \",\" Credit \",\" Credit Cards \",\" Crowdfunding \",\" Crowdsourcing \",\" Curated Web \",\" Custom Retail \",\" Customer Service \",\" Customer Support Tools \",\" Cyber \",\" Cyber Security \",\" DIY \",\" DOD/Military \",\" Data Center Automation \",\" Data Center Infrastructure \",\" Data Centers \",\" Data Integration \",\" Data Mining \",\" Data Privacy \",\" Data Security \",\" Data Visualization \",\" Databases \",\" Debt Collecting \",\" Deep Information Technology \",\" Defense \",\" Demographies \",\" Dental \",\" Design \",\" Designers \",\" Developer APIs \",\" Developer Tools \",\" Development Platforms \",\" Diabetes \",\" Diagnostics \",\" Dietary Supplements \",\" Digital Entertainment \",\" Digital Media \",\" Digital Rights Management \",\" Digital Signage \",\" Direct Marketing \",\" Direct Sales \",\" Discounts \",\" Displays \",\" Distributed Generation \",\" Distribution \",\" Distributors \",\" Doctors \",\" Document Management \",\" Domains \",\" Drones \",\" E-Books \",\" E-Commerce \",\" E-Commerce Platforms \",\" EBooks \",\" EDA Tools \",\" Early-Stage Technology \",\" Ediscovery \",\" Education \",\" Educational Games \",\" Elder Care \",\" Electric Vehicles \",\" Electrical Distribution \",\" Electronic Health Records \",\" Electronics \",\" Email \",\" Email Marketing \",\" Email Newsletters \",\" Embedded Hardware and Software \",\" Emerging Markets \",\" Employer Benefits Programs \",\" Employment \",\" Energy \",\" Energy Efficiency \",\" Energy IT \",\" Energy Management \",\" Energy Storage \",\" Engineering Firms \",\" English-Speaking \",\" Enterprise 2.0 \",\" Enterprise Application \",\" Enterprise Hardware \",\" Enterprise Purchasing \",\" Enterprise Resource Planning \",\" Enterprise Search \",\" Enterprise Security \",\" Enterprise Software \",\" Enterprises \",\" Entertainment \",\" Entertainment Industry \",\" Entrepreneur \",\" Environmental Innovation \",\" Estimation and Quoting \",\" Event Management \",\" Events \",\" Exercise \",\" Eyewear \",\" Face Recognition \",\" Facebook Applications \",\" Families \",\" Fantasy Sports \",\" Farmers Market \",\" Farming \",\" Fashion \",\" File Sharing \",\" Film \",\" Film Distribution \",\" Film Production \",\" Finance \",\" Finance Technology \",\" Financial Exchanges \",\" Financial Services \",\" Fitness \",\" Flash Sales \",\" Flash Storage \",\" Fleet Management \",\" Flowers \",\" Food Processing \",\" Forums \",\" Franchises \",\" Fraud Detection \",\" Freelancers \",\" Freemium \",\" FreetoPlay Gaming \",\" Fuels \",\" Funeral Industry \",\" Gadget \",\" Gambling \",\" Game \",\" Game Mechanics \",\" Games \",\" Gamification \",\" Gas \",\" General Public Worldwide \",\" Genetic Testing \",\" Geospatial \",\" Gift Card \",\" Gift Exchange \",\" Gift Registries \",\" Gold \",\" Golf Equipment \",\" Google Apps \",\" Google Glass \",\" Governance \",\" Government Innovation \",\" Governments \",\" Gps \",\" Graphics \",\" Green \",\" Green Building \",\" Green Consumer Goods \",\" Groceries \",\" Group Buying \",\" Group SMS \",\" Guides \",\" Handmade \",\" Hardware \",\" Hardware + Software \",\" Health Care \",\" Health Care Information Technology \",\" Health Services Industry \",\" Health and Insurance \",\" Health and Wellness \",\" Healthcare Services \",\" Heavy Industry \",\" Hedge Funds \",\" High Schools \",\" High Tech \",\" Home & Garden \",\" Home Automation \",\" Home Decor \",\" Home Owners \",\" Home Renovation \",\" Homeland Security \",\" Homeless Shelter \",\" Hospitality \",\" Hospitals \",\" Hotels \",\" Human Computer Interaction \",\" Human Resource Automation \",\" Human Resources \",\" Humanitarian \",\" ICT \",\" IT Management \",\" IT and Cybersecurity \",\" IaaS \",\" Identity \",\" Identity Management \",\" Image Recognition \",\" In-Flight Entertainment \",\" Incentives \",\" Incubators \",\" Independent Music Labels \",\" Indoor Positioning \",\" Industrial \",\" Industrial Automation \",\" Industrial Energy Efficiency \",\" Information Security \",\" Information Services \",\" Information Technology \",\" Infrastructure \",\" Infrastructure Builders \",\" Innovation Engineering \",\" Innovation Management \",\" Insurance \",\" Insurance Companies \",\" Intellectual Asset Management \",\" Intellectual Property \",\" Intelligent Systems \",\" Interest Graph \",\" Interface Design \",\" Interior Design \",\" Internet \",\" Internet Infrastructure \",\" Internet Marketing \",\" Internet Radio Market \",\" Internet Service Providers \",\" Internet TV \",\" Internet Technology \",\" Internet of Things \",\" Investment Management \",\" Jewelry \",\" Journalism \",\" K-12 Education \",\" Kids \",\" Kinect \",\" Knowledge Management \",\" Language Learning \",\" Lasers \",\" Law Enforcement \",\" Lead Generation \",\" Lead Management \",\" Legal \",\" Leisure \",\" Licensing \",\" Life Sciences \",\" Lifestyle \",\" Lifestyle Businesses \",\" Lifestyle Products \",\" Lighting \",\" Lingerie \",\" Linux \",\" Local \",\" Local Advertising \",\" Local Based Services \",\" Local Businesses \",\" Local Commerce \",\" Local Coupons \",\" Local Search \",\" Location Based Services \",\" Logistics \",\" Logistics Company \",\" Lotteries \",\" Low Bid Auctions \",\" Loyalty Programs \",\" M2M \",\" MMO Games \",\" Mac \",\" Machine Learning \",\" Manufacturing \",\" Maps \",\" Market Research \",\" Marketing Automation \",\" Marketplaces \",\" Mass Customization \",\" Match-Making \",\" Material Science \",\" Mechanical Solutions \",\" Media \",\" Medical \",\" Medical Devices \",\" Medical Marijuana Patients \",\" Medical Professionals \",\" Meeting Software \",\" Messaging \",\" MicroBlogging \",\" Minerals \",\" Mining Technologies \",\" Mobile \",\" Mobile Advertising \",\" Mobile Analytics \",\" Mobile Commerce \",\" Mobile Coupons \",\" Mobile Devices \",\" Mobile Emergency&Health \",\" Mobile Enterprise \",\" Mobile Games \",\" Mobile Health \",\" Mobile Infrastructure \",\" Mobile Payments \",\" Mobile Security \",\" Mobile Shopping \",\" Mobile Social \",\" Mobile Software Tools \",\" Mobile Video \",\" Mobility \",\" Monetization \",\" Moneymaking \",\" Motion Capture \",\" Motors \",\" Multi-level Marketing \",\" Music \",\" Music Education \",\" Music Services \",\" Music Venues \",\" Musical Instruments \",\" Musicians \",\" NFC \",\" Nanotechnology \",\" Natural Gas Uses \",\" Natural Language Processing \",\" Natural Resources \",\" Navigation \",\" Network Security \",\" Networking \",\" Neuroscience \",\" New Product Development \",\" New Technologies \",\" News \",\" Niche Specific \",\" Nightclubs \",\" Nightlife \",\" Non Profit \",\" Nonprofits \",\" Nutrition \",\" Office Space \",\" Offline Businesses \",\" Oil \",\" Oil & Gas \",\" Oil and Gas \",\" Online Auctions \",\" Online Dating \",\" Online Gaming \",\" Online Identity \",\" Online Rental \",\" Online Reservations \",\" Online Scheduling \",\" Online Shopping \",\" Online Travel \",\" Online Video Advertising \",\" Open Source \",\" Opinions \",\" Optimization \",\" Organic \",\" Organic Food \",\" Outdoor Advertising \",\" Outdoors \",\" Outsourcing \",\" P2P Money Transfer \",\" PC Gaming \",\" PaaS \",\" Parenting \",\" Parking \",\" Payments \",\" Peer-to-Peer \",\" Performance Marketing \",\" Performing Arts \",\" Personal Branding \",\" Personal Data \",\" Personal Finance \",\" Personal Health \",\" Personalization \",\" Pets \",\" Pharmaceuticals \",\" Photo Editing \",\" Photo Sharing \",\" Photography \",\" Physical Security \",\" Physicians \",\" Plumbers \",\" Point of Sale \",\" Politics \",\" Polling \",\" Portals \",\" Postal and Courier Services \",\" Predictive Analytics \",\" Presentations \",\" Price Comparison \",\" Printing \",\" Privacy \",\" Private Social Networking \",\" Procurement \",\" Product Design \",\" Product Development Services \",\" Product Search \",\" Productivity Software \",\" Professional Networking \",\" Professional Services \",\" Project Management \",\" Promotional \",\" Property Management \",\" Proximity Internet \",\" Psychology \",\" Public Relations \",\" Public Safety \",\" Public Transportation \",\" Publishing \",\" Q&A \",\" QR Codes \",\" Quantified Self \",\" Quantitative Marketing \",\" RFID \",\" RIM \",\" Racing \",\" Radical Breakthrough Startups \",\" Rapidly Expanding \",\" Reading Apps \",\" Real Estate \",\" Real Estate Investors \",\" Real Time \",\" Realtors \",\" Recipes \",\" Recreation \",\" Recruiting \",\" Recycling \",\" Registrars \",\" Rehabilitation \",\" Religion \",\" Remediation \",\" Renewable Energies \",\" Renewable Tech \",\" Rental Housing \",\" Reputation \",\" Residential Solar \",\" Resorts \",\" Restaurants \",\" Retail \",\" Retail Technology \",\" Retirement \",\" Reviews and Recommendations \",\" Risk Management \",\" Robotics \",\" Rural Energy \",\" SEO \",\" SMS \",\" SNS \",\" SaaS \",\" Sales Automation \",\" Sales and Marketing \",\" Search \",\" Search Marketing \",\" Security \",\" Self Development \",\" Self Storage \",\" Semantic Search \",\" Semantic Web \",\" Semiconductor Manufacturing Equipment \",\" Semiconductors \",\" Senior Citizens \",\" Senior Health \",\" Sensors \",\" Service Industries \",\" Service Providers \",\" Services \",\" Sex \",\" Shared Services \",\" Shipping \",\" Shoes \",\" Shopping \",\" Simulation \",\" Skill Assessment \",\" Small and Medium Businesses \",\" Smart Building \",\" Smart Grid \",\" Soccer \",\" Social + Mobile + Local \",\" Social Bookmarking \",\" Social Business \",\" Social Buying \",\" Social CRM \",\" Social Commerce \",\" Social Fundraising \",\" Social Games \",\" Social Innovation \",\" Social Investing \",\" Social Media \",\" Social Media Advertising \",\" Social Media Agent \",\" Social Media Management \",\" Social Media Marketing \",\" Social Media Monitoring \",\" Social Media Platforms \",\" Social Network Media \",\" Social News \",\" Social Opinion Platform \",\" Social Recruiting \",\" Social Search \",\" Social Television \",\" Social Travel \",\" Software \",\" Software Compliance \",\" Solar \",\" Space Travel \",\" Spas \",\" Specialty Chemicals \",\" Specialty Foods \",\" Specialty Retail \",\" Speech Recognition \",\" Sponsorship \",\" Sporting Goods \",\" Sports \",\" Staffing Firms \",\" Startups \",\" Stock Exchanges \",\" Storage \",\" Subscription Businesses \",\" Sunglasses \",\" Supply Chain Management \",\" Surveys \",\" Sustainability \",\" Swimming \",\" Synchronization \",\" Synthetic Biology \",\" Systems \",\" TV Production \",\" Tablets \",\" Task Management \",\" Taxis \",\" Tea \",\" Teachers \",\" Tech Field Support \",\" Technical Continuing Education \",\" Technology \",\" Teenagers \",\" Telecommunications \",\" Telephony \",\" Television \",\" Test and Measurement \",\" Testing \",\" Text Analytics \",\" Textbooks \",\" Textiles \",\" Theatre \",\" Therapeutics \",\" Ticketing \",\" Timeshares \",\" Tourism \",\" Toys \",\" Tracking \",\" Trading \",\" Training \",\" Transaction Processing \",\" Translation \",\" Transportation \",\" Travel \",\" Travel & Tourism \",\" Trusted Networks \",\" Tutoring \",\" Twin-Tip Skis \",\" Twitter Applications \",\" Unifed Communications \",\" Universities \",\" University Students \",\" Unmanned Air Systems \",\" Usability \",\" User Experience Design \",\" Utilities \",\" Vacation Rentals \",\" Vending and Concessions \",\" Venture Capital \",\" Ventures for Good \",\" Vertical Search \",\" Veterinary \",\" Video \",\" Video Chat \",\" Video Conferencing \",\" Video Editing \",\" Video Games \",\" Video Processing \",\" Video Streaming \",\" Video on Demand \",\" Virtual Currency \",\" Virtual Goods \",\" Virtual Workforces \",\" Virtual Worlds \",\" Virtualization \",\" Visual Search \",\" Visualization \",\" VoIP \",\" Water \",\" Water Purification \",\" Wealth Management \",\" Web Browsers \",\" Web CMS \",\" Web Design \",\" Web Development \",\" Web Hosting \",\" Web Presence Management \",\" Web Tools \",\" WebOS \",\" Weddings \",\" Weird Hardware \",\" Wholesale \",\" Wind \",\" Windows Phone 7 \",\" Wine And Spirits \",\" Wireless \",\" Women \",\" World Domination \",\" Writers \",\" Young Adults \",\" iOS \",\" iPad \",\" iPhone \",\" iPod Touch \",\" mHealth \"],\"labels\":[\" 3D \",\" 3D Printing \",\" 3D Technology \",\" Accounting \",\" Ad Targeting \",\" Advanced Materials \",\" Adventure Travel \",\" Advertising \",\" Advertising Exchanges \",\" Advertising Networks \",\" Advertising Platforms \",\" Advice \",\" Aerospace \",\" Agriculture \",\" Algorithms \",\" All Markets \",\" All Students \",\" Alternative Medicine \",\" Alumni \",\" Analytics \",\" Android \",\" Angels \",\" Animal Feed \",\" App Discovery \",\" App Marketing \",\" App Stores \",\" Application Performance Monitoring \",\" Application Platforms \",\" Apps \",\" Architecture \",\" Archiving \",\" Art \",\" Artificial Intelligence \",\" Artists Globally \",\" Assisitive Technology \",\" Auctions \",\" Audio \",\" Augmented Reality \",\" Auto \",\" Automated Kiosk \",\" Automotive \",\" B2B \",\" B2B Express Delivery \",\" BPO Services \",\" Babies \",\" Baby Accessories \",\" Baby Boomers \",\" Banking \",\" Batteries \",\" Beauty \",\" Bicycles \",\" Big Data \",\" Big Data Analytics \",\" Billing \",\" Bio-Pharm \",\" Biofuels \",\" Bioinformatics \",\" Biomass Power Generation \",\" Biometrics \",\" Biotechnology \",\" Biotechnology and Semiconductor \",\" Bitcoin \",\" Blogging Platforms \",\" Boating Industry \",\" Brand Marketing \",\" Bridging Online and Offline \",\" Broadcasting \",\" Brokers \",\" Browser Extensions \",\" Business Analytics \",\" Business Development \",\" Business Information Systems \",\" Business Intelligence \",\" Business Productivity \",\" Business Services \",\" CAD \",\" CRM \",\" Cable \",\" Call Center Automation \",\" Carbon \",\" Career Management \",\" Career Planning \",\" Cars \",\" Casual Games \",\" Celebrity \",\" Certification Test \",\" Charity \",\" Charter Schools \",\" Chat \",\" Chemicals \",\" China Internet \",\" Civil Engineers \",\" Classifieds \",\" Clean Energy \",\" Clean Technology \",\" Clean Technology IT \",\" Clinical Trials \",\" Cloud Computing \",\" Cloud Data Services \",\" Cloud Infrastructure \",\" Cloud Management \",\" Cloud Security \",\" Cloud-Based Music \",\" Coffee \",\" Collaboration \",\" Collaborative Consumption \",\" Collectibles \",\" College Campuses \",\" College Recruiting \",\" Colleges \",\" Comics \",\" Commercial Real Estate \",\" Commercial Solar \",\" Commodities \",\" Communications Hardware \",\" Communications Infrastructure \",\" Communities \",\" Comparison Shopping \",\" Computer Vision \",\" Computers \",\" Concerts \",\" Construction \",\" Consulting \",\" Consumer Behavior \",\" Consumer Electronics \",\" Consumer Goods \",\" Consumer Internet \",\" Consumer Lending \",\" Consumers \",\" Contact Centers \",\" Contact Management \",\" Content \",\" Content Creators \",\" Content Delivery \",\" Content Discovery \",\" Content Syndication \",\" Contests \",\" Cooking \",\" Corporate IT \",\" Corporate Training \",\" Corporate Wellness \",\" Cosmetic Surgery \",\" Cosmetics \",\" Coupons \",\" Coworking \",\" Craft Beer \",\" Craigslist Killers \",\" Creative \",\" Creative Industries \",\" Credit \",\" Credit Cards \",\" Crowdfunding \",\" Crowdsourcing \",\" Curated Web \",\" Custom Retail \",\" Customer Service \",\" Customer Support Tools \",\" Cyber \",\" Cyber Security \",\" DIY \",\" DOD/Military \",\" Data Center Automation \",\" Data Center Infrastructure \",\" Data Centers \",\" Data Integration \",\" Data Mining \",\" Data Privacy \",\" Data Security \",\" Data Visualization \",\" Databases \",\" Debt Collecting \",\" Deep Information Technology \",\" Defense \",\" Demographies \",\" Dental \",\" Design \",\" Designers \",\" Developer APIs \",\" Developer Tools \",\" Development Platforms \",\" Diabetes \",\" Diagnostics \",\" Dietary Supplements \",\" Digital Entertainment \",\" Digital Media \",\" Digital Rights Management \",\" Digital Signage \",\" Direct Marketing \",\" Direct Sales \",\" Discounts \",\" Displays \",\" Distributed Generation \",\" Distribution \",\" Distributors \",\" Doctors \",\" Document Management \",\" Domains \",\" Drones \",\" E-Books \",\" E-Commerce \",\" E-Commerce Platforms \",\" EBooks \",\" EDA Tools \",\" Early-Stage Technology \",\" Ediscovery \",\" Education \",\" Educational Games \",\" Elder Care \",\" Electric Vehicles \",\" Electrical Distribution \",\" Electronic Health Records \",\" Electronics \",\" Email \",\" Email Marketing \",\" Email Newsletters \",\" Embedded Hardware and Software \",\" Emerging Markets \",\" Employer Benefits Programs \",\" Employment \",\" Energy \",\" Energy Efficiency \",\" Energy IT \",\" Energy Management \",\" Energy Storage \",\" Engineering Firms \",\" English-Speaking \",\" Enterprise 2.0 \",\" Enterprise Application \",\" Enterprise Hardware \",\" Enterprise Purchasing \",\" Enterprise Resource Planning \",\" Enterprise Search \",\" Enterprise Security \",\" Enterprise Software \",\" Enterprises \",\" Entertainment \",\" Entertainment Industry \",\" Entrepreneur \",\" Environmental Innovation \",\" Estimation and Quoting \",\" Event Management \",\" Events \",\" Exercise \",\" Eyewear \",\" Face Recognition \",\" Facebook Applications \",\" Families \",\" Fantasy Sports \",\" Farmers Market \",\" Farming \",\" Fashion \",\" File Sharing \",\" Film \",\" Film Distribution \",\" Film Production \",\" Finance \",\" Finance Technology \",\" Financial Exchanges \",\" Financial Services \",\" Fitness \",\" Flash Sales \",\" Flash Storage \",\" Fleet Management \",\" Flowers \",\" Food Processing \",\" Forums \",\" Franchises \",\" Fraud Detection \",\" Freelancers \",\" Freemium \",\" FreetoPlay Gaming \",\" Fuels \",\" Funeral Industry \",\" Gadget \",\" Gambling \",\" Game \",\" Game Mechanics \",\" Games \",\" Gamification \",\" Gas \",\" General Public Worldwide \",\" Genetic Testing \",\" Geospatial \",\" Gift Card \",\" Gift Exchange \",\" Gift Registries \",\" Gold \",\" Golf Equipment \",\" Google Apps \",\" Google Glass \",\" Governance \",\" Government Innovation \",\" Governments \",\" Gps \",\" Graphics \",\" Green \",\" Green Building \",\" Green Consumer Goods \",\" Groceries \",\" Group Buying \",\" Group SMS \",\" Guides \",\" Handmade \",\" Hardware \",\" Hardware + Software \",\" Health Care \",\" Health Care Information Technology \",\" Health Services Industry \",\" Health and Insurance \",\" Health and Wellness \",\" Healthcare Services \",\" Heavy Industry \",\" Hedge Funds \",\" High Schools \",\" High Tech \",\" Home & Garden \",\" Home Automation \",\" Home Decor \",\" Home Owners \",\" Home Renovation \",\" Homeland Security \",\" Homeless Shelter \",\" Hospitality \",\" Hospitals \",\" Hotels \",\" Human Computer Interaction \",\" Human Resource Automation \",\" Human Resources \",\" Humanitarian \",\" ICT \",\" IT Management \",\" IT and Cybersecurity \",\" IaaS \",\" Identity \",\" Identity Management \",\" Image Recognition \",\" In-Flight Entertainment \",\" Incentives \",\" Incubators \",\" Independent Music Labels \",\" Indoor Positioning \",\" Industrial \",\" Industrial Automation \",\" Industrial Energy Efficiency \",\" Information Security \",\" Information Services \",\" Information Technology \",\" Infrastructure \",\" Infrastructure Builders \",\" Innovation Engineering \",\" Innovation Management \",\" Insurance \",\" Insurance Companies \",\" Intellectual Asset Management \",\" Intellectual Property \",\" Intelligent Systems \",\" Interest Graph \",\" Interface Design \",\" Interior Design \",\" Internet \",\" Internet Infrastructure \",\" Internet Marketing \",\" Internet Radio Market \",\" Internet Service Providers \",\" Internet TV \",\" Internet Technology \",\" Internet of Things \",\" Investment Management \",\" Jewelry \",\" Journalism \",\" K-12 Education \",\" Kids \",\" Kinect \",\" Knowledge Management \",\" Language Learning \",\" Lasers \",\" Law Enforcement \",\" Lead Generation \",\" Lead Management \",\" Legal \",\" Leisure \",\" Licensing \",\" Life Sciences \",\" Lifestyle \",\" Lifestyle Businesses \",\" Lifestyle Products \",\" Lighting \",\" Lingerie \",\" Linux \",\" Local \",\" Local Advertising \",\" Local Based Services \",\" Local Businesses \",\" Local Commerce \",\" Local Coupons \",\" Local Search \",\" Location Based Services \",\" Logistics \",\" Logistics Company \",\" Lotteries \",\" Low Bid Auctions \",\" Loyalty Programs \",\" M2M \",\" MMO Games \",\" Mac \",\" Machine Learning \",\" Manufacturing \",\" Maps \",\" Market Research \",\" Marketing Automation \",\" Marketplaces \",\" Mass Customization \",\" Match-Making \",\" Material Science \",\" Mechanical Solutions \",\" Media \",\" Medical \",\" Medical Devices \",\" Medical Marijuana Patients \",\" Medical Professionals \",\" Meeting Software \",\" Messaging \",\" MicroBlogging \",\" Minerals \",\" Mining Technologies \",\" Mobile \",\" Mobile Advertising \",\" Mobile Analytics \",\" Mobile Commerce \",\" Mobile Coupons \",\" Mobile Devices \",\" Mobile Emergency&Health \",\" Mobile Enterprise \",\" Mobile Games \",\" Mobile Health \",\" Mobile Infrastructure \",\" Mobile Payments \",\" Mobile Security \",\" Mobile Shopping \",\" Mobile Social \",\" Mobile Software Tools \",\" Mobile Video \",\" Mobility \",\" Monetization \",\" Moneymaking \",\" Motion Capture \",\" Motors \",\" Multi-level Marketing \",\" Music \",\" Music Education \",\" Music Services \",\" Music Venues \",\" Musical Instruments \",\" Musicians \",\" NFC \",\" Nanotechnology \",\" Natural Gas Uses \",\" Natural Language Processing \",\" Natural Resources \",\" Navigation \",\" Network Security \",\" Networking \",\" Neuroscience \",\" New Product Development \",\" New Technologies \",\" News \",\" Niche Specific \",\" Nightclubs \",\" Nightlife \",\" Non Profit \",\" Nonprofits \",\" Nutrition \",\" Office Space \",\" Offline Businesses \",\" Oil \",\" Oil & Gas \",\" Oil and Gas \",\" Online Auctions \",\" Online Dating \",\" Online Gaming \",\" Online Identity \",\" Online Rental \",\" Online Reservations \",\" Online Scheduling \",\" Online Shopping \",\" Online Travel \",\" Online Video Advertising \",\" Open Source \",\" Opinions \",\" Optimization \",\" Organic \",\" Organic Food \",\" Outdoor Advertising \",\" Outdoors \",\" Outsourcing \",\" P2P Money Transfer \",\" PC Gaming \",\" PaaS \",\" Parenting \",\" Parking \",\" Payments \",\" Peer-to-Peer \",\" Performance Marketing \",\" Performing Arts \",\" Personal Branding \",\" Personal Data \",\" Personal Finance \",\" Personal Health \",\" Personalization \",\" Pets \",\" Pharmaceuticals \",\" Photo Editing \",\" Photo Sharing \",\" Photography \",\" Physical Security \",\" Physicians \",\" Plumbers \",\" Point of Sale \",\" Politics \",\" Polling \",\" Portals \",\" Postal and Courier Services \",\" Predictive Analytics \",\" Presentations \",\" Price Comparison \",\" Printing \",\" Privacy \",\" Private Social Networking \",\" Procurement \",\" Product Design \",\" Product Development Services \",\" Product Search \",\" Productivity Software \",\" Professional Networking \",\" Professional Services \",\" Project Management \",\" Promotional \",\" Property Management \",\" Proximity Internet \",\" Psychology \",\" Public Relations \",\" Public Safety \",\" Public Transportation \",\" Publishing \",\" Q&A \",\" QR Codes \",\" Quantified Self \",\" Quantitative Marketing \",\" RFID \",\" RIM \",\" Racing \",\" Radical Breakthrough Startups \",\" Rapidly Expanding \",\" Reading Apps \",\" Real Estate \",\" Real Estate Investors \",\" Real Time \",\" Realtors \",\" Recipes \",\" Recreation \",\" Recruiting \",\" Recycling \",\" Registrars \",\" Rehabilitation \",\" Religion \",\" Remediation \",\" Renewable Energies \",\" Renewable Tech \",\" Rental Housing \",\" Reputation \",\" Residential Solar \",\" Resorts \",\" Restaurants \",\" Retail \",\" Retail Technology \",\" Retirement \",\" Reviews and Recommendations \",\" Risk Management \",\" Robotics \",\" Rural Energy \",\" SEO \",\" SMS \",\" SNS \",\" SaaS \",\" Sales Automation \",\" Sales and Marketing \",\" Search \",\" Search Marketing \",\" Security \",\" Self Development \",\" Self Storage \",\" Semantic Search \",\" Semantic Web \",\" Semiconductor Manufacturing Equipment \",\" Semiconductors \",\" Senior Citizens \",\" Senior Health \",\" Sensors \",\" Service Industries \",\" Service Providers \",\" Services \",\" Sex \",\" Shared Services \",\" Shipping \",\" Shoes \",\" Shopping \",\" Simulation \",\" Skill Assessment \",\" Small and Medium Businesses \",\" Smart Building \",\" Smart Grid \",\" Soccer \",\" Social + Mobile + Local \",\" Social Bookmarking \",\" Social Business \",\" Social Buying \",\" Social CRM \",\" Social Commerce \",\" Social Fundraising \",\" Social Games \",\" Social Innovation \",\" Social Investing \",\" Social Media \",\" Social Media Advertising \",\" Social Media Agent \",\" Social Media Management \",\" Social Media Marketing \",\" Social Media Monitoring \",\" Social Media Platforms \",\" Social Network Media \",\" Social News \",\" Social Opinion Platform \",\" Social Recruiting \",\" Social Search \",\" Social Television \",\" Social Travel \",\" Software \",\" Software Compliance \",\" Solar \",\" Space Travel \",\" Spas \",\" Specialty Chemicals \",\" Specialty Foods \",\" Specialty Retail \",\" Speech Recognition \",\" Sponsorship \",\" Sporting Goods \",\" Sports \",\" Staffing Firms \",\" Startups \",\" Stock Exchanges \",\" Storage \",\" Subscription Businesses \",\" Sunglasses \",\" Supply Chain Management \",\" Surveys \",\" Sustainability \",\" Swimming \",\" Synchronization \",\" Synthetic Biology \",\" Systems \",\" TV Production \",\" Tablets \",\" Task Management \",\" Taxis \",\" Tea \",\" Teachers \",\" Tech Field Support \",\" Technical Continuing Education \",\" Technology \",\" Teenagers \",\" Telecommunications \",\" Telephony \",\" Television \",\" Test and Measurement \",\" Testing \",\" Text Analytics \",\" Textbooks \",\" Textiles \",\" Theatre \",\" Therapeutics \",\" Ticketing \",\" Timeshares \",\" Tourism \",\" Toys \",\" Tracking \",\" Trading \",\" Training \",\" Transaction Processing \",\" Translation \",\" Transportation \",\" Travel \",\" Travel & Tourism \",\" Trusted Networks \",\" Tutoring \",\" Twin-Tip Skis \",\" Twitter Applications \",\" Unifed Communications \",\" Universities \",\" University Students \",\" Unmanned Air Systems \",\" Usability \",\" User Experience Design \",\" Utilities \",\" Vacation Rentals \",\" Vending and Concessions \",\" Venture Capital \",\" Ventures for Good \",\" Vertical Search \",\" Veterinary \",\" Video \",\" Video Chat \",\" Video Conferencing \",\" Video Editing \",\" Video Games \",\" Video Processing \",\" Video Streaming \",\" Video on Demand \",\" Virtual Currency \",\" Virtual Goods \",\" Virtual Workforces \",\" Virtual Worlds \",\" Virtualization \",\" Visual Search \",\" Visualization \",\" VoIP \",\" Water \",\" Water Purification \",\" Wealth Management \",\" Web Browsers \",\" Web CMS \",\" Web Design \",\" Web Development \",\" Web Hosting \",\" Web Presence Management \",\" Web Tools \",\" WebOS \",\" Weddings \",\" Weird Hardware \",\" Wholesale \",\" Wind \",\" Windows Phone 7 \",\" Wine And Spirits \",\" Wireless \",\" Women \",\" World Domination \",\" Writers \",\" Young Adults \",\" iOS \",\" iPad \",\" iPhone \",\" iPod Touch \",\" mHealth \"],\"name\":\"\",\"parents\":[\"\",\"\",\"\",\"\",\"\",\"\",\"\",\"\",\"\",\"\",\"\",\"\",\"\",\"\",\"\",\"\",\"\",\"\",\"\",\"\",\"\",\"\",\"\",\"\",\"\",\"\",\"\",\"\",\"\",\"\",\"\",\"\",\"\",\"\",\"\",\"\",\"\",\"\",\"\",\"\",\"\",\"\",\"\",\"\",\"\",\"\",\"\",\"\",\"\",\"\",\"\",\"\",\"\",\"\",\"\",\"\",\"\",\"\",\"\",\"\",\"\",\"\",\"\",\"\",\"\",\"\",\"\",\"\",\"\",\"\",\"\",\"\",\"\",\"\",\"\",\"\",\"\",\"\",\"\",\"\",\"\",\"\",\"\",\"\",\"\",\"\",\"\",\"\",\"\",\"\",\"\",\"\",\"\",\"\",\"\",\"\",\"\",\"\",\"\",\"\",\"\",\"\",\"\",\"\",\"\",\"\",\"\",\"\",\"\",\"\",\"\",\"\",\"\",\"\",\"\",\"\",\"\",\"\",\"\",\"\",\"\",\"\",\"\",\"\",\"\",\"\",\"\",\"\",\"\",\"\",\"\",\"\",\"\",\"\",\"\",\"\",\"\",\"\",\"\",\"\",\"\",\"\",\"\",\"\",\"\",\"\",\"\",\"\",\"\",\"\",\"\",\"\",\"\",\"\",\"\",\"\",\"\",\"\",\"\",\"\",\"\",\"\",\"\",\"\",\"\",\"\",\"\",\"\",\"\",\"\",\"\",\"\",\"\",\"\",\"\",\"\",\"\",\"\",\"\",\"\",\"\",\"\",\"\",\"\",\"\",\"\",\"\",\"\",\"\",\"\",\"\",\"\",\"\",\"\",\"\",\"\",\"\",\"\",\"\",\"\",\"\",\"\",\"\",\"\",\"\",\"\",\"\",\"\",\"\",\"\",\"\",\"\",\"\",\"\",\"\",\"\",\"\",\"\",\"\",\"\",\"\",\"\",\"\",\"\",\"\",\"\",\"\",\"\",\"\",\"\",\"\",\"\",\"\",\"\",\"\",\"\",\"\",\"\",\"\",\"\",\"\",\"\",\"\",\"\",\"\",\"\",\"\",\"\",\"\",\"\",\"\",\"\",\"\",\"\",\"\",\"\",\"\",\"\",\"\",\"\",\"\",\"\",\"\",\"\",\"\",\"\",\"\",\"\",\"\",\"\",\"\",\"\",\"\",\"\",\"\",\"\",\"\",\"\",\"\",\"\",\"\",\"\",\"\",\"\",\"\",\"\",\"\",\"\",\"\",\"\",\"\",\"\",\"\",\"\",\"\",\"\",\"\",\"\",\"\",\"\",\"\",\"\",\"\",\"\",\"\",\"\",\"\",\"\",\"\",\"\",\"\",\"\",\"\",\"\",\"\",\"\",\"\",\"\",\"\",\"\",\"\",\"\",\"\",\"\",\"\",\"\",\"\",\"\",\"\",\"\",\"\",\"\",\"\",\"\",\"\",\"\",\"\",\"\",\"\",\"\",\"\",\"\",\"\",\"\",\"\",\"\",\"\",\"\",\"\",\"\",\"\",\"\",\"\",\"\",\"\",\"\",\"\",\"\",\"\",\"\",\"\",\"\",\"\",\"\",\"\",\"\",\"\",\"\",\"\",\"\",\"\",\"\",\"\",\"\",\"\",\"\",\"\",\"\",\"\",\"\",\"\",\"\",\"\",\"\",\"\",\"\",\"\",\"\",\"\",\"\",\"\",\"\",\"\",\"\",\"\",\"\",\"\",\"\",\"\",\"\",\"\",\"\",\"\",\"\",\"\",\"\",\"\",\"\",\"\",\"\",\"\",\"\",\"\",\"\",\"\",\"\",\"\",\"\",\"\",\"\",\"\",\"\",\"\",\"\",\"\",\"\",\"\",\"\",\"\",\"\",\"\",\"\",\"\",\"\",\"\",\"\",\"\",\"\",\"\",\"\",\"\",\"\",\"\",\"\",\"\",\"\",\"\",\"\",\"\",\"\",\"\",\"\",\"\",\"\",\"\",\"\",\"\",\"\",\"\",\"\",\"\",\"\",\"\",\"\",\"\",\"\",\"\",\"\",\"\",\"\",\"\",\"\",\"\",\"\",\"\",\"\",\"\",\"\",\"\",\"\",\"\",\"\",\"\",\"\",\"\",\"\",\"\",\"\",\"\",\"\",\"\",\"\",\"\",\"\",\"\",\"\",\"\",\"\",\"\",\"\",\"\",\"\",\"\",\"\",\"\",\"\",\"\",\"\",\"\",\"\",\"\",\"\",\"\",\"\",\"\",\"\",\"\",\"\",\"\",\"\",\"\",\"\",\"\",\"\",\"\",\"\",\"\",\"\",\"\",\"\",\"\",\"\",\"\",\"\",\"\",\"\",\"\",\"\",\"\",\"\",\"\",\"\",\"\",\"\",\"\",\"\",\"\",\"\",\"\",\"\",\"\",\"\",\"\",\"\",\"\",\"\",\"\",\"\",\"\",\"\",\"\",\"\",\"\",\"\",\"\",\"\",\"\",\"\",\"\",\"\",\"\",\"\",\"\",\"\",\"\",\"\",\"\",\"\",\"\",\"\",\"\",\"\",\"\",\"\",\"\",\"\",\"\",\"\",\"\",\"\",\"\",\"\",\"\",\"\",\"\",\"\",\"\",\"\",\"\",\"\",\"\",\"\",\"\",\"\",\"\",\"\",\"\",\"\",\"\",\"\",\"\",\"\",\"\",\"\",\"\",\"\",\"\",\"\",\"\",\"\",\"\",\"\",\"\",\"\",\"\",\"\",\"\",\"\",\"\",\"\",\"\",\"\",\"\",\"\",\"\",\"\",\"\",\"\",\"\",\"\",\"\",\"\",\"\",\"\",\"\",\"\",\"\",\"\",\"\",\"\",\"\",\"\",\"\",\"\",\"\",\"\",\"\",\"\",\"\",\"\",\"\",\"\",\"\",\"\",\"\",\"\",\"\",\"\",\"\",\"\",\"\",\"\",\"\",\"\",\"\",\"\",\"\",\"\",\"\",\"\",\"\",\"\",\"\",\"\",\"\",\"\",\"\",\"\",\"\",\"\",\"\",\"\",\"\",\"\",\"\",\"\",\"\",\"\",\"\",\"\",\"\",\"\",\"\",\"\",\"\",\"\",\"\",\"\",\"\",\"\",\"\",\"\",\"\",\"\",\"\",\"\",\"\",\"\",\"\",\"\",\"\",\"\",\"\",\"\",\"\",\"\",\"\",\"\",\"\",\"\",\"\",\"\",\"\",\"\",\"\",\"\",\"\",\"\",\"\",\"\",\"\",\"\",\"\",\"\",\"\",\"\",\"\",\"\",\"\",\"\",\"\",\"\",\"\"],\"values\":[21,8,7,16,13,1,6,892,2,4,28,13,14,18,4,7,15,1,1,521,84,2,2,1,27,8,5,16,201,7,3,27,22,6,1,25,18,12,6,1,145,39,1,2,10,1,1,29,6,23,1,136,48,12,3,0,3,0,4,2434,1,40,34,2,57,4,11,4,12,11,12,4,38,8,58,0,39,1,0,2,23,8,19,2,6,2,13,4,28,6,1,1,11,20,763,1,2,128,33,17,21,9,1,4,63,17,6,2,3,23,1,11,1,1,16,14,39,7,9,17,12,12,378,4,96,41,27,2,42,1,12,62,9,8,12,6,3,9,4,9,2,2,10,31,3,10,4,13,3,13,8,30,61,1325,0,44,9,2,12,5,4,2,4,22,16,14,2,24,23,38,1,2,7,2,5,119,2,28,18,17,11,11,1,5,88,2,8,6,3,16,13,1,13,3,7,15,6,6,6,1445,19,2,1,1,10,643,12,3,3,3,9,29,41,18,1,3,6,5,21,29,16,3,9,0,3,4,1,2,2,1,5,7,4,1060,67,201,7,13,10,2,21,61,5,1,2,67,3,15,3,2,316,39,17,2,6,660,54,4,86,37,12,12,5,4,21,8,2,5,16,7,6,1,1,1,12,22,3,904,17,1,1,2,6,22,0,2,0,1,6,1,1,4,5,13,17,8,0,3,2,12,1,9,2,59,794,855,45,0,6,639,13,2,2,9,5,21,34,8,1,5,0,1,365,18,33,3,2,51,4,1,10,9,10,12,11,11,2,16,7,1,3,3,4,1,14,21,77,7,2,3,5,14,1,6,1,3,5,3,2,217,1,64,3,4,6,2,62,16,11,11,17,30,5,3,20,1,10,23,4,72,8,7,19,27,1,2,5,1,9,44,6,11,39,1,2,13,56,29,1,1,1,25,6,8,3,25,502,24,29,47,190,10,7,5,2,101,215,96,2,5,9,230,7,1,3,1599,29,5,60,6,13,3,5,54,12,2,56,18,6,8,18,5,16,9,1,1,1,1,228,2,8,1,1,1,10,66,0,7,4,11,24,168,2,1,0,296,1,5,6,7,98,6,4,4,6,17,8,2,25,13,3,21,23,16,55,22,12,31,14,20,3,11,2,3,15,9,1,25,14,6,72,34,8,0,2,1,22,11,25,37,56,2,44,194,2,6,2,12,14,9,8,6,31,9,23,11,15,13,3,6,4,2,36,6,12,16,11,10,5,6,141,2,74,61,2,9,1,1,4,1,1,1,2,1,339,2,42,1,5,1,67,9,2,1,3,0,14,2,5,13,2,1,55,92,17,1,56,17,14,1,27,21,4,244,14,111,238,9,407,3,1,17,14,2,365,1,2,20,1,12,64,1,4,12,13,59,2,5,42,2,7,3,8,11,7,13,8,53,7,37,1,1,723,10,1,10,45,11,8,155,0,1,15,14,5,11,3756,2,21,1,3,2,10,4,4,4,4,215,6,128,10,46,16,2,9,5,11,1,6,1,8,1,13,11,4,2,7,6,1,203,5,56,5,42,3,12,4,8,3,1,18,31,1,18,5,28,19,21,1,12,142,299,18,3,15,2,35,9,8,5,0,3,16,16,11,1,38,3,4,1,188,8,9,3,19,2,56,11,7,2,4,13,27,8,7,23,5,4,5,7,14,23,96,325,0,40,2,17,1,9,1,4,16,68,11,6,1,2,46,27,65,3,7],\"type\":\"treemap\"}],                        {\"template\":{\"data\":{\"bar\":[{\"error_x\":{\"color\":\"#2a3f5f\"},\"error_y\":{\"color\":\"#2a3f5f\"},\"marker\":{\"line\":{\"color\":\"#E5ECF6\",\"width\":0.5},\"pattern\":{\"fillmode\":\"overlay\",\"size\":10,\"solidity\":0.2}},\"type\":\"bar\"}],\"barpolar\":[{\"marker\":{\"line\":{\"color\":\"#E5ECF6\",\"width\":0.5},\"pattern\":{\"fillmode\":\"overlay\",\"size\":10,\"solidity\":0.2}},\"type\":\"barpolar\"}],\"carpet\":[{\"aaxis\":{\"endlinecolor\":\"#2a3f5f\",\"gridcolor\":\"white\",\"linecolor\":\"white\",\"minorgridcolor\":\"white\",\"startlinecolor\":\"#2a3f5f\"},\"baxis\":{\"endlinecolor\":\"#2a3f5f\",\"gridcolor\":\"white\",\"linecolor\":\"white\",\"minorgridcolor\":\"white\",\"startlinecolor\":\"#2a3f5f\"},\"type\":\"carpet\"}],\"choropleth\":[{\"colorbar\":{\"outlinewidth\":0,\"ticks\":\"\"},\"type\":\"choropleth\"}],\"contour\":[{\"colorbar\":{\"outlinewidth\":0,\"ticks\":\"\"},\"colorscale\":[[0.0,\"#0d0887\"],[0.1111111111111111,\"#46039f\"],[0.2222222222222222,\"#7201a8\"],[0.3333333333333333,\"#9c179e\"],[0.4444444444444444,\"#bd3786\"],[0.5555555555555556,\"#d8576b\"],[0.6666666666666666,\"#ed7953\"],[0.7777777777777778,\"#fb9f3a\"],[0.8888888888888888,\"#fdca26\"],[1.0,\"#f0f921\"]],\"type\":\"contour\"}],\"contourcarpet\":[{\"colorbar\":{\"outlinewidth\":0,\"ticks\":\"\"},\"type\":\"contourcarpet\"}],\"heatmap\":[{\"colorbar\":{\"outlinewidth\":0,\"ticks\":\"\"},\"colorscale\":[[0.0,\"#0d0887\"],[0.1111111111111111,\"#46039f\"],[0.2222222222222222,\"#7201a8\"],[0.3333333333333333,\"#9c179e\"],[0.4444444444444444,\"#bd3786\"],[0.5555555555555556,\"#d8576b\"],[0.6666666666666666,\"#ed7953\"],[0.7777777777777778,\"#fb9f3a\"],[0.8888888888888888,\"#fdca26\"],[1.0,\"#f0f921\"]],\"type\":\"heatmap\"}],\"heatmapgl\":[{\"colorbar\":{\"outlinewidth\":0,\"ticks\":\"\"},\"colorscale\":[[0.0,\"#0d0887\"],[0.1111111111111111,\"#46039f\"],[0.2222222222222222,\"#7201a8\"],[0.3333333333333333,\"#9c179e\"],[0.4444444444444444,\"#bd3786\"],[0.5555555555555556,\"#d8576b\"],[0.6666666666666666,\"#ed7953\"],[0.7777777777777778,\"#fb9f3a\"],[0.8888888888888888,\"#fdca26\"],[1.0,\"#f0f921\"]],\"type\":\"heatmapgl\"}],\"histogram\":[{\"marker\":{\"pattern\":{\"fillmode\":\"overlay\",\"size\":10,\"solidity\":0.2}},\"type\":\"histogram\"}],\"histogram2d\":[{\"colorbar\":{\"outlinewidth\":0,\"ticks\":\"\"},\"colorscale\":[[0.0,\"#0d0887\"],[0.1111111111111111,\"#46039f\"],[0.2222222222222222,\"#7201a8\"],[0.3333333333333333,\"#9c179e\"],[0.4444444444444444,\"#bd3786\"],[0.5555555555555556,\"#d8576b\"],[0.6666666666666666,\"#ed7953\"],[0.7777777777777778,\"#fb9f3a\"],[0.8888888888888888,\"#fdca26\"],[1.0,\"#f0f921\"]],\"type\":\"histogram2d\"}],\"histogram2dcontour\":[{\"colorbar\":{\"outlinewidth\":0,\"ticks\":\"\"},\"colorscale\":[[0.0,\"#0d0887\"],[0.1111111111111111,\"#46039f\"],[0.2222222222222222,\"#7201a8\"],[0.3333333333333333,\"#9c179e\"],[0.4444444444444444,\"#bd3786\"],[0.5555555555555556,\"#d8576b\"],[0.6666666666666666,\"#ed7953\"],[0.7777777777777778,\"#fb9f3a\"],[0.8888888888888888,\"#fdca26\"],[1.0,\"#f0f921\"]],\"type\":\"histogram2dcontour\"}],\"mesh3d\":[{\"colorbar\":{\"outlinewidth\":0,\"ticks\":\"\"},\"type\":\"mesh3d\"}],\"parcoords\":[{\"line\":{\"colorbar\":{\"outlinewidth\":0,\"ticks\":\"\"}},\"type\":\"parcoords\"}],\"pie\":[{\"automargin\":true,\"type\":\"pie\"}],\"scatter\":[{\"marker\":{\"colorbar\":{\"outlinewidth\":0,\"ticks\":\"\"}},\"type\":\"scatter\"}],\"scatter3d\":[{\"line\":{\"colorbar\":{\"outlinewidth\":0,\"ticks\":\"\"}},\"marker\":{\"colorbar\":{\"outlinewidth\":0,\"ticks\":\"\"}},\"type\":\"scatter3d\"}],\"scattercarpet\":[{\"marker\":{\"colorbar\":{\"outlinewidth\":0,\"ticks\":\"\"}},\"type\":\"scattercarpet\"}],\"scattergeo\":[{\"marker\":{\"colorbar\":{\"outlinewidth\":0,\"ticks\":\"\"}},\"type\":\"scattergeo\"}],\"scattergl\":[{\"marker\":{\"colorbar\":{\"outlinewidth\":0,\"ticks\":\"\"}},\"type\":\"scattergl\"}],\"scattermapbox\":[{\"marker\":{\"colorbar\":{\"outlinewidth\":0,\"ticks\":\"\"}},\"type\":\"scattermapbox\"}],\"scatterpolar\":[{\"marker\":{\"colorbar\":{\"outlinewidth\":0,\"ticks\":\"\"}},\"type\":\"scatterpolar\"}],\"scatterpolargl\":[{\"marker\":{\"colorbar\":{\"outlinewidth\":0,\"ticks\":\"\"}},\"type\":\"scatterpolargl\"}],\"scatterternary\":[{\"marker\":{\"colorbar\":{\"outlinewidth\":0,\"ticks\":\"\"}},\"type\":\"scatterternary\"}],\"surface\":[{\"colorbar\":{\"outlinewidth\":0,\"ticks\":\"\"},\"colorscale\":[[0.0,\"#0d0887\"],[0.1111111111111111,\"#46039f\"],[0.2222222222222222,\"#7201a8\"],[0.3333333333333333,\"#9c179e\"],[0.4444444444444444,\"#bd3786\"],[0.5555555555555556,\"#d8576b\"],[0.6666666666666666,\"#ed7953\"],[0.7777777777777778,\"#fb9f3a\"],[0.8888888888888888,\"#fdca26\"],[1.0,\"#f0f921\"]],\"type\":\"surface\"}],\"table\":[{\"cells\":{\"fill\":{\"color\":\"#EBF0F8\"},\"line\":{\"color\":\"white\"}},\"header\":{\"fill\":{\"color\":\"#C8D4E3\"},\"line\":{\"color\":\"white\"}},\"type\":\"table\"}]},\"layout\":{\"annotationdefaults\":{\"arrowcolor\":\"#2a3f5f\",\"arrowhead\":0,\"arrowwidth\":1},\"autotypenumbers\":\"strict\",\"coloraxis\":{\"colorbar\":{\"outlinewidth\":0,\"ticks\":\"\"}},\"colorscale\":{\"diverging\":[[0,\"#8e0152\"],[0.1,\"#c51b7d\"],[0.2,\"#de77ae\"],[0.3,\"#f1b6da\"],[0.4,\"#fde0ef\"],[0.5,\"#f7f7f7\"],[0.6,\"#e6f5d0\"],[0.7,\"#b8e186\"],[0.8,\"#7fbc41\"],[0.9,\"#4d9221\"],[1,\"#276419\"]],\"sequential\":[[0.0,\"#0d0887\"],[0.1111111111111111,\"#46039f\"],[0.2222222222222222,\"#7201a8\"],[0.3333333333333333,\"#9c179e\"],[0.4444444444444444,\"#bd3786\"],[0.5555555555555556,\"#d8576b\"],[0.6666666666666666,\"#ed7953\"],[0.7777777777777778,\"#fb9f3a\"],[0.8888888888888888,\"#fdca26\"],[1.0,\"#f0f921\"]],\"sequentialminus\":[[0.0,\"#0d0887\"],[0.1111111111111111,\"#46039f\"],[0.2222222222222222,\"#7201a8\"],[0.3333333333333333,\"#9c179e\"],[0.4444444444444444,\"#bd3786\"],[0.5555555555555556,\"#d8576b\"],[0.6666666666666666,\"#ed7953\"],[0.7777777777777778,\"#fb9f3a\"],[0.8888888888888888,\"#fdca26\"],[1.0,\"#f0f921\"]]},\"colorway\":[\"#636efa\",\"#EF553B\",\"#00cc96\",\"#ab63fa\",\"#FFA15A\",\"#19d3f3\",\"#FF6692\",\"#B6E880\",\"#FF97FF\",\"#FECB52\"],\"font\":{\"color\":\"#2a3f5f\"},\"geo\":{\"bgcolor\":\"white\",\"lakecolor\":\"white\",\"landcolor\":\"#E5ECF6\",\"showlakes\":true,\"showland\":true,\"subunitcolor\":\"white\"},\"hoverlabel\":{\"align\":\"left\"},\"hovermode\":\"closest\",\"mapbox\":{\"style\":\"light\"},\"paper_bgcolor\":\"white\",\"plot_bgcolor\":\"#E5ECF6\",\"polar\":{\"angularaxis\":{\"gridcolor\":\"white\",\"linecolor\":\"white\",\"ticks\":\"\"},\"bgcolor\":\"#E5ECF6\",\"radialaxis\":{\"gridcolor\":\"white\",\"linecolor\":\"white\",\"ticks\":\"\"}},\"scene\":{\"xaxis\":{\"backgroundcolor\":\"#E5ECF6\",\"gridcolor\":\"white\",\"gridwidth\":2,\"linecolor\":\"white\",\"showbackground\":true,\"ticks\":\"\",\"zerolinecolor\":\"white\"},\"yaxis\":{\"backgroundcolor\":\"#E5ECF6\",\"gridcolor\":\"white\",\"gridwidth\":2,\"linecolor\":\"white\",\"showbackground\":true,\"ticks\":\"\",\"zerolinecolor\":\"white\"},\"zaxis\":{\"backgroundcolor\":\"#E5ECF6\",\"gridcolor\":\"white\",\"gridwidth\":2,\"linecolor\":\"white\",\"showbackground\":true,\"ticks\":\"\",\"zerolinecolor\":\"white\"}},\"shapedefaults\":{\"line\":{\"color\":\"#2a3f5f\"}},\"ternary\":{\"aaxis\":{\"gridcolor\":\"white\",\"linecolor\":\"white\",\"ticks\":\"\"},\"baxis\":{\"gridcolor\":\"white\",\"linecolor\":\"white\",\"ticks\":\"\"},\"bgcolor\":\"#E5ECF6\",\"caxis\":{\"gridcolor\":\"white\",\"linecolor\":\"white\",\"ticks\":\"\"}},\"title\":{\"x\":0.05},\"xaxis\":{\"automargin\":true,\"gridcolor\":\"white\",\"linecolor\":\"white\",\"ticks\":\"\",\"title\":{\"standoff\":15},\"zerolinecolor\":\"white\",\"zerolinewidth\":2},\"yaxis\":{\"automargin\":true,\"gridcolor\":\"white\",\"linecolor\":\"white\",\"ticks\":\"\",\"title\":{\"standoff\":15},\"zerolinecolor\":\"white\",\"zerolinewidth\":2}}},\"legend\":{\"tracegroupgap\":0},\"margin\":{\"t\":60},\"treemapcolorway\":[\"#FD3216\",\"#00FE35\",\"#6A76FC\",\"#FED4C4\",\"#FE00CE\",\"#0DF9FF\",\"#F6F926\",\"#FF9616\",\"#479B55\",\"#EEA6FB\",\"#DC587D\",\"#D626FF\",\"#6E899C\",\"#00B5F7\",\"#B68E00\",\"#C9FBE5\",\"#FF0092\",\"#22FFA7\",\"#E3EE9E\",\"#86CE00\",\"#BC7196\",\"#7E7DCD\",\"#FC6955\",\"#E48F72\"],\"title\":{\"text\":\"Number of Companies in Each Market\"}},                        {\"responsive\": true}                    ).then(function(){\n",
       "                            \n",
       "var gd = document.getElementById('54c2a410-6cdd-4cbd-8eda-e36b781fe6a9');\n",
       "var x = new MutationObserver(function (mutations, observer) {{\n",
       "        var display = window.getComputedStyle(gd).display;\n",
       "        if (!display || display === 'none') {{\n",
       "            console.log([gd, 'removed!']);\n",
       "            Plotly.purge(gd);\n",
       "            observer.disconnect();\n",
       "        }}\n",
       "}});\n",
       "\n",
       "// Listen for the removal of the full notebook cells\n",
       "var notebookContainer = gd.closest('#notebook-container');\n",
       "if (notebookContainer) {{\n",
       "    x.observe(notebookContainer, {childList: true});\n",
       "}}\n",
       "\n",
       "// Listen for the clearing of the current output cell\n",
       "var outputEl = gd.closest('.output');\n",
       "if (outputEl) {{\n",
       "    x.observe(outputEl, {childList: true});\n",
       "}}\n",
       "\n",
       "                        })                };                            </script>        </div>\n",
       "</body>\n",
       "</html>"
      ]
     },
     "metadata": {},
     "output_type": "display_data"
    }
   ],
   "source": [
    "\n",
    "fig = px.treemap(pd.DataFrame(sum_num_companies).reset_index(), path=['market'], values='name',\n",
    "                  color_discrete_sequence=px.colors.qualitative.Light24)\n",
    "\n",
    "fig.update_layout(title=\"Number of Companies in Each Market\")\n",
    "fig.show()"
   ]
  },
  {
   "cell_type": "markdown",
   "metadata": {
    "id": "xAPYohaWjZAi"
   },
   "source": [
    "## Trend of new start-ups in top 10 industries with highest number of companies"
   ]
  },
  {
   "cell_type": "markdown",
   "metadata": {
    "id": "zXf0Q9B82MgX"
   },
   "source": [
    "Not all industries recieved the same attention and hype as others. Figure below illustrates how the number of start-ups in each particular industry growed over time. `Hardware + Software`, and `Healthcare` industries did not recieve as much growth and attention in comparison to others, moving slowly upward through the time."
   ]
  },
  {
   "cell_type": "code",
   "execution_count": null,
   "metadata": {
    "id": "bkdhqJS0uxv0"
   },
   "outputs": [],
   "source": [
    "founded_at_in_each_market = dict(df.groupby([df[\"founded_at\"].dt.year, \"market\"]).count().name)\n",
    "\n",
    "for company in top_10_count_Companies:\n",
    "  for year in range(1980, 2015):\n",
    "    if (year, company) not in founded_at_in_each_market.keys():\n",
    "      founded_at_in_each_market[year, company] = 0"
   ]
  },
  {
   "cell_type": "code",
   "execution_count": null,
   "metadata": {
    "id": "9Vvv_WsSjU4_"
   },
   "outputs": [],
   "source": [
    "# founded_at_in_each_market\n",
    "dict_of_companies_founded_in_each_year = {company: {} for company in top_10_count_Companies}\n",
    "for key, value in founded_at_in_each_market.items():\n",
    "  if key[1] in top_10_count_Companies:\n",
    "    dict_of_companies_founded_in_each_year[key[1]][key[0]] = value"
   ]
  },
  {
   "cell_type": "code",
   "execution_count": null,
   "metadata": {
    "id": "GROFo-4qk8FF"
   },
   "outputs": [],
   "source": [
    "def sortDict(dictionary):\n",
    "  sorted_dict = {}\n",
    "  sorted_keys = sorted(dictionary.keys())\n",
    "  for key in sorted_keys:\n",
    "    sorted_dict[key] = dictionary[key]\n",
    "  return sorted_dict"
   ]
  },
  {
   "cell_type": "code",
   "execution_count": null,
   "metadata": {
    "id": "_CuoZ9iuwbxX"
   },
   "outputs": [],
   "source": [
    "for company in top_10_count_Companies:\n",
    "  dict_of_companies_founded_in_each_year[company] = list(sortDict(dict_of_companies_founded_in_each_year[company]).values())"
   ]
  },
  {
   "cell_type": "code",
   "execution_count": null,
   "metadata": {
    "id": "srqSYw8GkgGU"
   },
   "outputs": [],
   "source": [
    "# # Draw a line chart with multiple lines\n",
    "# dict_of_companies_founded_in_each_year[\"years\"] = np.arange(1980, 2015)\n",
    "\n",
    "# plt.figure(figsize= (15, 5))\n",
    "# for market in top_10_count_Companies:\n",
    "#   sns.lineplot(x=\"years\", y= market, label=market, data=dict_of_companies_founded_in_each_year)\n",
    "\n",
    "# plt.xticks(np.arange(1980, 2016, 2))\n",
    "# plt.title('Number of companies founded through the time')\n",
    "# plt.xlabel(\"Years\")\n",
    "# plt.ylabel(\"\")\n",
    "# plt.show()"
   ]
  },
  {
   "cell_type": "code",
   "execution_count": null,
   "metadata": {
    "colab": {
     "base_uri": "https://localhost:8080/",
     "height": 542
    },
    "id": "jp_n9SzF1731",
    "outputId": "d3c65606-02c3-4066-dd02-1cfbc0545b40"
   },
   "outputs": [
    {
     "data": {
      "text/html": [
       "<html>\n",
       "<head><meta charset=\"utf-8\" /></head>\n",
       "<body>\n",
       "    <div>            <script src=\"https://cdnjs.cloudflare.com/ajax/libs/mathjax/2.7.5/MathJax.js?config=TeX-AMS-MML_SVG\"></script><script type=\"text/javascript\">if (window.MathJax) {MathJax.Hub.Config({SVG: {font: \"STIX-Web\"}});}</script>                <script type=\"text/javascript\">window.PlotlyConfig = {MathJaxConfig: 'local'};</script>\n",
       "        <script src=\"https://cdn.plot.ly/plotly-2.8.3.min.js\"></script>                <div id=\"3095f3ed-781d-43bb-b12d-ce9fafd660ca\" class=\"plotly-graph-div\" style=\"height:525px; width:100%;\"></div>            <script type=\"text/javascript\">                                    window.PLOTLYENV=window.PLOTLYENV || {};                                    if (document.getElementById(\"3095f3ed-781d-43bb-b12d-ce9fafd660ca\")) {                    Plotly.newPlot(                        \"3095f3ed-781d-43bb-b12d-ce9fafd660ca\",                        [{\"hovertemplate\":\"variable= Software <br>Years=%{x}<br>value=%{y}<extra></extra>\",\"legendgroup\":\" Software \",\"line\":{\"color\":\"#636efa\",\"dash\":\"solid\"},\"marker\":{\"symbol\":\"circle\"},\"mode\":\"lines\",\"name\":\" Software \",\"orientation\":\"v\",\"showlegend\":true,\"x\":[1980,1981,1982,1983,1984,1985,1986,1987,1988,1989,1990,1991,1992,1993,1994,1995,1996,1997,1998,1999,2000,2001,2002,2003,2004,2005,2006,2007,2008,2009,2010,2011,2012,2013,2014],\"xaxis\":\"x\",\"y\":[1,6,7,7,13,14,7,3,12,12,17,16,22,25,28,33,40,63,91,132,152,137,135,152,135,168,176,208,198,282,309,383,418,282,72],\"yaxis\":\"y\",\"type\":\"scatter\"},{\"hovertemplate\":\"variable= Biotechnology <br>Years=%{x}<br>value=%{y}<extra></extra>\",\"legendgroup\":\" Biotechnology \",\"line\":{\"color\":\"#EF553B\",\"dash\":\"solid\"},\"marker\":{\"symbol\":\"circle\"},\"mode\":\"lines\",\"name\":\" Biotechnology \",\"orientation\":\"v\",\"showlegend\":true,\"x\":[1980,1981,1982,1983,1984,1985,1986,1987,1988,1989,1990,1991,1992,1993,1994,1995,1996,1997,1998,1999,2000,2001,2002,2003,2004,2005,2006,2007,2008,2009,2010,2011,2012,2013,2014],\"xaxis\":\"x\",\"y\":[0,6,4,9,3,9,11,10,8,10,13,6,23,20,16,26,32,58,55,67,97,90,89,99,122,162,188,212,161,195,197,180,155,92,9],\"yaxis\":\"y\",\"type\":\"scatter\"},{\"hovertemplate\":\"variable= Mobile <br>Years=%{x}<br>value=%{y}<extra></extra>\",\"legendgroup\":\" Mobile \",\"line\":{\"color\":\"#00cc96\",\"dash\":\"solid\"},\"marker\":{\"symbol\":\"circle\"},\"mode\":\"lines\",\"name\":\" Mobile \",\"orientation\":\"v\",\"showlegend\":true,\"x\":[1980,1981,1982,1983,1984,1985,1986,1987,1988,1989,1990,1991,1992,1993,1994,1995,1996,1997,1998,1999,2000,2001,2002,2003,2004,2005,2006,2007,2008,2009,2010,2011,2012,2013,2014],\"xaxis\":\"x\",\"y\":[0,2,0,3,3,4,3,2,2,3,2,3,7,3,5,6,9,11,9,28,31,35,25,33,46,58,71,89,89,113,179,283,266,149,27],\"yaxis\":\"y\",\"type\":\"scatter\"},{\"hovertemplate\":\"variable= E-Commerce <br>Years=%{x}<br>value=%{y}<extra></extra>\",\"legendgroup\":\" E-Commerce \",\"line\":{\"color\":\"#ab63fa\",\"dash\":\"solid\"},\"marker\":{\"symbol\":\"circle\"},\"mode\":\"lines\",\"name\":\" E-Commerce \",\"orientation\":\"v\",\"showlegend\":true,\"x\":[1980,1981,1982,1983,1984,1985,1986,1987,1988,1989,1990,1991,1992,1993,1994,1995,1996,1997,1998,1999,2000,2001,2002,2003,2004,2005,2006,2007,2008,2009,2010,2011,2012,2013,2014],\"xaxis\":\"x\",\"y\":[0,3,1,0,4,1,2,2,2,2,2,1,4,3,1,8,10,11,7,24,17,13,23,20,31,37,39,71,72,116,171,246,288,192,21],\"yaxis\":\"y\",\"type\":\"scatter\"},{\"hovertemplate\":\"variable= Curated Web <br>Years=%{x}<br>value=%{y}<extra></extra>\",\"legendgroup\":\" Curated Web \",\"line\":{\"color\":\"#FFA15A\",\"dash\":\"solid\"},\"marker\":{\"symbol\":\"circle\"},\"mode\":\"lines\",\"name\":\" Curated Web \",\"orientation\":\"v\",\"showlegend\":true,\"x\":[1980,1981,1982,1983,1984,1985,1986,1987,1988,1989,1990,1991,1992,1993,1994,1995,1996,1997,1998,1999,2000,2001,2002,2003,2004,2005,2006,2007,2008,2009,2010,2011,2012,2013,2014],\"xaxis\":\"x\",\"y\":[0,0,0,0,1,0,2,1,0,2,0,1,0,2,4,3,5,3,10,19,18,11,11,18,35,44,81,120,121,146,162,201,205,86,13],\"yaxis\":\"y\",\"type\":\"scatter\"},{\"hovertemplate\":\"variable= Enterprise Software <br>Years=%{x}<br>value=%{y}<extra></extra>\",\"legendgroup\":\" Enterprise Software \",\"line\":{\"color\":\"#19d3f3\",\"dash\":\"solid\"},\"marker\":{\"symbol\":\"circle\"},\"mode\":\"lines\",\"name\":\" Enterprise Software \",\"orientation\":\"v\",\"showlegend\":true,\"x\":[1980,1981,1982,1983,1984,1985,1986,1987,1988,1989,1990,1991,1992,1993,1994,1995,1996,1997,1998,1999,2000,2001,2002,2003,2004,2005,2006,2007,2008,2009,2010,2011,2012,2013,2014],\"xaxis\":\"x\",\"y\":[0,0,0,6,1,4,0,3,0,1,3,5,1,3,5,6,20,17,19,33,56,36,40,36,38,40,51,67,66,100,111,111,106,68,7],\"yaxis\":\"y\",\"type\":\"scatter\"},{\"hovertemplate\":\"variable= Games <br>Years=%{x}<br>value=%{y}<extra></extra>\",\"legendgroup\":\" Games \",\"line\":{\"color\":\"#FF6692\",\"dash\":\"solid\"},\"marker\":{\"symbol\":\"circle\"},\"mode\":\"lines\",\"name\":\" Games \",\"orientation\":\"v\",\"showlegend\":true,\"x\":[1980,1981,1982,1983,1984,1985,1986,1987,1988,1989,1990,1991,1992,1993,1994,1995,1996,1997,1998,1999,2000,2001,2002,2003,2004,2005,2006,2007,2008,2009,2010,2011,2012,2013,2014],\"xaxis\":\"x\",\"y\":[0,0,1,0,0,0,2,1,0,2,1,2,3,0,3,6,7,4,10,13,19,12,17,27,25,39,55,75,82,88,100,136,90,60,24],\"yaxis\":\"y\",\"type\":\"scatter\"},{\"hovertemplate\":\"variable= Advertising <br>Years=%{x}<br>value=%{y}<extra></extra>\",\"legendgroup\":\" Advertising \",\"line\":{\"color\":\"#B6E880\",\"dash\":\"solid\"},\"marker\":{\"symbol\":\"circle\"},\"mode\":\"lines\",\"name\":\" Advertising \",\"orientation\":\"v\",\"showlegend\":true,\"x\":[1980,1981,1982,1983,1984,1985,1986,1987,1988,1989,1990,1991,1992,1993,1994,1995,1996,1997,1998,1999,2000,2001,2002,2003,2004,2005,2006,2007,2008,2009,2010,2011,2012,2013,2014],\"xaxis\":\"x\",\"y\":[0,0,0,3,3,0,0,2,0,1,0,1,1,0,4,4,2,2,14,19,17,14,14,19,32,46,57,77,85,85,106,103,110,55,16],\"yaxis\":\"y\",\"type\":\"scatter\"},{\"hovertemplate\":\"variable= Health Care <br>Years=%{x}<br>value=%{y}<extra></extra>\",\"legendgroup\":\" Health Care \",\"line\":{\"color\":\"#FF97FF\",\"dash\":\"solid\"},\"marker\":{\"symbol\":\"circle\"},\"mode\":\"lines\",\"name\":\" Health Care \",\"orientation\":\"v\",\"showlegend\":true,\"x\":[1980,1981,1982,1983,1984,1985,1986,1987,1988,1989,1990,1991,1992,1993,1994,1995,1996,1997,1998,1999,2000,2001,2002,2003,2004,2005,2006,2007,2008,2009,2010,2011,2012,2013,2014],\"xaxis\":\"x\",\"y\":[0,2,1,0,1,0,0,1,3,2,3,4,0,4,3,10,11,10,15,29,23,28,40,36,54,35,63,47,67,68,69,70,90,54,12],\"yaxis\":\"y\",\"type\":\"scatter\"},{\"hovertemplate\":\"variable= Hardware + Software <br>Years=%{x}<br>value=%{y}<extra></extra>\",\"legendgroup\":\" Hardware + Software \",\"line\":{\"color\":\"#FECB52\",\"dash\":\"solid\"},\"marker\":{\"symbol\":\"circle\"},\"mode\":\"lines\",\"name\":\" Hardware + Software \",\"orientation\":\"v\",\"showlegend\":true,\"x\":[1980,1981,1982,1983,1984,1985,1986,1987,1988,1989,1990,1991,1992,1993,1994,1995,1996,1997,1998,1999,2000,2001,2002,2003,2004,2005,2006,2007,2008,2009,2010,2011,2012,2013,2014],\"xaxis\":\"x\",\"y\":[0,3,2,2,5,2,7,2,4,3,2,4,1,5,3,2,5,14,11,21,27,26,31,41,50,57,55,51,56,65,65,73,50,45,4],\"yaxis\":\"y\",\"type\":\"scatter\"}],                        {\"template\":{\"data\":{\"bar\":[{\"error_x\":{\"color\":\"#2a3f5f\"},\"error_y\":{\"color\":\"#2a3f5f\"},\"marker\":{\"line\":{\"color\":\"#E5ECF6\",\"width\":0.5},\"pattern\":{\"fillmode\":\"overlay\",\"size\":10,\"solidity\":0.2}},\"type\":\"bar\"}],\"barpolar\":[{\"marker\":{\"line\":{\"color\":\"#E5ECF6\",\"width\":0.5},\"pattern\":{\"fillmode\":\"overlay\",\"size\":10,\"solidity\":0.2}},\"type\":\"barpolar\"}],\"carpet\":[{\"aaxis\":{\"endlinecolor\":\"#2a3f5f\",\"gridcolor\":\"white\",\"linecolor\":\"white\",\"minorgridcolor\":\"white\",\"startlinecolor\":\"#2a3f5f\"},\"baxis\":{\"endlinecolor\":\"#2a3f5f\",\"gridcolor\":\"white\",\"linecolor\":\"white\",\"minorgridcolor\":\"white\",\"startlinecolor\":\"#2a3f5f\"},\"type\":\"carpet\"}],\"choropleth\":[{\"colorbar\":{\"outlinewidth\":0,\"ticks\":\"\"},\"type\":\"choropleth\"}],\"contour\":[{\"colorbar\":{\"outlinewidth\":0,\"ticks\":\"\"},\"colorscale\":[[0.0,\"#0d0887\"],[0.1111111111111111,\"#46039f\"],[0.2222222222222222,\"#7201a8\"],[0.3333333333333333,\"#9c179e\"],[0.4444444444444444,\"#bd3786\"],[0.5555555555555556,\"#d8576b\"],[0.6666666666666666,\"#ed7953\"],[0.7777777777777778,\"#fb9f3a\"],[0.8888888888888888,\"#fdca26\"],[1.0,\"#f0f921\"]],\"type\":\"contour\"}],\"contourcarpet\":[{\"colorbar\":{\"outlinewidth\":0,\"ticks\":\"\"},\"type\":\"contourcarpet\"}],\"heatmap\":[{\"colorbar\":{\"outlinewidth\":0,\"ticks\":\"\"},\"colorscale\":[[0.0,\"#0d0887\"],[0.1111111111111111,\"#46039f\"],[0.2222222222222222,\"#7201a8\"],[0.3333333333333333,\"#9c179e\"],[0.4444444444444444,\"#bd3786\"],[0.5555555555555556,\"#d8576b\"],[0.6666666666666666,\"#ed7953\"],[0.7777777777777778,\"#fb9f3a\"],[0.8888888888888888,\"#fdca26\"],[1.0,\"#f0f921\"]],\"type\":\"heatmap\"}],\"heatmapgl\":[{\"colorbar\":{\"outlinewidth\":0,\"ticks\":\"\"},\"colorscale\":[[0.0,\"#0d0887\"],[0.1111111111111111,\"#46039f\"],[0.2222222222222222,\"#7201a8\"],[0.3333333333333333,\"#9c179e\"],[0.4444444444444444,\"#bd3786\"],[0.5555555555555556,\"#d8576b\"],[0.6666666666666666,\"#ed7953\"],[0.7777777777777778,\"#fb9f3a\"],[0.8888888888888888,\"#fdca26\"],[1.0,\"#f0f921\"]],\"type\":\"heatmapgl\"}],\"histogram\":[{\"marker\":{\"pattern\":{\"fillmode\":\"overlay\",\"size\":10,\"solidity\":0.2}},\"type\":\"histogram\"}],\"histogram2d\":[{\"colorbar\":{\"outlinewidth\":0,\"ticks\":\"\"},\"colorscale\":[[0.0,\"#0d0887\"],[0.1111111111111111,\"#46039f\"],[0.2222222222222222,\"#7201a8\"],[0.3333333333333333,\"#9c179e\"],[0.4444444444444444,\"#bd3786\"],[0.5555555555555556,\"#d8576b\"],[0.6666666666666666,\"#ed7953\"],[0.7777777777777778,\"#fb9f3a\"],[0.8888888888888888,\"#fdca26\"],[1.0,\"#f0f921\"]],\"type\":\"histogram2d\"}],\"histogram2dcontour\":[{\"colorbar\":{\"outlinewidth\":0,\"ticks\":\"\"},\"colorscale\":[[0.0,\"#0d0887\"],[0.1111111111111111,\"#46039f\"],[0.2222222222222222,\"#7201a8\"],[0.3333333333333333,\"#9c179e\"],[0.4444444444444444,\"#bd3786\"],[0.5555555555555556,\"#d8576b\"],[0.6666666666666666,\"#ed7953\"],[0.7777777777777778,\"#fb9f3a\"],[0.8888888888888888,\"#fdca26\"],[1.0,\"#f0f921\"]],\"type\":\"histogram2dcontour\"}],\"mesh3d\":[{\"colorbar\":{\"outlinewidth\":0,\"ticks\":\"\"},\"type\":\"mesh3d\"}],\"parcoords\":[{\"line\":{\"colorbar\":{\"outlinewidth\":0,\"ticks\":\"\"}},\"type\":\"parcoords\"}],\"pie\":[{\"automargin\":true,\"type\":\"pie\"}],\"scatter\":[{\"marker\":{\"colorbar\":{\"outlinewidth\":0,\"ticks\":\"\"}},\"type\":\"scatter\"}],\"scatter3d\":[{\"line\":{\"colorbar\":{\"outlinewidth\":0,\"ticks\":\"\"}},\"marker\":{\"colorbar\":{\"outlinewidth\":0,\"ticks\":\"\"}},\"type\":\"scatter3d\"}],\"scattercarpet\":[{\"marker\":{\"colorbar\":{\"outlinewidth\":0,\"ticks\":\"\"}},\"type\":\"scattercarpet\"}],\"scattergeo\":[{\"marker\":{\"colorbar\":{\"outlinewidth\":0,\"ticks\":\"\"}},\"type\":\"scattergeo\"}],\"scattergl\":[{\"marker\":{\"colorbar\":{\"outlinewidth\":0,\"ticks\":\"\"}},\"type\":\"scattergl\"}],\"scattermapbox\":[{\"marker\":{\"colorbar\":{\"outlinewidth\":0,\"ticks\":\"\"}},\"type\":\"scattermapbox\"}],\"scatterpolar\":[{\"marker\":{\"colorbar\":{\"outlinewidth\":0,\"ticks\":\"\"}},\"type\":\"scatterpolar\"}],\"scatterpolargl\":[{\"marker\":{\"colorbar\":{\"outlinewidth\":0,\"ticks\":\"\"}},\"type\":\"scatterpolargl\"}],\"scatterternary\":[{\"marker\":{\"colorbar\":{\"outlinewidth\":0,\"ticks\":\"\"}},\"type\":\"scatterternary\"}],\"surface\":[{\"colorbar\":{\"outlinewidth\":0,\"ticks\":\"\"},\"colorscale\":[[0.0,\"#0d0887\"],[0.1111111111111111,\"#46039f\"],[0.2222222222222222,\"#7201a8\"],[0.3333333333333333,\"#9c179e\"],[0.4444444444444444,\"#bd3786\"],[0.5555555555555556,\"#d8576b\"],[0.6666666666666666,\"#ed7953\"],[0.7777777777777778,\"#fb9f3a\"],[0.8888888888888888,\"#fdca26\"],[1.0,\"#f0f921\"]],\"type\":\"surface\"}],\"table\":[{\"cells\":{\"fill\":{\"color\":\"#EBF0F8\"},\"line\":{\"color\":\"white\"}},\"header\":{\"fill\":{\"color\":\"#C8D4E3\"},\"line\":{\"color\":\"white\"}},\"type\":\"table\"}]},\"layout\":{\"annotationdefaults\":{\"arrowcolor\":\"#2a3f5f\",\"arrowhead\":0,\"arrowwidth\":1},\"autotypenumbers\":\"strict\",\"coloraxis\":{\"colorbar\":{\"outlinewidth\":0,\"ticks\":\"\"}},\"colorscale\":{\"diverging\":[[0,\"#8e0152\"],[0.1,\"#c51b7d\"],[0.2,\"#de77ae\"],[0.3,\"#f1b6da\"],[0.4,\"#fde0ef\"],[0.5,\"#f7f7f7\"],[0.6,\"#e6f5d0\"],[0.7,\"#b8e186\"],[0.8,\"#7fbc41\"],[0.9,\"#4d9221\"],[1,\"#276419\"]],\"sequential\":[[0.0,\"#0d0887\"],[0.1111111111111111,\"#46039f\"],[0.2222222222222222,\"#7201a8\"],[0.3333333333333333,\"#9c179e\"],[0.4444444444444444,\"#bd3786\"],[0.5555555555555556,\"#d8576b\"],[0.6666666666666666,\"#ed7953\"],[0.7777777777777778,\"#fb9f3a\"],[0.8888888888888888,\"#fdca26\"],[1.0,\"#f0f921\"]],\"sequentialminus\":[[0.0,\"#0d0887\"],[0.1111111111111111,\"#46039f\"],[0.2222222222222222,\"#7201a8\"],[0.3333333333333333,\"#9c179e\"],[0.4444444444444444,\"#bd3786\"],[0.5555555555555556,\"#d8576b\"],[0.6666666666666666,\"#ed7953\"],[0.7777777777777778,\"#fb9f3a\"],[0.8888888888888888,\"#fdca26\"],[1.0,\"#f0f921\"]]},\"colorway\":[\"#636efa\",\"#EF553B\",\"#00cc96\",\"#ab63fa\",\"#FFA15A\",\"#19d3f3\",\"#FF6692\",\"#B6E880\",\"#FF97FF\",\"#FECB52\"],\"font\":{\"color\":\"#2a3f5f\"},\"geo\":{\"bgcolor\":\"white\",\"lakecolor\":\"white\",\"landcolor\":\"#E5ECF6\",\"showlakes\":true,\"showland\":true,\"subunitcolor\":\"white\"},\"hoverlabel\":{\"align\":\"left\"},\"hovermode\":\"closest\",\"mapbox\":{\"style\":\"light\"},\"paper_bgcolor\":\"white\",\"plot_bgcolor\":\"#E5ECF6\",\"polar\":{\"angularaxis\":{\"gridcolor\":\"white\",\"linecolor\":\"white\",\"ticks\":\"\"},\"bgcolor\":\"#E5ECF6\",\"radialaxis\":{\"gridcolor\":\"white\",\"linecolor\":\"white\",\"ticks\":\"\"}},\"scene\":{\"xaxis\":{\"backgroundcolor\":\"#E5ECF6\",\"gridcolor\":\"white\",\"gridwidth\":2,\"linecolor\":\"white\",\"showbackground\":true,\"ticks\":\"\",\"zerolinecolor\":\"white\"},\"yaxis\":{\"backgroundcolor\":\"#E5ECF6\",\"gridcolor\":\"white\",\"gridwidth\":2,\"linecolor\":\"white\",\"showbackground\":true,\"ticks\":\"\",\"zerolinecolor\":\"white\"},\"zaxis\":{\"backgroundcolor\":\"#E5ECF6\",\"gridcolor\":\"white\",\"gridwidth\":2,\"linecolor\":\"white\",\"showbackground\":true,\"ticks\":\"\",\"zerolinecolor\":\"white\"}},\"shapedefaults\":{\"line\":{\"color\":\"#2a3f5f\"}},\"ternary\":{\"aaxis\":{\"gridcolor\":\"white\",\"linecolor\":\"white\",\"ticks\":\"\"},\"baxis\":{\"gridcolor\":\"white\",\"linecolor\":\"white\",\"ticks\":\"\"},\"bgcolor\":\"#E5ECF6\",\"caxis\":{\"gridcolor\":\"white\",\"linecolor\":\"white\",\"ticks\":\"\"}},\"title\":{\"x\":0.05},\"xaxis\":{\"automargin\":true,\"gridcolor\":\"white\",\"linecolor\":\"white\",\"ticks\":\"\",\"title\":{\"standoff\":15},\"zerolinecolor\":\"white\",\"zerolinewidth\":2},\"yaxis\":{\"automargin\":true,\"gridcolor\":\"white\",\"linecolor\":\"white\",\"ticks\":\"\",\"title\":{\"standoff\":15},\"zerolinecolor\":\"white\",\"zerolinewidth\":2}}},\"xaxis\":{\"anchor\":\"y\",\"domain\":[0.0,1.0],\"title\":{\"text\":\"Years\"}},\"yaxis\":{\"anchor\":\"x\",\"domain\":[0.0,1.0],\"title\":{\"text\":\"value\"}},\"legend\":{\"title\":{\"text\":\"variable\"},\"tracegroupgap\":0},\"title\":{\"text\":\"Number of companies founded through the time\"}},                        {\"responsive\": true}                    ).then(function(){\n",
       "                            \n",
       "var gd = document.getElementById('3095f3ed-781d-43bb-b12d-ce9fafd660ca');\n",
       "var x = new MutationObserver(function (mutations, observer) {{\n",
       "        var display = window.getComputedStyle(gd).display;\n",
       "        if (!display || display === 'none') {{\n",
       "            console.log([gd, 'removed!']);\n",
       "            Plotly.purge(gd);\n",
       "            observer.disconnect();\n",
       "        }}\n",
       "}});\n",
       "\n",
       "// Listen for the removal of the full notebook cells\n",
       "var notebookContainer = gd.closest('#notebook-container');\n",
       "if (notebookContainer) {{\n",
       "    x.observe(notebookContainer, {childList: true});\n",
       "}}\n",
       "\n",
       "// Listen for the clearing of the current output cell\n",
       "var outputEl = gd.closest('.output');\n",
       "if (outputEl) {{\n",
       "    x.observe(outputEl, {childList: true});\n",
       "}}\n",
       "\n",
       "                        })                };                            </script>        </div>\n",
       "</body>\n",
       "</html>"
      ]
     },
     "metadata": {},
     "output_type": "display_data"
    }
   ],
   "source": [
    "dict_of_companies_founded_in_each_year[\"years\"] = np.arange(1980, 2015)\n",
    "\n",
    "fig = px.line(dict_of_companies_founded_in_each_year, x=\"years\", y=top_10_count_Companies, title='Number of companies founded through the time', labels={'years': 'Years'})\n",
    "fig.show()"
   ]
  },
  {
   "cell_type": "markdown",
   "metadata": {
    "id": "9P1sncQ2lF7a"
   },
   "source": [
    "## How is seed investment different from one industry to another?"
   ]
  },
  {
   "cell_type": "markdown",
   "metadata": {
    "id": "5aNmWOXnMweY"
   },
   "source": [
    "Figure below compares the top ten industries with highest number average seed investments. While most industrries had an average seed investment higher than total average, It appears that `Enterprise Purchasing` has signficantly higher seed investment.\n",
    "\n",
    "There are a number of factors that can contribute to a significantly higher investment in seed for start-ups. These include the potential for a larger return on investment, the need to develop a strong foundation for the business, the need to acquire key resources, and the need to provide additional capital to fund rapid growth. Additionally, start-ups may require a higher level of seed funding if they operate in an industry that is more capital intensive, such as technology or biotech. Finally, start-ups may require a higher level of seed funding if they have an innovative business model that requires a significant amount of research and development."
   ]
  },
  {
   "cell_type": "code",
   "execution_count": null,
   "metadata": {
    "id": "ARXFpV3wOJBe"
   },
   "outputs": [],
   "source": [
    "seed_mean = df[\"seed\"].mean()"
   ]
  },
  {
   "cell_type": "code",
   "execution_count": null,
   "metadata": {
    "id": "84sERhe4NHM5"
   },
   "outputs": [],
   "source": [
    "# mean_market_seed = df.groupby(\"market\").mean().seed\n",
    "# mean_market_seed = sorted(dict(mean_market_seed).items(), key=lambda x: x[1], reverse= True)\n",
    "\n",
    "# top_10_seeds = [mean_market_seed[index][1] for index in range(10)]\n",
    "# top_10_seeds_companies = [mean_market_seed[index][0] for index in range(10)]\n",
    "\n",
    "# plt.figure(figsize= (30, 5))\n",
    "# plt.title(\"Top 10 markets with highest average seeds\")\n",
    "# sns.barplot(x=top_10_seeds_companies, y=top_10_seeds, palette=\"rocket\")\n",
    "# plt.axhline(seed_mean, color=\"Blue\", linestyle= \"--\")"
   ]
  },
  {
   "cell_type": "code",
   "execution_count": null,
   "metadata": {
    "colab": {
     "base_uri": "https://localhost:8080/",
     "height": 542
    },
    "id": "ZE1wtYvD2_wK",
    "outputId": "0c56163e-0b24-4353-e272-bd203a3b3bef"
   },
   "outputs": [
    {
     "data": {
      "text/html": [
       "<html>\n",
       "<head><meta charset=\"utf-8\" /></head>\n",
       "<body>\n",
       "    <div>            <script src=\"https://cdnjs.cloudflare.com/ajax/libs/mathjax/2.7.5/MathJax.js?config=TeX-AMS-MML_SVG\"></script><script type=\"text/javascript\">if (window.MathJax) {MathJax.Hub.Config({SVG: {font: \"STIX-Web\"}});}</script>                <script type=\"text/javascript\">window.PlotlyConfig = {MathJaxConfig: 'local'};</script>\n",
       "        <script src=\"https://cdn.plot.ly/plotly-2.8.3.min.js\"></script>                <div id=\"05141340-de32-4c6b-854b-c003ab84820a\" class=\"plotly-graph-div\" style=\"height:525px; width:100%;\"></div>            <script type=\"text/javascript\">                                    window.PLOTLYENV=window.PLOTLYENV || {};                                    if (document.getElementById(\"05141340-de32-4c6b-854b-c003ab84820a\")) {                    Plotly.newPlot(                        \"05141340-de32-4c6b-854b-c003ab84820a\",                        [{\"alignmentgroup\":\"True\",\"hovertemplate\":\"Market=%{x}<br>Average Seeds=%{y}<extra></extra>\",\"legendgroup\":\"\",\"marker\":{\"color\":\"#636efa\",\"pattern\":{\"shape\":\"\"}},\"name\":\"\",\"offsetgroup\":\"\",\"orientation\":\"v\",\"showlegend\":false,\"textposition\":\"auto\",\"x\":[\" Enterprise Purchasing \",\" 3D Technology \",\" Developer Tools \",\" Diabetes \",\" Computer Vision \",\" Application Performance Monitoring \",\" Content Creators \",\" Beauty \",\" Comparison Shopping \",\" EBooks \"],\"xaxis\":\"x\",\"y\":[11500000.0,1480714.2857142857,1146931.4444444445,1146363.6363636365,1082022.2222222222,1029307.0,931111.1111111111,882101.3478260869,857629.7142857143,825000.0],\"yaxis\":\"y\",\"type\":\"bar\"},{\"line\":{\"color\":\"blue\",\"dash\":\"dash\"},\"mode\":\"lines\",\"x\":[\" Enterprise Purchasing \",\" 3D Technology \",\" Developer Tools \",\" Diabetes \",\" Computer Vision \",\" Application Performance Monitoring \",\" Content Creators \",\" Beauty \",\" Comparison Shopping \",\" EBooks \"],\"y\":[246151.4394703657,246151.4394703657,246151.4394703657,246151.4394703657,246151.4394703657,246151.4394703657,246151.4394703657,246151.4394703657,246151.4394703657,246151.4394703657],\"type\":\"scatter\"}],                        {\"template\":{\"data\":{\"bar\":[{\"error_x\":{\"color\":\"#2a3f5f\"},\"error_y\":{\"color\":\"#2a3f5f\"},\"marker\":{\"line\":{\"color\":\"#E5ECF6\",\"width\":0.5},\"pattern\":{\"fillmode\":\"overlay\",\"size\":10,\"solidity\":0.2}},\"type\":\"bar\"}],\"barpolar\":[{\"marker\":{\"line\":{\"color\":\"#E5ECF6\",\"width\":0.5},\"pattern\":{\"fillmode\":\"overlay\",\"size\":10,\"solidity\":0.2}},\"type\":\"barpolar\"}],\"carpet\":[{\"aaxis\":{\"endlinecolor\":\"#2a3f5f\",\"gridcolor\":\"white\",\"linecolor\":\"white\",\"minorgridcolor\":\"white\",\"startlinecolor\":\"#2a3f5f\"},\"baxis\":{\"endlinecolor\":\"#2a3f5f\",\"gridcolor\":\"white\",\"linecolor\":\"white\",\"minorgridcolor\":\"white\",\"startlinecolor\":\"#2a3f5f\"},\"type\":\"carpet\"}],\"choropleth\":[{\"colorbar\":{\"outlinewidth\":0,\"ticks\":\"\"},\"type\":\"choropleth\"}],\"contour\":[{\"colorbar\":{\"outlinewidth\":0,\"ticks\":\"\"},\"colorscale\":[[0.0,\"#0d0887\"],[0.1111111111111111,\"#46039f\"],[0.2222222222222222,\"#7201a8\"],[0.3333333333333333,\"#9c179e\"],[0.4444444444444444,\"#bd3786\"],[0.5555555555555556,\"#d8576b\"],[0.6666666666666666,\"#ed7953\"],[0.7777777777777778,\"#fb9f3a\"],[0.8888888888888888,\"#fdca26\"],[1.0,\"#f0f921\"]],\"type\":\"contour\"}],\"contourcarpet\":[{\"colorbar\":{\"outlinewidth\":0,\"ticks\":\"\"},\"type\":\"contourcarpet\"}],\"heatmap\":[{\"colorbar\":{\"outlinewidth\":0,\"ticks\":\"\"},\"colorscale\":[[0.0,\"#0d0887\"],[0.1111111111111111,\"#46039f\"],[0.2222222222222222,\"#7201a8\"],[0.3333333333333333,\"#9c179e\"],[0.4444444444444444,\"#bd3786\"],[0.5555555555555556,\"#d8576b\"],[0.6666666666666666,\"#ed7953\"],[0.7777777777777778,\"#fb9f3a\"],[0.8888888888888888,\"#fdca26\"],[1.0,\"#f0f921\"]],\"type\":\"heatmap\"}],\"heatmapgl\":[{\"colorbar\":{\"outlinewidth\":0,\"ticks\":\"\"},\"colorscale\":[[0.0,\"#0d0887\"],[0.1111111111111111,\"#46039f\"],[0.2222222222222222,\"#7201a8\"],[0.3333333333333333,\"#9c179e\"],[0.4444444444444444,\"#bd3786\"],[0.5555555555555556,\"#d8576b\"],[0.6666666666666666,\"#ed7953\"],[0.7777777777777778,\"#fb9f3a\"],[0.8888888888888888,\"#fdca26\"],[1.0,\"#f0f921\"]],\"type\":\"heatmapgl\"}],\"histogram\":[{\"marker\":{\"pattern\":{\"fillmode\":\"overlay\",\"size\":10,\"solidity\":0.2}},\"type\":\"histogram\"}],\"histogram2d\":[{\"colorbar\":{\"outlinewidth\":0,\"ticks\":\"\"},\"colorscale\":[[0.0,\"#0d0887\"],[0.1111111111111111,\"#46039f\"],[0.2222222222222222,\"#7201a8\"],[0.3333333333333333,\"#9c179e\"],[0.4444444444444444,\"#bd3786\"],[0.5555555555555556,\"#d8576b\"],[0.6666666666666666,\"#ed7953\"],[0.7777777777777778,\"#fb9f3a\"],[0.8888888888888888,\"#fdca26\"],[1.0,\"#f0f921\"]],\"type\":\"histogram2d\"}],\"histogram2dcontour\":[{\"colorbar\":{\"outlinewidth\":0,\"ticks\":\"\"},\"colorscale\":[[0.0,\"#0d0887\"],[0.1111111111111111,\"#46039f\"],[0.2222222222222222,\"#7201a8\"],[0.3333333333333333,\"#9c179e\"],[0.4444444444444444,\"#bd3786\"],[0.5555555555555556,\"#d8576b\"],[0.6666666666666666,\"#ed7953\"],[0.7777777777777778,\"#fb9f3a\"],[0.8888888888888888,\"#fdca26\"],[1.0,\"#f0f921\"]],\"type\":\"histogram2dcontour\"}],\"mesh3d\":[{\"colorbar\":{\"outlinewidth\":0,\"ticks\":\"\"},\"type\":\"mesh3d\"}],\"parcoords\":[{\"line\":{\"colorbar\":{\"outlinewidth\":0,\"ticks\":\"\"}},\"type\":\"parcoords\"}],\"pie\":[{\"automargin\":true,\"type\":\"pie\"}],\"scatter\":[{\"marker\":{\"colorbar\":{\"outlinewidth\":0,\"ticks\":\"\"}},\"type\":\"scatter\"}],\"scatter3d\":[{\"line\":{\"colorbar\":{\"outlinewidth\":0,\"ticks\":\"\"}},\"marker\":{\"colorbar\":{\"outlinewidth\":0,\"ticks\":\"\"}},\"type\":\"scatter3d\"}],\"scattercarpet\":[{\"marker\":{\"colorbar\":{\"outlinewidth\":0,\"ticks\":\"\"}},\"type\":\"scattercarpet\"}],\"scattergeo\":[{\"marker\":{\"colorbar\":{\"outlinewidth\":0,\"ticks\":\"\"}},\"type\":\"scattergeo\"}],\"scattergl\":[{\"marker\":{\"colorbar\":{\"outlinewidth\":0,\"ticks\":\"\"}},\"type\":\"scattergl\"}],\"scattermapbox\":[{\"marker\":{\"colorbar\":{\"outlinewidth\":0,\"ticks\":\"\"}},\"type\":\"scattermapbox\"}],\"scatterpolar\":[{\"marker\":{\"colorbar\":{\"outlinewidth\":0,\"ticks\":\"\"}},\"type\":\"scatterpolar\"}],\"scatterpolargl\":[{\"marker\":{\"colorbar\":{\"outlinewidth\":0,\"ticks\":\"\"}},\"type\":\"scatterpolargl\"}],\"scatterternary\":[{\"marker\":{\"colorbar\":{\"outlinewidth\":0,\"ticks\":\"\"}},\"type\":\"scatterternary\"}],\"surface\":[{\"colorbar\":{\"outlinewidth\":0,\"ticks\":\"\"},\"colorscale\":[[0.0,\"#0d0887\"],[0.1111111111111111,\"#46039f\"],[0.2222222222222222,\"#7201a8\"],[0.3333333333333333,\"#9c179e\"],[0.4444444444444444,\"#bd3786\"],[0.5555555555555556,\"#d8576b\"],[0.6666666666666666,\"#ed7953\"],[0.7777777777777778,\"#fb9f3a\"],[0.8888888888888888,\"#fdca26\"],[1.0,\"#f0f921\"]],\"type\":\"surface\"}],\"table\":[{\"cells\":{\"fill\":{\"color\":\"#EBF0F8\"},\"line\":{\"color\":\"white\"}},\"header\":{\"fill\":{\"color\":\"#C8D4E3\"},\"line\":{\"color\":\"white\"}},\"type\":\"table\"}]},\"layout\":{\"annotationdefaults\":{\"arrowcolor\":\"#2a3f5f\",\"arrowhead\":0,\"arrowwidth\":1},\"autotypenumbers\":\"strict\",\"coloraxis\":{\"colorbar\":{\"outlinewidth\":0,\"ticks\":\"\"}},\"colorscale\":{\"diverging\":[[0,\"#8e0152\"],[0.1,\"#c51b7d\"],[0.2,\"#de77ae\"],[0.3,\"#f1b6da\"],[0.4,\"#fde0ef\"],[0.5,\"#f7f7f7\"],[0.6,\"#e6f5d0\"],[0.7,\"#b8e186\"],[0.8,\"#7fbc41\"],[0.9,\"#4d9221\"],[1,\"#276419\"]],\"sequential\":[[0.0,\"#0d0887\"],[0.1111111111111111,\"#46039f\"],[0.2222222222222222,\"#7201a8\"],[0.3333333333333333,\"#9c179e\"],[0.4444444444444444,\"#bd3786\"],[0.5555555555555556,\"#d8576b\"],[0.6666666666666666,\"#ed7953\"],[0.7777777777777778,\"#fb9f3a\"],[0.8888888888888888,\"#fdca26\"],[1.0,\"#f0f921\"]],\"sequentialminus\":[[0.0,\"#0d0887\"],[0.1111111111111111,\"#46039f\"],[0.2222222222222222,\"#7201a8\"],[0.3333333333333333,\"#9c179e\"],[0.4444444444444444,\"#bd3786\"],[0.5555555555555556,\"#d8576b\"],[0.6666666666666666,\"#ed7953\"],[0.7777777777777778,\"#fb9f3a\"],[0.8888888888888888,\"#fdca26\"],[1.0,\"#f0f921\"]]},\"colorway\":[\"#636efa\",\"#EF553B\",\"#00cc96\",\"#ab63fa\",\"#FFA15A\",\"#19d3f3\",\"#FF6692\",\"#B6E880\",\"#FF97FF\",\"#FECB52\"],\"font\":{\"color\":\"#2a3f5f\"},\"geo\":{\"bgcolor\":\"white\",\"lakecolor\":\"white\",\"landcolor\":\"#E5ECF6\",\"showlakes\":true,\"showland\":true,\"subunitcolor\":\"white\"},\"hoverlabel\":{\"align\":\"left\"},\"hovermode\":\"closest\",\"mapbox\":{\"style\":\"light\"},\"paper_bgcolor\":\"white\",\"plot_bgcolor\":\"#E5ECF6\",\"polar\":{\"angularaxis\":{\"gridcolor\":\"white\",\"linecolor\":\"white\",\"ticks\":\"\"},\"bgcolor\":\"#E5ECF6\",\"radialaxis\":{\"gridcolor\":\"white\",\"linecolor\":\"white\",\"ticks\":\"\"}},\"scene\":{\"xaxis\":{\"backgroundcolor\":\"#E5ECF6\",\"gridcolor\":\"white\",\"gridwidth\":2,\"linecolor\":\"white\",\"showbackground\":true,\"ticks\":\"\",\"zerolinecolor\":\"white\"},\"yaxis\":{\"backgroundcolor\":\"#E5ECF6\",\"gridcolor\":\"white\",\"gridwidth\":2,\"linecolor\":\"white\",\"showbackground\":true,\"ticks\":\"\",\"zerolinecolor\":\"white\"},\"zaxis\":{\"backgroundcolor\":\"#E5ECF6\",\"gridcolor\":\"white\",\"gridwidth\":2,\"linecolor\":\"white\",\"showbackground\":true,\"ticks\":\"\",\"zerolinecolor\":\"white\"}},\"shapedefaults\":{\"line\":{\"color\":\"#2a3f5f\"}},\"ternary\":{\"aaxis\":{\"gridcolor\":\"white\",\"linecolor\":\"white\",\"ticks\":\"\"},\"baxis\":{\"gridcolor\":\"white\",\"linecolor\":\"white\",\"ticks\":\"\"},\"bgcolor\":\"#E5ECF6\",\"caxis\":{\"gridcolor\":\"white\",\"linecolor\":\"white\",\"ticks\":\"\"}},\"title\":{\"x\":0.05},\"xaxis\":{\"automargin\":true,\"gridcolor\":\"white\",\"linecolor\":\"white\",\"ticks\":\"\",\"title\":{\"standoff\":15},\"zerolinecolor\":\"white\",\"zerolinewidth\":2},\"yaxis\":{\"automargin\":true,\"gridcolor\":\"white\",\"linecolor\":\"white\",\"ticks\":\"\",\"title\":{\"standoff\":15},\"zerolinecolor\":\"white\",\"zerolinewidth\":2}}},\"xaxis\":{\"anchor\":\"y\",\"domain\":[0.0,1.0],\"title\":{\"text\":\"Market\"}},\"yaxis\":{\"anchor\":\"x\",\"domain\":[0.0,1.0],\"title\":{\"text\":\"Average Seeds\"}},\"legend\":{\"tracegroupgap\":0},\"title\":{\"text\":\"Top 10 markets with highest average seeds\"},\"barmode\":\"relative\"},                        {\"responsive\": true}                    ).then(function(){\n",
       "                            \n",
       "var gd = document.getElementById('05141340-de32-4c6b-854b-c003ab84820a');\n",
       "var x = new MutationObserver(function (mutations, observer) {{\n",
       "        var display = window.getComputedStyle(gd).display;\n",
       "        if (!display || display === 'none') {{\n",
       "            console.log([gd, 'removed!']);\n",
       "            Plotly.purge(gd);\n",
       "            observer.disconnect();\n",
       "        }}\n",
       "}});\n",
       "\n",
       "// Listen for the removal of the full notebook cells\n",
       "var notebookContainer = gd.closest('#notebook-container');\n",
       "if (notebookContainer) {{\n",
       "    x.observe(notebookContainer, {childList: true});\n",
       "}}\n",
       "\n",
       "// Listen for the clearing of the current output cell\n",
       "var outputEl = gd.closest('.output');\n",
       "if (outputEl) {{\n",
       "    x.observe(outputEl, {childList: true});\n",
       "}}\n",
       "\n",
       "                        })                };                            </script>        </div>\n",
       "</body>\n",
       "</html>"
      ]
     },
     "metadata": {},
     "output_type": "display_data"
    }
   ],
   "source": [
    "\n",
    "mean_market_seed = df.groupby(\"market\").mean().seed\n",
    "mean_market_seed = sorted(dict(mean_market_seed).items(), key=lambda x: x[1], reverse= True)\n",
    "\n",
    "top_10_seeds = [mean_market_seed[index][1] for index in range(10)]\n",
    "top_10_seeds_companies = [mean_market_seed[index][0] for index in range(10)]\n",
    "\n",
    "fig = px.bar(x=top_10_seeds_companies, y=top_10_seeds, labels={'x':'Market', 'y':'Average Seeds'}, title=\"Top 10 markets with highest average seeds\")\n",
    "fig.add_scatter(x=top_10_seeds_companies, y=[seed_mean for i in range(len(top_10_seeds_companies))], mode=\"lines\", line=dict(dash=\"dash\", color=\"blue\"))\n",
    "fig.show()"
   ]
  },
  {
   "cell_type": "markdown",
   "metadata": {
    "id": "49bdQKlOleHu"
   },
   "source": [
    "#### Seed of top 10 markets with highest number of companies"
   ]
  },
  {
   "cell_type": "markdown",
   "metadata": {
    "id": "Z6J57NhD5Zhj"
   },
   "source": [
    "Not all industries with the highest number of start-ups received similar seed investments. The figure below shows that of the top ten industries with the highest number of start-ups, only three had an average seed more elevated than the average of seed investments in the whole start-up industry. This means even though the number of start-ups is higher in these industries; investors specified a constant share of their portfolio to these industries. As a result, the number of start-ups reduced their average seed due to high risk."
   ]
  },
  {
   "cell_type": "code",
   "execution_count": null,
   "metadata": {
    "id": "HVK2Lsayh6pk"
   },
   "outputs": [],
   "source": [
    "# seeds_in_markets_with_highest_companies = [item[1] for item in mean_market_seed if item[0] in  top_10_count_Companies]\n",
    "# plt.figure(figsize= (30, 5))\n",
    "# plt.title(\"Average seed in top 10 markets with highest count of companies\")\n",
    "# plt.axhline(seed_mean, color=\"Blue\", linestyle= \"--\")\n",
    "# sns.barplot(x=top_10_count_Companies, y=seeds_in_markets_with_highest_companies, palette=\"rocket\")"
   ]
  },
  {
   "cell_type": "code",
   "execution_count": null,
   "metadata": {
    "colab": {
     "base_uri": "https://localhost:8080/",
     "height": 542
    },
    "id": "omzcC4R66nhk",
    "outputId": "76ab69d1-f8dc-42a8-b917-493a15e02353"
   },
   "outputs": [
    {
     "data": {
      "text/html": [
       "<html>\n",
       "<head><meta charset=\"utf-8\" /></head>\n",
       "<body>\n",
       "    <div>            <script src=\"https://cdnjs.cloudflare.com/ajax/libs/mathjax/2.7.5/MathJax.js?config=TeX-AMS-MML_SVG\"></script><script type=\"text/javascript\">if (window.MathJax) {MathJax.Hub.Config({SVG: {font: \"STIX-Web\"}});}</script>                <script type=\"text/javascript\">window.PlotlyConfig = {MathJaxConfig: 'local'};</script>\n",
       "        <script src=\"https://cdn.plot.ly/plotly-2.8.3.min.js\"></script>                <div id=\"a2a1456d-4291-40e2-894b-222d7b3e7371\" class=\"plotly-graph-div\" style=\"height:525px; width:100%;\"></div>            <script type=\"text/javascript\">                                    window.PLOTLYENV=window.PLOTLYENV || {};                                    if (document.getElementById(\"a2a1456d-4291-40e2-894b-222d7b3e7371\")) {                    Plotly.newPlot(                        \"a2a1456d-4291-40e2-894b-222d7b3e7371\",                        [{\"alignmentgroup\":\"True\",\"hovertemplate\":\"Highest Count of Companies=%{x}<br>Average Seed=%{y}<extra></extra>\",\"legendgroup\":\"\",\"marker\":{\"color\":\"rgb(127, 60, 141)\",\"pattern\":{\"shape\":\"\"}},\"name\":\"\",\"offsetgroup\":\"\",\"orientation\":\"v\",\"showlegend\":false,\"textposition\":\"auto\",\"x\":[\" Software \",\" Biotechnology \",\" Mobile \",\" E-Commerce \",\" Curated Web \",\" Enterprise Software \",\" Games \",\" Advertising \",\" Health Care \",\" Hardware + Software \"],\"xaxis\":\"x\",\"y\":[292041.8878923767,266542.90519031143,120540.55546425637,294699.7033962264,188043.48396226414,226344.84444444443,206980.76659292035,175240.99496221662,282407.4859287054,203620.30591054313],\"yaxis\":\"y\",\"type\":\"bar\"}],                        {\"template\":{\"data\":{\"bar\":[{\"error_x\":{\"color\":\"#2a3f5f\"},\"error_y\":{\"color\":\"#2a3f5f\"},\"marker\":{\"line\":{\"color\":\"#E5ECF6\",\"width\":0.5},\"pattern\":{\"fillmode\":\"overlay\",\"size\":10,\"solidity\":0.2}},\"type\":\"bar\"}],\"barpolar\":[{\"marker\":{\"line\":{\"color\":\"#E5ECF6\",\"width\":0.5},\"pattern\":{\"fillmode\":\"overlay\",\"size\":10,\"solidity\":0.2}},\"type\":\"barpolar\"}],\"carpet\":[{\"aaxis\":{\"endlinecolor\":\"#2a3f5f\",\"gridcolor\":\"white\",\"linecolor\":\"white\",\"minorgridcolor\":\"white\",\"startlinecolor\":\"#2a3f5f\"},\"baxis\":{\"endlinecolor\":\"#2a3f5f\",\"gridcolor\":\"white\",\"linecolor\":\"white\",\"minorgridcolor\":\"white\",\"startlinecolor\":\"#2a3f5f\"},\"type\":\"carpet\"}],\"choropleth\":[{\"colorbar\":{\"outlinewidth\":0,\"ticks\":\"\"},\"type\":\"choropleth\"}],\"contour\":[{\"colorbar\":{\"outlinewidth\":0,\"ticks\":\"\"},\"colorscale\":[[0.0,\"#0d0887\"],[0.1111111111111111,\"#46039f\"],[0.2222222222222222,\"#7201a8\"],[0.3333333333333333,\"#9c179e\"],[0.4444444444444444,\"#bd3786\"],[0.5555555555555556,\"#d8576b\"],[0.6666666666666666,\"#ed7953\"],[0.7777777777777778,\"#fb9f3a\"],[0.8888888888888888,\"#fdca26\"],[1.0,\"#f0f921\"]],\"type\":\"contour\"}],\"contourcarpet\":[{\"colorbar\":{\"outlinewidth\":0,\"ticks\":\"\"},\"type\":\"contourcarpet\"}],\"heatmap\":[{\"colorbar\":{\"outlinewidth\":0,\"ticks\":\"\"},\"colorscale\":[[0.0,\"#0d0887\"],[0.1111111111111111,\"#46039f\"],[0.2222222222222222,\"#7201a8\"],[0.3333333333333333,\"#9c179e\"],[0.4444444444444444,\"#bd3786\"],[0.5555555555555556,\"#d8576b\"],[0.6666666666666666,\"#ed7953\"],[0.7777777777777778,\"#fb9f3a\"],[0.8888888888888888,\"#fdca26\"],[1.0,\"#f0f921\"]],\"type\":\"heatmap\"}],\"heatmapgl\":[{\"colorbar\":{\"outlinewidth\":0,\"ticks\":\"\"},\"colorscale\":[[0.0,\"#0d0887\"],[0.1111111111111111,\"#46039f\"],[0.2222222222222222,\"#7201a8\"],[0.3333333333333333,\"#9c179e\"],[0.4444444444444444,\"#bd3786\"],[0.5555555555555556,\"#d8576b\"],[0.6666666666666666,\"#ed7953\"],[0.7777777777777778,\"#fb9f3a\"],[0.8888888888888888,\"#fdca26\"],[1.0,\"#f0f921\"]],\"type\":\"heatmapgl\"}],\"histogram\":[{\"marker\":{\"pattern\":{\"fillmode\":\"overlay\",\"size\":10,\"solidity\":0.2}},\"type\":\"histogram\"}],\"histogram2d\":[{\"colorbar\":{\"outlinewidth\":0,\"ticks\":\"\"},\"colorscale\":[[0.0,\"#0d0887\"],[0.1111111111111111,\"#46039f\"],[0.2222222222222222,\"#7201a8\"],[0.3333333333333333,\"#9c179e\"],[0.4444444444444444,\"#bd3786\"],[0.5555555555555556,\"#d8576b\"],[0.6666666666666666,\"#ed7953\"],[0.7777777777777778,\"#fb9f3a\"],[0.8888888888888888,\"#fdca26\"],[1.0,\"#f0f921\"]],\"type\":\"histogram2d\"}],\"histogram2dcontour\":[{\"colorbar\":{\"outlinewidth\":0,\"ticks\":\"\"},\"colorscale\":[[0.0,\"#0d0887\"],[0.1111111111111111,\"#46039f\"],[0.2222222222222222,\"#7201a8\"],[0.3333333333333333,\"#9c179e\"],[0.4444444444444444,\"#bd3786\"],[0.5555555555555556,\"#d8576b\"],[0.6666666666666666,\"#ed7953\"],[0.7777777777777778,\"#fb9f3a\"],[0.8888888888888888,\"#fdca26\"],[1.0,\"#f0f921\"]],\"type\":\"histogram2dcontour\"}],\"mesh3d\":[{\"colorbar\":{\"outlinewidth\":0,\"ticks\":\"\"},\"type\":\"mesh3d\"}],\"parcoords\":[{\"line\":{\"colorbar\":{\"outlinewidth\":0,\"ticks\":\"\"}},\"type\":\"parcoords\"}],\"pie\":[{\"automargin\":true,\"type\":\"pie\"}],\"scatter\":[{\"marker\":{\"colorbar\":{\"outlinewidth\":0,\"ticks\":\"\"}},\"type\":\"scatter\"}],\"scatter3d\":[{\"line\":{\"colorbar\":{\"outlinewidth\":0,\"ticks\":\"\"}},\"marker\":{\"colorbar\":{\"outlinewidth\":0,\"ticks\":\"\"}},\"type\":\"scatter3d\"}],\"scattercarpet\":[{\"marker\":{\"colorbar\":{\"outlinewidth\":0,\"ticks\":\"\"}},\"type\":\"scattercarpet\"}],\"scattergeo\":[{\"marker\":{\"colorbar\":{\"outlinewidth\":0,\"ticks\":\"\"}},\"type\":\"scattergeo\"}],\"scattergl\":[{\"marker\":{\"colorbar\":{\"outlinewidth\":0,\"ticks\":\"\"}},\"type\":\"scattergl\"}],\"scattermapbox\":[{\"marker\":{\"colorbar\":{\"outlinewidth\":0,\"ticks\":\"\"}},\"type\":\"scattermapbox\"}],\"scatterpolar\":[{\"marker\":{\"colorbar\":{\"outlinewidth\":0,\"ticks\":\"\"}},\"type\":\"scatterpolar\"}],\"scatterpolargl\":[{\"marker\":{\"colorbar\":{\"outlinewidth\":0,\"ticks\":\"\"}},\"type\":\"scatterpolargl\"}],\"scatterternary\":[{\"marker\":{\"colorbar\":{\"outlinewidth\":0,\"ticks\":\"\"}},\"type\":\"scatterternary\"}],\"surface\":[{\"colorbar\":{\"outlinewidth\":0,\"ticks\":\"\"},\"colorscale\":[[0.0,\"#0d0887\"],[0.1111111111111111,\"#46039f\"],[0.2222222222222222,\"#7201a8\"],[0.3333333333333333,\"#9c179e\"],[0.4444444444444444,\"#bd3786\"],[0.5555555555555556,\"#d8576b\"],[0.6666666666666666,\"#ed7953\"],[0.7777777777777778,\"#fb9f3a\"],[0.8888888888888888,\"#fdca26\"],[1.0,\"#f0f921\"]],\"type\":\"surface\"}],\"table\":[{\"cells\":{\"fill\":{\"color\":\"#EBF0F8\"},\"line\":{\"color\":\"white\"}},\"header\":{\"fill\":{\"color\":\"#C8D4E3\"},\"line\":{\"color\":\"white\"}},\"type\":\"table\"}]},\"layout\":{\"annotationdefaults\":{\"arrowcolor\":\"#2a3f5f\",\"arrowhead\":0,\"arrowwidth\":1},\"autotypenumbers\":\"strict\",\"coloraxis\":{\"colorbar\":{\"outlinewidth\":0,\"ticks\":\"\"}},\"colorscale\":{\"diverging\":[[0,\"#8e0152\"],[0.1,\"#c51b7d\"],[0.2,\"#de77ae\"],[0.3,\"#f1b6da\"],[0.4,\"#fde0ef\"],[0.5,\"#f7f7f7\"],[0.6,\"#e6f5d0\"],[0.7,\"#b8e186\"],[0.8,\"#7fbc41\"],[0.9,\"#4d9221\"],[1,\"#276419\"]],\"sequential\":[[0.0,\"#0d0887\"],[0.1111111111111111,\"#46039f\"],[0.2222222222222222,\"#7201a8\"],[0.3333333333333333,\"#9c179e\"],[0.4444444444444444,\"#bd3786\"],[0.5555555555555556,\"#d8576b\"],[0.6666666666666666,\"#ed7953\"],[0.7777777777777778,\"#fb9f3a\"],[0.8888888888888888,\"#fdca26\"],[1.0,\"#f0f921\"]],\"sequentialminus\":[[0.0,\"#0d0887\"],[0.1111111111111111,\"#46039f\"],[0.2222222222222222,\"#7201a8\"],[0.3333333333333333,\"#9c179e\"],[0.4444444444444444,\"#bd3786\"],[0.5555555555555556,\"#d8576b\"],[0.6666666666666666,\"#ed7953\"],[0.7777777777777778,\"#fb9f3a\"],[0.8888888888888888,\"#fdca26\"],[1.0,\"#f0f921\"]]},\"colorway\":[\"#636efa\",\"#EF553B\",\"#00cc96\",\"#ab63fa\",\"#FFA15A\",\"#19d3f3\",\"#FF6692\",\"#B6E880\",\"#FF97FF\",\"#FECB52\"],\"font\":{\"color\":\"#2a3f5f\"},\"geo\":{\"bgcolor\":\"white\",\"lakecolor\":\"white\",\"landcolor\":\"#E5ECF6\",\"showlakes\":true,\"showland\":true,\"subunitcolor\":\"white\"},\"hoverlabel\":{\"align\":\"left\"},\"hovermode\":\"closest\",\"mapbox\":{\"style\":\"light\"},\"paper_bgcolor\":\"white\",\"plot_bgcolor\":\"#E5ECF6\",\"polar\":{\"angularaxis\":{\"gridcolor\":\"white\",\"linecolor\":\"white\",\"ticks\":\"\"},\"bgcolor\":\"#E5ECF6\",\"radialaxis\":{\"gridcolor\":\"white\",\"linecolor\":\"white\",\"ticks\":\"\"}},\"scene\":{\"xaxis\":{\"backgroundcolor\":\"#E5ECF6\",\"gridcolor\":\"white\",\"gridwidth\":2,\"linecolor\":\"white\",\"showbackground\":true,\"ticks\":\"\",\"zerolinecolor\":\"white\"},\"yaxis\":{\"backgroundcolor\":\"#E5ECF6\",\"gridcolor\":\"white\",\"gridwidth\":2,\"linecolor\":\"white\",\"showbackground\":true,\"ticks\":\"\",\"zerolinecolor\":\"white\"},\"zaxis\":{\"backgroundcolor\":\"#E5ECF6\",\"gridcolor\":\"white\",\"gridwidth\":2,\"linecolor\":\"white\",\"showbackground\":true,\"ticks\":\"\",\"zerolinecolor\":\"white\"}},\"shapedefaults\":{\"line\":{\"color\":\"#2a3f5f\"}},\"ternary\":{\"aaxis\":{\"gridcolor\":\"white\",\"linecolor\":\"white\",\"ticks\":\"\"},\"baxis\":{\"gridcolor\":\"white\",\"linecolor\":\"white\",\"ticks\":\"\"},\"bgcolor\":\"#E5ECF6\",\"caxis\":{\"gridcolor\":\"white\",\"linecolor\":\"white\",\"ticks\":\"\"}},\"title\":{\"x\":0.05},\"xaxis\":{\"automargin\":true,\"gridcolor\":\"white\",\"linecolor\":\"white\",\"ticks\":\"\",\"title\":{\"standoff\":15},\"zerolinecolor\":\"white\",\"zerolinewidth\":2},\"yaxis\":{\"automargin\":true,\"gridcolor\":\"white\",\"linecolor\":\"white\",\"ticks\":\"\",\"title\":{\"standoff\":15},\"zerolinecolor\":\"white\",\"zerolinewidth\":2}}},\"xaxis\":{\"anchor\":\"y\",\"domain\":[0.0,1.0],\"title\":{\"text\":\"Highest Count of Companies\"}},\"yaxis\":{\"anchor\":\"x\",\"domain\":[0.0,1.0],\"title\":{\"text\":\"Average Seed\"}},\"legend\":{\"tracegroupgap\":0},\"title\":{\"text\":\"Average seed in top 10 markets with highest count of companies\"},\"barmode\":\"relative\",\"shapes\":[{\"line\":{\"color\":\"Blue\",\"dash\":\"dash\",\"width\":2},\"type\":\"line\",\"x0\":0,\"x1\":10,\"y0\":246151.4394703657,\"y1\":246151.4394703657}]},                        {\"responsive\": true}                    ).then(function(){\n",
       "                            \n",
       "var gd = document.getElementById('a2a1456d-4291-40e2-894b-222d7b3e7371');\n",
       "var x = new MutationObserver(function (mutations, observer) {{\n",
       "        var display = window.getComputedStyle(gd).display;\n",
       "        if (!display || display === 'none') {{\n",
       "            console.log([gd, 'removed!']);\n",
       "            Plotly.purge(gd);\n",
       "            observer.disconnect();\n",
       "        }}\n",
       "}});\n",
       "\n",
       "// Listen for the removal of the full notebook cells\n",
       "var notebookContainer = gd.closest('#notebook-container');\n",
       "if (notebookContainer) {{\n",
       "    x.observe(notebookContainer, {childList: true});\n",
       "}}\n",
       "\n",
       "// Listen for the clearing of the current output cell\n",
       "var outputEl = gd.closest('.output');\n",
       "if (outputEl) {{\n",
       "    x.observe(outputEl, {childList: true});\n",
       "}}\n",
       "\n",
       "                        })                };                            </script>        </div>\n",
       "</body>\n",
       "</html>"
      ]
     },
     "metadata": {},
     "output_type": "display_data"
    }
   ],
   "source": [
    "seeds_in_markets_with_highest_companies = [item[1] for item in mean_market_seed if item[0] in  top_10_count_Companies]\n",
    "\n",
    "fig = px.bar(x=top_10_count_Companies, y=seeds_in_markets_with_highest_companies, title=\"Average seed in top 10 markets with highest count of companies\", color_discrete_sequence=px.colors.qualitative.Bold, labels={'x':'Highest Count of Companies', 'y':'Average Seed'})\n",
    "fig.add_shape(type='line', x0=0, y0=seed_mean, x1=len(top_10_count_Companies), y1=seed_mean, line=dict(color=\"Blue\", width=2, dash=\"dash\"))\n",
    "fig.show()"
   ]
  },
  {
   "cell_type": "markdown",
   "metadata": {
    "id": "-R3dfKGMltpS"
   },
   "source": [
    "#### Average seed for each status of start-ups"
   ]
  },
  {
   "cell_type": "markdown",
   "metadata": {
    "id": "UrtgttTl82U9"
   },
   "source": [
    "Average seed investment seems to be higher in operating start-ups in comparison to acquired ones. We can test difference to see if there is a significant difference between these start-ups."
   ]
  },
  {
   "cell_type": "code",
   "execution_count": null,
   "metadata": {
    "id": "rlFPFU7mlIfS"
   },
   "outputs": [],
   "source": [
    "status_mean_seed = dict(df.groupby(\"status\").mean().seed)"
   ]
  },
  {
   "cell_type": "code",
   "execution_count": null,
   "metadata": {
    "id": "d9uQuVGw0iLC"
   },
   "outputs": [],
   "source": [
    "# sns.set(style=\"whitegrid\")\n",
    "# plt.figure(figsize=(10,7))\n",
    "# sns.barplot(list(status_mean_seed.keys()), list(status_mean_seed.values()), palette=\"rocket\")\n",
    "# plt.title(\"Mean seed for each operating status\")\n",
    "# plt.xlabel(\"Company Status\")\n",
    "# plt.ylabel(\"Seed Value\")\n",
    "# plt.axhline(seed_mean, color=\"Blue\", linestyle= \"--\")\n",
    "# plt.show()"
   ]
  },
  {
   "cell_type": "code",
   "execution_count": null,
   "metadata": {
    "colab": {
     "base_uri": "https://localhost:8080/",
     "height": 542
    },
    "id": "UB_MrVQg7WkA",
    "outputId": "b3ac11b8-4c7d-4d42-a6c0-de7b3eb78956"
   },
   "outputs": [
    {
     "data": {
      "text/html": [
       "<html>\n",
       "<head><meta charset=\"utf-8\" /></head>\n",
       "<body>\n",
       "    <div>            <script src=\"https://cdnjs.cloudflare.com/ajax/libs/mathjax/2.7.5/MathJax.js?config=TeX-AMS-MML_SVG\"></script><script type=\"text/javascript\">if (window.MathJax) {MathJax.Hub.Config({SVG: {font: \"STIX-Web\"}});}</script>                <script type=\"text/javascript\">window.PlotlyConfig = {MathJaxConfig: 'local'};</script>\n",
       "        <script src=\"https://cdn.plot.ly/plotly-2.8.3.min.js\"></script>                <div id=\"8bbe0812-7a00-4073-b003-f0d71c95cc1d\" class=\"plotly-graph-div\" style=\"height:525px; width:100%;\"></div>            <script type=\"text/javascript\">                                    window.PLOTLYENV=window.PLOTLYENV || {};                                    if (document.getElementById(\"8bbe0812-7a00-4073-b003-f0d71c95cc1d\")) {                    Plotly.newPlot(                        \"8bbe0812-7a00-4073-b003-f0d71c95cc1d\",                        [{\"alignmentgroup\":\"True\",\"hovertemplate\":\"color=acquired<br>Company Status=%{x}<br>Seed Value=%{y}<extra></extra>\",\"legendgroup\":\"acquired\",\"marker\":{\"color\":\"rgb(76,114,176)\",\"pattern\":{\"shape\":\"\"}},\"name\":\"acquired\",\"offsetgroup\":\"acquired\",\"orientation\":\"v\",\"showlegend\":true,\"textposition\":\"auto\",\"x\":[\"acquired\"],\"xaxis\":\"x\",\"y\":[196390.26759605575],\"yaxis\":\"y\",\"type\":\"bar\"},{\"alignmentgroup\":\"True\",\"hovertemplate\":\"color=closed<br>Company Status=%{x}<br>Seed Value=%{y}<extra></extra>\",\"legendgroup\":\"closed\",\"marker\":{\"color\":\"rgb(221,132,82)\",\"pattern\":{\"shape\":\"\"}},\"name\":\"closed\",\"offsetgroup\":\"closed\",\"orientation\":\"v\",\"showlegend\":true,\"textposition\":\"auto\",\"x\":[\"closed\"],\"xaxis\":\"x\",\"y\":[158125.44712990936],\"yaxis\":\"y\",\"type\":\"bar\"},{\"alignmentgroup\":\"True\",\"hovertemplate\":\"color=operating<br>Company Status=%{x}<br>Seed Value=%{y}<extra></extra>\",\"legendgroup\":\"operating\",\"marker\":{\"color\":\"rgb(85,168,104)\",\"pattern\":{\"shape\":\"\"}},\"name\":\"operating\",\"offsetgroup\":\"operating\",\"orientation\":\"v\",\"showlegend\":true,\"textposition\":\"auto\",\"x\":[\"operating\"],\"xaxis\":\"x\",\"y\":[257905.29211636275],\"yaxis\":\"y\",\"type\":\"bar\"},{\"line\":{\"color\":\"Blue\",\"dash\":\"dash\",\"shape\":\"spline\",\"smoothing\":1.3},\"mode\":\"lines\",\"name\":\"Mean Seed Value\",\"x\":[\"acquired\",\"closed\",\"operating\"],\"y\":[246151.4394703657,246151.4394703657,246151.4394703657],\"type\":\"scatter\"}],                        {\"template\":{\"data\":{\"barpolar\":[{\"marker\":{\"line\":{\"color\":\"rgb(234,234,242)\",\"width\":0.5},\"pattern\":{\"fillmode\":\"overlay\",\"size\":10,\"solidity\":0.2}},\"type\":\"barpolar\"}],\"bar\":[{\"error_x\":{\"color\":\"rgb(36,36,36)\"},\"error_y\":{\"color\":\"rgb(36,36,36)\"},\"marker\":{\"line\":{\"color\":\"rgb(234,234,242)\",\"width\":0.5},\"pattern\":{\"fillmode\":\"overlay\",\"size\":10,\"solidity\":0.2}},\"type\":\"bar\"}],\"carpet\":[{\"aaxis\":{\"endlinecolor\":\"rgb(36,36,36)\",\"gridcolor\":\"white\",\"linecolor\":\"white\",\"minorgridcolor\":\"white\",\"startlinecolor\":\"rgb(36,36,36)\"},\"baxis\":{\"endlinecolor\":\"rgb(36,36,36)\",\"gridcolor\":\"white\",\"linecolor\":\"white\",\"minorgridcolor\":\"white\",\"startlinecolor\":\"rgb(36,36,36)\"},\"type\":\"carpet\"}],\"choropleth\":[{\"colorbar\":{\"outlinewidth\":0,\"tickcolor\":\"rgb(36,36,36)\",\"ticklen\":8,\"ticks\":\"outside\",\"tickwidth\":2},\"type\":\"choropleth\"}],\"contourcarpet\":[{\"colorbar\":{\"outlinewidth\":0,\"tickcolor\":\"rgb(36,36,36)\",\"ticklen\":8,\"ticks\":\"outside\",\"tickwidth\":2},\"type\":\"contourcarpet\"}],\"contour\":[{\"colorbar\":{\"outlinewidth\":0,\"tickcolor\":\"rgb(36,36,36)\",\"ticklen\":8,\"ticks\":\"outside\",\"tickwidth\":2},\"colorscale\":[[0.0,\"rgb(2,4,25)\"],[0.06274509803921569,\"rgb(24,15,41)\"],[0.12549019607843137,\"rgb(47,23,57)\"],[0.18823529411764706,\"rgb(71,28,72)\"],[0.25098039215686274,\"rgb(97,30,82)\"],[0.3137254901960784,\"rgb(123,30,89)\"],[0.3764705882352941,\"rgb(150,27,91)\"],[0.4392156862745098,\"rgb(177,22,88)\"],[0.5019607843137255,\"rgb(203,26,79)\"],[0.5647058823529412,\"rgb(223,47,67)\"],[0.6274509803921569,\"rgb(236,76,61)\"],[0.6901960784313725,\"rgb(242,107,73)\"],[0.7529411764705882,\"rgb(244,135,95)\"],[0.8156862745098039,\"rgb(245,162,122)\"],[0.8784313725490196,\"rgb(246,188,153)\"],[0.9411764705882353,\"rgb(247,212,187)\"],[1.0,\"rgb(250,234,220)\"]],\"type\":\"contour\"}],\"heatmapgl\":[{\"colorbar\":{\"outlinewidth\":0,\"tickcolor\":\"rgb(36,36,36)\",\"ticklen\":8,\"ticks\":\"outside\",\"tickwidth\":2},\"colorscale\":[[0.0,\"rgb(2,4,25)\"],[0.06274509803921569,\"rgb(24,15,41)\"],[0.12549019607843137,\"rgb(47,23,57)\"],[0.18823529411764706,\"rgb(71,28,72)\"],[0.25098039215686274,\"rgb(97,30,82)\"],[0.3137254901960784,\"rgb(123,30,89)\"],[0.3764705882352941,\"rgb(150,27,91)\"],[0.4392156862745098,\"rgb(177,22,88)\"],[0.5019607843137255,\"rgb(203,26,79)\"],[0.5647058823529412,\"rgb(223,47,67)\"],[0.6274509803921569,\"rgb(236,76,61)\"],[0.6901960784313725,\"rgb(242,107,73)\"],[0.7529411764705882,\"rgb(244,135,95)\"],[0.8156862745098039,\"rgb(245,162,122)\"],[0.8784313725490196,\"rgb(246,188,153)\"],[0.9411764705882353,\"rgb(247,212,187)\"],[1.0,\"rgb(250,234,220)\"]],\"type\":\"heatmapgl\"}],\"heatmap\":[{\"colorbar\":{\"outlinewidth\":0,\"tickcolor\":\"rgb(36,36,36)\",\"ticklen\":8,\"ticks\":\"outside\",\"tickwidth\":2},\"colorscale\":[[0.0,\"rgb(2,4,25)\"],[0.06274509803921569,\"rgb(24,15,41)\"],[0.12549019607843137,\"rgb(47,23,57)\"],[0.18823529411764706,\"rgb(71,28,72)\"],[0.25098039215686274,\"rgb(97,30,82)\"],[0.3137254901960784,\"rgb(123,30,89)\"],[0.3764705882352941,\"rgb(150,27,91)\"],[0.4392156862745098,\"rgb(177,22,88)\"],[0.5019607843137255,\"rgb(203,26,79)\"],[0.5647058823529412,\"rgb(223,47,67)\"],[0.6274509803921569,\"rgb(236,76,61)\"],[0.6901960784313725,\"rgb(242,107,73)\"],[0.7529411764705882,\"rgb(244,135,95)\"],[0.8156862745098039,\"rgb(245,162,122)\"],[0.8784313725490196,\"rgb(246,188,153)\"],[0.9411764705882353,\"rgb(247,212,187)\"],[1.0,\"rgb(250,234,220)\"]],\"type\":\"heatmap\"}],\"histogram2dcontour\":[{\"colorbar\":{\"outlinewidth\":0,\"tickcolor\":\"rgb(36,36,36)\",\"ticklen\":8,\"ticks\":\"outside\",\"tickwidth\":2},\"colorscale\":[[0.0,\"rgb(2,4,25)\"],[0.06274509803921569,\"rgb(24,15,41)\"],[0.12549019607843137,\"rgb(47,23,57)\"],[0.18823529411764706,\"rgb(71,28,72)\"],[0.25098039215686274,\"rgb(97,30,82)\"],[0.3137254901960784,\"rgb(123,30,89)\"],[0.3764705882352941,\"rgb(150,27,91)\"],[0.4392156862745098,\"rgb(177,22,88)\"],[0.5019607843137255,\"rgb(203,26,79)\"],[0.5647058823529412,\"rgb(223,47,67)\"],[0.6274509803921569,\"rgb(236,76,61)\"],[0.6901960784313725,\"rgb(242,107,73)\"],[0.7529411764705882,\"rgb(244,135,95)\"],[0.8156862745098039,\"rgb(245,162,122)\"],[0.8784313725490196,\"rgb(246,188,153)\"],[0.9411764705882353,\"rgb(247,212,187)\"],[1.0,\"rgb(250,234,220)\"]],\"type\":\"histogram2dcontour\"}],\"histogram2d\":[{\"colorbar\":{\"outlinewidth\":0,\"tickcolor\":\"rgb(36,36,36)\",\"ticklen\":8,\"ticks\":\"outside\",\"tickwidth\":2},\"colorscale\":[[0.0,\"rgb(2,4,25)\"],[0.06274509803921569,\"rgb(24,15,41)\"],[0.12549019607843137,\"rgb(47,23,57)\"],[0.18823529411764706,\"rgb(71,28,72)\"],[0.25098039215686274,\"rgb(97,30,82)\"],[0.3137254901960784,\"rgb(123,30,89)\"],[0.3764705882352941,\"rgb(150,27,91)\"],[0.4392156862745098,\"rgb(177,22,88)\"],[0.5019607843137255,\"rgb(203,26,79)\"],[0.5647058823529412,\"rgb(223,47,67)\"],[0.6274509803921569,\"rgb(236,76,61)\"],[0.6901960784313725,\"rgb(242,107,73)\"],[0.7529411764705882,\"rgb(244,135,95)\"],[0.8156862745098039,\"rgb(245,162,122)\"],[0.8784313725490196,\"rgb(246,188,153)\"],[0.9411764705882353,\"rgb(247,212,187)\"],[1.0,\"rgb(250,234,220)\"]],\"type\":\"histogram2d\"}],\"histogram\":[{\"marker\":{\"pattern\":{\"fillmode\":\"overlay\",\"size\":10,\"solidity\":0.2}},\"type\":\"histogram\"}],\"mesh3d\":[{\"colorbar\":{\"outlinewidth\":0,\"tickcolor\":\"rgb(36,36,36)\",\"ticklen\":8,\"ticks\":\"outside\",\"tickwidth\":2},\"type\":\"mesh3d\"}],\"parcoords\":[{\"line\":{\"colorbar\":{\"outlinewidth\":0,\"tickcolor\":\"rgb(36,36,36)\",\"ticklen\":8,\"ticks\":\"outside\",\"tickwidth\":2}},\"type\":\"parcoords\"}],\"pie\":[{\"automargin\":true,\"type\":\"pie\"}],\"scatter3d\":[{\"line\":{\"colorbar\":{\"outlinewidth\":0,\"tickcolor\":\"rgb(36,36,36)\",\"ticklen\":8,\"ticks\":\"outside\",\"tickwidth\":2}},\"marker\":{\"colorbar\":{\"outlinewidth\":0,\"tickcolor\":\"rgb(36,36,36)\",\"ticklen\":8,\"ticks\":\"outside\",\"tickwidth\":2}},\"type\":\"scatter3d\"}],\"scattercarpet\":[{\"marker\":{\"colorbar\":{\"outlinewidth\":0,\"tickcolor\":\"rgb(36,36,36)\",\"ticklen\":8,\"ticks\":\"outside\",\"tickwidth\":2}},\"type\":\"scattercarpet\"}],\"scattergeo\":[{\"marker\":{\"colorbar\":{\"outlinewidth\":0,\"tickcolor\":\"rgb(36,36,36)\",\"ticklen\":8,\"ticks\":\"outside\",\"tickwidth\":2}},\"type\":\"scattergeo\"}],\"scattergl\":[{\"marker\":{\"colorbar\":{\"outlinewidth\":0,\"tickcolor\":\"rgb(36,36,36)\",\"ticklen\":8,\"ticks\":\"outside\",\"tickwidth\":2}},\"type\":\"scattergl\"}],\"scattermapbox\":[{\"marker\":{\"colorbar\":{\"outlinewidth\":0,\"tickcolor\":\"rgb(36,36,36)\",\"ticklen\":8,\"ticks\":\"outside\",\"tickwidth\":2}},\"type\":\"scattermapbox\"}],\"scatterpolargl\":[{\"marker\":{\"colorbar\":{\"outlinewidth\":0,\"tickcolor\":\"rgb(36,36,36)\",\"ticklen\":8,\"ticks\":\"outside\",\"tickwidth\":2}},\"type\":\"scatterpolargl\"}],\"scatterpolar\":[{\"marker\":{\"colorbar\":{\"outlinewidth\":0,\"tickcolor\":\"rgb(36,36,36)\",\"ticklen\":8,\"ticks\":\"outside\",\"tickwidth\":2}},\"type\":\"scatterpolar\"}],\"scatter\":[{\"marker\":{\"colorbar\":{\"outlinewidth\":0,\"tickcolor\":\"rgb(36,36,36)\",\"ticklen\":8,\"ticks\":\"outside\",\"tickwidth\":2}},\"type\":\"scatter\"}],\"scatterternary\":[{\"marker\":{\"colorbar\":{\"outlinewidth\":0,\"tickcolor\":\"rgb(36,36,36)\",\"ticklen\":8,\"ticks\":\"outside\",\"tickwidth\":2}},\"type\":\"scatterternary\"}],\"surface\":[{\"colorbar\":{\"outlinewidth\":0,\"tickcolor\":\"rgb(36,36,36)\",\"ticklen\":8,\"ticks\":\"outside\",\"tickwidth\":2},\"colorscale\":[[0.0,\"rgb(2,4,25)\"],[0.06274509803921569,\"rgb(24,15,41)\"],[0.12549019607843137,\"rgb(47,23,57)\"],[0.18823529411764706,\"rgb(71,28,72)\"],[0.25098039215686274,\"rgb(97,30,82)\"],[0.3137254901960784,\"rgb(123,30,89)\"],[0.3764705882352941,\"rgb(150,27,91)\"],[0.4392156862745098,\"rgb(177,22,88)\"],[0.5019607843137255,\"rgb(203,26,79)\"],[0.5647058823529412,\"rgb(223,47,67)\"],[0.6274509803921569,\"rgb(236,76,61)\"],[0.6901960784313725,\"rgb(242,107,73)\"],[0.7529411764705882,\"rgb(244,135,95)\"],[0.8156862745098039,\"rgb(245,162,122)\"],[0.8784313725490196,\"rgb(246,188,153)\"],[0.9411764705882353,\"rgb(247,212,187)\"],[1.0,\"rgb(250,234,220)\"]],\"type\":\"surface\"}],\"table\":[{\"cells\":{\"fill\":{\"color\":\"rgb(231,231,240)\"},\"line\":{\"color\":\"white\"}},\"header\":{\"fill\":{\"color\":\"rgb(183,183,191)\"},\"line\":{\"color\":\"white\"}},\"type\":\"table\"}]},\"layout\":{\"annotationdefaults\":{\"arrowcolor\":\"rgb(67,103,167)\"},\"autotypenumbers\":\"strict\",\"coloraxis\":{\"colorbar\":{\"outlinewidth\":0,\"tickcolor\":\"rgb(36,36,36)\",\"ticklen\":8,\"ticks\":\"outside\",\"tickwidth\":2}},\"colorscale\":{\"sequential\":[[0.0,\"rgb(2,4,25)\"],[0.06274509803921569,\"rgb(24,15,41)\"],[0.12549019607843137,\"rgb(47,23,57)\"],[0.18823529411764706,\"rgb(71,28,72)\"],[0.25098039215686274,\"rgb(97,30,82)\"],[0.3137254901960784,\"rgb(123,30,89)\"],[0.3764705882352941,\"rgb(150,27,91)\"],[0.4392156862745098,\"rgb(177,22,88)\"],[0.5019607843137255,\"rgb(203,26,79)\"],[0.5647058823529412,\"rgb(223,47,67)\"],[0.6274509803921569,\"rgb(236,76,61)\"],[0.6901960784313725,\"rgb(242,107,73)\"],[0.7529411764705882,\"rgb(244,135,95)\"],[0.8156862745098039,\"rgb(245,162,122)\"],[0.8784313725490196,\"rgb(246,188,153)\"],[0.9411764705882353,\"rgb(247,212,187)\"],[1.0,\"rgb(250,234,220)\"]],\"sequentialminus\":[[0.0,\"rgb(2,4,25)\"],[0.06274509803921569,\"rgb(24,15,41)\"],[0.12549019607843137,\"rgb(47,23,57)\"],[0.18823529411764706,\"rgb(71,28,72)\"],[0.25098039215686274,\"rgb(97,30,82)\"],[0.3137254901960784,\"rgb(123,30,89)\"],[0.3764705882352941,\"rgb(150,27,91)\"],[0.4392156862745098,\"rgb(177,22,88)\"],[0.5019607843137255,\"rgb(203,26,79)\"],[0.5647058823529412,\"rgb(223,47,67)\"],[0.6274509803921569,\"rgb(236,76,61)\"],[0.6901960784313725,\"rgb(242,107,73)\"],[0.7529411764705882,\"rgb(244,135,95)\"],[0.8156862745098039,\"rgb(245,162,122)\"],[0.8784313725490196,\"rgb(246,188,153)\"],[0.9411764705882353,\"rgb(247,212,187)\"],[1.0,\"rgb(250,234,220)\"]]},\"colorway\":[\"rgb(76,114,176)\",\"rgb(221,132,82)\",\"rgb(85,168,104)\",\"rgb(196,78,82)\",\"rgb(129,114,179)\",\"rgb(147,120,96)\",\"rgb(218,139,195)\",\"rgb(140,140,140)\",\"rgb(204,185,116)\",\"rgb(100,181,205)\"],\"font\":{\"color\":\"rgb(36,36,36)\"},\"geo\":{\"bgcolor\":\"white\",\"lakecolor\":\"white\",\"landcolor\":\"rgb(234,234,242)\",\"showlakes\":true,\"showland\":true,\"subunitcolor\":\"white\"},\"hoverlabel\":{\"align\":\"left\"},\"hovermode\":\"closest\",\"paper_bgcolor\":\"white\",\"plot_bgcolor\":\"rgb(234,234,242)\",\"polar\":{\"angularaxis\":{\"gridcolor\":\"white\",\"linecolor\":\"white\",\"showgrid\":true,\"ticks\":\"\"},\"bgcolor\":\"rgb(234,234,242)\",\"radialaxis\":{\"gridcolor\":\"white\",\"linecolor\":\"white\",\"showgrid\":true,\"ticks\":\"\"}},\"scene\":{\"xaxis\":{\"backgroundcolor\":\"rgb(234,234,242)\",\"gridcolor\":\"white\",\"gridwidth\":2,\"linecolor\":\"white\",\"showbackground\":true,\"showgrid\":true,\"ticks\":\"\",\"zerolinecolor\":\"white\"},\"yaxis\":{\"backgroundcolor\":\"rgb(234,234,242)\",\"gridcolor\":\"white\",\"gridwidth\":2,\"linecolor\":\"white\",\"showbackground\":true,\"showgrid\":true,\"ticks\":\"\",\"zerolinecolor\":\"white\"},\"zaxis\":{\"backgroundcolor\":\"rgb(234,234,242)\",\"gridcolor\":\"white\",\"gridwidth\":2,\"linecolor\":\"white\",\"showbackground\":true,\"showgrid\":true,\"ticks\":\"\",\"zerolinecolor\":\"white\"}},\"shapedefaults\":{\"fillcolor\":\"rgb(67,103,167)\",\"line\":{\"width\":0},\"opacity\":0.5},\"ternary\":{\"aaxis\":{\"gridcolor\":\"white\",\"linecolor\":\"white\",\"showgrid\":true,\"ticks\":\"\"},\"baxis\":{\"gridcolor\":\"white\",\"linecolor\":\"white\",\"showgrid\":true,\"ticks\":\"\"},\"bgcolor\":\"rgb(234,234,242)\",\"caxis\":{\"gridcolor\":\"white\",\"linecolor\":\"white\",\"showgrid\":true,\"ticks\":\"\"}},\"xaxis\":{\"automargin\":true,\"gridcolor\":\"white\",\"linecolor\":\"white\",\"showgrid\":true,\"ticks\":\"\",\"title\":{\"standoff\":15},\"zerolinecolor\":\"white\"},\"yaxis\":{\"automargin\":true,\"gridcolor\":\"white\",\"linecolor\":\"white\",\"showgrid\":true,\"ticks\":\"\",\"title\":{\"standoff\":15},\"zerolinecolor\":\"white\"}}},\"xaxis\":{\"anchor\":\"y\",\"domain\":[0.0,1.0],\"title\":{\"text\":\"Company Status\"}},\"yaxis\":{\"anchor\":\"x\",\"domain\":[0.0,1.0],\"title\":{\"text\":\"Seed Value\"}},\"legend\":{\"title\":{\"text\":\"color\"},\"tracegroupgap\":0},\"title\":{\"text\":\"Mean seed for each operating status\"},\"barmode\":\"relative\"},                        {\"responsive\": true}                    ).then(function(){\n",
       "                            \n",
       "var gd = document.getElementById('8bbe0812-7a00-4073-b003-f0d71c95cc1d');\n",
       "var x = new MutationObserver(function (mutations, observer) {{\n",
       "        var display = window.getComputedStyle(gd).display;\n",
       "        if (!display || display === 'none') {{\n",
       "            console.log([gd, 'removed!']);\n",
       "            Plotly.purge(gd);\n",
       "            observer.disconnect();\n",
       "        }}\n",
       "}});\n",
       "\n",
       "// Listen for the removal of the full notebook cells\n",
       "var notebookContainer = gd.closest('#notebook-container');\n",
       "if (notebookContainer) {{\n",
       "    x.observe(notebookContainer, {childList: true});\n",
       "}}\n",
       "\n",
       "// Listen for the clearing of the current output cell\n",
       "var outputEl = gd.closest('.output');\n",
       "if (outputEl) {{\n",
       "    x.observe(outputEl, {childList: true});\n",
       "}}\n",
       "\n",
       "                        })                };                            </script>        </div>\n",
       "</body>\n",
       "</html>"
      ]
     },
     "metadata": {},
     "output_type": "display_data"
    }
   ],
   "source": [
    "import plotly.express as px\n",
    "fig = px.bar(x=list(status_mean_seed.keys()), y=list(status_mean_seed.values()), color=list(status_mean_seed.keys()),\n",
    "             title=\"Mean seed for each operating status\", labels={'x':'Company Status', 'y':'Seed Value'}, \n",
    "             template='seaborn')\n",
    "fig.add_scatter(x=list(status_mean_seed.keys()), y=[seed_mean]*len(status_mean_seed), mode='lines', name='Mean Seed Value',\n",
    "                line=dict(color='Blue', dash='dash', shape='spline', smoothing=1.3))\n",
    "fig.show()"
   ]
  },
  {
   "cell_type": "code",
   "execution_count": null,
   "metadata": {
    "id": "pJ0XXbsEUdM2"
   },
   "outputs": [],
   "source": [
    "seed_funding_acquired = list(df[df[\"status\"] == \"acquired\"][\"seed\"])\n",
    "seed_funding_closed = list(df[df[\"status\"] == \"closed\"][\"seed\"])\n",
    "seed_funding_operating = list(df[df[\"status\"] == \"operating\"][\"seed\"])\n",
    "seed_funding = list(df[\"seed\"])"
   ]
  },
  {
   "cell_type": "code",
   "execution_count": null,
   "metadata": {
    "colab": {
     "base_uri": "https://localhost:8080/"
    },
    "id": "FcWdEpAvUYX2",
    "outputId": "44751655-14f4-4f52-d02f-68d73120b418"
   },
   "outputs": [
    {
     "name": "stdout",
     "output_type": "stream",
     "text": [
      "Shapiro-Wilk Statistic: 0.6250909566879272\n",
      "Shapiro-Wilk p-value: 0.0\n",
      "The two sample are NOT normally distributed with a 95% confidence significance level\n",
      "\n",
      "Levene Statistic: 2168.07277716248\n",
      "Levene p-value: 0.0\n",
      "The two sample are NOT independent with a 95% confidence significance level\n",
      "\n",
      "Wilcoxon rank-sum statistic: 14.744085478692085\n",
      "Wilcoxon rank-sum p-value: 3.358382821352369e-49\n",
      "The two sample are different with a 95% confidence significance level\n",
      "\n"
     ]
    },
    {
     "name": "stderr",
     "output_type": "stream",
     "text": [
      "/usr/local/lib/python3.8/dist-packages/scipy/stats/morestats.py:1760: UserWarning:\n",
      "\n",
      "p-value may not be accurate for N > 5000.\n",
      "\n"
     ]
    }
   ],
   "source": [
    "# Define two arrays of sample data\n",
    "sample_1 = list_of_rounds_operating\n",
    "sample_2 = seed_funding\n",
    "\n",
    "# Perform the Shapiro-Wilk test for normality\n",
    "stat, p = stats.shapiro(sample_1)\n",
    "print('Shapiro-Wilk Statistic:', stat)\n",
    "print('Shapiro-Wilk p-value:', p)\n",
    "\n",
    "shapiro_flag = True\n",
    "if p < 0.05:\n",
    "  print(\"The two sample are NOT normally distributed with a 95% confidence significance level\\n\")\n",
    "  shapiro_flag = False\n",
    "else:\n",
    "  print(\"The two sample are normally distributed with a 95% confidence significance level\\n\")\n",
    "\n",
    "# Perform the Levene test for equal variance\n",
    "stat, p = stats.levene(sample_1, sample_2)\n",
    "print('Levene Statistic:', stat)\n",
    "print('Levene p-value:', p)\n",
    "\n",
    "levene_flag = True\n",
    "if p < 0.05:\n",
    "  print(\"The two sample are NOT independent with a 95% confidence significance level\\n\")\n",
    "  levene_flag = False\n",
    "else:\n",
    "  print(\"The two sample are independent with a 95% confidence significance level\\n\")\n",
    "\n",
    "if levene_flag and shapiro_flag:\n",
    "  # Perform the two-sample t-test\n",
    "  t_statistic, p_value = stats.ttest_ind(sample_1, sample_2)\n",
    "  print('t-statistic:', t_statistic)\n",
    "  print('p-value:', p_value)\n",
    "\n",
    "  if p_value < 0.05:\n",
    "    print(\"The two mean are significantly different with 95% confidence\\n\")\n",
    "  else:\n",
    "    print(\"The two mean are NOT significantly different with 95% confidence\\n\")\n",
    "else:\n",
    "  # Define two arrays of sample data\n",
    "  sample_1 = list_of_rounds_acquired\n",
    "  sample_2 = list_of_rounds\n",
    "\n",
    "  # Perform the Wilcoxon rank-sum test\n",
    "  stat, p = stats.ranksums(sample_1, sample_2)\n",
    "  print('Wilcoxon rank-sum statistic:', stat)\n",
    "  print('Wilcoxon rank-sum p-value:', p)\n",
    "\n",
    "  if p < 0.05:\n",
    "    print(\"The two sample are different with a 95% confidence significance level\\n\")\n",
    "  else:\n",
    "    print(\"The two sample are NOT different with a 95% confidence significance level\\n\")"
   ]
  },
  {
   "cell_type": "markdown",
   "metadata": {
    "id": "Ea1lEGbZ9I3M"
   },
   "source": [
    "Since the assumptions of `t-test` is violated, we should use another non paramteric test. The results show that the means are different with 95% significance level."
   ]
  },
  {
   "cell_type": "code",
   "execution_count": null,
   "metadata": {
    "colab": {
     "base_uri": "https://localhost:8080/"
    },
    "id": "BnO03QLD9Y8I",
    "outputId": "1f6f8616-4e75-46d1-e8f4-b1525e36693f"
   },
   "outputs": [
    {
     "name": "stdout",
     "output_type": "stream",
     "text": [
      "The means of the two populations are significantly different.\n"
     ]
    }
   ],
   "source": [
    "# perform the Mann-Whitney U test to test the means of the two populations\n",
    "statistic, pvalue = stats.mannwhitneyu(sample_1, sample_2)\n",
    "\n",
    "# interpret the results\n",
    "if pvalue < 0.05:\n",
    "\tprint('The means of the two populations are significantly different.')\n",
    "else:\n",
    "\tprint('The means of the two populations are not significantly different.')"
   ]
  },
  {
   "cell_type": "code",
   "execution_count": null,
   "metadata": {
    "id": "EcNvT4oa0ojq"
   },
   "outputs": [],
   "source": [
    "pivot_market_status_count = pd.pivot_table(index= \"market\", columns= \"status\", values= \"name\", data= df, aggfunc= \"count\")"
   ]
  },
  {
   "cell_type": "code",
   "execution_count": null,
   "metadata": {
    "colab": {
     "base_uri": "https://localhost:8080/",
     "height": 450
    },
    "id": "OW-czmCe-f8A",
    "outputId": "63f3ee10-b30d-42b8-b0b2-ffd7ef21b6bf"
   },
   "outputs": [
    {
     "data": {
      "text/html": [
       "\n",
       "  <div id=\"df-0f178797-49c7-4627-9ed1-8dfa8907c16e\">\n",
       "    <div class=\"colab-df-container\">\n",
       "      <div>\n",
       "<style scoped>\n",
       "    .dataframe tbody tr th:only-of-type {\n",
       "        vertical-align: middle;\n",
       "    }\n",
       "\n",
       "    .dataframe tbody tr th {\n",
       "        vertical-align: top;\n",
       "    }\n",
       "\n",
       "    .dataframe thead th {\n",
       "        text-align: right;\n",
       "    }\n",
       "</style>\n",
       "<table border=\"1\" class=\"dataframe\">\n",
       "  <thead>\n",
       "    <tr style=\"text-align: right;\">\n",
       "      <th>status</th>\n",
       "      <th>acquired</th>\n",
       "      <th>closed</th>\n",
       "      <th>operating</th>\n",
       "    </tr>\n",
       "    <tr>\n",
       "      <th>market</th>\n",
       "      <th></th>\n",
       "      <th></th>\n",
       "      <th></th>\n",
       "    </tr>\n",
       "  </thead>\n",
       "  <tbody>\n",
       "    <tr>\n",
       "      <th>3D</th>\n",
       "      <td>0</td>\n",
       "      <td>1</td>\n",
       "      <td>20</td>\n",
       "    </tr>\n",
       "    <tr>\n",
       "      <th>3D Printing</th>\n",
       "      <td>0</td>\n",
       "      <td>0</td>\n",
       "      <td>8</td>\n",
       "    </tr>\n",
       "    <tr>\n",
       "      <th>3D Technology</th>\n",
       "      <td>0</td>\n",
       "      <td>0</td>\n",
       "      <td>7</td>\n",
       "    </tr>\n",
       "    <tr>\n",
       "      <th>Accounting</th>\n",
       "      <td>2</td>\n",
       "      <td>0</td>\n",
       "      <td>14</td>\n",
       "    </tr>\n",
       "    <tr>\n",
       "      <th>Ad Targeting</th>\n",
       "      <td>1</td>\n",
       "      <td>0</td>\n",
       "      <td>12</td>\n",
       "    </tr>\n",
       "    <tr>\n",
       "      <th>...</th>\n",
       "      <td>...</td>\n",
       "      <td>...</td>\n",
       "      <td>...</td>\n",
       "    </tr>\n",
       "    <tr>\n",
       "      <th>iOS</th>\n",
       "      <td>2</td>\n",
       "      <td>2</td>\n",
       "      <td>40</td>\n",
       "    </tr>\n",
       "    <tr>\n",
       "      <th>iPad</th>\n",
       "      <td>2</td>\n",
       "      <td>1</td>\n",
       "      <td>20</td>\n",
       "    </tr>\n",
       "    <tr>\n",
       "      <th>iPhone</th>\n",
       "      <td>10</td>\n",
       "      <td>9</td>\n",
       "      <td>41</td>\n",
       "    </tr>\n",
       "    <tr>\n",
       "      <th>iPod Touch</th>\n",
       "      <td>1</td>\n",
       "      <td>0</td>\n",
       "      <td>2</td>\n",
       "    </tr>\n",
       "    <tr>\n",
       "      <th>mHealth</th>\n",
       "      <td>0</td>\n",
       "      <td>0</td>\n",
       "      <td>7</td>\n",
       "    </tr>\n",
       "  </tbody>\n",
       "</table>\n",
       "<p>753 rows × 3 columns</p>\n",
       "</div>\n",
       "      <button class=\"colab-df-convert\" onclick=\"convertToInteractive('df-0f178797-49c7-4627-9ed1-8dfa8907c16e')\"\n",
       "              title=\"Convert this dataframe to an interactive table.\"\n",
       "              style=\"display:none;\">\n",
       "        \n",
       "  <svg xmlns=\"http://www.w3.org/2000/svg\" height=\"24px\"viewBox=\"0 0 24 24\"\n",
       "       width=\"24px\">\n",
       "    <path d=\"M0 0h24v24H0V0z\" fill=\"none\"/>\n",
       "    <path d=\"M18.56 5.44l.94 2.06.94-2.06 2.06-.94-2.06-.94-.94-2.06-.94 2.06-2.06.94zm-11 1L8.5 8.5l.94-2.06 2.06-.94-2.06-.94L8.5 2.5l-.94 2.06-2.06.94zm10 10l.94 2.06.94-2.06 2.06-.94-2.06-.94-.94-2.06-.94 2.06-2.06.94z\"/><path d=\"M17.41 7.96l-1.37-1.37c-.4-.4-.92-.59-1.43-.59-.52 0-1.04.2-1.43.59L10.3 9.45l-7.72 7.72c-.78.78-.78 2.05 0 2.83L4 21.41c.39.39.9.59 1.41.59.51 0 1.02-.2 1.41-.59l7.78-7.78 2.81-2.81c.8-.78.8-2.07 0-2.86zM5.41 20L4 18.59l7.72-7.72 1.47 1.35L5.41 20z\"/>\n",
       "  </svg>\n",
       "      </button>\n",
       "      \n",
       "  <style>\n",
       "    .colab-df-container {\n",
       "      display:flex;\n",
       "      flex-wrap:wrap;\n",
       "      gap: 12px;\n",
       "    }\n",
       "\n",
       "    .colab-df-convert {\n",
       "      background-color: #E8F0FE;\n",
       "      border: none;\n",
       "      border-radius: 50%;\n",
       "      cursor: pointer;\n",
       "      display: none;\n",
       "      fill: #1967D2;\n",
       "      height: 32px;\n",
       "      padding: 0 0 0 0;\n",
       "      width: 32px;\n",
       "    }\n",
       "\n",
       "    .colab-df-convert:hover {\n",
       "      background-color: #E2EBFA;\n",
       "      box-shadow: 0px 1px 2px rgba(60, 64, 67, 0.3), 0px 1px 3px 1px rgba(60, 64, 67, 0.15);\n",
       "      fill: #174EA6;\n",
       "    }\n",
       "\n",
       "    [theme=dark] .colab-df-convert {\n",
       "      background-color: #3B4455;\n",
       "      fill: #D2E3FC;\n",
       "    }\n",
       "\n",
       "    [theme=dark] .colab-df-convert:hover {\n",
       "      background-color: #434B5C;\n",
       "      box-shadow: 0px 1px 3px 1px rgba(0, 0, 0, 0.15);\n",
       "      filter: drop-shadow(0px 1px 2px rgba(0, 0, 0, 0.3));\n",
       "      fill: #FFFFFF;\n",
       "    }\n",
       "  </style>\n",
       "\n",
       "      <script>\n",
       "        const buttonEl =\n",
       "          document.querySelector('#df-0f178797-49c7-4627-9ed1-8dfa8907c16e button.colab-df-convert');\n",
       "        buttonEl.style.display =\n",
       "          google.colab.kernel.accessAllowed ? 'block' : 'none';\n",
       "\n",
       "        async function convertToInteractive(key) {\n",
       "          const element = document.querySelector('#df-0f178797-49c7-4627-9ed1-8dfa8907c16e');\n",
       "          const dataTable =\n",
       "            await google.colab.kernel.invokeFunction('convertToInteractive',\n",
       "                                                     [key], {});\n",
       "          if (!dataTable) return;\n",
       "\n",
       "          const docLinkHtml = 'Like what you see? Visit the ' +\n",
       "            '<a target=\"_blank\" href=https://colab.research.google.com/notebooks/data_table.ipynb>data table notebook</a>'\n",
       "            + ' to learn more about interactive tables.';\n",
       "          element.innerHTML = '';\n",
       "          dataTable['output_type'] = 'display_data';\n",
       "          await google.colab.output.renderOutput(dataTable, element);\n",
       "          const docLink = document.createElement('div');\n",
       "          docLink.innerHTML = docLinkHtml;\n",
       "          element.appendChild(docLink);\n",
       "        }\n",
       "      </script>\n",
       "    </div>\n",
       "  </div>\n",
       "  "
      ],
      "text/plain": [
       "status           acquired  closed  operating\n",
       "market                                      \n",
       " 3D                     0       1         20\n",
       " 3D Printing            0       0          8\n",
       " 3D Technology          0       0          7\n",
       " Accounting             2       0         14\n",
       " Ad Targeting           1       0         12\n",
       "...                   ...     ...        ...\n",
       " iOS                    2       2         40\n",
       " iPad                   2       1         20\n",
       " iPhone                10       9         41\n",
       " iPod Touch             1       0          2\n",
       " mHealth                0       0          7\n",
       "\n",
       "[753 rows x 3 columns]"
      ]
     },
     "execution_count": 72,
     "metadata": {},
     "output_type": "execute_result"
    }
   ],
   "source": [
    "pivot_market_status_count"
   ]
  },
  {
   "cell_type": "code",
   "execution_count": null,
   "metadata": {
    "id": "SXiwgVytybcu"
   },
   "outputs": [],
   "source": [
    "pivot_market_status_count[\"closed_ratio\"] = 100 * pivot_market_status_count[\"closed\"] / (pivot_market_status_count[\"acquired\"] + pivot_market_status_count[\"closed\"] + pivot_market_status_count[\"operating\"])"
   ]
  },
  {
   "cell_type": "code",
   "execution_count": null,
   "metadata": {
    "id": "0HfKGVt70KDz"
   },
   "outputs": [],
   "source": [
    "pivot_market_status_count.sort_values(by=\"closed_ratio\", inplace=True)"
   ]
  },
  {
   "cell_type": "markdown",
   "metadata": {
    "id": "PGbPq9tm-B_7"
   },
   "source": [
    "## Which industries have the highest risk of failure?\n",
    "\n",
    "Below, an analysis is done over the failure ratio of the top industries with different metrics."
   ]
  },
  {
   "cell_type": "code",
   "execution_count": null,
   "metadata": {
    "id": "PRJr2m1l0LUF"
   },
   "outputs": [],
   "source": [
    "top_10_count_failure_ratio = [pivot_market_status_count.loc[company][\"closed_ratio\"] for company in top_10_count_Companies]"
   ]
  },
  {
   "cell_type": "code",
   "execution_count": null,
   "metadata": {
    "colab": {
     "base_uri": "https://localhost:8080/",
     "height": 542
    },
    "id": "jDYaK1ioA54P",
    "outputId": "d91d2976-a6c9-40ac-f892-ab6ce2cb96e5"
   },
   "outputs": [
    {
     "data": {
      "text/html": [
       "<html>\n",
       "<head><meta charset=\"utf-8\" /></head>\n",
       "<body>\n",
       "    <div>            <script src=\"https://cdnjs.cloudflare.com/ajax/libs/mathjax/2.7.5/MathJax.js?config=TeX-AMS-MML_SVG\"></script><script type=\"text/javascript\">if (window.MathJax) {MathJax.Hub.Config({SVG: {font: \"STIX-Web\"}});}</script>                <script type=\"text/javascript\">window.PlotlyConfig = {MathJaxConfig: 'local'};</script>\n",
       "        <script src=\"https://cdn.plot.ly/plotly-2.8.3.min.js\"></script>                <div id=\"c6d38613-90b7-4e21-b2a1-b99c06ad6418\" class=\"plotly-graph-div\" style=\"height:525px; width:100%;\"></div>            <script type=\"text/javascript\">                                    window.PLOTLYENV=window.PLOTLYENV || {};                                    if (document.getElementById(\"c6d38613-90b7-4e21-b2a1-b99c06ad6418\")) {                    Plotly.newPlot(                        \"c6d38613-90b7-4e21-b2a1-b99c06ad6418\",                        [{\"alignmentgroup\":\"True\",\"hovertemplate\":\"names=%{x}<br>values=%{marker.color}<extra></extra>\",\"legendgroup\":\"\",\"marker\":{\"color\":[5.138662316476346,3.1459731543624163,7.466496490108487,5.890804597701149,14.744079449961802,3.6608863198458574,9.81941309255079,7.10955710955711,3.579952267303103,5.498721227621483],\"coloraxis\":\"coloraxis\",\"pattern\":{\"shape\":\"\"}},\"name\":\"\",\"offsetgroup\":\"\",\"orientation\":\"v\",\"showlegend\":false,\"textposition\":\"auto\",\"x\":[\" Software \",\" Biotechnology \",\" Mobile \",\" E-Commerce \",\" Curated Web \",\" Enterprise Software \",\" Games \",\" Advertising \",\" Health Care \",\" Hardware + Software \"],\"xaxis\":\"x\",\"y\":[5.138662316476346,3.1459731543624163,7.466496490108487,5.890804597701149,14.744079449961802,3.6608863198458574,9.81941309255079,7.10955710955711,3.579952267303103,5.498721227621483],\"yaxis\":\"y\",\"type\":\"bar\"}],                        {\"template\":{\"data\":{\"bar\":[{\"error_x\":{\"color\":\"#2a3f5f\"},\"error_y\":{\"color\":\"#2a3f5f\"},\"marker\":{\"line\":{\"color\":\"#E5ECF6\",\"width\":0.5},\"pattern\":{\"fillmode\":\"overlay\",\"size\":10,\"solidity\":0.2}},\"type\":\"bar\"}],\"barpolar\":[{\"marker\":{\"line\":{\"color\":\"#E5ECF6\",\"width\":0.5},\"pattern\":{\"fillmode\":\"overlay\",\"size\":10,\"solidity\":0.2}},\"type\":\"barpolar\"}],\"carpet\":[{\"aaxis\":{\"endlinecolor\":\"#2a3f5f\",\"gridcolor\":\"white\",\"linecolor\":\"white\",\"minorgridcolor\":\"white\",\"startlinecolor\":\"#2a3f5f\"},\"baxis\":{\"endlinecolor\":\"#2a3f5f\",\"gridcolor\":\"white\",\"linecolor\":\"white\",\"minorgridcolor\":\"white\",\"startlinecolor\":\"#2a3f5f\"},\"type\":\"carpet\"}],\"choropleth\":[{\"colorbar\":{\"outlinewidth\":0,\"ticks\":\"\"},\"type\":\"choropleth\"}],\"contour\":[{\"colorbar\":{\"outlinewidth\":0,\"ticks\":\"\"},\"colorscale\":[[0.0,\"#0d0887\"],[0.1111111111111111,\"#46039f\"],[0.2222222222222222,\"#7201a8\"],[0.3333333333333333,\"#9c179e\"],[0.4444444444444444,\"#bd3786\"],[0.5555555555555556,\"#d8576b\"],[0.6666666666666666,\"#ed7953\"],[0.7777777777777778,\"#fb9f3a\"],[0.8888888888888888,\"#fdca26\"],[1.0,\"#f0f921\"]],\"type\":\"contour\"}],\"contourcarpet\":[{\"colorbar\":{\"outlinewidth\":0,\"ticks\":\"\"},\"type\":\"contourcarpet\"}],\"heatmap\":[{\"colorbar\":{\"outlinewidth\":0,\"ticks\":\"\"},\"colorscale\":[[0.0,\"#0d0887\"],[0.1111111111111111,\"#46039f\"],[0.2222222222222222,\"#7201a8\"],[0.3333333333333333,\"#9c179e\"],[0.4444444444444444,\"#bd3786\"],[0.5555555555555556,\"#d8576b\"],[0.6666666666666666,\"#ed7953\"],[0.7777777777777778,\"#fb9f3a\"],[0.8888888888888888,\"#fdca26\"],[1.0,\"#f0f921\"]],\"type\":\"heatmap\"}],\"heatmapgl\":[{\"colorbar\":{\"outlinewidth\":0,\"ticks\":\"\"},\"colorscale\":[[0.0,\"#0d0887\"],[0.1111111111111111,\"#46039f\"],[0.2222222222222222,\"#7201a8\"],[0.3333333333333333,\"#9c179e\"],[0.4444444444444444,\"#bd3786\"],[0.5555555555555556,\"#d8576b\"],[0.6666666666666666,\"#ed7953\"],[0.7777777777777778,\"#fb9f3a\"],[0.8888888888888888,\"#fdca26\"],[1.0,\"#f0f921\"]],\"type\":\"heatmapgl\"}],\"histogram\":[{\"marker\":{\"pattern\":{\"fillmode\":\"overlay\",\"size\":10,\"solidity\":0.2}},\"type\":\"histogram\"}],\"histogram2d\":[{\"colorbar\":{\"outlinewidth\":0,\"ticks\":\"\"},\"colorscale\":[[0.0,\"#0d0887\"],[0.1111111111111111,\"#46039f\"],[0.2222222222222222,\"#7201a8\"],[0.3333333333333333,\"#9c179e\"],[0.4444444444444444,\"#bd3786\"],[0.5555555555555556,\"#d8576b\"],[0.6666666666666666,\"#ed7953\"],[0.7777777777777778,\"#fb9f3a\"],[0.8888888888888888,\"#fdca26\"],[1.0,\"#f0f921\"]],\"type\":\"histogram2d\"}],\"histogram2dcontour\":[{\"colorbar\":{\"outlinewidth\":0,\"ticks\":\"\"},\"colorscale\":[[0.0,\"#0d0887\"],[0.1111111111111111,\"#46039f\"],[0.2222222222222222,\"#7201a8\"],[0.3333333333333333,\"#9c179e\"],[0.4444444444444444,\"#bd3786\"],[0.5555555555555556,\"#d8576b\"],[0.6666666666666666,\"#ed7953\"],[0.7777777777777778,\"#fb9f3a\"],[0.8888888888888888,\"#fdca26\"],[1.0,\"#f0f921\"]],\"type\":\"histogram2dcontour\"}],\"mesh3d\":[{\"colorbar\":{\"outlinewidth\":0,\"ticks\":\"\"},\"type\":\"mesh3d\"}],\"parcoords\":[{\"line\":{\"colorbar\":{\"outlinewidth\":0,\"ticks\":\"\"}},\"type\":\"parcoords\"}],\"pie\":[{\"automargin\":true,\"type\":\"pie\"}],\"scatter\":[{\"marker\":{\"colorbar\":{\"outlinewidth\":0,\"ticks\":\"\"}},\"type\":\"scatter\"}],\"scatter3d\":[{\"line\":{\"colorbar\":{\"outlinewidth\":0,\"ticks\":\"\"}},\"marker\":{\"colorbar\":{\"outlinewidth\":0,\"ticks\":\"\"}},\"type\":\"scatter3d\"}],\"scattercarpet\":[{\"marker\":{\"colorbar\":{\"outlinewidth\":0,\"ticks\":\"\"}},\"type\":\"scattercarpet\"}],\"scattergeo\":[{\"marker\":{\"colorbar\":{\"outlinewidth\":0,\"ticks\":\"\"}},\"type\":\"scattergeo\"}],\"scattergl\":[{\"marker\":{\"colorbar\":{\"outlinewidth\":0,\"ticks\":\"\"}},\"type\":\"scattergl\"}],\"scattermapbox\":[{\"marker\":{\"colorbar\":{\"outlinewidth\":0,\"ticks\":\"\"}},\"type\":\"scattermapbox\"}],\"scatterpolar\":[{\"marker\":{\"colorbar\":{\"outlinewidth\":0,\"ticks\":\"\"}},\"type\":\"scatterpolar\"}],\"scatterpolargl\":[{\"marker\":{\"colorbar\":{\"outlinewidth\":0,\"ticks\":\"\"}},\"type\":\"scatterpolargl\"}],\"scatterternary\":[{\"marker\":{\"colorbar\":{\"outlinewidth\":0,\"ticks\":\"\"}},\"type\":\"scatterternary\"}],\"surface\":[{\"colorbar\":{\"outlinewidth\":0,\"ticks\":\"\"},\"colorscale\":[[0.0,\"#0d0887\"],[0.1111111111111111,\"#46039f\"],[0.2222222222222222,\"#7201a8\"],[0.3333333333333333,\"#9c179e\"],[0.4444444444444444,\"#bd3786\"],[0.5555555555555556,\"#d8576b\"],[0.6666666666666666,\"#ed7953\"],[0.7777777777777778,\"#fb9f3a\"],[0.8888888888888888,\"#fdca26\"],[1.0,\"#f0f921\"]],\"type\":\"surface\"}],\"table\":[{\"cells\":{\"fill\":{\"color\":\"#EBF0F8\"},\"line\":{\"color\":\"white\"}},\"header\":{\"fill\":{\"color\":\"#C8D4E3\"},\"line\":{\"color\":\"white\"}},\"type\":\"table\"}]},\"layout\":{\"annotationdefaults\":{\"arrowcolor\":\"#2a3f5f\",\"arrowhead\":0,\"arrowwidth\":1},\"autotypenumbers\":\"strict\",\"coloraxis\":{\"colorbar\":{\"outlinewidth\":0,\"ticks\":\"\"}},\"colorscale\":{\"diverging\":[[0,\"#8e0152\"],[0.1,\"#c51b7d\"],[0.2,\"#de77ae\"],[0.3,\"#f1b6da\"],[0.4,\"#fde0ef\"],[0.5,\"#f7f7f7\"],[0.6,\"#e6f5d0\"],[0.7,\"#b8e186\"],[0.8,\"#7fbc41\"],[0.9,\"#4d9221\"],[1,\"#276419\"]],\"sequential\":[[0.0,\"#0d0887\"],[0.1111111111111111,\"#46039f\"],[0.2222222222222222,\"#7201a8\"],[0.3333333333333333,\"#9c179e\"],[0.4444444444444444,\"#bd3786\"],[0.5555555555555556,\"#d8576b\"],[0.6666666666666666,\"#ed7953\"],[0.7777777777777778,\"#fb9f3a\"],[0.8888888888888888,\"#fdca26\"],[1.0,\"#f0f921\"]],\"sequentialminus\":[[0.0,\"#0d0887\"],[0.1111111111111111,\"#46039f\"],[0.2222222222222222,\"#7201a8\"],[0.3333333333333333,\"#9c179e\"],[0.4444444444444444,\"#bd3786\"],[0.5555555555555556,\"#d8576b\"],[0.6666666666666666,\"#ed7953\"],[0.7777777777777778,\"#fb9f3a\"],[0.8888888888888888,\"#fdca26\"],[1.0,\"#f0f921\"]]},\"colorway\":[\"#636efa\",\"#EF553B\",\"#00cc96\",\"#ab63fa\",\"#FFA15A\",\"#19d3f3\",\"#FF6692\",\"#B6E880\",\"#FF97FF\",\"#FECB52\"],\"font\":{\"color\":\"#2a3f5f\"},\"geo\":{\"bgcolor\":\"white\",\"lakecolor\":\"white\",\"landcolor\":\"#E5ECF6\",\"showlakes\":true,\"showland\":true,\"subunitcolor\":\"white\"},\"hoverlabel\":{\"align\":\"left\"},\"hovermode\":\"closest\",\"mapbox\":{\"style\":\"light\"},\"paper_bgcolor\":\"white\",\"plot_bgcolor\":\"#E5ECF6\",\"polar\":{\"angularaxis\":{\"gridcolor\":\"white\",\"linecolor\":\"white\",\"ticks\":\"\"},\"bgcolor\":\"#E5ECF6\",\"radialaxis\":{\"gridcolor\":\"white\",\"linecolor\":\"white\",\"ticks\":\"\"}},\"scene\":{\"xaxis\":{\"backgroundcolor\":\"#E5ECF6\",\"gridcolor\":\"white\",\"gridwidth\":2,\"linecolor\":\"white\",\"showbackground\":true,\"ticks\":\"\",\"zerolinecolor\":\"white\"},\"yaxis\":{\"backgroundcolor\":\"#E5ECF6\",\"gridcolor\":\"white\",\"gridwidth\":2,\"linecolor\":\"white\",\"showbackground\":true,\"ticks\":\"\",\"zerolinecolor\":\"white\"},\"zaxis\":{\"backgroundcolor\":\"#E5ECF6\",\"gridcolor\":\"white\",\"gridwidth\":2,\"linecolor\":\"white\",\"showbackground\":true,\"ticks\":\"\",\"zerolinecolor\":\"white\"}},\"shapedefaults\":{\"line\":{\"color\":\"#2a3f5f\"}},\"ternary\":{\"aaxis\":{\"gridcolor\":\"white\",\"linecolor\":\"white\",\"ticks\":\"\"},\"baxis\":{\"gridcolor\":\"white\",\"linecolor\":\"white\",\"ticks\":\"\"},\"bgcolor\":\"#E5ECF6\",\"caxis\":{\"gridcolor\":\"white\",\"linecolor\":\"white\",\"ticks\":\"\"}},\"title\":{\"x\":0.05},\"xaxis\":{\"automargin\":true,\"gridcolor\":\"white\",\"linecolor\":\"white\",\"ticks\":\"\",\"title\":{\"standoff\":15},\"zerolinecolor\":\"white\",\"zerolinewidth\":2},\"yaxis\":{\"automargin\":true,\"gridcolor\":\"white\",\"linecolor\":\"white\",\"ticks\":\"\",\"title\":{\"standoff\":15},\"zerolinecolor\":\"white\",\"zerolinewidth\":2}}},\"xaxis\":{\"anchor\":\"y\",\"domain\":[0.0,1.0],\"title\":{\"text\":\"names\"}},\"yaxis\":{\"anchor\":\"x\",\"domain\":[0.0,1.0],\"title\":{\"text\":\"Percent\"}},\"coloraxis\":{\"colorbar\":{\"title\":{\"text\":\"values\"}},\"colorscale\":[[0.0,\"#0d0887\"],[0.1111111111111111,\"#46039f\"],[0.2222222222222222,\"#7201a8\"],[0.3333333333333333,\"#9c179e\"],[0.4444444444444444,\"#bd3786\"],[0.5555555555555556,\"#d8576b\"],[0.6666666666666666,\"#ed7953\"],[0.7777777777777778,\"#fb9f3a\"],[0.8888888888888888,\"#fdca26\"],[1.0,\"#f0f921\"]]},\"legend\":{\"tracegroupgap\":0},\"title\":{\"text\":\"Risk of failure between industries with highest number of start-ups\"},\"barmode\":\"relative\"},                        {\"responsive\": true}                    ).then(function(){\n",
       "                            \n",
       "var gd = document.getElementById('c6d38613-90b7-4e21-b2a1-b99c06ad6418');\n",
       "var x = new MutationObserver(function (mutations, observer) {{\n",
       "        var display = window.getComputedStyle(gd).display;\n",
       "        if (!display || display === 'none') {{\n",
       "            console.log([gd, 'removed!']);\n",
       "            Plotly.purge(gd);\n",
       "            observer.disconnect();\n",
       "        }}\n",
       "}});\n",
       "\n",
       "// Listen for the removal of the full notebook cells\n",
       "var notebookContainer = gd.closest('#notebook-container');\n",
       "if (notebookContainer) {{\n",
       "    x.observe(notebookContainer, {childList: true});\n",
       "}}\n",
       "\n",
       "// Listen for the clearing of the current output cell\n",
       "var outputEl = gd.closest('.output');\n",
       "if (outputEl) {{\n",
       "    x.observe(outputEl, {childList: true});\n",
       "}}\n",
       "\n",
       "                        })                };                            </script>        </div>\n",
       "</body>\n",
       "</html>"
      ]
     },
     "metadata": {},
     "output_type": "display_data"
    }
   ],
   "source": [
    "# Create dataframe from lists\n",
    "df = pd.DataFrame(list(zip(top_10_count_Companies, top_10_count_failure_ratio)), \n",
    "               columns =['names', 'values'])\n",
    "\n",
    "# Create bar chart\n",
    "fig = px.bar(df, x='names', y='values', color='values',\n",
    "             title='Risk of failure between industries with highest number of start-ups',\n",
    "             color_continuous_scale=px.colors.sequential.Plasma)\n",
    "\n",
    "# Update Y-axis label\n",
    "fig.update_yaxes(title_text=\"Percent\")\n",
    "\n",
    "# Show figure\n",
    "fig.show()"
   ]
  },
  {
   "cell_type": "code",
   "execution_count": null,
   "metadata": {
    "id": "fw9ao3rn25oQ"
   },
   "outputs": [],
   "source": [
    "top_10_seeds_failure_ratio = [pivot_market_status_count.loc[company][\"closed_ratio\"] for company in top_10_seeds_companies]"
   ]
  },
  {
   "cell_type": "code",
   "execution_count": null,
   "metadata": {
    "colab": {
     "base_uri": "https://localhost:8080/",
     "height": 542
    },
    "id": "6P6t4vhHE8VM",
    "outputId": "4927dce1-ebbb-4d96-c663-6c42875a5c3d"
   },
   "outputs": [
    {
     "data": {
      "text/html": [
       "<html>\n",
       "<head><meta charset=\"utf-8\" /></head>\n",
       "<body>\n",
       "    <div>            <script src=\"https://cdnjs.cloudflare.com/ajax/libs/mathjax/2.7.5/MathJax.js?config=TeX-AMS-MML_SVG\"></script><script type=\"text/javascript\">if (window.MathJax) {MathJax.Hub.Config({SVG: {font: \"STIX-Web\"}});}</script>                <script type=\"text/javascript\">window.PlotlyConfig = {MathJaxConfig: 'local'};</script>\n",
       "        <script src=\"https://cdn.plot.ly/plotly-2.8.3.min.js\"></script>                <div id=\"a7f53dbe-00cc-4340-b9dd-c7cacfc94ae3\" class=\"plotly-graph-div\" style=\"height:525px; width:100%;\"></div>            <script type=\"text/javascript\">                                    window.PLOTLYENV=window.PLOTLYENV || {};                                    if (document.getElementById(\"a7f53dbe-00cc-4340-b9dd-c7cacfc94ae3\")) {                    Plotly.newPlot(                        \"a7f53dbe-00cc-4340-b9dd-c7cacfc94ae3\",                        [{\"alignmentgroup\":\"True\",\"hovertemplate\":\"names=%{x}<br>values=%{marker.color}<extra></extra>\",\"legendgroup\":\"\",\"marker\":{\"color\":[5.138662316476346,3.1459731543624163,7.466496490108487,5.890804597701149,14.744079449961802,3.6608863198458574,9.81941309255079,7.10955710955711,3.579952267303103,5.498721227621483],\"coloraxis\":\"coloraxis\",\"pattern\":{\"shape\":\"\"}},\"name\":\"\",\"offsetgroup\":\"\",\"orientation\":\"v\",\"showlegend\":false,\"textposition\":\"auto\",\"x\":[\" Enterprise Purchasing \",\" 3D Technology \",\" Developer Tools \",\" Diabetes \",\" Computer Vision \",\" Application Performance Monitoring \",\" Content Creators \",\" Beauty \",\" Comparison Shopping \",\" EBooks \"],\"xaxis\":\"x\",\"y\":[5.138662316476346,3.1459731543624163,7.466496490108487,5.890804597701149,14.744079449961802,3.6608863198458574,9.81941309255079,7.10955710955711,3.579952267303103,5.498721227621483],\"yaxis\":\"y\",\"type\":\"bar\"}],                        {\"template\":{\"data\":{\"bar\":[{\"error_x\":{\"color\":\"#2a3f5f\"},\"error_y\":{\"color\":\"#2a3f5f\"},\"marker\":{\"line\":{\"color\":\"#E5ECF6\",\"width\":0.5},\"pattern\":{\"fillmode\":\"overlay\",\"size\":10,\"solidity\":0.2}},\"type\":\"bar\"}],\"barpolar\":[{\"marker\":{\"line\":{\"color\":\"#E5ECF6\",\"width\":0.5},\"pattern\":{\"fillmode\":\"overlay\",\"size\":10,\"solidity\":0.2}},\"type\":\"barpolar\"}],\"carpet\":[{\"aaxis\":{\"endlinecolor\":\"#2a3f5f\",\"gridcolor\":\"white\",\"linecolor\":\"white\",\"minorgridcolor\":\"white\",\"startlinecolor\":\"#2a3f5f\"},\"baxis\":{\"endlinecolor\":\"#2a3f5f\",\"gridcolor\":\"white\",\"linecolor\":\"white\",\"minorgridcolor\":\"white\",\"startlinecolor\":\"#2a3f5f\"},\"type\":\"carpet\"}],\"choropleth\":[{\"colorbar\":{\"outlinewidth\":0,\"ticks\":\"\"},\"type\":\"choropleth\"}],\"contour\":[{\"colorbar\":{\"outlinewidth\":0,\"ticks\":\"\"},\"colorscale\":[[0.0,\"#0d0887\"],[0.1111111111111111,\"#46039f\"],[0.2222222222222222,\"#7201a8\"],[0.3333333333333333,\"#9c179e\"],[0.4444444444444444,\"#bd3786\"],[0.5555555555555556,\"#d8576b\"],[0.6666666666666666,\"#ed7953\"],[0.7777777777777778,\"#fb9f3a\"],[0.8888888888888888,\"#fdca26\"],[1.0,\"#f0f921\"]],\"type\":\"contour\"}],\"contourcarpet\":[{\"colorbar\":{\"outlinewidth\":0,\"ticks\":\"\"},\"type\":\"contourcarpet\"}],\"heatmap\":[{\"colorbar\":{\"outlinewidth\":0,\"ticks\":\"\"},\"colorscale\":[[0.0,\"#0d0887\"],[0.1111111111111111,\"#46039f\"],[0.2222222222222222,\"#7201a8\"],[0.3333333333333333,\"#9c179e\"],[0.4444444444444444,\"#bd3786\"],[0.5555555555555556,\"#d8576b\"],[0.6666666666666666,\"#ed7953\"],[0.7777777777777778,\"#fb9f3a\"],[0.8888888888888888,\"#fdca26\"],[1.0,\"#f0f921\"]],\"type\":\"heatmap\"}],\"heatmapgl\":[{\"colorbar\":{\"outlinewidth\":0,\"ticks\":\"\"},\"colorscale\":[[0.0,\"#0d0887\"],[0.1111111111111111,\"#46039f\"],[0.2222222222222222,\"#7201a8\"],[0.3333333333333333,\"#9c179e\"],[0.4444444444444444,\"#bd3786\"],[0.5555555555555556,\"#d8576b\"],[0.6666666666666666,\"#ed7953\"],[0.7777777777777778,\"#fb9f3a\"],[0.8888888888888888,\"#fdca26\"],[1.0,\"#f0f921\"]],\"type\":\"heatmapgl\"}],\"histogram\":[{\"marker\":{\"pattern\":{\"fillmode\":\"overlay\",\"size\":10,\"solidity\":0.2}},\"type\":\"histogram\"}],\"histogram2d\":[{\"colorbar\":{\"outlinewidth\":0,\"ticks\":\"\"},\"colorscale\":[[0.0,\"#0d0887\"],[0.1111111111111111,\"#46039f\"],[0.2222222222222222,\"#7201a8\"],[0.3333333333333333,\"#9c179e\"],[0.4444444444444444,\"#bd3786\"],[0.5555555555555556,\"#d8576b\"],[0.6666666666666666,\"#ed7953\"],[0.7777777777777778,\"#fb9f3a\"],[0.8888888888888888,\"#fdca26\"],[1.0,\"#f0f921\"]],\"type\":\"histogram2d\"}],\"histogram2dcontour\":[{\"colorbar\":{\"outlinewidth\":0,\"ticks\":\"\"},\"colorscale\":[[0.0,\"#0d0887\"],[0.1111111111111111,\"#46039f\"],[0.2222222222222222,\"#7201a8\"],[0.3333333333333333,\"#9c179e\"],[0.4444444444444444,\"#bd3786\"],[0.5555555555555556,\"#d8576b\"],[0.6666666666666666,\"#ed7953\"],[0.7777777777777778,\"#fb9f3a\"],[0.8888888888888888,\"#fdca26\"],[1.0,\"#f0f921\"]],\"type\":\"histogram2dcontour\"}],\"mesh3d\":[{\"colorbar\":{\"outlinewidth\":0,\"ticks\":\"\"},\"type\":\"mesh3d\"}],\"parcoords\":[{\"line\":{\"colorbar\":{\"outlinewidth\":0,\"ticks\":\"\"}},\"type\":\"parcoords\"}],\"pie\":[{\"automargin\":true,\"type\":\"pie\"}],\"scatter\":[{\"marker\":{\"colorbar\":{\"outlinewidth\":0,\"ticks\":\"\"}},\"type\":\"scatter\"}],\"scatter3d\":[{\"line\":{\"colorbar\":{\"outlinewidth\":0,\"ticks\":\"\"}},\"marker\":{\"colorbar\":{\"outlinewidth\":0,\"ticks\":\"\"}},\"type\":\"scatter3d\"}],\"scattercarpet\":[{\"marker\":{\"colorbar\":{\"outlinewidth\":0,\"ticks\":\"\"}},\"type\":\"scattercarpet\"}],\"scattergeo\":[{\"marker\":{\"colorbar\":{\"outlinewidth\":0,\"ticks\":\"\"}},\"type\":\"scattergeo\"}],\"scattergl\":[{\"marker\":{\"colorbar\":{\"outlinewidth\":0,\"ticks\":\"\"}},\"type\":\"scattergl\"}],\"scattermapbox\":[{\"marker\":{\"colorbar\":{\"outlinewidth\":0,\"ticks\":\"\"}},\"type\":\"scattermapbox\"}],\"scatterpolar\":[{\"marker\":{\"colorbar\":{\"outlinewidth\":0,\"ticks\":\"\"}},\"type\":\"scatterpolar\"}],\"scatterpolargl\":[{\"marker\":{\"colorbar\":{\"outlinewidth\":0,\"ticks\":\"\"}},\"type\":\"scatterpolargl\"}],\"scatterternary\":[{\"marker\":{\"colorbar\":{\"outlinewidth\":0,\"ticks\":\"\"}},\"type\":\"scatterternary\"}],\"surface\":[{\"colorbar\":{\"outlinewidth\":0,\"ticks\":\"\"},\"colorscale\":[[0.0,\"#0d0887\"],[0.1111111111111111,\"#46039f\"],[0.2222222222222222,\"#7201a8\"],[0.3333333333333333,\"#9c179e\"],[0.4444444444444444,\"#bd3786\"],[0.5555555555555556,\"#d8576b\"],[0.6666666666666666,\"#ed7953\"],[0.7777777777777778,\"#fb9f3a\"],[0.8888888888888888,\"#fdca26\"],[1.0,\"#f0f921\"]],\"type\":\"surface\"}],\"table\":[{\"cells\":{\"fill\":{\"color\":\"#EBF0F8\"},\"line\":{\"color\":\"white\"}},\"header\":{\"fill\":{\"color\":\"#C8D4E3\"},\"line\":{\"color\":\"white\"}},\"type\":\"table\"}]},\"layout\":{\"annotationdefaults\":{\"arrowcolor\":\"#2a3f5f\",\"arrowhead\":0,\"arrowwidth\":1},\"autotypenumbers\":\"strict\",\"coloraxis\":{\"colorbar\":{\"outlinewidth\":0,\"ticks\":\"\"}},\"colorscale\":{\"diverging\":[[0,\"#8e0152\"],[0.1,\"#c51b7d\"],[0.2,\"#de77ae\"],[0.3,\"#f1b6da\"],[0.4,\"#fde0ef\"],[0.5,\"#f7f7f7\"],[0.6,\"#e6f5d0\"],[0.7,\"#b8e186\"],[0.8,\"#7fbc41\"],[0.9,\"#4d9221\"],[1,\"#276419\"]],\"sequential\":[[0.0,\"#0d0887\"],[0.1111111111111111,\"#46039f\"],[0.2222222222222222,\"#7201a8\"],[0.3333333333333333,\"#9c179e\"],[0.4444444444444444,\"#bd3786\"],[0.5555555555555556,\"#d8576b\"],[0.6666666666666666,\"#ed7953\"],[0.7777777777777778,\"#fb9f3a\"],[0.8888888888888888,\"#fdca26\"],[1.0,\"#f0f921\"]],\"sequentialminus\":[[0.0,\"#0d0887\"],[0.1111111111111111,\"#46039f\"],[0.2222222222222222,\"#7201a8\"],[0.3333333333333333,\"#9c179e\"],[0.4444444444444444,\"#bd3786\"],[0.5555555555555556,\"#d8576b\"],[0.6666666666666666,\"#ed7953\"],[0.7777777777777778,\"#fb9f3a\"],[0.8888888888888888,\"#fdca26\"],[1.0,\"#f0f921\"]]},\"colorway\":[\"#636efa\",\"#EF553B\",\"#00cc96\",\"#ab63fa\",\"#FFA15A\",\"#19d3f3\",\"#FF6692\",\"#B6E880\",\"#FF97FF\",\"#FECB52\"],\"font\":{\"color\":\"#2a3f5f\"},\"geo\":{\"bgcolor\":\"white\",\"lakecolor\":\"white\",\"landcolor\":\"#E5ECF6\",\"showlakes\":true,\"showland\":true,\"subunitcolor\":\"white\"},\"hoverlabel\":{\"align\":\"left\"},\"hovermode\":\"closest\",\"mapbox\":{\"style\":\"light\"},\"paper_bgcolor\":\"white\",\"plot_bgcolor\":\"#E5ECF6\",\"polar\":{\"angularaxis\":{\"gridcolor\":\"white\",\"linecolor\":\"white\",\"ticks\":\"\"},\"bgcolor\":\"#E5ECF6\",\"radialaxis\":{\"gridcolor\":\"white\",\"linecolor\":\"white\",\"ticks\":\"\"}},\"scene\":{\"xaxis\":{\"backgroundcolor\":\"#E5ECF6\",\"gridcolor\":\"white\",\"gridwidth\":2,\"linecolor\":\"white\",\"showbackground\":true,\"ticks\":\"\",\"zerolinecolor\":\"white\"},\"yaxis\":{\"backgroundcolor\":\"#E5ECF6\",\"gridcolor\":\"white\",\"gridwidth\":2,\"linecolor\":\"white\",\"showbackground\":true,\"ticks\":\"\",\"zerolinecolor\":\"white\"},\"zaxis\":{\"backgroundcolor\":\"#E5ECF6\",\"gridcolor\":\"white\",\"gridwidth\":2,\"linecolor\":\"white\",\"showbackground\":true,\"ticks\":\"\",\"zerolinecolor\":\"white\"}},\"shapedefaults\":{\"line\":{\"color\":\"#2a3f5f\"}},\"ternary\":{\"aaxis\":{\"gridcolor\":\"white\",\"linecolor\":\"white\",\"ticks\":\"\"},\"baxis\":{\"gridcolor\":\"white\",\"linecolor\":\"white\",\"ticks\":\"\"},\"bgcolor\":\"#E5ECF6\",\"caxis\":{\"gridcolor\":\"white\",\"linecolor\":\"white\",\"ticks\":\"\"}},\"title\":{\"x\":0.05},\"xaxis\":{\"automargin\":true,\"gridcolor\":\"white\",\"linecolor\":\"white\",\"ticks\":\"\",\"title\":{\"standoff\":15},\"zerolinecolor\":\"white\",\"zerolinewidth\":2},\"yaxis\":{\"automargin\":true,\"gridcolor\":\"white\",\"linecolor\":\"white\",\"ticks\":\"\",\"title\":{\"standoff\":15},\"zerolinecolor\":\"white\",\"zerolinewidth\":2}}},\"xaxis\":{\"anchor\":\"y\",\"domain\":[0.0,1.0],\"title\":{\"text\":\"names\"}},\"yaxis\":{\"anchor\":\"x\",\"domain\":[0.0,1.0],\"title\":{\"text\":\"Percent\"}},\"coloraxis\":{\"colorbar\":{\"title\":{\"text\":\"values\"}},\"colorscale\":[[0.0,\"#0d0887\"],[0.1111111111111111,\"#46039f\"],[0.2222222222222222,\"#7201a8\"],[0.3333333333333333,\"#9c179e\"],[0.4444444444444444,\"#bd3786\"],[0.5555555555555556,\"#d8576b\"],[0.6666666666666666,\"#ed7953\"],[0.7777777777777778,\"#fb9f3a\"],[0.8888888888888888,\"#fdca26\"],[1.0,\"#f0f921\"]]},\"legend\":{\"tracegroupgap\":0},\"title\":{\"text\":\"Risk of failure between industries with highest average seed-investment\"},\"barmode\":\"relative\"},                        {\"responsive\": true}                    ).then(function(){\n",
       "                            \n",
       "var gd = document.getElementById('a7f53dbe-00cc-4340-b9dd-c7cacfc94ae3');\n",
       "var x = new MutationObserver(function (mutations, observer) {{\n",
       "        var display = window.getComputedStyle(gd).display;\n",
       "        if (!display || display === 'none') {{\n",
       "            console.log([gd, 'removed!']);\n",
       "            Plotly.purge(gd);\n",
       "            observer.disconnect();\n",
       "        }}\n",
       "}});\n",
       "\n",
       "// Listen for the removal of the full notebook cells\n",
       "var notebookContainer = gd.closest('#notebook-container');\n",
       "if (notebookContainer) {{\n",
       "    x.observe(notebookContainer, {childList: true});\n",
       "}}\n",
       "\n",
       "// Listen for the clearing of the current output cell\n",
       "var outputEl = gd.closest('.output');\n",
       "if (outputEl) {{\n",
       "    x.observe(outputEl, {childList: true});\n",
       "}}\n",
       "\n",
       "                        })                };                            </script>        </div>\n",
       "</body>\n",
       "</html>"
      ]
     },
     "metadata": {},
     "output_type": "display_data"
    }
   ],
   "source": [
    "# Create dataframe from lists\n",
    "df = pd.DataFrame(list(zip(top_10_seeds_companies, top_10_count_failure_ratio)), \n",
    "               columns =['names', 'values'])\n",
    "\n",
    "# Create bar chart\n",
    "fig = px.bar(df, x='names', y='values', color='values',\n",
    "             title='Risk of failure between industries with highest average seed-investment',\n",
    "             color_continuous_scale=px.colors.sequential.Plasma)\n",
    "\n",
    "# Update Y-axis label\n",
    "fig.update_yaxes(title_text=\"Percent\")\n",
    "\n",
    "# Show figure\n",
    "fig.show()"
   ]
  },
  {
   "cell_type": "code",
   "execution_count": null,
   "metadata": {
    "id": "E4NNC0ruP5vw"
   },
   "outputs": [],
   "source": [
    "top10_investments_failure_ratio = [pivot_market_status_count.loc[company][\"closed_ratio\"] for company in top10_investments_markets]"
   ]
  },
  {
   "cell_type": "code",
   "execution_count": null,
   "metadata": {
    "colab": {
     "base_uri": "https://localhost:8080/",
     "height": 542
    },
    "id": "rbK-JN1HFadR",
    "outputId": "474c7679-611f-4844-d894-bb940ec88ea9"
   },
   "outputs": [
    {
     "data": {
      "text/html": [
       "<html>\n",
       "<head><meta charset=\"utf-8\" /></head>\n",
       "<body>\n",
       "    <div>            <script src=\"https://cdnjs.cloudflare.com/ajax/libs/mathjax/2.7.5/MathJax.js?config=TeX-AMS-MML_SVG\"></script><script type=\"text/javascript\">if (window.MathJax) {MathJax.Hub.Config({SVG: {font: \"STIX-Web\"}});}</script>                <script type=\"text/javascript\">window.PlotlyConfig = {MathJaxConfig: 'local'};</script>\n",
       "        <script src=\"https://cdn.plot.ly/plotly-2.8.3.min.js\"></script>                <div id=\"eb3e4542-a75d-417e-993b-e99f78ffc909\" class=\"plotly-graph-div\" style=\"height:525px; width:100%;\"></div>            <script type=\"text/javascript\">                                    window.PLOTLYENV=window.PLOTLYENV || {};                                    if (document.getElementById(\"eb3e4542-a75d-417e-993b-e99f78ffc909\")) {                    Plotly.newPlot(                        \"eb3e4542-a75d-417e-993b-e99f78ffc909\",                        [{\"alignmentgroup\":\"True\",\"hovertemplate\":\"names=%{x}<br>values=%{marker.color}<extra></extra>\",\"legendgroup\":\"\",\"marker\":{\"color\":[0.0,0.0,0.0,0.0,0.0,0.0,0.0,7.6923076923076925,0.0,9.67741935483871],\"coloraxis\":\"coloraxis\",\"pattern\":{\"shape\":\"\"}},\"name\":\"\",\"offsetgroup\":\"\",\"orientation\":\"v\",\"showlegend\":false,\"textposition\":\"auto\",\"x\":[\" Development Platforms \",\" Chemicals \",\" Content Creators \",\" B2B Express Delivery \",\" Batteries \",\" Construction \",\" Communications Hardware \",\" Credit \",\" Communities \",\" Cloud Data Services \"],\"xaxis\":\"x\",\"y\":[0.0,0.0,0.0,0.0,0.0,0.0,0.0,7.6923076923076925,0.0,9.67741935483871],\"yaxis\":\"y\",\"type\":\"bar\"}],                        {\"template\":{\"data\":{\"bar\":[{\"error_x\":{\"color\":\"#2a3f5f\"},\"error_y\":{\"color\":\"#2a3f5f\"},\"marker\":{\"line\":{\"color\":\"#E5ECF6\",\"width\":0.5},\"pattern\":{\"fillmode\":\"overlay\",\"size\":10,\"solidity\":0.2}},\"type\":\"bar\"}],\"barpolar\":[{\"marker\":{\"line\":{\"color\":\"#E5ECF6\",\"width\":0.5},\"pattern\":{\"fillmode\":\"overlay\",\"size\":10,\"solidity\":0.2}},\"type\":\"barpolar\"}],\"carpet\":[{\"aaxis\":{\"endlinecolor\":\"#2a3f5f\",\"gridcolor\":\"white\",\"linecolor\":\"white\",\"minorgridcolor\":\"white\",\"startlinecolor\":\"#2a3f5f\"},\"baxis\":{\"endlinecolor\":\"#2a3f5f\",\"gridcolor\":\"white\",\"linecolor\":\"white\",\"minorgridcolor\":\"white\",\"startlinecolor\":\"#2a3f5f\"},\"type\":\"carpet\"}],\"choropleth\":[{\"colorbar\":{\"outlinewidth\":0,\"ticks\":\"\"},\"type\":\"choropleth\"}],\"contour\":[{\"colorbar\":{\"outlinewidth\":0,\"ticks\":\"\"},\"colorscale\":[[0.0,\"#0d0887\"],[0.1111111111111111,\"#46039f\"],[0.2222222222222222,\"#7201a8\"],[0.3333333333333333,\"#9c179e\"],[0.4444444444444444,\"#bd3786\"],[0.5555555555555556,\"#d8576b\"],[0.6666666666666666,\"#ed7953\"],[0.7777777777777778,\"#fb9f3a\"],[0.8888888888888888,\"#fdca26\"],[1.0,\"#f0f921\"]],\"type\":\"contour\"}],\"contourcarpet\":[{\"colorbar\":{\"outlinewidth\":0,\"ticks\":\"\"},\"type\":\"contourcarpet\"}],\"heatmap\":[{\"colorbar\":{\"outlinewidth\":0,\"ticks\":\"\"},\"colorscale\":[[0.0,\"#0d0887\"],[0.1111111111111111,\"#46039f\"],[0.2222222222222222,\"#7201a8\"],[0.3333333333333333,\"#9c179e\"],[0.4444444444444444,\"#bd3786\"],[0.5555555555555556,\"#d8576b\"],[0.6666666666666666,\"#ed7953\"],[0.7777777777777778,\"#fb9f3a\"],[0.8888888888888888,\"#fdca26\"],[1.0,\"#f0f921\"]],\"type\":\"heatmap\"}],\"heatmapgl\":[{\"colorbar\":{\"outlinewidth\":0,\"ticks\":\"\"},\"colorscale\":[[0.0,\"#0d0887\"],[0.1111111111111111,\"#46039f\"],[0.2222222222222222,\"#7201a8\"],[0.3333333333333333,\"#9c179e\"],[0.4444444444444444,\"#bd3786\"],[0.5555555555555556,\"#d8576b\"],[0.6666666666666666,\"#ed7953\"],[0.7777777777777778,\"#fb9f3a\"],[0.8888888888888888,\"#fdca26\"],[1.0,\"#f0f921\"]],\"type\":\"heatmapgl\"}],\"histogram\":[{\"marker\":{\"pattern\":{\"fillmode\":\"overlay\",\"size\":10,\"solidity\":0.2}},\"type\":\"histogram\"}],\"histogram2d\":[{\"colorbar\":{\"outlinewidth\":0,\"ticks\":\"\"},\"colorscale\":[[0.0,\"#0d0887\"],[0.1111111111111111,\"#46039f\"],[0.2222222222222222,\"#7201a8\"],[0.3333333333333333,\"#9c179e\"],[0.4444444444444444,\"#bd3786\"],[0.5555555555555556,\"#d8576b\"],[0.6666666666666666,\"#ed7953\"],[0.7777777777777778,\"#fb9f3a\"],[0.8888888888888888,\"#fdca26\"],[1.0,\"#f0f921\"]],\"type\":\"histogram2d\"}],\"histogram2dcontour\":[{\"colorbar\":{\"outlinewidth\":0,\"ticks\":\"\"},\"colorscale\":[[0.0,\"#0d0887\"],[0.1111111111111111,\"#46039f\"],[0.2222222222222222,\"#7201a8\"],[0.3333333333333333,\"#9c179e\"],[0.4444444444444444,\"#bd3786\"],[0.5555555555555556,\"#d8576b\"],[0.6666666666666666,\"#ed7953\"],[0.7777777777777778,\"#fb9f3a\"],[0.8888888888888888,\"#fdca26\"],[1.0,\"#f0f921\"]],\"type\":\"histogram2dcontour\"}],\"mesh3d\":[{\"colorbar\":{\"outlinewidth\":0,\"ticks\":\"\"},\"type\":\"mesh3d\"}],\"parcoords\":[{\"line\":{\"colorbar\":{\"outlinewidth\":0,\"ticks\":\"\"}},\"type\":\"parcoords\"}],\"pie\":[{\"automargin\":true,\"type\":\"pie\"}],\"scatter\":[{\"marker\":{\"colorbar\":{\"outlinewidth\":0,\"ticks\":\"\"}},\"type\":\"scatter\"}],\"scatter3d\":[{\"line\":{\"colorbar\":{\"outlinewidth\":0,\"ticks\":\"\"}},\"marker\":{\"colorbar\":{\"outlinewidth\":0,\"ticks\":\"\"}},\"type\":\"scatter3d\"}],\"scattercarpet\":[{\"marker\":{\"colorbar\":{\"outlinewidth\":0,\"ticks\":\"\"}},\"type\":\"scattercarpet\"}],\"scattergeo\":[{\"marker\":{\"colorbar\":{\"outlinewidth\":0,\"ticks\":\"\"}},\"type\":\"scattergeo\"}],\"scattergl\":[{\"marker\":{\"colorbar\":{\"outlinewidth\":0,\"ticks\":\"\"}},\"type\":\"scattergl\"}],\"scattermapbox\":[{\"marker\":{\"colorbar\":{\"outlinewidth\":0,\"ticks\":\"\"}},\"type\":\"scattermapbox\"}],\"scatterpolar\":[{\"marker\":{\"colorbar\":{\"outlinewidth\":0,\"ticks\":\"\"}},\"type\":\"scatterpolar\"}],\"scatterpolargl\":[{\"marker\":{\"colorbar\":{\"outlinewidth\":0,\"ticks\":\"\"}},\"type\":\"scatterpolargl\"}],\"scatterternary\":[{\"marker\":{\"colorbar\":{\"outlinewidth\":0,\"ticks\":\"\"}},\"type\":\"scatterternary\"}],\"surface\":[{\"colorbar\":{\"outlinewidth\":0,\"ticks\":\"\"},\"colorscale\":[[0.0,\"#0d0887\"],[0.1111111111111111,\"#46039f\"],[0.2222222222222222,\"#7201a8\"],[0.3333333333333333,\"#9c179e\"],[0.4444444444444444,\"#bd3786\"],[0.5555555555555556,\"#d8576b\"],[0.6666666666666666,\"#ed7953\"],[0.7777777777777778,\"#fb9f3a\"],[0.8888888888888888,\"#fdca26\"],[1.0,\"#f0f921\"]],\"type\":\"surface\"}],\"table\":[{\"cells\":{\"fill\":{\"color\":\"#EBF0F8\"},\"line\":{\"color\":\"white\"}},\"header\":{\"fill\":{\"color\":\"#C8D4E3\"},\"line\":{\"color\":\"white\"}},\"type\":\"table\"}]},\"layout\":{\"annotationdefaults\":{\"arrowcolor\":\"#2a3f5f\",\"arrowhead\":0,\"arrowwidth\":1},\"autotypenumbers\":\"strict\",\"coloraxis\":{\"colorbar\":{\"outlinewidth\":0,\"ticks\":\"\"}},\"colorscale\":{\"diverging\":[[0,\"#8e0152\"],[0.1,\"#c51b7d\"],[0.2,\"#de77ae\"],[0.3,\"#f1b6da\"],[0.4,\"#fde0ef\"],[0.5,\"#f7f7f7\"],[0.6,\"#e6f5d0\"],[0.7,\"#b8e186\"],[0.8,\"#7fbc41\"],[0.9,\"#4d9221\"],[1,\"#276419\"]],\"sequential\":[[0.0,\"#0d0887\"],[0.1111111111111111,\"#46039f\"],[0.2222222222222222,\"#7201a8\"],[0.3333333333333333,\"#9c179e\"],[0.4444444444444444,\"#bd3786\"],[0.5555555555555556,\"#d8576b\"],[0.6666666666666666,\"#ed7953\"],[0.7777777777777778,\"#fb9f3a\"],[0.8888888888888888,\"#fdca26\"],[1.0,\"#f0f921\"]],\"sequentialminus\":[[0.0,\"#0d0887\"],[0.1111111111111111,\"#46039f\"],[0.2222222222222222,\"#7201a8\"],[0.3333333333333333,\"#9c179e\"],[0.4444444444444444,\"#bd3786\"],[0.5555555555555556,\"#d8576b\"],[0.6666666666666666,\"#ed7953\"],[0.7777777777777778,\"#fb9f3a\"],[0.8888888888888888,\"#fdca26\"],[1.0,\"#f0f921\"]]},\"colorway\":[\"#636efa\",\"#EF553B\",\"#00cc96\",\"#ab63fa\",\"#FFA15A\",\"#19d3f3\",\"#FF6692\",\"#B6E880\",\"#FF97FF\",\"#FECB52\"],\"font\":{\"color\":\"#2a3f5f\"},\"geo\":{\"bgcolor\":\"white\",\"lakecolor\":\"white\",\"landcolor\":\"#E5ECF6\",\"showlakes\":true,\"showland\":true,\"subunitcolor\":\"white\"},\"hoverlabel\":{\"align\":\"left\"},\"hovermode\":\"closest\",\"mapbox\":{\"style\":\"light\"},\"paper_bgcolor\":\"white\",\"plot_bgcolor\":\"#E5ECF6\",\"polar\":{\"angularaxis\":{\"gridcolor\":\"white\",\"linecolor\":\"white\",\"ticks\":\"\"},\"bgcolor\":\"#E5ECF6\",\"radialaxis\":{\"gridcolor\":\"white\",\"linecolor\":\"white\",\"ticks\":\"\"}},\"scene\":{\"xaxis\":{\"backgroundcolor\":\"#E5ECF6\",\"gridcolor\":\"white\",\"gridwidth\":2,\"linecolor\":\"white\",\"showbackground\":true,\"ticks\":\"\",\"zerolinecolor\":\"white\"},\"yaxis\":{\"backgroundcolor\":\"#E5ECF6\",\"gridcolor\":\"white\",\"gridwidth\":2,\"linecolor\":\"white\",\"showbackground\":true,\"ticks\":\"\",\"zerolinecolor\":\"white\"},\"zaxis\":{\"backgroundcolor\":\"#E5ECF6\",\"gridcolor\":\"white\",\"gridwidth\":2,\"linecolor\":\"white\",\"showbackground\":true,\"ticks\":\"\",\"zerolinecolor\":\"white\"}},\"shapedefaults\":{\"line\":{\"color\":\"#2a3f5f\"}},\"ternary\":{\"aaxis\":{\"gridcolor\":\"white\",\"linecolor\":\"white\",\"ticks\":\"\"},\"baxis\":{\"gridcolor\":\"white\",\"linecolor\":\"white\",\"ticks\":\"\"},\"bgcolor\":\"#E5ECF6\",\"caxis\":{\"gridcolor\":\"white\",\"linecolor\":\"white\",\"ticks\":\"\"}},\"title\":{\"x\":0.05},\"xaxis\":{\"automargin\":true,\"gridcolor\":\"white\",\"linecolor\":\"white\",\"ticks\":\"\",\"title\":{\"standoff\":15},\"zerolinecolor\":\"white\",\"zerolinewidth\":2},\"yaxis\":{\"automargin\":true,\"gridcolor\":\"white\",\"linecolor\":\"white\",\"ticks\":\"\",\"title\":{\"standoff\":15},\"zerolinecolor\":\"white\",\"zerolinewidth\":2}}},\"xaxis\":{\"anchor\":\"y\",\"domain\":[0.0,1.0],\"title\":{\"text\":\"names\"}},\"yaxis\":{\"anchor\":\"x\",\"domain\":[0.0,1.0],\"title\":{\"text\":\"Percent\"}},\"coloraxis\":{\"colorbar\":{\"title\":{\"text\":\"values\"}},\"colorscale\":[[0.0,\"#0d0887\"],[0.1111111111111111,\"#46039f\"],[0.2222222222222222,\"#7201a8\"],[0.3333333333333333,\"#9c179e\"],[0.4444444444444444,\"#bd3786\"],[0.5555555555555556,\"#d8576b\"],[0.6666666666666666,\"#ed7953\"],[0.7777777777777778,\"#fb9f3a\"],[0.8888888888888888,\"#fdca26\"],[1.0,\"#f0f921\"]]},\"legend\":{\"tracegroupgap\":0},\"title\":{\"text\":\"Risk of failure between industries with highest average investments\"},\"barmode\":\"relative\"},                        {\"responsive\": true}                    ).then(function(){\n",
       "                            \n",
       "var gd = document.getElementById('eb3e4542-a75d-417e-993b-e99f78ffc909');\n",
       "var x = new MutationObserver(function (mutations, observer) {{\n",
       "        var display = window.getComputedStyle(gd).display;\n",
       "        if (!display || display === 'none') {{\n",
       "            console.log([gd, 'removed!']);\n",
       "            Plotly.purge(gd);\n",
       "            observer.disconnect();\n",
       "        }}\n",
       "}});\n",
       "\n",
       "// Listen for the removal of the full notebook cells\n",
       "var notebookContainer = gd.closest('#notebook-container');\n",
       "if (notebookContainer) {{\n",
       "    x.observe(notebookContainer, {childList: true});\n",
       "}}\n",
       "\n",
       "// Listen for the clearing of the current output cell\n",
       "var outputEl = gd.closest('.output');\n",
       "if (outputEl) {{\n",
       "    x.observe(outputEl, {childList: true});\n",
       "}}\n",
       "\n",
       "                        })                };                            </script>        </div>\n",
       "</body>\n",
       "</html>"
      ]
     },
     "metadata": {},
     "output_type": "display_data"
    }
   ],
   "source": [
    "# Create dataframe from lists\n",
    "df = pd.DataFrame(list(zip(top10_investments_markets, top10_investments_failure_ratio)), \n",
    "               columns =['names', 'values'])\n",
    "\n",
    "# Create bar chart\n",
    "fig = px.bar(df, x='names', y='values', color='values',\n",
    "             title='Risk of failure between industries with highest average investments',\n",
    "             color_continuous_scale=px.colors.sequential.Plasma)\n",
    "\n",
    "# Update Y-axis label\n",
    "fig.update_yaxes(title_text=\"Percent\")\n",
    "\n",
    "# Show figure\n",
    "fig.show()"
   ]
  },
  {
   "cell_type": "markdown",
   "metadata": {
    "id": "WvZCuhp8qf-G"
   },
   "source": [
    "# Predictive Modelling"
   ]
  },
  {
   "cell_type": "code",
   "execution_count": null,
   "metadata": {
    "id": "Cdc5ZH_UTSv_"
   },
   "outputs": [],
   "source": [
    "# new_df[new_df[\"status\"] == 'acquired']\n",
    "new_df.replace({'status': 'acquired'}, {'status': 'operating'}, inplace=True)"
   ]
  },
  {
   "cell_type": "code",
   "execution_count": null,
   "metadata": {
    "id": "_TZEY08nV9E7"
   },
   "outputs": [],
   "source": [
    "new_df.dropna(subset=['status'], inplace=True)"
   ]
  },
  {
   "cell_type": "code",
   "execution_count": null,
   "metadata": {
    "id": "2kaS7L0BaAkK"
   },
   "outputs": [],
   "source": [
    "new_df.drop(['name', 'category_list'], axis=1, inplace=True)"
   ]
  },
  {
   "cell_type": "code",
   "execution_count": null,
   "metadata": {
    "id": "MNxAs0ueaaoe"
   },
   "outputs": [],
   "source": [
    "# get list of column names\n",
    "cols = list(new_df.columns)\n",
    "\n",
    "\n",
    "# loop through each column\n",
    "for col in cols:\n",
    "  # check if column is categorical\n",
    "  if new_df[col].dtype == 'category' or new_df[col].dtype == 'object':\n",
    "\n",
    "    le = LabelEncoder()\n",
    "    le.fit(new_df[col])\n",
    "    new_df[col] = le.transform(new_df[col])\n",
    "  elif new_df[col].dtype == 'datetime64[ns]':\n",
    "    new_df.drop([col], axis=1, inplace=True)\n",
    "\n"
   ]
  },
  {
   "cell_type": "code",
   "execution_count": null,
   "metadata": {
    "colab": {
     "base_uri": "https://localhost:8080/"
    },
    "id": "loH8FM3RAAs3",
    "outputId": "70ee5017-db90-4c44-c1c2-c38eaec165e9"
   },
   "outputs": [
    {
     "name": "stdout",
     "output_type": "stream",
     "text": [
      "<class 'pandas.core.frame.DataFrame'>\n",
      "Int64Index: 37171 entries, 0 to 49437\n",
      "Data columns (total 32 columns):\n",
      " #   Column                Non-Null Count  Dtype  \n",
      "---  ------                --------------  -----  \n",
      " 0   market                37171 non-null  int64  \n",
      " 1   funding_total_usd     37171 non-null  float64\n",
      " 2   status                37171 non-null  int64  \n",
      " 3   country_code          37171 non-null  int64  \n",
      " 4   state_code            37171 non-null  int64  \n",
      " 5   region                37171 non-null  int64  \n",
      " 6   city                  37171 non-null  int64  \n",
      " 7   funding_rounds        37171 non-null  float64\n",
      " 8   founded_month         37171 non-null  int64  \n",
      " 9   founded_quarter       37171 non-null  int64  \n",
      " 10  founded_year          37171 non-null  float64\n",
      " 11  seed                  37171 non-null  float64\n",
      " 12  venture               37171 non-null  float64\n",
      " 13  equity_crowdfunding   37171 non-null  float64\n",
      " 14  undisclosed           37171 non-null  float64\n",
      " 15  convertible_note      37171 non-null  float64\n",
      " 16  debt_financing        37171 non-null  float64\n",
      " 17  angel                 37171 non-null  float64\n",
      " 18  grant                 37171 non-null  float64\n",
      " 19  private_equity        37171 non-null  float64\n",
      " 20  post_ipo_equity       37171 non-null  float64\n",
      " 21  post_ipo_debt         37171 non-null  float64\n",
      " 22  secondary_market      37171 non-null  float64\n",
      " 23  product_crowdfunding  37171 non-null  float64\n",
      " 24  round_A               37171 non-null  float64\n",
      " 25  round_B               37171 non-null  float64\n",
      " 26  round_C               37171 non-null  float64\n",
      " 27  round_D               37171 non-null  float64\n",
      " 28  round_E               37171 non-null  float64\n",
      " 29  round_F               37171 non-null  float64\n",
      " 30  round_G               37171 non-null  float64\n",
      " 31  round_H               37171 non-null  float64\n",
      "dtypes: float64(24), int64(8)\n",
      "memory usage: 9.4 MB\n"
     ]
    }
   ],
   "source": [
    "new_df.info()"
   ]
  },
  {
   "cell_type": "code",
   "execution_count": null,
   "metadata": {
    "id": "VuCYqOffGmf_"
   },
   "outputs": [],
   "source": [
    "knn = KNeighborsClassifier(n_neighbors=5)\n",
    "\n",
    "# X = new_df[[\"venture\", \"angel\", \"seed\", \"funding_total_usd\",  'grant',\n",
    "#        'private_equity', 'post_ipo_equity', 'post_ipo_debt',\n",
    "#        'secondary_market', 'product_crowdfunding', 'round_A', 'round_B',\n",
    "#        'round_C', 'round_D', 'round_E', 'round_F', 'round_G', 'round_H']]\n",
    "for col in new_df.columns:\n",
    "    new_df[col] = pd.to_numeric(new_df[col])\n",
    "\n",
    "\n",
    "X_train, X_test, y_train, y_test = train_test_split(new_df.drop('status', axis=1), new_df[\"status\"], stratify=new_df[\"status\"], random_state=42, test_size=0.2)\n",
    "\n",
    "\n"
   ]
  },
  {
   "cell_type": "code",
   "execution_count": null,
   "metadata": {
    "id": "kkVuYwEdPStl"
   },
   "outputs": [],
   "source": [
    "X_train_scaled = MinMaxScaler().fit_transform(X_train)\n",
    "X_test_scaled = MinMaxScaler().fit_transform(X_test)\n"
   ]
  },
  {
   "cell_type": "code",
   "execution_count": null,
   "metadata": {
    "colab": {
     "base_uri": "https://localhost:8080/"
    },
    "id": "GVvsOCS49o0w",
    "outputId": "5c86353e-d0ea-406d-8141-b5c5dc0c751e"
   },
   "outputs": [
    {
     "data": {
      "text/plain": [
       "KNeighborsClassifier(n_neighbors=10)"
      ]
     },
     "execution_count": 95,
     "metadata": {},
     "output_type": "execute_result"
    }
   ],
   "source": [
    "#oversample the training data using SMOTE\n",
    "knn = KNeighborsClassifier(n_neighbors=5)\n",
    "\n",
    "sm = SMOTE(random_state=12)\n",
    "X_train_resampled, y_train_resampled = sm.fit_resample(X_train_scaled, y_train)\n",
    "\n",
    "knn.fit(X_train_resampled, y_train_resampled)"
   ]
  },
  {
   "cell_type": "code",
   "execution_count": null,
   "metadata": {
    "colab": {
     "base_uri": "https://localhost:8080/"
    },
    "id": "3AQkw5r425YH",
    "outputId": "de50562a-2d6a-4bb4-a40e-83da8ec8c9c1"
   },
   "outputs": [
    {
     "data": {
      "text/plain": [
       "0.7089441829186282"
      ]
     },
     "execution_count": 96,
     "metadata": {},
     "output_type": "execute_result"
    }
   ],
   "source": [
    "knn.score(X_test_scaled, y_test)"
   ]
  },
  {
   "cell_type": "code",
   "execution_count": null,
   "metadata": {
    "id": "myxtUPOo8QJD"
   },
   "outputs": [],
   "source": [
    "y_predicted = knn.predict(X_test_scaled)"
   ]
  },
  {
   "cell_type": "code",
   "execution_count": null,
   "metadata": {
    "colab": {
     "base_uri": "https://localhost:8080/"
    },
    "id": "nXvkb78a3GeT",
    "outputId": "bd8e7c0b-5336-4cc0-9058-5e6632c79ab0"
   },
   "outputs": [
    {
     "name": "stdout",
     "output_type": "stream",
     "text": [
      "              precision    recall  f1-score   support\n",
      "\n",
      "           0       0.50      0.09      0.15      2163\n",
      "           1       0.72      0.96      0.82      5272\n",
      "\n",
      "    accuracy                           0.71      7435\n",
      "   macro avg       0.61      0.53      0.49      7435\n",
      "weighted avg       0.66      0.71      0.63      7435\n",
      "\n"
     ]
    }
   ],
   "source": [
    "print(classification_report(y_predicted, y_test))"
   ]
  },
  {
   "cell_type": "code",
   "execution_count": null,
   "metadata": {
    "id": "w3VViFnVCmwt"
   },
   "outputs": [],
   "source": [
    "def leaky_relu(x):\n",
    "    return tf.maximum(0.1*x, x)"
   ]
  },
  {
   "cell_type": "code",
   "execution_count": null,
   "metadata": {
    "id": "7tcn1HSt4NgX"
   },
   "outputs": [],
   "source": [
    "model = keras.Sequential()\n",
    "\n",
    "model.add(tf.keras.layers.Dense(10, input_shape=(31,), activation=leaky_relu))\n",
    "model.add(tf.keras.layers.Dropout(0.2))\n",
    "\n",
    "# Afterwards, we do automatic shape inference:\n",
    "\n",
    "model.add(tf.keras.layers.Dense(2, activation='softmax'))\n",
    "\n"
   ]
  },
  {
   "cell_type": "code",
   "execution_count": null,
   "metadata": {
    "id": "TsQ3H_Kxj-I7"
   },
   "outputs": [],
   "source": [
    "\n",
    "model.compile(optimizer='adam',\n",
    "              loss='sparse_categorical_crossentropy',\n",
    "              metrics= ['accuracy']\n",
    ")"
   ]
  },
  {
   "cell_type": "code",
   "execution_count": null,
   "metadata": {
    "colab": {
     "base_uri": "https://localhost:8080/"
    },
    "id": "tzQdklK0kXm9",
    "outputId": "accf3f21-898b-4909-ead8-7b31d2e9610d"
   },
   "outputs": [
    {
     "name": "stdout",
     "output_type": "stream",
     "text": [
      "Epoch 1/10\n",
      "1760/1760 [==============================] - 4s 2ms/step - loss: 0.9494 - accuracy: 0.5068\n",
      "Epoch 2/10\n",
      "1760/1760 [==============================] - 3s 2ms/step - loss: 0.9172 - accuracy: 0.5442\n",
      "Epoch 3/10\n",
      "1760/1760 [==============================] - 3s 2ms/step - loss: 0.8975 - accuracy: 0.5671\n",
      "Epoch 4/10\n",
      "1760/1760 [==============================] - 3s 2ms/step - loss: 0.8832 - accuracy: 0.5852\n",
      "Epoch 5/10\n",
      "1760/1760 [==============================] - 3s 2ms/step - loss: 0.8701 - accuracy: 0.5960\n",
      "Epoch 6/10\n",
      "1760/1760 [==============================] - 3s 2ms/step - loss: 0.8596 - accuracy: 0.6083\n",
      "Epoch 7/10\n",
      "1760/1760 [==============================] - 3s 2ms/step - loss: 0.8489 - accuracy: 0.6194\n",
      "Epoch 8/10\n",
      "1760/1760 [==============================] - 3s 2ms/step - loss: 0.8393 - accuracy: 0.6288\n",
      "Epoch 9/10\n",
      "1760/1760 [==============================] - 3s 2ms/step - loss: 0.8345 - accuracy: 0.6334\n",
      "Epoch 10/10\n",
      "1760/1760 [==============================] - 3s 2ms/step - loss: 0.8265 - accuracy: 0.6400\n"
     ]
    },
    {
     "data": {
      "text/plain": [
       "<keras.callbacks.History at 0x7ff60d855580>"
      ]
     },
     "execution_count": 188,
     "metadata": {},
     "output_type": "execute_result"
    }
   ],
   "source": [
    "# define class weights to emphasize first class\n",
    "class_weight = {0:2.0, 1:1.0}\n",
    "\n",
    "model.fit(X_train_resampled, y_train_resampled, epochs=10, class_weight = class_weight)\n"
   ]
  },
  {
   "cell_type": "code",
   "execution_count": null,
   "metadata": {
    "colab": {
     "base_uri": "https://localhost:8080/"
    },
    "id": "-1dq3GShqTbJ",
    "outputId": "4ac2a2d8-6985-48ee-8770-64f3b9ff9b01"
   },
   "outputs": [
    {
     "name": "stdout",
     "output_type": "stream",
     "text": [
      "233/233 [==============================] - 0s 1ms/step\n"
     ]
    }
   ],
   "source": [
    "y_predicted = model.predict(X_test_scaled)"
   ]
  },
  {
   "cell_type": "code",
   "execution_count": null,
   "metadata": {
    "id": "9Nd0DGeWmM0f"
   },
   "outputs": [],
   "source": [
    "y_predicted_labels = [np.argmax(i) for i in y_predicted]"
   ]
  },
  {
   "cell_type": "code",
   "execution_count": null,
   "metadata": {
    "id": "AO6Xj1wQkZvf"
   },
   "outputs": [],
   "source": [
    "cm = tf.math.confusion_matrix(labels=y_test, predictions=y_predicted_labels)"
   ]
  },
  {
   "cell_type": "code",
   "execution_count": null,
   "metadata": {
    "colab": {
     "base_uri": "https://localhost:8080/",
     "height": 282
    },
    "id": "IpjpbQRwmdzz",
    "outputId": "9e1df43b-3b2d-4bd2-ce42-ed40ec04bb88"
   },
   "outputs": [
    {
     "data": {
      "text/plain": [
       "<matplotlib.axes._subplots.AxesSubplot at 0x7ff605c82a00>"
      ]
     },
     "execution_count": 192,
     "metadata": {},
     "output_type": "execute_result"
    },
    {
     "data": {
      "image/png": "[encoded data removed]",
      "text/plain": [
       "<Figure size 432x288 with 2 Axes>"
      ]
     },
     "metadata": {
      "needs_background": "light"
     },
     "output_type": "display_data"
    }
   ],
   "source": [
    "import seaborn as sns\n",
    "\n",
    "sns.heatmap(cm, annot=True, fmt='d')"
   ]
  },
  {
   "cell_type": "code",
   "execution_count": null,
   "metadata": {
    "colab": {
     "base_uri": "https://localhost:8080/"
    },
    "id": "Q1xsryu6mhRn",
    "outputId": "f0bae2d7-9648-4b3a-f0b8-800d00d47c9e"
   },
   "outputs": [
    {
     "name": "stdout",
     "output_type": "stream",
     "text": [
      "              precision    recall  f1-score   support\n",
      "\n",
      "           0       0.82      0.08      0.14      4095\n",
      "           1       0.46      0.98      0.63      3340\n",
      "\n",
      "    accuracy                           0.48      7435\n",
      "   macro avg       0.64      0.53      0.39      7435\n",
      "weighted avg       0.66      0.48      0.36      7435\n",
      "\n"
     ]
    }
   ],
   "source": [
    "print(classification_report(y_predicted_labels, y_test))"
   ]
  },
  {
   "cell_type": "code",
   "execution_count": null,
   "metadata": {
    "id": "gJ5yegJ5r5m9"
   },
   "outputs": [],
   "source": [
    "from sklearn.ensemble import RandomForestClassifier\n",
    "\n",
    "rfc = RandomForestClassifier()"
   ]
  },
  {
   "cell_type": "code",
   "execution_count": null,
   "metadata": {
    "id": "ytWw9sbNMAqG"
   },
   "outputs": [],
   "source": [
    "rfc"
   ]
  }
 ],
 "metadata": {
  "colab": {
   "authorship_tag": "ABX9TyO6rCEBXYv8qkv5/25dkR5k",
   "include_colab_link": true,
   "provenance": []
  },
  "kernelspec": {
   "display_name": "Python 3 (ipykernel)",
   "language": "python",
   "name": "python3"
  },
  "language_info": {
   "codemirror_mode": {
    "name": "ipython",
    "version": 3
   },
   "file_extension": ".py",
   "mimetype": "text/x-python",
   "name": "python",
   "nbconvert_exporter": "python",
   "pygments_lexer": "ipython3",
   "version": "3.9.13"
  }
 },
 "nbformat": 4,
 "nbformat_minor": 1
}
